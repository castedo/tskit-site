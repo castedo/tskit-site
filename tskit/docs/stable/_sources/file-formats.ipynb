{
 "cells": [
  {
   "cell_type": "markdown",
   "id": "a24f244b",
   "metadata": {},
   "source": [
    ":::{currentmodule} tskit\n",
    ":::\n",
    "\n",
    "(sec_file_formats)=\n",
    "\n",
    "# File formats\n",
    "\n",
    "\n",
    "(sec_tree_sequence_file_format)=\n",
    "\n",
    "## Tree sequence file format\n",
    "\n",
    "To make tree sequence data as efficient and easy as possible to use, we store the\n",
    "data on file in a columnar, binary format. The format is based on the\n",
    "[kastore](https://pypi.org/project/kastore/) package, which is a simple\n",
    "key-value store for numerical data. There is a one-to-one correspondence\n",
    "between the tables described above and the arrays stored in these files.\n",
    "\n",
    "By convention, these files are given the `.trees` suffix (although this\n",
    "is not enforced in any way), and we will sometimes refer to them as \".trees\"\n",
    "files. We also refer to them as \"tree sequence files\".\n",
    "\n",
    ":::{todo}\n",
    "Link to the documentation for kastore, and describe the arrays that are\n",
    "stored as well as the top-level metadata.\n",
    ":::\n",
    "\n",
    "\n",
    "### Legacy Versions\n",
    "\n",
    "Tree sequence files written by older versions of tskit are not readable by\n",
    "newer versions of tskit. For major releases of tskit, `tskit upgrade`\n",
    "will convert older tree sequence files to the latest version.\n",
    "\n",
    "\n",
    "(sec_text_file_format)=\n",
    "\n",
    "## Text file formats\n",
    "\n",
    "The tree sequence text file format is based on a simple whitespace\n",
    "delimited approach. Each table corresponds to a single file, and is\n",
    "composed of a number of whitespace delimited columns. The first\n",
    "line of each file must be a **header** giving the names of each column.\n",
    "Subsequent rows must contain data for each of these columns, following\n",
    "the usual conventions. Each table has a set of mandatory and optional columns which are\n",
    "described below. The columns can be provided in any order, and extra columns\n",
    "can be included in the file. Note, in particular, that this means that\n",
    "an `id` column may be present in any of these files, but it will be\n",
    "ignored (IDs are always determined by the position of the row in a table).\n",
    "\n",
    "The {meth}`load_text` method can be used to read tables in text format. This has been\n",
    "used to create the following very simple tree sequence, with four nodes, two trees,\n",
    "and three mutations at two sites, both on the first tree:"
   ]
  },
  {
   "cell_type": "code",
   "execution_count": 1,
   "id": "71aa372d",
   "metadata": {
    "tags": [
     "hide-input"
    ]
   },
   "outputs": [
    {
     "data": {
      "image/svg+xml": [
       "<svg xmlns=\"http://www.w3.org/2000/svg\" xmlns:ev=\"http://www.w3.org/2001/xml-events\" xmlns:xlink=\"http://www.w3.org/1999/xlink\" baseProfile=\"full\" height=\"200\" version=\"1.1\" width=\"400\"><defs><style type=\"text/css\"><![CDATA[.background path {fill: #808080; fill-opacity: 0}.background path:nth-child(odd) {fill-opacity: .1}.axes {font-size: 14px}.x-axis .tick .lab {font-weight: bold; dominant-baseline: hanging}.axes, .tree {font-size: 14px; text-anchor: middle}.axes line, .edge {stroke: black; fill: none}.y-axis .grid {stroke: #FAFAFA}.node > .sym {fill: black; stroke: none}.site > .sym {stroke: black}.mut text {fill: red; font-style: italic}.mut.extra text {fill: hotpink}.mut line {fill: none; stroke: none}.mut .sym {fill: none; stroke: red}.mut.extra .sym {stroke: hotpink}.node .mut .sym {stroke-width: 1.5px}.tree text, .tree-sequence text {dominant-baseline: central}.plotbox .lab.lft {text-anchor: end}.plotbox .lab.rgt {text-anchor: start}]]></style></defs><g class=\"tree-sequence\"><g class=\"background\"><path d=\"M56.8,0 l161.6,0 l0,138.2 l64.64,25 l0,5 l-226.24,0 l0,-5 l0,-25 l0,-138.2z\"/><path d=\"M218.4,0 l161.6,0 l0,138.2 l0,25 l0,5 l-96.96,0 l0,-5 l-64.64,-25 l0,-138.2z\"/></g><g class=\"axes\"><g class=\"x-axis\"><g transform=\"translate(218.4 200)\"><text class=\"lab\" text-anchor=\"middle\" transform=\"translate(0 -11)\">Genome position</text></g><line x1=\"56.8\" x2=\"380\" y1=\"163.2\" y2=\"163.2\"/><g class=\"ticks\"><g class=\"tick\" transform=\"translate(56.8 163.2)\"><line x1=\"0\" x2=\"0\" y1=\"0\" y2=\"5\"/><g transform=\"translate(0 6)\"><text class=\"lab\">0</text></g></g><g class=\"tick\" transform=\"translate(283.04 163.2)\"><line x1=\"0\" x2=\"0\" y1=\"0\" y2=\"5\"/><g transform=\"translate(0 6)\"><text class=\"lab\">7</text></g></g><g class=\"tick\" transform=\"translate(380 163.2)\"><line x1=\"0\" x2=\"0\" y1=\"0\" y2=\"5\"/><g transform=\"translate(0 6)\"><text class=\"lab\">10</text></g></g></g><g class=\"site s0\" transform=\"translate(121.44 163.2)\"><line class=\"sym\" x1=\"0\" x2=\"0\" y1=\"0\" y2=\"-10\"/><g class=\"mut m0\"><polyline class=\"sym\" points=\"2.5,-6.5 0,-1.5 -2.5,-6.5\"/></g></g><g class=\"site s1\" transform=\"translate(186.08 163.2)\"><line class=\"sym\" x1=\"0\" x2=\"0\" y1=\"0\" y2=\"-10\"/><g class=\"mut m2\"><polyline class=\"sym\" points=\"2.5,-6.5 0,-1.5 -2.5,-6.5\"/></g><g class=\"mut m1\"><polyline class=\"sym\" points=\"2.5,-10.5 0,-5.5 -2.5,-10.5\"/></g></g></g><g class=\"y-axis\"><g transform=\"translate(0 65.7)\"><text class=\"lab\" text-anchor=\"middle\" transform=\"translate(11) rotate(-90)\">Time</text></g><line x1=\"56.8\" x2=\"56.8\" y1=\"121.4\" y2=\"10\"/><g class=\"ticks\"><g class=\"tick\" transform=\"translate(56.8 121.4)\"><line x1=\"0\" x2=\"-5\" y1=\"0\" y2=\"0\"/><g transform=\"translate(-6 0)\"><text class=\"lab\" text-anchor=\"end\">0</text></g></g><g class=\"tick\" transform=\"translate(56.8 58.3333)\"><line x1=\"0\" x2=\"-5\" y1=\"0\" y2=\"0\"/><g transform=\"translate(-6 0)\"><text class=\"lab\" text-anchor=\"end\">2</text></g></g><g class=\"tick\" transform=\"translate(56.8 26.8)\"><line x1=\"0\" x2=\"-5\" y1=\"0\" y2=\"0\"/><g transform=\"translate(-6 0)\"><text class=\"lab\" text-anchor=\"end\">3</text></g></g></g></g></g><g class=\"plotbox trees\"><g class=\"tree t0\" transform=\"translate(56.8 0)\"><g class=\"plotbox\"><g class=\"c2 node n2 root\" transform=\"translate(80.8 58.3333)\"><g class=\"a2 i0 leaf m0 m1 node n0 s0 s1 sample\" transform=\"translate(-30.4 63.0667)\"><path class=\"edge\" d=\"M 0 0 V -63.0667 H 30.4\"/><g class=\"mut m1 s1\" transform=\"translate(0 -47.3)\"><line x1=\"0\" x2=\"0\" y1=\"0\" y2=\"47.3\"/><path class=\"sym\" d=\"M -3,-3 l 6,6 M -3,3 l 6,-6\"/><text class=\"lab lft\" transform=\"translate(-5 0)\">1</text></g><g class=\"mut m0 s0\" transform=\"translate(0 -15.7667)\"><line x1=\"0\" x2=\"0\" y1=\"0\" y2=\"15.7667\"/><path class=\"sym\" d=\"M -3,-3 l 6,6 M -3,3 l 6,-6\"/><text class=\"lab lft\" transform=\"translate(-5 0)\">0</text></g><rect class=\"sym\" height=\"6\" width=\"6\" x=\"-3\" y=\"-3\"/><text class=\"lab\" transform=\"translate(0 11)\">0</text></g><g class=\"a2 i0 leaf m2 node n1 s1 sample\" transform=\"translate(30.4 63.0667)\"><path class=\"edge\" d=\"M 0 0 V -63.0667 H -30.4\"/><g class=\"mut m2 s1\" transform=\"translate(0 -31.5333)\"><line x1=\"0\" x2=\"0\" y1=\"0\" y2=\"31.5333\"/><path class=\"sym\" d=\"M -3,-3 l 6,6 M -3,3 l 6,-6\"/><text class=\"lab rgt\" transform=\"translate(5 0)\">2</text></g><rect class=\"sym\" height=\"6\" width=\"6\" x=\"-3\" y=\"-3\"/><text class=\"lab\" transform=\"translate(0 11)\">1</text></g><circle class=\"sym\" cx=\"0\" cy=\"0\" r=\"3\"/><text class=\"lab\" transform=\"translate(0 -11)\">2</text></g></g></g><g class=\"tree t1\" transform=\"translate(218.4 0)\"><g class=\"plotbox\"><g class=\"c2 node n3 root\" transform=\"translate(80.8 26.8)\"><g class=\"a3 i0 leaf node n0 sample\" transform=\"translate(-30.4 94.6)\"><path class=\"edge\" d=\"M 0 0 V -94.6 H 30.4\"/><rect class=\"sym\" height=\"6\" width=\"6\" x=\"-3\" y=\"-3\"/><text class=\"lab\" transform=\"translate(0 11)\">0</text></g><g class=\"a3 i0 leaf node n1 sample\" transform=\"translate(30.4 94.6)\"><path class=\"edge\" d=\"M 0 0 V -94.6 H -30.4\"/><rect class=\"sym\" height=\"6\" width=\"6\" x=\"-3\" y=\"-3\"/><text class=\"lab\" transform=\"translate(0 11)\">1</text></g><circle class=\"sym\" cx=\"0\" cy=\"0\" r=\"3\"/><text class=\"lab\" transform=\"translate(0 -11)\">3</text></g></g></g></g></g></svg>"
      ],
      "text/plain": [
       "<IPython.core.display.SVG object>"
      ]
     },
     "execution_count": 1,
     "metadata": {
      "filenames": {
       "image/svg+xml": "/home/runner/work/tskit-site/tskit-site/docs/_build/jupyter_execute/file-formats_1_0.svg"
      }
     },
     "output_type": "execute_result"
    }
   ],
   "source": [
    "# TODO once https://github.com/tskit-dev/tskit/issues/1824 is solved\n",
    "# change the individual table to include some with blank parents / locations\n",
    "import io\n",
    "\n",
    "import tskit\n",
    "from IPython.display import SVG\n",
    "\n",
    "individuals = \"\"\"\\\n",
    "flags       location     parents\n",
    "0           0.5,1.2      -1,-1\n",
    "0           1.0,3.4      0,-1\n",
    "0           3.5,6.3      0,1\n",
    "0           0.5          -1,-1\n",
    "0           0.5,0.5      2,3\n",
    "\"\"\"\n",
    "\n",
    "nodes = \"\"\"\\\n",
    "is_sample   individual   time\n",
    "1           0            0.0\n",
    "1           0            0.0\n",
    "0           -1           2.0\n",
    "0           -1           3.0\n",
    "\"\"\"\n",
    "edges = \"\"\"\\\n",
    "left   right   parent  child\n",
    "0.0    7.0     2       0\n",
    "0.0    7.0     2       1\n",
    "7.0    10.0    3       0\n",
    "7.0    10.0    3       1\n",
    "\"\"\"\n",
    "\n",
    "sites = \"\"\"\\\n",
    "position      ancestral_state\n",
    "2.0           AT\n",
    "4.0           A\n",
    "\"\"\"\n",
    "\n",
    "mutations = \"\"\"\\\n",
    "site   node    derived_state    time    parent\n",
    "0      0       A                0.5     -1\n",
    "1      0       T                1.5     -1\n",
    "1      1       A                1.0     1\n",
    "\"\"\"\n",
    "\n",
    "migrations = \"\"\"\\\n",
    "left   right   node   source   dest   time\n",
    "0.0    0.7     5      2        3      1.0\n",
    "0.8    0.9     8      3        4      3.0\n",
    "\"\"\"\n",
    "\n",
    "populations = \"\"\"\\\n",
    "id   metadata\n",
    "0    cG9wMQ==\n",
    "1    cG9wMg==\n",
    "\"\"\"\n",
    "\n",
    "ts = tskit.load_text(\n",
    "    individuals=io.StringIO(individuals),\n",
    "    nodes=io.StringIO(nodes),\n",
    "    edges=io.StringIO(edges),\n",
    "    sites=io.StringIO(sites),\n",
    "    mutations=io.StringIO(mutations),\n",
    "    # migrations=io.StringIO(migrations),  # uncomment when https://github.com/tskit-dev/tskit/issues/19 fixed\n",
    "    populations=io.StringIO(populations),\n",
    "    strict=False\n",
    ")\n",
    "SVG(ts.draw_svg(y_axis=True))"
   ]
  },
  {
   "cell_type": "markdown",
   "id": "dc23395b",
   "metadata": {},
   "source": [
    "A deletion from AT to A has occurred at position 2 on the branch leading to\n",
    "node 0, and two mutations have occurred at position 4 on the branch leading to\n",
    "node 1, first from A to T, then a back mutation to A. The genotypes of our two\n",
    "samples, nodes 0 and 1, are therefore AA and ATA. Note that this tree sequence\n",
    "also contains entries in the individual, population,\n",
    "and migration tables, but this is not shown plot above.\n",
    "\n",
    "\n",
    "(sec_individual_text_format)=\n",
    "\n",
    "### Individual text format\n",
    "\n",
    "The individual text format must contain a `flags` column.\n",
    "Optionally, there may also be `location`, `parents` and\n",
    "`metadata` columns. See the\n",
    "{ref}`individual table definitions<sec_individual_table_definition>`\n",
    "for details on these columns.\n",
    "\n",
    "Note that there are currently no globally defined `flags`, but the column\n",
    "is still required; a value of `0` means that there are no flags set.\n",
    "\n",
    "The `location` and `parents` columns should be a sequence of comma-separated numeric\n",
    "values. They do not all have to be the same length."
   ]
  },
  {
   "cell_type": "code",
   "execution_count": 2,
   "id": "95a5de58",
   "metadata": {
    "tags": [
     "hide-input",
     "output-wide-tabs"
    ]
   },
   "outputs": [
    {
     "data": {
      "text/html": [
       "An example individual table:"
      ],
      "text/plain": [
       "<IPython.core.display.HTML object>"
      ]
     },
     "metadata": {},
     "output_type": "display_data"
    },
    {
     "name": "stdout",
     "output_type": "stream",
     "text": [
      "id\tflags\tlocation\tparents\tmetadata\n",
      "0\t0\t0.5,1.2\t-1,-1\t\n",
      "1\t0\t1.0,3.4\t0,-1\t\n",
      "2\t0\t3.5,6.3\t0,1\t\n",
      "3\t0\t0.5\t-1,-1\t\n",
      "4\t0\t0.5,0.5\t2,3\t\n"
     ]
    }
   ],
   "source": [
    "import sys\n",
    "from IPython.display import display, HTML\n",
    "\n",
    "display(HTML(\"An example individual table:\"))\n",
    "ts.dump_text(individuals=sys.stdout)"
   ]
  },
  {
   "cell_type": "markdown",
   "id": "2dab7e79",
   "metadata": {},
   "source": [
    "(sec_node_text_format)=\n",
    "\n",
    "### Node text format\n",
    "\n",
    "The node text format must contain the columns `is_sample` and\n",
    "`time`. Optionally, there may also be `population`, `individual`, and\n",
    "`metadata` columns. See the\n",
    "{ref}`node table definitions<sec_node_table_definition>` for details on these columns.\n",
    "\n",
    "Note that we do not have a `flags` column in the text file format, but\n",
    "instead use `is_sample` (which may be 0 or 1). Currently, `NODE_IS_SAMPLE` is\n",
    "the only flag value defined for nodes, and as more flags are defined we will\n",
    "allow for extra columns in the text format."
   ]
  },
  {
   "cell_type": "code",
   "execution_count": 3,
   "id": "f4db998b",
   "metadata": {
    "tags": [
     "hide-input",
     "output-wide-tabs"
    ]
   },
   "outputs": [
    {
     "data": {
      "text/html": [
       "An example node table:"
      ],
      "text/plain": [
       "<IPython.core.display.HTML object>"
      ]
     },
     "metadata": {},
     "output_type": "display_data"
    },
    {
     "name": "stdout",
     "output_type": "stream",
     "text": [
      "id\tis_sample\ttime\tpopulation\tindividual\tmetadata\n",
      "0\t1\t0.000000\t-1\t0\t\n",
      "1\t1\t0.000000\t-1\t0\t\n",
      "2\t0\t2.000000\t-1\t-1\t\n",
      "3\t0\t3.000000\t-1\t-1\t\n"
     ]
    }
   ],
   "source": [
    "display(HTML(\"An example node table:\"))\n",
    "ts.dump_text(nodes=sys.stdout)"
   ]
  },
  {
   "cell_type": "markdown",
   "id": "35719fa7",
   "metadata": {},
   "source": [
    "(sec_edge_text_format)=\n",
    "\n",
    "### Edge text format\n",
    "\n",
    "The edge text format must contain the columns `left`,\n",
    "`right`, `parent` and `child`. Optionally, there may also be\n",
    "a `metadata` column.\n",
    "See the {ref}`edge table definitions <sec_edge_table_definition>`\n",
    "for details on these columns."
   ]
  },
  {
   "cell_type": "code",
   "execution_count": 4,
   "id": "793b5331",
   "metadata": {
    "tags": [
     "hide-input",
     "output-wide-tabs"
    ]
   },
   "outputs": [
    {
     "data": {
      "text/html": [
       "An example edge table:"
      ],
      "text/plain": [
       "<IPython.core.display.HTML object>"
      ]
     },
     "metadata": {},
     "output_type": "display_data"
    },
    {
     "name": "stdout",
     "output_type": "stream",
     "text": [
      "left\tright\tparent\tchild\tmetadata\n",
      "0.000000\t7.000000\t2\t0\t\n",
      "0.000000\t7.000000\t2\t1\t\n",
      "7.000000\t10.000000\t3\t0\t\n",
      "7.000000\t10.000000\t3\t1\t\n"
     ]
    }
   ],
   "source": [
    "display(HTML(\"An example edge table:\"))\n",
    "ts.dump_text(edges=sys.stdout)"
   ]
  },
  {
   "cell_type": "markdown",
   "id": "974ffc55",
   "metadata": {},
   "source": [
    "(sec_site_text_format)=\n",
    "\n",
    "### Site text format\n",
    "\n",
    "The site text format must contain the columns `position` and\n",
    "`ancestral_state`. The `metadata` column may also be optionally\n",
    "present. See the\n",
    "{ref}`site table definitions <sec_site_table_definition>`\n",
    "for details on these columns."
   ]
  },
  {
   "cell_type": "code",
   "execution_count": 5,
   "id": "08464ba0",
   "metadata": {
    "tags": [
     "hide-input",
     "output-wide-tabs"
    ]
   },
   "outputs": [
    {
     "data": {
      "text/html": [
       "An example site table:"
      ],
      "text/plain": [
       "<IPython.core.display.HTML object>"
      ]
     },
     "metadata": {},
     "output_type": "display_data"
    },
    {
     "name": "stdout",
     "output_type": "stream",
     "text": [
      "position\tancestral_state\tmetadata\n",
      "2.000000\tAT\t\n",
      "4.000000\tA\t\n"
     ]
    }
   ],
   "source": [
    "display(HTML(\"An example site table:\"))\n",
    "ts.dump_text(sites=sys.stdout)"
   ]
  },
  {
   "cell_type": "markdown",
   "id": "0188c93e",
   "metadata": {},
   "source": [
    "(sec_mutation_text_format)=\n",
    "\n",
    "### Mutation text format\n",
    "\n",
    "The mutation text format must contain the columns `site`,\n",
    "`node` and `derived_state`. The `time`, `parent` and `metadata` columns\n",
    "may also be optionally present (but `parent` must be specified if\n",
    "more than one mutation occurs at the same site). If `time` is absent\n",
    "`UNKNOWN_TIME` will be used to fill the column. See the\n",
    "{ref}`mutation table definitions <sec_mutation_table_definition>`\n",
    "for details on these columns."
   ]
  },
  {
   "cell_type": "code",
   "execution_count": 6,
   "id": "8229055b",
   "metadata": {
    "tags": [
     "hide-input",
     "output-wide-tabs"
    ]
   },
   "outputs": [
    {
     "data": {
      "text/html": [
       "An example mutation table:"
      ],
      "text/plain": [
       "<IPython.core.display.HTML object>"
      ]
     },
     "metadata": {},
     "output_type": "display_data"
    },
    {
     "name": "stdout",
     "output_type": "stream",
     "text": [
      "site\tnode\ttime\tderived_state\tparent\tmetadata\n",
      "0\t0\t0.5\tA\t-1\t\n",
      "1\t0\t1.5\tT\t-1\t\n",
      "1\t1\t1.0\tA\t1\t\n"
     ]
    }
   ],
   "source": [
    "display(HTML(\"An example mutation table:\"))\n",
    "ts.dump_text(mutations=sys.stdout)"
   ]
  },
  {
   "cell_type": "markdown",
   "id": "5d336a30",
   "metadata": {},
   "source": [
    "(sec_migration_text_format)=\n",
    "\n",
    "### Migration text format\n",
    "\n",
    "The migration text format must contain the columns `left`,\n",
    "`right`, `node`, `source`, `dest` and `time`. The `metadata` column\n",
    "may also be optionally present. See the\n",
    "{ref}`migration table definitions <sec_migration_table_definition>`\n",
    "for details on these columns."
   ]
  },
  {
   "cell_type": "code",
   "execution_count": 7,
   "id": "387153f4",
   "metadata": {
    "tags": [
     "hide-input",
     "output-wide-tabs"
    ]
   },
   "outputs": [
    {
     "data": {
      "text/html": [
       "An example migration table:"
      ],
      "text/plain": [
       "<IPython.core.display.HTML object>"
      ]
     },
     "metadata": {},
     "output_type": "display_data"
    },
    {
     "name": "stdout",
     "output_type": "stream",
     "text": [
      "left   right   node   source   dest   time\n",
      "0.0    0.7     5      2        3      1.0\n",
      "0.8    0.9     8      3        4      3.0\n",
      "\n"
     ]
    }
   ],
   "source": [
    "display(HTML(\"An example migration table:\"))\n",
    "print(migrations)  # fixme\n",
    "# ts.dump_text(migrations=sys.stdout)"
   ]
  },
  {
   "cell_type": "markdown",
   "id": "b3d1339f",
   "metadata": {},
   "source": [
    "(sec_population_text_format)=\n",
    "\n",
    "### Population text format\n",
    "\n",
    "Population tables only have a `metadata` column, so the text format for\n",
    "a population table requires there to be a `metadata` column. See the\n",
    "{ref}`population table definitions <sec_population_table_definition>` for\n",
    "details."
   ]
  },
  {
   "cell_type": "code",
   "execution_count": 8,
   "id": "bbdb11de",
   "metadata": {
    "tags": [
     "hide-input",
     "output-wide-tabs"
    ]
   },
   "outputs": [
    {
     "data": {
      "text/html": [
       "An example population table:"
      ],
      "text/plain": [
       "<IPython.core.display.HTML object>"
      ]
     },
     "metadata": {},
     "output_type": "display_data"
    },
    {
     "name": "stdout",
     "output_type": "stream",
     "text": [
      "id\tmetadata\n",
      "0\tcG9wMQ==\n",
      "1\tcG9wMg==\n"
     ]
    }
   ],
   "source": [
    "display(HTML(\"An example population table:\"))\n",
    "ts.dump_text(populations=sys.stdout)"
   ]
  },
  {
   "cell_type": "markdown",
   "id": "44ef18f2",
   "metadata": {},
   "source": [
    "The `metadata` contains base64-encoded data (in this case, the strings\n",
    "`pop1` and `pop1`)."
   ]
  }
 ],
 "metadata": {
  "jupytext": {
   "text_representation": {
    "extension": ".md",
    "format_name": "myst",
    "format_version": 0.12,
    "jupytext_version": "1.9.1"
   }
  },
  "kernelspec": {
   "display_name": "Python 3",
   "language": "python",
   "name": "python3"
  },
  "language_info": {
   "codemirror_mode": {
    "name": "ipython",
    "version": 3
   },
   "file_extension": ".py",
   "mimetype": "text/x-python",
   "name": "python",
   "nbconvert_exporter": "python",
   "pygments_lexer": "ipython3",
   "version": "3.8.14"
  },
  "source_map": [
   12,
   69,
   139,
   165,
   172,
   188,
   192,
   205,
   209,
   221,
   225,
   240,
   244,
   257,
   262,
   274,
   278
  ]
 },
 "nbformat": 4,
 "nbformat_minor": 5
}