{
 "cells": [
  {
   "cell_type": "markdown",
   "id": "df36f7ad",
   "metadata": {},
   "source": [
    "```{currentmodule} tskit\n",
    "```\n",
    "\n",
    "(sec_topological_analysis)=\n",
    "\n",
    "# Topological analysis\n",
    "\n",
    "The branching structure of a tree is known as the tree *topology*. Dealing with the\n",
    "topological structure of trees is of key importance in dealing with genealogies\n",
    "such as those encoded in the tree sequence structure.\n",
    "\n",
    "\n",
    "(sec_topological_analysis_traversal)=\n",
    "\n",
    "## Visiting nodes\n",
    "\n",
    "\n",
    "(sec_topological_analysis_descending)=\n",
    "\n",
    "### Descendant traversal\n",
    "\n",
    "A basic thing to want to do is to visit all the nodes in a tree under a focal node\n",
    "(i.e. the focal node and all its descendants). This can be done in various\n",
    "*traversal orders*. The `tskit` library provides several methods to do this, such\n",
    "as {meth}`Tree.nodes` in the {ref}`sec_python_api`. By default, this method\n",
    "iterates over all the descendant nodes of the root(s) of the tree, and hence\n",
    "visits all the tree's nodes:"
   ]
  },
  {
   "cell_type": "code",
   "execution_count": 1,
   "id": "72ddc8ce",
   "metadata": {},
   "outputs": [
    {
     "data": {
      "image/svg+xml": [
       "<svg xmlns=\"http://www.w3.org/2000/svg\" xmlns:ev=\"http://www.w3.org/2001/xml-events\" xmlns:xlink=\"http://www.w3.org/1999/xlink\" baseProfile=\"full\" height=\"200\" version=\"1.1\" width=\"200\"><defs><style type=\"text/css\"><![CDATA[.background path {fill: #808080; fill-opacity: 0}.background path:nth-child(odd) {fill-opacity: .1}.axes {font-size: 14px}.x-axis .tick .lab {font-weight: bold; dominant-baseline: hanging}.axes, .tree {font-size: 14px; text-anchor: middle}.axes line, .edge {stroke: black; fill: none}.y-axis .grid {stroke: #FAFAFA}.node > .sym {fill: black; stroke: none}.site > .sym {stroke: black}.mut text {fill: red; font-style: italic}.mut.extra text {fill: hotpink}.mut line {fill: none; stroke: none}.mut .sym {fill: none; stroke: red}.mut.extra .sym {stroke: hotpink}.node .mut .sym {stroke-width: 1.5px}.tree text, .tree-sequence text {dominant-baseline: central}.plotbox .lab.lft {text-anchor: end}.plotbox .lab.rgt {text-anchor: start}]]></style></defs><g class=\"tree t0\"><g class=\"plotbox\"><g class=\"c3 node n14 root\" transform=\"translate(94 26.8)\"><g class=\"a14 c3 node n10\" transform=\"translate(-50 94.2667)\"><g class=\"a10 leaf node n0 sample\" transform=\"translate(-16 47.1333)\"><path class=\"edge\" d=\"M 0 0 V -47.1333 H 16\"/><rect class=\"sym\" height=\"6\" width=\"6\" x=\"-3\" y=\"-3\"/><text class=\"lab\" transform=\"translate(0 11)\">0</text></g><g class=\"a10 leaf node n1 sample\" transform=\"translate(0.0 47.1333)\"><path class=\"edge\" d=\"M 0 0 V -47.1333 H 0.0\"/><rect class=\"sym\" height=\"6\" width=\"6\" x=\"-3\" y=\"-3\"/><text class=\"lab\" transform=\"translate(0 11)\">1</text></g><g class=\"a10 leaf node n2 sample\" transform=\"translate(16 47.1333)\"><path class=\"edge\" d=\"M 0 0 V -47.1333 H -16\"/><rect class=\"sym\" height=\"6\" width=\"6\" x=\"-3\" y=\"-3\"/><text class=\"lab\" transform=\"translate(0 11)\">2</text></g><path class=\"edge\" d=\"M 0 0 V -94.2667 H 50\"/><circle class=\"sym\" cx=\"0\" cy=\"0\" r=\"3\"/><text class=\"lab lft\" transform=\"translate(-3 -7.0)\">10</text></g><g class=\"a14 c3 node n11\" transform=\"translate(-2 94.2667)\"><g class=\"a11 leaf node n3 sample\" transform=\"translate(-16 47.1333)\"><path class=\"edge\" d=\"M 0 0 V -47.1333 H 16\"/><rect class=\"sym\" height=\"6\" width=\"6\" x=\"-3\" y=\"-3\"/><text class=\"lab\" transform=\"translate(0 11)\">3</text></g><g class=\"a11 leaf node n4 sample\" transform=\"translate(0.0 47.1333)\"><path class=\"edge\" d=\"M 0 0 V -47.1333 H 0.0\"/><rect class=\"sym\" height=\"6\" width=\"6\" x=\"-3\" y=\"-3\"/><text class=\"lab\" transform=\"translate(0 11)\">4</text></g><g class=\"a11 leaf node n5 sample\" transform=\"translate(16 47.1333)\"><path class=\"edge\" d=\"M 0 0 V -47.1333 H -16\"/><rect class=\"sym\" height=\"6\" width=\"6\" x=\"-3\" y=\"-3\"/><text class=\"lab\" transform=\"translate(0 11)\">5</text></g><path class=\"edge\" d=\"M 0 0 V -94.2667 H 2\"/><circle class=\"sym\" cx=\"0\" cy=\"0\" r=\"3\"/><text class=\"lab rgt\" transform=\"translate(3 -7.0)\">11</text></g><g class=\"a14 c3 node n13\" transform=\"translate(50 47.1333)\"><g class=\"a13 leaf node n6 sample\" transform=\"translate(-20 94.2667)\"><path class=\"edge\" d=\"M 0 0 V -94.2667 H 20\"/><rect class=\"sym\" height=\"6\" width=\"6\" x=\"-3\" y=\"-3\"/><text class=\"lab\" transform=\"translate(0 11)\">6</text></g><g class=\"a13 leaf node n7 sample\" transform=\"translate(-4 94.2667)\"><path class=\"edge\" d=\"M 0 0 V -94.2667 H 4\"/><rect class=\"sym\" height=\"6\" width=\"6\" x=\"-3\" y=\"-3\"/><text class=\"lab\" transform=\"translate(0 11)\">7</text></g><g class=\"a13 c2 node n12\" transform=\"translate(20 47.1333)\"><g class=\"a12 leaf node n8 sample\" transform=\"translate(-8 47.1333)\"><path class=\"edge\" d=\"M 0 0 V -47.1333 H 8\"/><rect class=\"sym\" height=\"6\" width=\"6\" x=\"-3\" y=\"-3\"/><text class=\"lab\" transform=\"translate(0 11)\">8</text></g><g class=\"a12 leaf node n9 sample\" transform=\"translate(8 47.1333)\"><path class=\"edge\" d=\"M 0 0 V -47.1333 H -8\"/><rect class=\"sym\" height=\"6\" width=\"6\" x=\"-3\" y=\"-3\"/><text class=\"lab\" transform=\"translate(0 11)\">9</text></g><path class=\"edge\" d=\"M 0 0 V -47.1333 H -20\"/><circle class=\"sym\" cx=\"0\" cy=\"0\" r=\"3\"/><text class=\"lab rgt\" transform=\"translate(3 -7.0)\">12</text></g><path class=\"edge\" d=\"M 0 0 V -47.1333 H -50\"/><circle class=\"sym\" cx=\"0\" cy=\"0\" r=\"3\"/><text class=\"lab rgt\" transform=\"translate(3 -7.0)\">13</text></g><circle class=\"sym\" cx=\"0\" cy=\"0\" r=\"3\"/><text class=\"lab\" transform=\"translate(0 -11)\">14</text></g></g></g></svg>"
      ],
      "text/plain": [
       "<IPython.core.display.SVG object>"
      ]
     },
     "metadata": {
      "filenames": {
       "image/svg+xml": "/home/runner/work/tskit-site/tskit-site/docs/_build/jupyter_execute/topological-analysis_1_0.svg"
      }
     },
     "output_type": "display_data"
    },
    {
     "name": "stdout",
     "output_type": "stream",
     "text": [
      "preorder:\t [14, 10, 0, 1, 2, 11, 3, 4, 5, 13, 6, 7, 12, 8, 9]\n",
      "inorder:\t [0, 10, 1, 2, 14, 3, 11, 4, 5, 6, 13, 7, 8, 12, 9]\n",
      "postorder:\t [0, 1, 2, 10, 3, 4, 5, 11, 6, 7, 8, 9, 12, 13, 14]\n"
     ]
    }
   ],
   "source": [
    "import tskit\n",
    "from IPython.display import SVG, display\n",
    "\n",
    "tree = tskit.Tree.generate_balanced(10, arity=3)\n",
    "display(SVG(tree.draw_svg()))\n",
    "\n",
    "for order in [\"preorder\", \"inorder\", \"postorder\"]:\n",
    "    print(f\"{order}:\\t\", list(tree.nodes(order=order)))"
   ]
  },
  {
   "cell_type": "markdown",
   "id": "0d93783b",
   "metadata": {},
   "source": [
    "Providing a focal node ID allows us to traverse through that node's descendants.\n",
    "For instance, here we visit node 13 and its descendants:"
   ]
  },
  {
   "cell_type": "code",
   "execution_count": 2,
   "id": "31ecb321",
   "metadata": {},
   "outputs": [
    {
     "name": "stdout",
     "output_type": "stream",
     "text": [
      "Nodes under node 13: [13, 6, 7, 12, 8, 9]\n"
     ]
    }
   ],
   "source": [
    "print(\"Nodes under node 13:\", [u for u in tree.nodes(13)])"
   ]
  },
  {
   "cell_type": "markdown",
   "id": "b9753aae",
   "metadata": {},
   "source": [
    "The node IDs returned by traversal methods allow us to to access node information.\n",
    "Below, for example, we use the {meth}`Tree.num_children` method to find the number of\n",
    "children (the \"arity\") of every non-leaf node, and take the average. Since the\n",
    "specific ordering of descendant nodes is not important in this case, we can leave\n",
    "it out (defaulting to preorder traversal, the most efficient order):"
   ]
  },
  {
   "cell_type": "code",
   "execution_count": 3,
   "id": "77b371ee",
   "metadata": {},
   "outputs": [
    {
     "name": "stdout",
     "output_type": "stream",
     "text": [
      "Average arity of internal nodes: 2.8\n"
     ]
    }
   ],
   "source": [
    "import numpy as np\n",
    "av_arity = np.mean([tree.num_children(u) for u in tree.nodes() if not tree.is_leaf(u)])\n",
    "print(f\"Average arity of internal nodes: {av_arity}\")"
   ]
  },
  {
   "cell_type": "markdown",
   "id": "32b96b32",
   "metadata": {},
   "source": [
    ":::{note}\n",
    "In `tskit`, a tree can have multiple {ref}`sec_data_model_tree_roots`, each with a\n",
    "descendant topology.  However, for some algorithms, instead of traversing through\n",
    "the descendants of each root of a tree in turn, it can be helpful to start at a\n",
    "single node and traverse downwards through the entire genealogy. The\n",
    "{ref}`virtual root<sec_data_model_tree_virtual_root>` is provided for this purpose.\n",
    ":::\n",
    "\n",
    "#### Array methods\n",
    "\n",
    "The {meth}`Tree.nodes` iterator provides a convenient way of looping over descendant\n",
    "node IDs, but it can be more efficient to deal with all the IDs at once, as a\n",
    "single array of values. This can be combined with\n",
    "{ref}`direct memory access<sec_python_api_trees_node_measures_array>` resulting in a\n",
    "high performance approach. Here, for example, is an equivalent\n",
    "array-based method to find the average arity of internal nodes, by counting\n",
    "how many times a node is referenced as a parent:"
   ]
  },
  {
   "cell_type": "code",
   "execution_count": 4,
   "id": "69881247",
   "metadata": {},
   "outputs": [
    {
     "name": "stdout",
     "output_type": "stream",
     "text": [
      "Average arity is 2.8\n"
     ]
    }
   ],
   "source": [
    "parent_id, count = np.unique(tree.parent_array[tree.preorder()], return_counts=True)\n",
    "print(f\"Average arity is {count[parent_id != tskit.NULL].mean()}\")"
   ]
  },
  {
   "cell_type": "markdown",
   "id": "4162b17d",
   "metadata": {},
   "source": [
    ":::{seealso}\n",
    "The {ref}`sec_analysing_trees` tutorial provides a number of additional examples\n",
    "of tree traversal techniques, with different performance characteristics.\n",
    ":::\n",
    "\n",
    "\n",
    "(sec_topological_analysis_ascending)=\n",
    "\n",
    "### Ascending traversal\n",
    "\n",
    "For many applications it is useful to be able to traverse upwards from a node or set\n",
    "of nodes, such as the leaves. We can do this by iterating over parents. Here, for\n",
    "example, we traverse upwards from each of the samples in the tree:"
   ]
  },
  {
   "cell_type": "code",
   "execution_count": 5,
   "id": "840f70a9",
   "metadata": {},
   "outputs": [
    {
     "name": "stdout",
     "output_type": "stream",
     "text": [
      "0 -> [0, 10, 14]\n",
      "1 -> [1, 10, 14]\n",
      "2 -> [2, 10, 14]\n",
      "3 -> [3, 11, 14]\n",
      "4 -> [4, 11, 14]\n",
      "5 -> [5, 11, 14]\n",
      "6 -> [6, 13, 14]\n",
      "7 -> [7, 13, 14]\n",
      "8 -> [8, 12, 13, 14]\n",
      "9 -> [9, 12, 13, 14]\n"
     ]
    }
   ],
   "source": [
    "for u in tree.samples():\n",
    "    path = []\n",
    "    v = u\n",
    "    while v != tskit.NULL:\n",
    "        path.append(v)\n",
    "        v = tree.parent(v)\n",
    "    print(u, \"->\", path)"
   ]
  },
  {
   "cell_type": "markdown",
   "id": "c50d3ba1",
   "metadata": {},
   "source": [
    ":::{todo}\n",
    "Indicate that this can be made performant using `numba`, and link out to a tutorial\n",
    "on high performance methods including the `numba` approach.\n",
    ":::\n",
    "\n",
    "\n",
    "(sec_combinatorics)=\n",
    "\n",
    "## Identifying and counting topologies\n",
    "\n",
    "tskit uses a combinatorial approach to identify unique topologies of\n",
    "rooted, leaf-labelled trees. It provides methods\n",
    "for enumerating all possible tree topologies, as well as converting\n",
    "back and forth between a tree and its position, or rank, in the\n",
    "enumeration of all possible topologies.\n",
    "These methods do not only apply to binary trees;\n",
    "rather, they cover general, rooted trees without unary nodes.\n",
    "\n",
    "```{list-table} \n",
    "* - {meth}`Tree.rank`\n",
    "  - Return the rank of this tree.\n",
    "* - {meth}`Tree.unrank`\n",
    "  - Return a Tree given its rank and a number of leaves.\n",
    "* - {func}`tskit.all_trees`\n",
    "  - Return a generator over all leaf-labelled trees of n leaves.\n",
    "* - {func}`tskit.all_tree_shapes`\n",
    "  - Return a generator over all tree shapes of n leaves.\n",
    "* - {func}`tskit.all_tree_labellings`\n",
    "  - Return a generator over all labellings of the given tree's shape.\n",
    "```\n",
    "\n",
    ":::{note}\n",
    "As the number of nodes increases, the number of different topologies rises\n",
    "extremely rapidly (see its entry in the\n",
    "[On-Line Encyclopedia of Integer Sequences](https://oeis.org/A000311)). This\n",
    "combinatorial explosion is a major limitation in any analysis that attempts to\n",
    "explore possible topologies. For example, although the {func}`tskit.all_trees`\n",
    "function above will happily start generating topologies for (say) a tree of 50\n",
    "leaves, the total number of possible topologies is over $6^81$, which is of\n",
    "the same order as the number of atoms in the observable universe. Generating\n",
    "all the topologies of a tree with anything much more than 10 tips is likely\n",
    "to be impracticable.\n",
    ":::\n",
    "\n",
    "\n",
    "(sec_tree_ranks)=\n",
    "\n",
    "### Interpreting Tree Ranks\n",
    "\n",
    "To understand tree ranks we must look at how leaf-labelled tree topologies\n",
    "are enumerated. For example, we can use {func}`tskit.all_trees`\n",
    "to generate all possible topologies of three leaves:"
   ]
  },
  {
   "cell_type": "code",
   "execution_count": 6,
   "id": "c4e64be0",
   "metadata": {},
   "outputs": [
    {
     "data": {
      "image/svg+xml": [
       "<svg xmlns=\"http://www.w3.org/2000/svg\" xmlns:ev=\"http://www.w3.org/2001/xml-events\" xmlns:xlink=\"http://www.w3.org/1999/xlink\" baseProfile=\"full\" height=\"120\" version=\"1.1\" width=\"120\"><defs><style type=\"text/css\"><![CDATA[.background path {fill: #808080; fill-opacity: 0}.background path:nth-child(odd) {fill-opacity: .1}.axes {font-size: 14px}.x-axis .tick .lab {font-weight: bold; dominant-baseline: hanging}.axes, .tree {font-size: 14px; text-anchor: middle}.axes line, .edge {stroke: black; fill: none}.y-axis .grid {stroke: #FAFAFA}.node > .sym {fill: black; stroke: none}.site > .sym {stroke: black}.mut text {fill: red; font-style: italic}.mut.extra text {fill: hotpink}.mut line {fill: none; stroke: none}.mut .sym {fill: none; stroke: red}.mut.extra .sym {stroke: hotpink}.node .mut .sym {stroke-width: 1.5px}.tree text, .tree-sequence text {dominant-baseline: central}.plotbox .lab.lft {text-anchor: end}.plotbox .lab.rgt {text-anchor: start}]]></style></defs><g class=\"tree t0\"><g class=\"plotbox\"><g class=\"c3 node n3 root\" transform=\"translate(60 26.8)\"><g class=\"a3 leaf node n0 sample\" transform=\"translate(-26.6667 61.4)\"><path class=\"edge\" d=\"M 0 0 V -61.4 H 26.6667\"/><rect class=\"sym\" height=\"6\" width=\"6\" x=\"-3\" y=\"-3\"/><text class=\"lab\" transform=\"translate(0 11)\">0</text></g><g class=\"a3 leaf node n1 sample\" transform=\"translate(0.0 61.4)\"><path class=\"edge\" d=\"M 0 0 V -61.4 H 0.0\"/><rect class=\"sym\" height=\"6\" width=\"6\" x=\"-3\" y=\"-3\"/><text class=\"lab\" transform=\"translate(0 11)\">1</text></g><g class=\"a3 leaf node n2 sample\" transform=\"translate(26.6667 61.4)\"><path class=\"edge\" d=\"M 0 0 V -61.4 H -26.6667\"/><rect class=\"sym\" height=\"6\" width=\"6\" x=\"-3\" y=\"-3\"/><text class=\"lab\" transform=\"translate(0 11)\">2</text></g><circle class=\"sym\" cx=\"0\" cy=\"0\" r=\"3\"/><text class=\"lab\" transform=\"translate(0 -11)\"/></g></g></g></svg>"
      ],
      "text/plain": [
       "<IPython.core.display.SVG object>"
      ]
     },
     "metadata": {
      "filenames": {
       "image/svg+xml": "/home/runner/work/tskit-site/tskit-site/docs/_build/jupyter_execute/topological-analysis_11_0.svg"
      }
     },
     "output_type": "display_data"
    },
    {
     "data": {
      "image/svg+xml": [
       "<svg xmlns=\"http://www.w3.org/2000/svg\" xmlns:ev=\"http://www.w3.org/2001/xml-events\" xmlns:xlink=\"http://www.w3.org/1999/xlink\" baseProfile=\"full\" height=\"120\" version=\"1.1\" width=\"120\"><defs><style type=\"text/css\"><![CDATA[.background path {fill: #808080; fill-opacity: 0}.background path:nth-child(odd) {fill-opacity: .1}.axes {font-size: 14px}.x-axis .tick .lab {font-weight: bold; dominant-baseline: hanging}.axes, .tree {font-size: 14px; text-anchor: middle}.axes line, .edge {stroke: black; fill: none}.y-axis .grid {stroke: #FAFAFA}.node > .sym {fill: black; stroke: none}.site > .sym {stroke: black}.mut text {fill: red; font-style: italic}.mut.extra text {fill: hotpink}.mut line {fill: none; stroke: none}.mut .sym {fill: none; stroke: red}.mut.extra .sym {stroke: hotpink}.node .mut .sym {stroke-width: 1.5px}.tree text, .tree-sequence text {dominant-baseline: central}.plotbox .lab.lft {text-anchor: end}.plotbox .lab.rgt {text-anchor: start}]]></style></defs><g class=\"tree t0\"><g class=\"plotbox\"><g class=\"c2 node n4 root\" transform=\"translate(53.3333 26.8)\"><g class=\"a4 leaf node n0 sample\" transform=\"translate(-20 61.4)\"><path class=\"edge\" d=\"M 0 0 V -61.4 H 20\"/><rect class=\"sym\" height=\"6\" width=\"6\" x=\"-3\" y=\"-3\"/><text class=\"lab\" transform=\"translate(0 11)\">0</text></g><g class=\"a4 c2 node n3\" transform=\"translate(20 30.7)\"><g class=\"a3 leaf node n1 sample\" transform=\"translate(-13.3333 30.7)\"><path class=\"edge\" d=\"M 0 0 V -30.7 H 13.3333\"/><rect class=\"sym\" height=\"6\" width=\"6\" x=\"-3\" y=\"-3\"/><text class=\"lab\" transform=\"translate(0 11)\">1</text></g><g class=\"a3 leaf node n2 sample\" transform=\"translate(13.3333 30.7)\"><path class=\"edge\" d=\"M 0 0 V -30.7 H -13.3333\"/><rect class=\"sym\" height=\"6\" width=\"6\" x=\"-3\" y=\"-3\"/><text class=\"lab\" transform=\"translate(0 11)\">2</text></g><path class=\"edge\" d=\"M 0 0 V -30.7 H -20\"/><circle class=\"sym\" cx=\"0\" cy=\"0\" r=\"3\"/><text class=\"lab rgt\" transform=\"translate(3 -7.0)\"/></g><circle class=\"sym\" cx=\"0\" cy=\"0\" r=\"3\"/><text class=\"lab\" transform=\"translate(0 -11)\"/></g></g></g></svg>"
      ],
      "text/plain": [
       "<IPython.core.display.SVG object>"
      ]
     },
     "metadata": {
      "filenames": {
       "image/svg+xml": "/home/runner/work/tskit-site/tskit-site/docs/_build/jupyter_execute/topological-analysis_11_1.svg"
      }
     },
     "output_type": "display_data"
    },
    {
     "data": {
      "image/svg+xml": [
       "<svg xmlns=\"http://www.w3.org/2000/svg\" xmlns:ev=\"http://www.w3.org/2001/xml-events\" xmlns:xlink=\"http://www.w3.org/1999/xlink\" baseProfile=\"full\" height=\"120\" version=\"1.1\" width=\"120\"><defs><style type=\"text/css\"><![CDATA[.background path {fill: #808080; fill-opacity: 0}.background path:nth-child(odd) {fill-opacity: .1}.axes {font-size: 14px}.x-axis .tick .lab {font-weight: bold; dominant-baseline: hanging}.axes, .tree {font-size: 14px; text-anchor: middle}.axes line, .edge {stroke: black; fill: none}.y-axis .grid {stroke: #FAFAFA}.node > .sym {fill: black; stroke: none}.site > .sym {stroke: black}.mut text {fill: red; font-style: italic}.mut.extra text {fill: hotpink}.mut line {fill: none; stroke: none}.mut .sym {fill: none; stroke: red}.mut.extra .sym {stroke: hotpink}.node .mut .sym {stroke-width: 1.5px}.tree text, .tree-sequence text {dominant-baseline: central}.plotbox .lab.lft {text-anchor: end}.plotbox .lab.rgt {text-anchor: start}]]></style></defs><g class=\"tree t0\"><g class=\"plotbox\"><g class=\"c2 node n4 root\" transform=\"translate(53.3333 26.8)\"><g class=\"a4 leaf node n1 sample\" transform=\"translate(-20 61.4)\"><path class=\"edge\" d=\"M 0 0 V -61.4 H 20\"/><rect class=\"sym\" height=\"6\" width=\"6\" x=\"-3\" y=\"-3\"/><text class=\"lab\" transform=\"translate(0 11)\">1</text></g><g class=\"a4 c2 node n3\" transform=\"translate(20 30.7)\"><g class=\"a3 leaf node n0 sample\" transform=\"translate(-13.3333 30.7)\"><path class=\"edge\" d=\"M 0 0 V -30.7 H 13.3333\"/><rect class=\"sym\" height=\"6\" width=\"6\" x=\"-3\" y=\"-3\"/><text class=\"lab\" transform=\"translate(0 11)\">0</text></g><g class=\"a3 leaf node n2 sample\" transform=\"translate(13.3333 30.7)\"><path class=\"edge\" d=\"M 0 0 V -30.7 H -13.3333\"/><rect class=\"sym\" height=\"6\" width=\"6\" x=\"-3\" y=\"-3\"/><text class=\"lab\" transform=\"translate(0 11)\">2</text></g><path class=\"edge\" d=\"M 0 0 V -30.7 H -20\"/><circle class=\"sym\" cx=\"0\" cy=\"0\" r=\"3\"/><text class=\"lab rgt\" transform=\"translate(3 -7.0)\"/></g><circle class=\"sym\" cx=\"0\" cy=\"0\" r=\"3\"/><text class=\"lab\" transform=\"translate(0 -11)\"/></g></g></g></svg>"
      ],
      "text/plain": [
       "<IPython.core.display.SVG object>"
      ]
     },
     "metadata": {
      "filenames": {
       "image/svg+xml": "/home/runner/work/tskit-site/tskit-site/docs/_build/jupyter_execute/topological-analysis_11_2.svg"
      }
     },
     "output_type": "display_data"
    },
    {
     "data": {
      "image/svg+xml": [
       "<svg xmlns=\"http://www.w3.org/2000/svg\" xmlns:ev=\"http://www.w3.org/2001/xml-events\" xmlns:xlink=\"http://www.w3.org/1999/xlink\" baseProfile=\"full\" height=\"120\" version=\"1.1\" width=\"120\"><defs><style type=\"text/css\"><![CDATA[.background path {fill: #808080; fill-opacity: 0}.background path:nth-child(odd) {fill-opacity: .1}.axes {font-size: 14px}.x-axis .tick .lab {font-weight: bold; dominant-baseline: hanging}.axes, .tree {font-size: 14px; text-anchor: middle}.axes line, .edge {stroke: black; fill: none}.y-axis .grid {stroke: #FAFAFA}.node > .sym {fill: black; stroke: none}.site > .sym {stroke: black}.mut text {fill: red; font-style: italic}.mut.extra text {fill: hotpink}.mut line {fill: none; stroke: none}.mut .sym {fill: none; stroke: red}.mut.extra .sym {stroke: hotpink}.node .mut .sym {stroke-width: 1.5px}.tree text, .tree-sequence text {dominant-baseline: central}.plotbox .lab.lft {text-anchor: end}.plotbox .lab.rgt {text-anchor: start}]]></style></defs><g class=\"tree t0\"><g class=\"plotbox\"><g class=\"c2 node n4 root\" transform=\"translate(53.3333 26.8)\"><g class=\"a4 leaf node n2 sample\" transform=\"translate(-20 61.4)\"><path class=\"edge\" d=\"M 0 0 V -61.4 H 20\"/><rect class=\"sym\" height=\"6\" width=\"6\" x=\"-3\" y=\"-3\"/><text class=\"lab\" transform=\"translate(0 11)\">2</text></g><g class=\"a4 c2 node n3\" transform=\"translate(20 30.7)\"><g class=\"a3 leaf node n0 sample\" transform=\"translate(-13.3333 30.7)\"><path class=\"edge\" d=\"M 0 0 V -30.7 H 13.3333\"/><rect class=\"sym\" height=\"6\" width=\"6\" x=\"-3\" y=\"-3\"/><text class=\"lab\" transform=\"translate(0 11)\">0</text></g><g class=\"a3 leaf node n1 sample\" transform=\"translate(13.3333 30.7)\"><path class=\"edge\" d=\"M 0 0 V -30.7 H -13.3333\"/><rect class=\"sym\" height=\"6\" width=\"6\" x=\"-3\" y=\"-3\"/><text class=\"lab\" transform=\"translate(0 11)\">1</text></g><path class=\"edge\" d=\"M 0 0 V -30.7 H -20\"/><circle class=\"sym\" cx=\"0\" cy=\"0\" r=\"3\"/><text class=\"lab rgt\" transform=\"translate(3 -7.0)\"/></g><circle class=\"sym\" cx=\"0\" cy=\"0\" r=\"3\"/><text class=\"lab\" transform=\"translate(0 -11)\"/></g></g></g></svg>"
      ],
      "text/plain": [
       "<IPython.core.display.SVG object>"
      ]
     },
     "metadata": {
      "filenames": {
       "image/svg+xml": "/home/runner/work/tskit-site/tskit-site/docs/_build/jupyter_execute/topological-analysis_11_3.svg"
      }
     },
     "output_type": "display_data"
    }
   ],
   "source": [
    "import tskit\n",
    "from IPython.display import display, SVG\n",
    "\n",
    "for t in tskit.all_trees(num_leaves=3):\n",
    "    display(SVG(t.draw_svg(node_labels={0: 0, 1: 1, 2: 2}, order=\"tree\", size=(120, 120))))"
   ]
  },
  {
   "cell_type": "markdown",
   "id": "06ac5713",
   "metadata": {},
   "source": [
    "In this sequence, there exist two distinct tree shapes and each shape\n",
    "can be labelled in at least one unique way. Given that topologies are\n",
    "ordered first by their shape and then by their labelling, a tree\n",
    "topology can be uniquely identified by\n",
    "\n",
    "1. The shape of the tree\n",
    "2. The labelling of the tree's shape\n",
    "\n",
    "We can refer to the first tree in the above enumeration as the\n",
    "first labelling of the first shape of trees with three leaves, or tree\n",
    "$(0, 0)$. The second tree can be identified as the first labelling\n",
    "of the second shape, or $(1, 0)$, and so on.\n",
    "This pair of indexes for the shape and labelling of a tree is referred\n",
    "to as the rank of the tree, and can be computed using the\n",
    "{meth}`Tree.rank` method."
   ]
  },
  {
   "cell_type": "code",
   "execution_count": 7,
   "id": "f9b34eac",
   "metadata": {},
   "outputs": [
    {
     "name": "stdout",
     "output_type": "stream",
     "text": [
      "Ranks of 3-leaf trees: [Rank(shape=0, label=0), Rank(shape=1, label=0), Rank(shape=1, label=1), Rank(shape=1, label=2)]\n"
     ]
    }
   ],
   "source": [
    "ranks = [t.rank() for t in tskit.all_trees(num_leaves=3)]\n",
    "print(\"Ranks of 3-leaf trees:\", ranks)"
   ]
  },
  {
   "cell_type": "markdown",
   "id": "d1344b95",
   "metadata": {},
   "source": [
    "```{note}\n",
    "Ranks in combinatorics are typically natural numbers. However,\n",
    "we refer to this tuple of shape and label rank as a rank because\n",
    "it serves the same purpose of indexing trees in an enumeration.\n",
    "```\n",
    "\n",
    "For details on how shapes and labellings are ordered, see\n",
    "{ref}`sec_enumerating_topologies`.\n",
    "\n",
    "We can also reconstruct a leaf-labelled tree given its rank. This process\n",
    "is known as unranking, and can be performed using the {meth}`Tree.unrank`\n",
    "method."
   ]
  },
  {
   "cell_type": "code",
   "execution_count": 8,
   "id": "c5cf1d22",
   "metadata": {},
   "outputs": [
    {
     "data": {
      "image/svg+xml": [
       "<svg xmlns=\"http://www.w3.org/2000/svg\" xmlns:ev=\"http://www.w3.org/2001/xml-events\" xmlns:xlink=\"http://www.w3.org/1999/xlink\" baseProfile=\"full\" height=\"120\" version=\"1.1\" width=\"120\"><defs><style type=\"text/css\"><![CDATA[.background path {fill: #808080; fill-opacity: 0}.background path:nth-child(odd) {fill-opacity: .1}.axes {font-size: 14px}.x-axis .tick .lab {font-weight: bold; dominant-baseline: hanging}.axes, .tree {font-size: 14px; text-anchor: middle}.axes line, .edge {stroke: black; fill: none}.y-axis .grid {stroke: #FAFAFA}.node > .sym {fill: black; stroke: none}.site > .sym {stroke: black}.mut text {fill: red; font-style: italic}.mut.extra text {fill: hotpink}.mut line {fill: none; stroke: none}.mut .sym {fill: none; stroke: red}.mut.extra .sym {stroke: hotpink}.node .mut .sym {stroke-width: 1.5px}.tree text, .tree-sequence text {dominant-baseline: central}.plotbox .lab.lft {text-anchor: end}.plotbox .lab.rgt {text-anchor: start}]]></style></defs><g class=\"tree t0\"><g class=\"plotbox\"><g class=\"c3 node n3 root\" transform=\"translate(60 26.8)\"><g class=\"a3 leaf node n0 sample\" transform=\"translate(-26.6667 61.4)\"><path class=\"edge\" d=\"M 0 0 V -61.4 H 26.6667\"/><rect class=\"sym\" height=\"6\" width=\"6\" x=\"-3\" y=\"-3\"/><text class=\"lab\" transform=\"translate(0 11)\">0</text></g><g class=\"a3 leaf node n1 sample\" transform=\"translate(0.0 61.4)\"><path class=\"edge\" d=\"M 0 0 V -61.4 H 0.0\"/><rect class=\"sym\" height=\"6\" width=\"6\" x=\"-3\" y=\"-3\"/><text class=\"lab\" transform=\"translate(0 11)\">1</text></g><g class=\"a3 leaf node n2 sample\" transform=\"translate(26.6667 61.4)\"><path class=\"edge\" d=\"M 0 0 V -61.4 H -26.6667\"/><rect class=\"sym\" height=\"6\" width=\"6\" x=\"-3\" y=\"-3\"/><text class=\"lab\" transform=\"translate(0 11)\">2</text></g><circle class=\"sym\" cx=\"0\" cy=\"0\" r=\"3\"/><text class=\"lab\" transform=\"translate(0 -11)\"/></g></g></g></svg>"
      ],
      "text/plain": [
       "<IPython.core.display.SVG object>"
      ]
     },
     "metadata": {
      "filenames": {
       "image/svg+xml": "/home/runner/work/tskit-site/tskit-site/docs/_build/jupyter_execute/topological-analysis_15_0.svg"
      }
     },
     "output_type": "display_data"
    },
    {
     "data": {
      "image/svg+xml": [
       "<svg xmlns=\"http://www.w3.org/2000/svg\" xmlns:ev=\"http://www.w3.org/2001/xml-events\" xmlns:xlink=\"http://www.w3.org/1999/xlink\" baseProfile=\"full\" height=\"120\" version=\"1.1\" width=\"120\"><defs><style type=\"text/css\"><![CDATA[.background path {fill: #808080; fill-opacity: 0}.background path:nth-child(odd) {fill-opacity: .1}.axes {font-size: 14px}.x-axis .tick .lab {font-weight: bold; dominant-baseline: hanging}.axes, .tree {font-size: 14px; text-anchor: middle}.axes line, .edge {stroke: black; fill: none}.y-axis .grid {stroke: #FAFAFA}.node > .sym {fill: black; stroke: none}.site > .sym {stroke: black}.mut text {fill: red; font-style: italic}.mut.extra text {fill: hotpink}.mut line {fill: none; stroke: none}.mut .sym {fill: none; stroke: red}.mut.extra .sym {stroke: hotpink}.node .mut .sym {stroke-width: 1.5px}.tree text, .tree-sequence text {dominant-baseline: central}.plotbox .lab.lft {text-anchor: end}.plotbox .lab.rgt {text-anchor: start}]]></style></defs><g class=\"tree t0\"><g class=\"plotbox\"><g class=\"c2 node n4 root\" transform=\"translate(53.3333 26.8)\"><g class=\"a4 leaf node n0 sample\" transform=\"translate(-20 61.4)\"><path class=\"edge\" d=\"M 0 0 V -61.4 H 20\"/><rect class=\"sym\" height=\"6\" width=\"6\" x=\"-3\" y=\"-3\"/><text class=\"lab\" transform=\"translate(0 11)\">0</text></g><g class=\"a4 c2 node n3\" transform=\"translate(20 30.7)\"><g class=\"a3 leaf node n1 sample\" transform=\"translate(-13.3333 30.7)\"><path class=\"edge\" d=\"M 0 0 V -30.7 H 13.3333\"/><rect class=\"sym\" height=\"6\" width=\"6\" x=\"-3\" y=\"-3\"/><text class=\"lab\" transform=\"translate(0 11)\">1</text></g><g class=\"a3 leaf node n2 sample\" transform=\"translate(13.3333 30.7)\"><path class=\"edge\" d=\"M 0 0 V -30.7 H -13.3333\"/><rect class=\"sym\" height=\"6\" width=\"6\" x=\"-3\" y=\"-3\"/><text class=\"lab\" transform=\"translate(0 11)\">2</text></g><path class=\"edge\" d=\"M 0 0 V -30.7 H -20\"/><circle class=\"sym\" cx=\"0\" cy=\"0\" r=\"3\"/><text class=\"lab rgt\" transform=\"translate(3 -7.0)\"/></g><circle class=\"sym\" cx=\"0\" cy=\"0\" r=\"3\"/><text class=\"lab\" transform=\"translate(0 -11)\"/></g></g></g></svg>"
      ],
      "text/plain": [
       "<IPython.core.display.SVG object>"
      ]
     },
     "metadata": {
      "filenames": {
       "image/svg+xml": "/home/runner/work/tskit-site/tskit-site/docs/_build/jupyter_execute/topological-analysis_15_1.svg"
      }
     },
     "output_type": "display_data"
    },
    {
     "data": {
      "image/svg+xml": [
       "<svg xmlns=\"http://www.w3.org/2000/svg\" xmlns:ev=\"http://www.w3.org/2001/xml-events\" xmlns:xlink=\"http://www.w3.org/1999/xlink\" baseProfile=\"full\" height=\"120\" version=\"1.1\" width=\"120\"><defs><style type=\"text/css\"><![CDATA[.background path {fill: #808080; fill-opacity: 0}.background path:nth-child(odd) {fill-opacity: .1}.axes {font-size: 14px}.x-axis .tick .lab {font-weight: bold; dominant-baseline: hanging}.axes, .tree {font-size: 14px; text-anchor: middle}.axes line, .edge {stroke: black; fill: none}.y-axis .grid {stroke: #FAFAFA}.node > .sym {fill: black; stroke: none}.site > .sym {stroke: black}.mut text {fill: red; font-style: italic}.mut.extra text {fill: hotpink}.mut line {fill: none; stroke: none}.mut .sym {fill: none; stroke: red}.mut.extra .sym {stroke: hotpink}.node .mut .sym {stroke-width: 1.5px}.tree text, .tree-sequence text {dominant-baseline: central}.plotbox .lab.lft {text-anchor: end}.plotbox .lab.rgt {text-anchor: start}]]></style></defs><g class=\"tree t0\"><g class=\"plotbox\"><g class=\"c2 node n4 root\" transform=\"translate(53.3333 26.8)\"><g class=\"a4 leaf node n1 sample\" transform=\"translate(-20 61.4)\"><path class=\"edge\" d=\"M 0 0 V -61.4 H 20\"/><rect class=\"sym\" height=\"6\" width=\"6\" x=\"-3\" y=\"-3\"/><text class=\"lab\" transform=\"translate(0 11)\">1</text></g><g class=\"a4 c2 node n3\" transform=\"translate(20 30.7)\"><g class=\"a3 leaf node n0 sample\" transform=\"translate(-13.3333 30.7)\"><path class=\"edge\" d=\"M 0 0 V -30.7 H 13.3333\"/><rect class=\"sym\" height=\"6\" width=\"6\" x=\"-3\" y=\"-3\"/><text class=\"lab\" transform=\"translate(0 11)\">0</text></g><g class=\"a3 leaf node n2 sample\" transform=\"translate(13.3333 30.7)\"><path class=\"edge\" d=\"M 0 0 V -30.7 H -13.3333\"/><rect class=\"sym\" height=\"6\" width=\"6\" x=\"-3\" y=\"-3\"/><text class=\"lab\" transform=\"translate(0 11)\">2</text></g><path class=\"edge\" d=\"M 0 0 V -30.7 H -20\"/><circle class=\"sym\" cx=\"0\" cy=\"0\" r=\"3\"/><text class=\"lab rgt\" transform=\"translate(3 -7.0)\"/></g><circle class=\"sym\" cx=\"0\" cy=\"0\" r=\"3\"/><text class=\"lab\" transform=\"translate(0 -11)\"/></g></g></g></svg>"
      ],
      "text/plain": [
       "<IPython.core.display.SVG object>"
      ]
     },
     "metadata": {
      "filenames": {
       "image/svg+xml": "/home/runner/work/tskit-site/tskit-site/docs/_build/jupyter_execute/topological-analysis_15_2.svg"
      }
     },
     "output_type": "display_data"
    },
    {
     "data": {
      "image/svg+xml": [
       "<svg xmlns=\"http://www.w3.org/2000/svg\" xmlns:ev=\"http://www.w3.org/2001/xml-events\" xmlns:xlink=\"http://www.w3.org/1999/xlink\" baseProfile=\"full\" height=\"120\" version=\"1.1\" width=\"120\"><defs><style type=\"text/css\"><![CDATA[.background path {fill: #808080; fill-opacity: 0}.background path:nth-child(odd) {fill-opacity: .1}.axes {font-size: 14px}.x-axis .tick .lab {font-weight: bold; dominant-baseline: hanging}.axes, .tree {font-size: 14px; text-anchor: middle}.axes line, .edge {stroke: black; fill: none}.y-axis .grid {stroke: #FAFAFA}.node > .sym {fill: black; stroke: none}.site > .sym {stroke: black}.mut text {fill: red; font-style: italic}.mut.extra text {fill: hotpink}.mut line {fill: none; stroke: none}.mut .sym {fill: none; stroke: red}.mut.extra .sym {stroke: hotpink}.node .mut .sym {stroke-width: 1.5px}.tree text, .tree-sequence text {dominant-baseline: central}.plotbox .lab.lft {text-anchor: end}.plotbox .lab.rgt {text-anchor: start}]]></style></defs><g class=\"tree t0\"><g class=\"plotbox\"><g class=\"c2 node n4 root\" transform=\"translate(53.3333 26.8)\"><g class=\"a4 leaf node n2 sample\" transform=\"translate(-20 61.4)\"><path class=\"edge\" d=\"M 0 0 V -61.4 H 20\"/><rect class=\"sym\" height=\"6\" width=\"6\" x=\"-3\" y=\"-3\"/><text class=\"lab\" transform=\"translate(0 11)\">2</text></g><g class=\"a4 c2 node n3\" transform=\"translate(20 30.7)\"><g class=\"a3 leaf node n0 sample\" transform=\"translate(-13.3333 30.7)\"><path class=\"edge\" d=\"M 0 0 V -30.7 H 13.3333\"/><rect class=\"sym\" height=\"6\" width=\"6\" x=\"-3\" y=\"-3\"/><text class=\"lab\" transform=\"translate(0 11)\">0</text></g><g class=\"a3 leaf node n1 sample\" transform=\"translate(13.3333 30.7)\"><path class=\"edge\" d=\"M 0 0 V -30.7 H -13.3333\"/><rect class=\"sym\" height=\"6\" width=\"6\" x=\"-3\" y=\"-3\"/><text class=\"lab\" transform=\"translate(0 11)\">1</text></g><path class=\"edge\" d=\"M 0 0 V -30.7 H -20\"/><circle class=\"sym\" cx=\"0\" cy=\"0\" r=\"3\"/><text class=\"lab rgt\" transform=\"translate(3 -7.0)\"/></g><circle class=\"sym\" cx=\"0\" cy=\"0\" r=\"3\"/><text class=\"lab\" transform=\"translate(0 -11)\"/></g></g></g></svg>"
      ],
      "text/plain": [
       "<IPython.core.display.SVG object>"
      ]
     },
     "metadata": {
      "filenames": {
       "image/svg+xml": "/home/runner/work/tskit-site/tskit-site/docs/_build/jupyter_execute/topological-analysis_15_3.svg"
      }
     },
     "output_type": "display_data"
    }
   ],
   "source": [
    "for rank in [(0, 0), (1, 0), (1, 1), (1, 2)]:\n",
    "    t = tskit.Tree.unrank(num_leaves=3, rank=rank)\n",
    "    display(SVG(t.draw_svg(node_labels={0: 0, 1: 1, 2: 2}, order=\"tree\", size=(120, 120))))"
   ]
  },
  {
   "cell_type": "markdown",
   "id": "235148ac",
   "metadata": {},
   "source": [
    "#### Examples\n",
    "\n",
    "One application of tree ranks is to count the different\n",
    "leaf-labelled topologies in a tree sequence. Since the ranks\n",
    "are just tuples, we can use a Python ``Counter`` to track them.\n",
    "Here, we count and unrank the most frequently seen\n",
    "topology in a tree sequence. For brevity, this example assumes\n",
    "samples are synonymous with leaves."
   ]
  },
  {
   "cell_type": "code",
   "execution_count": 9,
   "id": "f2fa80ef",
   "metadata": {},
   "outputs": [
    {
     "name": "stdout",
     "output_type": "stream",
     "text": [
      "Most frequent topology\n"
     ]
    },
    {
     "data": {
      "image/svg+xml": [
       "<svg xmlns=\"http://www.w3.org/2000/svg\" xmlns:ev=\"http://www.w3.org/2001/xml-events\" xmlns:xlink=\"http://www.w3.org/1999/xlink\" baseProfile=\"full\" height=\"200\" version=\"1.1\" width=\"200\"><defs><style type=\"text/css\"><![CDATA[.background path {fill: #808080; fill-opacity: 0}.background path:nth-child(odd) {fill-opacity: .1}.axes {font-size: 14px}.x-axis .tick .lab {font-weight: bold; dominant-baseline: hanging}.axes, .tree {font-size: 14px; text-anchor: middle}.axes line, .edge {stroke: black; fill: none}.y-axis .grid {stroke: #FAFAFA}.node > .sym {fill: black; stroke: none}.site > .sym {stroke: black}.mut text {fill: red; font-style: italic}.mut.extra text {fill: hotpink}.mut line {fill: none; stroke: none}.mut .sym {fill: none; stroke: red}.mut.extra .sym {stroke: hotpink}.node .mut .sym {stroke-width: 1.5px}.tree text, .tree-sequence text {dominant-baseline: central}.plotbox .lab.lft {text-anchor: end}.plotbox .lab.rgt {text-anchor: start}]]></style></defs><g class=\"tree t0\"><g class=\"plotbox\"><g class=\"c2 node n6 root\" transform=\"translate(115 26.8)\"><g class=\"a6 leaf node n1 sample\" transform=\"translate(45 141.4)\"><path class=\"edge\" d=\"M 0 0 V -141.4 H -45\"/><rect class=\"sym\" height=\"6\" width=\"6\" x=\"-3\" y=\"-3\"/><text class=\"lab\" transform=\"translate(0 11)\">1</text></g><g class=\"a6 c2 node n5\" transform=\"translate(-45 47.1333)\"><g class=\"a5 leaf node n0 sample\" transform=\"translate(-30 94.2667)\"><path class=\"edge\" d=\"M 0 0 V -94.2667 H 30\"/><rect class=\"sym\" height=\"6\" width=\"6\" x=\"-3\" y=\"-3\"/><text class=\"lab\" transform=\"translate(0 11)\">0</text></g><g class=\"a5 c2 node n4\" transform=\"translate(30 47.1333)\"><g class=\"a4 leaf node n2 sample\" transform=\"translate(-20 47.1333)\"><path class=\"edge\" d=\"M 0 0 V -47.1333 H 20\"/><rect class=\"sym\" height=\"6\" width=\"6\" x=\"-3\" y=\"-3\"/><text class=\"lab\" transform=\"translate(0 11)\">2</text></g><g class=\"a4 leaf node n3 sample\" transform=\"translate(20 47.1333)\"><path class=\"edge\" d=\"M 0 0 V -47.1333 H -20\"/><rect class=\"sym\" height=\"6\" width=\"6\" x=\"-3\" y=\"-3\"/><text class=\"lab\" transform=\"translate(0 11)\">3</text></g><path class=\"edge\" d=\"M 0 0 V -47.1333 H -30\"/><circle class=\"sym\" cx=\"0\" cy=\"0\" r=\"3\"/><text class=\"lab rgt\" transform=\"translate(3 -7.0)\"/></g><path class=\"edge\" d=\"M 0 0 V -47.1333 H 45\"/><circle class=\"sym\" cx=\"0\" cy=\"0\" r=\"3\"/><text class=\"lab lft\" transform=\"translate(-3 -7.0)\"/></g><circle class=\"sym\" cx=\"0\" cy=\"0\" r=\"3\"/><text class=\"lab\" transform=\"translate(0 -11)\"/></g></g></g></svg>"
      ],
      "text/plain": [
       "<IPython.core.display.SVG object>"
      ]
     },
     "metadata": {
      "filenames": {
       "image/svg+xml": "/home/runner/work/tskit-site/tskit-site/docs/_build/jupyter_execute/topological-analysis_17_1.svg"
      }
     },
     "output_type": "display_data"
    }
   ],
   "source": [
    "import collections\n",
    "import msprime\n",
    "# Simulate a tree sequence with 2 diploid individuals (i.e. 4 samples)\n",
    "ts = msprime.sim_ancestry(2, sequence_length=1e8, recombination_rate=1e-7, random_seed=1)\n",
    "rank_counts = collections.Counter(t.rank() for t in ts.trees())\n",
    "most_freq_rank, count = rank_counts.most_common(1)[0]\n",
    "most_freq_topology = tskit.Tree.unrank(ts.num_samples, most_freq_rank)\n",
    "print(\"Most frequent topology\")\n",
    "display(SVG(most_freq_topology.draw_svg(node_labels={0: 0, 1: 1, 2: 2, 3: 3})))"
   ]
  },
  {
   "cell_type": "markdown",
   "id": "88aa567f",
   "metadata": {},
   "source": [
    "(sec_enumerating_topologies)=\n",
    "\n",
    "### Enumerating Topologies\n",
    "\n",
    "This section expands briefly on the approach used to enumerate\n",
    "tree topologies that serves as the basis for {meth}`Tree.rank`\n",
    "and {meth}`Tree.unrank`.\n",
    "To enumerate all rooted, leaf-labelled tree topologies, we first\n",
    "formulate a system of ordering and enumerating tree shapes. Then\n",
    "we define an enumeration of labellings given an arbitrary tree shape.\n",
    "\n",
    "#### Enumerating Tree Shapes\n",
    "\n",
    "Starting with $n = 1$, we see that the only shape for a tree\n",
    "with a single leaf is a single root leaf. A tree with $n > 1$\n",
    "leaves can be obtained by joining at least two trees whose number of\n",
    "leaves sum to $n$.\n",
    "This maps very closely to the concept of integer partitions.\n",
    "Each tree shape of $n$ leaves can be represented by taking a\n",
    "nondecreasing integer partition of $n$ (elements of the partition\n",
    "are sorted in nondecreasing order) and recursively partitioning its\n",
    "elements. The order in which we select partitions of $n$ is\n",
    "determined by the efficient\n",
    "[rule_asc](http://jeromekelleher.net/generating-integer-partitions.html)\n",
    "algorithm for generating them.\n",
    "\n",
    "All tree shapes with four leaves, and the partitions that generate\n",
    "them, are:\n",
    "\n",
    "```{image} _static/four_leaf_tree_shapes.png\n",
    ":alt: All four-leaf tree shapes and their generating partitions\n",
    "```\n",
    "\n",
    "Note that the middle column reflects all tree shapes of three leaves\n",
    "in the right subtree!\n",
    "\n",
    "`*` This excludes the partition $[n]$, since this would create a unary node\n",
    "and trees with unary nodes are inumerable (and potentially infinite).\n",
    "\n",
    "```{note}\n",
    "Using nondecreasing integer partitions enforces a\n",
    "*canonical orientation* on the tree shapes, where children under a node are\n",
    "ordered by the number of leaves below them.\n",
    "This is important because it prevents us from repeating trees that are\n",
    "topologically the same but whose children are ordered differently.\n",
    "```\n",
    "\n",
    "#### Labelling Tree Shapes\n",
    "\n",
    "Tree shapes are useful in and of themselves, but we can use the enumeration\n",
    "formulated above to go further and assign labels to the leaves of each shape.\n",
    "\n",
    "Say we are given a tree $T$ with $n$ leaves, whose left-most\n",
    "subtree, $T_l$, has `k` leaves. For each of the $n \\choose k$\n",
    "ways to select labels to assign to $T_l$, we produce a unique labelling\n",
    "of $T$. This process of choosing labels is repeated for the other\n",
    "children of $T$ and then recursively for the subtrees.\n",
    "\n",
    "Looking back to the example from {ref}`sec_tree_ranks`, we can see\n",
    "the second tree shape, where the tree is a strictly bifucating tree of\n",
    "three leaves, can be labelled in 3 different unique ways."
   ]
  },
  {
   "cell_type": "code",
   "execution_count": 10,
   "id": "787b1b52",
   "metadata": {},
   "outputs": [
    {
     "data": {
      "image/svg+xml": [
       "<svg xmlns=\"http://www.w3.org/2000/svg\" xmlns:ev=\"http://www.w3.org/2001/xml-events\" xmlns:xlink=\"http://www.w3.org/1999/xlink\" baseProfile=\"full\" height=\"120\" version=\"1.1\" width=\"120\"><defs><style type=\"text/css\"><![CDATA[.background path {fill: #808080; fill-opacity: 0}.background path:nth-child(odd) {fill-opacity: .1}.axes {font-size: 14px}.x-axis .tick .lab {font-weight: bold; dominant-baseline: hanging}.axes, .tree {font-size: 14px; text-anchor: middle}.axes line, .edge {stroke: black; fill: none}.y-axis .grid {stroke: #FAFAFA}.node > .sym {fill: black; stroke: none}.site > .sym {stroke: black}.mut text {fill: red; font-style: italic}.mut.extra text {fill: hotpink}.mut line {fill: none; stroke: none}.mut .sym {fill: none; stroke: red}.mut.extra .sym {stroke: hotpink}.node .mut .sym {stroke-width: 1.5px}.tree text, .tree-sequence text {dominant-baseline: central}.plotbox .lab.lft {text-anchor: end}.plotbox .lab.rgt {text-anchor: start}]]></style></defs><g class=\"tree t0\"><g class=\"plotbox\"><g class=\"c2 node n4 root\" transform=\"translate(53.3333 26.8)\"><g class=\"a4 leaf node n0 sample\" transform=\"translate(-20 61.4)\"><path class=\"edge\" d=\"M 0 0 V -61.4 H 20\"/><rect class=\"sym\" height=\"6\" width=\"6\" x=\"-3\" y=\"-3\"/><text class=\"lab\" transform=\"translate(0 11)\">0</text></g><g class=\"a4 c2 node n3\" transform=\"translate(20 30.7)\"><g class=\"a3 leaf node n1 sample\" transform=\"translate(-13.3333 30.7)\"><path class=\"edge\" d=\"M 0 0 V -30.7 H 13.3333\"/><rect class=\"sym\" height=\"6\" width=\"6\" x=\"-3\" y=\"-3\"/><text class=\"lab\" transform=\"translate(0 11)\">1</text></g><g class=\"a3 leaf node n2 sample\" transform=\"translate(13.3333 30.7)\"><path class=\"edge\" d=\"M 0 0 V -30.7 H -13.3333\"/><rect class=\"sym\" height=\"6\" width=\"6\" x=\"-3\" y=\"-3\"/><text class=\"lab\" transform=\"translate(0 11)\">2</text></g><path class=\"edge\" d=\"M 0 0 V -30.7 H -20\"/><circle class=\"sym\" cx=\"0\" cy=\"0\" r=\"3\"/><text class=\"lab rgt\" transform=\"translate(3 -7.0)\"/></g><circle class=\"sym\" cx=\"0\" cy=\"0\" r=\"3\"/><text class=\"lab\" transform=\"translate(0 -11)\"/></g></g></g></svg>"
      ],
      "text/plain": [
       "<IPython.core.display.SVG object>"
      ]
     },
     "metadata": {
      "filenames": {
       "image/svg+xml": "/home/runner/work/tskit-site/tskit-site/docs/_build/jupyter_execute/topological-analysis_19_0.svg"
      }
     },
     "output_type": "display_data"
    },
    {
     "data": {
      "image/svg+xml": [
       "<svg xmlns=\"http://www.w3.org/2000/svg\" xmlns:ev=\"http://www.w3.org/2001/xml-events\" xmlns:xlink=\"http://www.w3.org/1999/xlink\" baseProfile=\"full\" height=\"120\" version=\"1.1\" width=\"120\"><defs><style type=\"text/css\"><![CDATA[.background path {fill: #808080; fill-opacity: 0}.background path:nth-child(odd) {fill-opacity: .1}.axes {font-size: 14px}.x-axis .tick .lab {font-weight: bold; dominant-baseline: hanging}.axes, .tree {font-size: 14px; text-anchor: middle}.axes line, .edge {stroke: black; fill: none}.y-axis .grid {stroke: #FAFAFA}.node > .sym {fill: black; stroke: none}.site > .sym {stroke: black}.mut text {fill: red; font-style: italic}.mut.extra text {fill: hotpink}.mut line {fill: none; stroke: none}.mut .sym {fill: none; stroke: red}.mut.extra .sym {stroke: hotpink}.node .mut .sym {stroke-width: 1.5px}.tree text, .tree-sequence text {dominant-baseline: central}.plotbox .lab.lft {text-anchor: end}.plotbox .lab.rgt {text-anchor: start}]]></style></defs><g class=\"tree t0\"><g class=\"plotbox\"><g class=\"c2 node n4 root\" transform=\"translate(53.3333 26.8)\"><g class=\"a4 leaf node n1 sample\" transform=\"translate(-20 61.4)\"><path class=\"edge\" d=\"M 0 0 V -61.4 H 20\"/><rect class=\"sym\" height=\"6\" width=\"6\" x=\"-3\" y=\"-3\"/><text class=\"lab\" transform=\"translate(0 11)\">1</text></g><g class=\"a4 c2 node n3\" transform=\"translate(20 30.7)\"><g class=\"a3 leaf node n0 sample\" transform=\"translate(-13.3333 30.7)\"><path class=\"edge\" d=\"M 0 0 V -30.7 H 13.3333\"/><rect class=\"sym\" height=\"6\" width=\"6\" x=\"-3\" y=\"-3\"/><text class=\"lab\" transform=\"translate(0 11)\">0</text></g><g class=\"a3 leaf node n2 sample\" transform=\"translate(13.3333 30.7)\"><path class=\"edge\" d=\"M 0 0 V -30.7 H -13.3333\"/><rect class=\"sym\" height=\"6\" width=\"6\" x=\"-3\" y=\"-3\"/><text class=\"lab\" transform=\"translate(0 11)\">2</text></g><path class=\"edge\" d=\"M 0 0 V -30.7 H -20\"/><circle class=\"sym\" cx=\"0\" cy=\"0\" r=\"3\"/><text class=\"lab rgt\" transform=\"translate(3 -7.0)\"/></g><circle class=\"sym\" cx=\"0\" cy=\"0\" r=\"3\"/><text class=\"lab\" transform=\"translate(0 -11)\"/></g></g></g></svg>"
      ],
      "text/plain": [
       "<IPython.core.display.SVG object>"
      ]
     },
     "metadata": {
      "filenames": {
       "image/svg+xml": "/home/runner/work/tskit-site/tskit-site/docs/_build/jupyter_execute/topological-analysis_19_1.svg"
      }
     },
     "output_type": "display_data"
    },
    {
     "data": {
      "image/svg+xml": [
       "<svg xmlns=\"http://www.w3.org/2000/svg\" xmlns:ev=\"http://www.w3.org/2001/xml-events\" xmlns:xlink=\"http://www.w3.org/1999/xlink\" baseProfile=\"full\" height=\"120\" version=\"1.1\" width=\"120\"><defs><style type=\"text/css\"><![CDATA[.background path {fill: #808080; fill-opacity: 0}.background path:nth-child(odd) {fill-opacity: .1}.axes {font-size: 14px}.x-axis .tick .lab {font-weight: bold; dominant-baseline: hanging}.axes, .tree {font-size: 14px; text-anchor: middle}.axes line, .edge {stroke: black; fill: none}.y-axis .grid {stroke: #FAFAFA}.node > .sym {fill: black; stroke: none}.site > .sym {stroke: black}.mut text {fill: red; font-style: italic}.mut.extra text {fill: hotpink}.mut line {fill: none; stroke: none}.mut .sym {fill: none; stroke: red}.mut.extra .sym {stroke: hotpink}.node .mut .sym {stroke-width: 1.5px}.tree text, .tree-sequence text {dominant-baseline: central}.plotbox .lab.lft {text-anchor: end}.plotbox .lab.rgt {text-anchor: start}]]></style></defs><g class=\"tree t0\"><g class=\"plotbox\"><g class=\"c2 node n4 root\" transform=\"translate(53.3333 26.8)\"><g class=\"a4 leaf node n2 sample\" transform=\"translate(-20 61.4)\"><path class=\"edge\" d=\"M 0 0 V -61.4 H 20\"/><rect class=\"sym\" height=\"6\" width=\"6\" x=\"-3\" y=\"-3\"/><text class=\"lab\" transform=\"translate(0 11)\">2</text></g><g class=\"a4 c2 node n3\" transform=\"translate(20 30.7)\"><g class=\"a3 leaf node n0 sample\" transform=\"translate(-13.3333 30.7)\"><path class=\"edge\" d=\"M 0 0 V -30.7 H 13.3333\"/><rect class=\"sym\" height=\"6\" width=\"6\" x=\"-3\" y=\"-3\"/><text class=\"lab\" transform=\"translate(0 11)\">0</text></g><g class=\"a3 leaf node n1 sample\" transform=\"translate(13.3333 30.7)\"><path class=\"edge\" d=\"M 0 0 V -30.7 H -13.3333\"/><rect class=\"sym\" height=\"6\" width=\"6\" x=\"-3\" y=\"-3\"/><text class=\"lab\" transform=\"translate(0 11)\">1</text></g><path class=\"edge\" d=\"M 0 0 V -30.7 H -20\"/><circle class=\"sym\" cx=\"0\" cy=\"0\" r=\"3\"/><text class=\"lab rgt\" transform=\"translate(3 -7.0)\"/></g><circle class=\"sym\" cx=\"0\" cy=\"0\" r=\"3\"/><text class=\"lab\" transform=\"translate(0 -11)\"/></g></g></g></svg>"
      ],
      "text/plain": [
       "<IPython.core.display.SVG object>"
      ]
     },
     "metadata": {
      "filenames": {
       "image/svg+xml": "/home/runner/work/tskit-site/tskit-site/docs/_build/jupyter_execute/topological-analysis_19_2.svg"
      }
     },
     "output_type": "display_data"
    }
   ],
   "source": [
    "second_tree = tskit.Tree.unrank(num_leaves=3, rank=(1, 0))\n",
    "for t in tskit.all_tree_labellings(second_tree):\n",
    "    display(SVG(t.draw_svg(node_labels={0: 0, 1: 1, 2: 2}, order=\"tree\", size=(120, 120))))"
   ]
  },
  {
   "cell_type": "markdown",
   "id": "b8f3e9ef",
   "metadata": {},
   "source": [
    "The order of the tree labellings is a direct result of the way in which\n",
    "combinations of labels are chosen. The implementation in tskit uses a\n",
    "standard lexicographic ordering to choose labels. See how the trees\n",
    "are sorted by the order in which the left leaf's label was chosen.\n",
    "\n",
    "```{note}\n",
    "There is a caveat here regarding symmetry, similar to that of repeating\n",
    "tree shapes. Symmetrical trees run the risk of creating redundant labellings\n",
    "if all combinations of labels were exhausted. To prevent redundant labellings\n",
    "we impose a *canonical labelling*. In the case of two symmetrical subtrees,\n",
    "the left subtree must receive the minimum label from the label set. Notice\n",
    "how this is the case in the right subtrees above.\n",
    "```\n",
    "\n",
    "These two enumerations create a complete ordering of topologies where trees are\n",
    "ordered first by size (number of leaves), then by shape, then by their minimum\n",
    "label. It is this canonical order that enables efficient ranking and unranking\n",
    "of topologies."
   ]
  }
 ],
 "metadata": {
  "jupytext": {
   "text_representation": {
    "extension": ".md",
    "format_name": "myst",
    "format_version": 0.12,
    "jupytext_version": "1.9.1"
   }
  },
  "kernelspec": {
   "display_name": "Python 3",
   "language": "python",
   "name": "python3"
  },
  "language_info": {
   "codemirror_mode": {
    "name": "ipython",
    "version": 3
   },
   "file_extension": ".py",
   "mimetype": "text/x-python",
   "name": "python",
   "nbconvert_exporter": "python",
   "pygments_lexer": "ipython3",
   "version": "3.8.14"
  },
  "source_map": [
   12,
   42,
   51,
   56,
   58,
   66,
   70,
   90,
   93,
   109,
   117,
   172,
   178,
   196,
   199,
   214,
   218,
   229,
   239,
   303,
   307
  ]
 },
 "nbformat": 4,
 "nbformat_minor": 5
}