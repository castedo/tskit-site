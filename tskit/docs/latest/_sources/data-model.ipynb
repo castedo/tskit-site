{
 "cells": [
  {
   "cell_type": "markdown",
   "id": "50cf2d4c",
   "metadata": {},
   "source": [
    ":::{currentmodule} tskit\n",
    ":::\n",
    "\n",
    "\n",
    "(sec_data_model)=\n",
    "\n",
    "# Data model\n",
    "\n",
    "The `tskit` library deals with sets of sampled genome sequences through storage\n",
    "and analysis of their shared genetic ancestry. This genealogical ancestry (sometimes\n",
    "known as an Ancestral Recombination Graph) is stored concisely in `tskit` in the \n",
    "\"succinct tree sequence\" format, which comprises a collection of easy-to-understand\n",
    "tables. This page documents the structure of the tables and encoding of table data,\n",
    "as well as the encoding of the correlated genetic trees that can be extracted from\n",
    "a `tskit` tree sequence.\n",
    "\n",
    "We begin by defining the the structure of the tables in the {ref}`sec_table_definitions`\n",
    "section. The {ref}`sec_data_model_data_encoding` section then describe how data is\n",
    "stored in those tables (also see the {ref}`sec_file_formats`\n",
    "chapter). The {ref}`sec_data_model_tree_structure` section then\n",
    "describes the encoding of the trees that are generated from the {class}`NodeTable`\n",
    "and {class}`EdgeTable`. Finally, we describe how genotype data arises from tree\n",
    "structure, especially how we can incorporate the idea of missing data.\n",
    "\n",
    "(sec_table_definitions)=\n",
    "\n",
    "## Table definitions\n",
    "\n",
    "(sec_table_types_definitions)=\n",
    "\n",
    "### Table types\n",
    "\n",
    "A tree sequence can be stored in a collection of eight tables:\n",
    "{ref}`Node <sec_node_table_definition>`,\n",
    "{ref}`Edge <sec_edge_table_definition>`,\n",
    "{ref}`Individual <sec_individual_table_definition>`,\n",
    "{ref}`Site <sec_site_table_definition>`,\n",
    "{ref}`Mutation <sec_mutation_table_definition>`,\n",
    "{ref}`Migration <sec_migration_table_definition>`,\n",
    "{ref}`Population <sec_population_table_definition>`, and\n",
    "{ref}`Provenance <sec_provenance_table_definition>`.\n",
    "The Node and Edge tables store the genealogical\n",
    "relationships that define the trees, and the Individual table\n",
    "describes how multiple genomes are grouped within individuals;\n",
    "the Site and Mutation tables describe where mutations fall\n",
    "on the trees; the Migration table describes how lineages move across space;\n",
    "and the Provenance table contains information on where the data came from.\n",
    "Only Node and Edge tables are necessary to encode the genealogical trees;\n",
    "Sites and Mutations are optional but necessary to encode polymorphism\n",
    "(sequence) data; the remainder are optional.\n",
    "In the following sections we define these components of a tree sequence in\n",
    "more detail.\n",
    "\n",
    "(sec_node_table_definition)=\n",
    "\n",
    "#### Node Table\n",
    "\n",
    "A **node** defines a monoploid set of chromosomes (a \"genome\") of a specific\n",
    "individual that was born at some time in the past: the set of\n",
    "chromosomes inherited from a particular one of the individual's parents.\n",
    "(See {ref}`sec_nodes_or_individuals` for more discussion.)\n",
    "Every vertex in the marginal trees of a tree sequence corresponds\n",
    "to exactly one node, and a node may be present in many trees. The\n",
    "node table contains five columns, of which `flags` and `time` are\n",
    "mandatory:\n",
    "\n",
    "\n",
    "| Column        |  Type       |  Description                           |\n",
    "| :------------ | ----------- | -------------------------------------: |\n",
    "| flags         |  uint32     |  Bitwise flags.                        |\n",
    "| time          |  double     |  Birth time of node.                   |\n",
    "| population    |  int32      |  Birth population of node.             |\n",
    "| individual    |  int32      |  The individual the node belongs to.   |\n",
    "| metadata      |  binary     |  Node {ref}`sec_metadata_definition`.  |\n",
    "\n",
    "The `time` column records the birth time of the individual in question,\n",
    "and is a floating point value. Similarly,\n",
    "the `population` column records the ID of the population where this\n",
    "individual was born. If not provided, `population` defaults to the\n",
    "null ID (-1). Otherwise, the population ID must refer to a row in the\n",
    "{ref}`sec_population_table_definition`.\n",
    "The `individual` column records the ID of the\n",
    "{ref}`Individual <sec_individual_table_definition>`\n",
    "individual that this node belongs to. If specified, the ID must refer\n",
    "to a valid individual. If not provided, `individual`\n",
    "defaults to the null ID (-1).\n",
    "\n",
    "The `flags` column stores information about a particular node, and\n",
    "is composed of 32 bitwise boolean values. Currently, the only flag defined\n",
    "is `NODE_IS_SAMPLE = 1`, which defines the *sample* status of nodes. Marking\n",
    "a particular node as a \"sample\" means, for example, that the mutational state\n",
    "of the node will be included in the genotypes produced by\n",
    "{meth}`TreeSequence.variants`.\n",
    "\n",
    "Bits 0-15 (inclusive) of the `flags` column are reserved for internal use by\n",
    "`tskit` and should not be used by applications for anything other\n",
    "than the purposes documented here. Bits 16-31 (inclusive) are free for applications\n",
    "to use for any purpose and will not be altered or interpreteted by\n",
    "`tskit`.\n",
    "\n",
    "See the {ref}`sec_node_requirements` section for details on the properties\n",
    "required for a valid set of nodes.\n",
    "\n",
    "For convenience, the {ref}`text format <sec_text_file_format>` for nodes\n",
    "decomposes the `flags` value into its separate values. Thus, in the\n",
    "text format we have a column for `is_sample`, which corresponds to the\n",
    "`flags` column in the underlying table. As more flags values are\n",
    "defined, these will be added to the text file format.\n",
    "\n",
    "The `metadata` column provides a location for client code to store\n",
    "information about each node. See the {ref}`sec_metadata_definition` section for\n",
    "more details on how metadata columns should be used.\n",
    "\n",
    ":::{note}\n",
    "The distinction between `flags` and `metadata` is that flags\n",
    "holds information about a node that the library understands, whereas\n",
    "metadata holds information about a node that the library *does not*\n",
    "understand. Metadata is for storing auxiliarly information that is\n",
    "not necessary for the core tree sequence algorithms.\n",
    ":::\n",
    "\n",
    "\n",
    "(sec_individual_table_definition)=\n",
    "\n",
    "#### Individual Table\n",
    "\n",
    "An **individual** defines how nodes (which can be seen\n",
    "as representing single chromosomes) group together in a polyploid individual.\n",
    "The individual table contains three columns, of which only `flags` is mandatory.\n",
    "\n",
    "| Column        | Type       | Description                                |\n",
    "| :------------ | ---------- | -----------------------------------------: |\n",
    "| flags         | uint32     | Bitwise flags.                             |\n",
    "| location      | double     | Location in arbitrary dimensions.          |\n",
    "| parents       | int32      | Ids of parent individuals.                 |\n",
    "| metadata      | binary     | Individual {ref}`sec_metadata_definition`. |\n",
    "\n",
    "See the {ref}`sec_individual_requirements` section for details on the properties\n",
    "required for a valid set of individuals.\n",
    "\n",
    "The `flags` column stores information about a particular individual, and\n",
    "is composed of 32 bitwise boolean values. Currently, no flags are\n",
    "defined.\n",
    "\n",
    "Bits 0-15 (inclusive) of the `flags` column are reserved for internal use by\n",
    "`tskit` and should not be used by applications for anything other\n",
    "than the purposes documented here. Bits 16-31 (inclusive) are free for applications\n",
    "to use for any purpose and will not be altered or interpreteted by\n",
    "`tskit`.\n",
    "\n",
    "The `location` column stores the location of an individual in arbitrary\n",
    "dimensions. This column is {ref}`ragged <sec_encoding_ragged_columns>`, and\n",
    "so different individuals can have locations with different dimensions (i.e.,\n",
    "one individual may have location `[]` and another `[0, 1, 0]`. This could\n",
    "therefore be used to store other quantities (e.g., phenotype).\n",
    "\n",
    "The `parents` column stores the ids of other individuals that are the parents of\n",
    "an individual. This column is {ref}`ragged <sec_encoding_ragged_columns>` such that an\n",
    "individual can have any number of parents.\n",
    "\n",
    "The `metadata` column provides a location for client code to store\n",
    "information about each individual. See the {ref}`sec_metadata_definition` section for\n",
    "more details on how metadata columns should be used.\n",
    "\n",
    ":::{note}\n",
    "The distinction between `flags` and `metadata` is that flags\n",
    "holds information about a individual that the library understands, whereas\n",
    "metadata holds information about a individual that the library *does not*\n",
    "understand. Metadata is for storing auxiliarly information that is\n",
    "not necessary for the core tree sequence algorithms.\n",
    ":::\n",
    "\n",
    "\n",
    "(sec_edge_table_definition)=\n",
    "\n",
    "#### Edge Table\n",
    "\n",
    "An **edge** defines a parent-child relationship between a pair of nodes\n",
    "over a specific sequence interval. The edge table contains five columns,\n",
    "all of which are mandatory except `metadata`:\n",
    "\n",
    "| Column        | Type       | Description                                |\n",
    "| :------------ | ---------- | -----------------------------------------: |\n",
    "| left          | double     | Left coordinate of the edge (inclusive).   |\n",
    "| right         | double     | Right coordinate of the edge (exclusive).  |\n",
    "| parent        | int32      | Parent node ID.                            |\n",
    "| child         | int32      | Child node ID.                             |\n",
    "| metadata      | binary     | Node {ref}`sec_metadata_definition`.       |\n",
    "\n",
    "Each row in an edge table describes a half-open genomic interval `[left, right)`\n",
    "over which the `child` inherited from the given `parent`.\n",
    "The `left` and `right` columns are defined using double precision\n",
    "floating point values. The `parent` and `child`\n",
    "columns specify integer IDs in the associated {ref}`sec_node_table_definition`.\n",
    "\n",
    "The `metadata` column provides a location for client code to store\n",
    "information about each edge. See the {ref}`sec_metadata_definition` section for\n",
    "more details on how metadata columns should be used.\n",
    "\n",
    "See the {ref}`sec_edge_requirements` section for details on the properties\n",
    "required for a valid set of edges.\n",
    "\n",
    "\n",
    "(sec_site_table_definition)=\n",
    "\n",
    "#### Site Table\n",
    "\n",
    "A **site** defines a particular location along the genome in which\n",
    "we are interested in observing the allelic state. The site table\n",
    "contains three columns, of which `position` and `ancestral_state`\n",
    "are mandatory.\n",
    "\n",
    "| Column          | Type       | Description                                |\n",
    "| :-------------- | ---------- | -----------------------------------------: |\n",
    "| position        | double     | Position of site in genome coordinates.    |\n",
    "| ancestral_state | text       | The state at the root of the tree.         |\n",
    "| metadata        | binary     | Site {ref}`sec_metadata_definition`.       |\n",
    "\n",
    "The `position` column is a floating point value defining the location\n",
    "of the site in question along the genome.\n",
    "\n",
    "The `ancestral_state` column specifies the allelic state at the root\n",
    "of the tree, thus defining the state that nodes inherit if no mutations\n",
    "intervene. The column stores text character data of arbitrary length.\n",
    "\n",
    "The `metadata` column provides a location for client code to store\n",
    "information about each site. See the {ref}`sec_metadata_definition` section for\n",
    "more details on how metadata columns should be used.\n",
    "\n",
    "See the {ref}`sec_site_requirements` section for details on the properties\n",
    "required for a valid set of sites.\n",
    "\n",
    "\n",
    "(sec_mutation_table_definition)=\n",
    "\n",
    "#### Mutation Table\n",
    "\n",
    "A **mutation** defines a change of allelic state on a tree at a particular site.\n",
    "The mutation table contains five columns, of which `site`, `node` and\n",
    "`derived_state` are mandatory.\n",
    "\n",
    "| Column          | Type       | Description                                    |\n",
    "| :-------------- | ---------- | ---------------------------------------------: |\n",
    "| site            | int32      | The ID of the site the mutation occurs at.     |\n",
    "| node            | int32      | The node this mutation occurs at.              |\n",
    "| parent          | int32      | The ID of the parent mutation.                 |\n",
    "| time            | double     | Time at which the mutation occurred.           |\n",
    "| derived_state   | char       | The allelic state resulting from the mutation. |\n",
    "| metadata        | binary     | Mutation {ref}`sec_metadata_definition`.       |\n",
    "\n",
    "The `site` column is an integer value defining the ID of the\n",
    "{ref}`site <sec_site_table_definition>` at which this mutation occurred.\n",
    "\n",
    "The `node` column is an integer value defining the ID of the\n",
    "first {ref}`node <sec_node_table_definition>` in the tree below this mutation.\n",
    "\n",
    "The  `time` column is a double precision floating point value recording how long ago\n",
    "the mutation happened.\n",
    "\n",
    "The `derived_state` column specifies the allelic state resulting from the mutation,\n",
    "thus defining the state that the `node` and any descendant nodes in the\n",
    "subtree inherit unless further mutations occur. The column stores text\n",
    "character data of arbitrary length.\n",
    "\n",
    "The `parent` column is an integer value defining the ID of the mutation whose\n",
    "allelic state this mutation replaced. If there is no mutation at the\n",
    "site in question on the path back to root, then this field is set to the\n",
    "null ID (-1). (The `parent` column is only required in situations\n",
    "where there are multiple mutations at a given site. For\n",
    "\"infinite sites\" mutations, it can be ignored.)\n",
    "\n",
    "The `metadata` column provides a location for client code to store\n",
    "information about each site. See the {ref}`sec_metadata_definition` section for\n",
    "more details on how metadata columns should be used.\n",
    "\n",
    "See the {ref}`sec_mutation_requirements` section for details on the properties\n",
    "required for a valid set of mutations.\n",
    "\n",
    "\n",
    "(sec_migration_table_definition)=\n",
    "\n",
    "#### Migration Table\n",
    "\n",
    "In simulations, trees can be thought of as spread across space, and it is\n",
    "helpful for inferring demographic history to record this history.\n",
    "Migrations are performed by individual ancestors, but most likely not by an\n",
    "individual whose genome is tracked as a `node` (as in a discrete-deme model they are\n",
    "unlikely to be both a migrant and a most recent common ancestor).  So,\n",
    "`tskit` records when a segment of ancestry has moved between\n",
    "populations. This table is not required, even if different nodes come from\n",
    "different populations.\n",
    "\n",
    "| Column     | Type     | Description                                            |\n",
    "| :--------- | -------- | -----------------------------------------------------: |\n",
    "| left       | double   | Left coordinate of the migrating segment (inclusive).  |\n",
    "| right      | double   | Right coordinate of the migrating segment (exclusive). |\n",
    "| node       | int32    | Node ID.                                               |\n",
    "| source     | int32    | Source population ID.                                  |\n",
    "| dest       | int32    | Destination population ID.                             |\n",
    "| time       | double   | Time of migration event.                               |\n",
    "| metadata   | binary   | Migration {ref}`sec_metadata_definition`.              |\n",
    "\n",
    "\n",
    "The `left` and `right` columns are floating point values defining the\n",
    "half-open segment of genome affected. The `source` and `dest` columns\n",
    "record the IDs of the respective populations. The `node` column records the\n",
    "ID of the node that was associated with the ancestry segment in question\n",
    "at the time of the migration event. The `time` column is holds floating\n",
    "point values recording the time of the event.\n",
    "\n",
    "The `metadata` column provides a location for client code to store\n",
    "information about each migration. See the {ref}`sec_metadata_definition` section for\n",
    "more details on how metadata columns should be used.\n",
    "\n",
    "See the {ref}`sec_migration_requirements` section for details on the properties\n",
    "required for a valid set of mutations.\n",
    "\n",
    "\n",
    "(sec_population_table_definition)=\n",
    "\n",
    "#### Population Table\n",
    "\n",
    "A **population** defines a grouping of individuals that a node can\n",
    "be said to belong to.\n",
    "\n",
    "The population table contains one column, `metadata`.\n",
    "\n",
    "| Column     | Type     | Description                                |\n",
    "| :--------- | -------- | -----------------------------------------: |\n",
    "| metadata   | binary   | Population {ref}`sec_metadata_definition`. |\n",
    "\n",
    "\n",
    "The `metadata` column provides a location for client code to store\n",
    "information about each population. See the {ref}`sec_metadata_definition` section for\n",
    "more details on how metadata columns should be used.\n",
    "\n",
    "See the {ref}`sec_population_requirements` section for details on the properties\n",
    "required for a valid set of populations.\n",
    "\n",
    "\n",
    "(sec_provenance_table_definition)=\n",
    "\n",
    "#### Provenance Table\n",
    "\n",
    ":::{todo}\n",
    "Document the provenance table.\n",
    ":::\n",
    "\n",
    "| Column    | Type  | Description                                                             |\n",
    "| :-------- | ----- | ----------------------------------------------------------------------: |\n",
    "| timestamp | char  | Timestamp in [ISO-8601](https://en.wikipedia.org/wiki/ISO_8601) format. |\n",
    "| record    | char  | Provenance record.                                                      |\n",
    "\n",
    "\n",
    "(sec_metadata_definition)=\n",
    "\n",
    "### Metadata\n",
    "\n",
    "Each table (excluding provenance) has a metadata column for storing and passing along\n",
    "information that tskit does not use or interpret. See {ref}`sec_metadata` for details.\n",
    "The metadata columns are {ref}`binary columns <sec_tables_api_binary_columns>`.\n",
    "\n",
    "When using the {ref}`sec_text_file_format`, to ensure that metadata can be safely\n",
    "interchanged, each row is [base 64 encoded](https://en.wikipedia.org/wiki/Base64).\n",
    "Thus, binary information can be safely printed and exchanged, but may not be\n",
    "human readable.\n",
    "\n",
    "The tree sequence itself also has metadata stored as a byte array.\n",
    "\n",
    "\n",
    "(sec_valid_tree_sequence_requirements)=\n",
    "\n",
    "### Valid tree sequence requirements\n",
    "\n",
    "Arbitrary data can be stored in tables using the classes in the\n",
    "{ref}`sec_tables_api`. However, only a {class}`TableCollection`\n",
    "that fulfils a set of requirements represents\n",
    "a valid {class}`TreeSequence` object which can be obtained\n",
    "using the {meth}`TableCollection.tree_sequence` method. In this\n",
    "section we list these requirements, and explain their rationale.\n",
    "Violations of most of these requirements are detected when the\n",
    "user attempts to load a tree sequence via {func}`tskit.load` or\n",
    "{meth}`TableCollection.tree_sequence`, raising an informative\n",
    "error message. Some more complex requirements may not be detectable at load-time,\n",
    "and errors may not occur until certain operations are attempted.\n",
    "These are documented below.\n",
    "\n",
    "The Python API also provides tools that can transform a collection of\n",
    "tables into a valid collection of tables, so long as they are logically\n",
    "consistent, see {ref}`sec_tables_api_creating_valid_tree_sequence`.\n",
    "\n",
    "\n",
    "(sec_individual_requirements)=\n",
    "\n",
    "#### Individual requirements\n",
    "\n",
    "Individuals are a basic type in a tree sequence and are not defined with\n",
    "respect to any other tables. Individuals can have a reference to their parent\n",
    "individuals, if present these references must be valid or null (-1).\n",
    "\n",
    "A valid tree sequence does not require individuals to be sorted in any\n",
    "particular order, and sorting a set of tables using {meth}`TableCollection.sort`\n",
    "has no effect on individuals. However, individuals can be optionally sorted\n",
    "using {meth}`TableCollection.sort_individuals`.\n",
    "\n",
    "(sec_node_requirements)=\n",
    "\n",
    "#### Node requirements\n",
    "\n",
    "Given a valid set of individuals and populations, the requirements for\n",
    "each node are:\n",
    "\n",
    "- `population` must either be null (-1) or refer to a valid population ID;\n",
    "- `individual` must either be null (-1) or refer to a valid individual ID.\n",
    "\n",
    "An ID refers to a zero-indexed row number in the relevant table,\n",
    "and so is \"valid\" if is between 0 and one less than the number of rows in the relevant table.\n",
    "\n",
    "There are no requirements regarding the ordering of nodes with respect to time.\n",
    "\n",
    "Sorting a set of tables using {meth}`TableCollection.sort`\n",
    "has no effect on nodes.\n",
    "\n",
    "\n",
    "(sec_edge_requirements)=\n",
    "\n",
    "#### Edge requirements\n",
    "\n",
    "Given a valid set of nodes and a sequence length {math}`L`, the simple\n",
    "requirements for each edge are:\n",
    "\n",
    "- We must have {math}`0 \\leq` `left` {math}`<` `right` {math}`\\leq L`;\n",
    "- `parent` and `child` must be valid node IDs;\n",
    "- `time[parent]` > `time[child]`;\n",
    "- edges must be unique (i.e., no duplicate edges are allowed).\n",
    "\n",
    "The first requirement simply ensures that the interval makes sense. The\n",
    "third requirement ensures that we cannot have loops, since time is\n",
    "always increasing as we ascend the tree.\n",
    "\n",
    "To ensure a valid tree sequence there is one further requirement:\n",
    "\n",
    "- The set of intervals on which each node is a child must be disjoint.\n",
    "\n",
    "This guarantees that we cannot have contradictory edges (i.e.,\n",
    "where a node `a` is a child of both `b` and `c`), and ensures that\n",
    "at each point on the sequence we have a well-formed forest of trees.\n",
    "\n",
    "In the interest of algorithmic efficiency, edges must have the following\n",
    "sortedness properties:\n",
    "\n",
    "- All edges for a given parent must be contiguous;\n",
    "- Edges must be listed in nondecreasing order of `parent` time;\n",
    "- Within the edges for a given `parent`, edges must be sorted\n",
    "  first by `child` ID and then by `left` coordinate.\n",
    "\n",
    "Violations of these requirements are detected at load time.\n",
    "The {meth}`TableCollection.sort` method will ensure that these sortedness\n",
    "properties are fulfilled.\n",
    "\n",
    "\n",
    "(sec_site_requirements)=\n",
    "\n",
    "#### Site requirements\n",
    "\n",
    "Given a valid set of nodes and a sequence length {math}`L`, the simple\n",
    "requirements for a valid set of sites are:\n",
    "\n",
    "- We must have {math}`0 \\leq` `position` {math}`< L`;\n",
    "- `position` values must be unique.\n",
    "\n",
    "For simplicity and algorithmic efficiency, sites must also:\n",
    "\n",
    "- Be sorted in increasing order of `position`.\n",
    "\n",
    "Violations of these requirements are detected at load time.\n",
    "The {meth}`TableCollection.sort` method ensures that sites are sorted\n",
    "according to these criteria.\n",
    "\n",
    "\n",
    "(sec_mutation_requirements)=\n",
    "\n",
    "#### Mutation requirements\n",
    "\n",
    "Given a valid set of nodes, edges and sites, the\n",
    "requirements for a valid set of mutations are:\n",
    "\n",
    "- `site` must refer to a valid site ID;\n",
    "- `node` must refer to a valid node ID;\n",
    "- `time` must either be `UNKNOWN_TIME` (a NAN value which indicates\n",
    "  the time is unknown) or be a finite value which is greater or equal to the\n",
    "  mutation `node`'s `time`, less than the `node` above the mutation's\n",
    "  `time` and equal to or less than the `time` of the `parent` mutation\n",
    "  if this mutation has one. If one mutation on a site has `UNKNOWN_TIME` then\n",
    "  all mutations at that site must, as a mixture of known and unknown is not valid.\n",
    "- `parent` must either be the null ID (-1) or a valid mutation ID within the\n",
    "  current table\n",
    "\n",
    "Furthermore,\n",
    "\n",
    "- If another mutation occurs on the tree above the mutation in\n",
    "  question, its ID must be listed as the `parent`.\n",
    "\n",
    "For simplicity and algorithmic efficiency, mutations must also:\n",
    "\n",
    "- be sorted by site ID;\n",
    "- when there are multiple mutations per site, mutations should be ordered by\n",
    "  decreasing time, if known, and parent mutations must occur\n",
    "  **before** their children (i.e. if a mutation with ID {math}`x` has\n",
    "  `parent` with ID {math}`y`, then we must have {math}`y < x`).\n",
    "\n",
    "Violations of these sorting requirements are detected at load time.\n",
    "The {meth}`TableCollection.sort` method ensures that mutations are sorted\n",
    "according site ID, but does not at present enforce that mutations occur\n",
    "after their parent mutations.\n",
    "\n",
    "Silent mutations (i.e., mutations for which the ancestral and derived\n",
    "states are the same) are allowed.\n",
    "For example, if we have a site with ancestral state\n",
    "of \"A\" and a single mutation with derived state \"A\", then this\n",
    "mutation does not result in any change of state.\n",
    "(This addition was made in release C_0.99.11.)\n",
    "\n",
    ":::{note}\n",
    "As `tskit.UNKNOWN_TIME` is implemented as a `NaN` value, tests for equality\n",
    "will always fail. Use `tskit.is_unknown_time` to detect unknown values.\n",
    ":::\n",
    "\n",
    "\n",
    "(sec_migration_requirements)=\n",
    "\n",
    "#### Migration requirements\n",
    "\n",
    "Given a valid set of nodes and edges, the requirements for a value set of\n",
    "migrations are:\n",
    "\n",
    "- `left` and `right` must lie within the tree sequence coordinate space (i.e.,\n",
    "  from 0 to `sequence_length`).\n",
    "- `time` must be strictly between the time of its `node` and the time of any\n",
    "  ancestral node from which that node inherits on the segment `[left, right)`.\n",
    "- The `population` of any such ancestor matching `source`, if another\n",
    "  `migration` does not intervene.\n",
    "\n",
    "To enable efficient processing, migrations must also be:\n",
    "\n",
    "- Sorted by nondecreasing `time` value.\n",
    "\n",
    "Note in particular that there is no requirement that adjacent migration records\n",
    "should be \"squashed\". That is, we can have two records `m1` and `m2`\n",
    "such that `m1.right` = `m2.left` and with the `node`, `source`,\n",
    "`dest` and `time` fields equal. This is because such records will usually\n",
    "represent two independent ancestral segments migrating at the same time, and\n",
    "as such squashing them into a single record would result in a loss of information.\n",
    "\n",
    "\n",
    "(sec_population_requirements)=\n",
    "\n",
    "#### Population requirements\n",
    "\n",
    "There are no requirements on a population table.\n",
    "\n",
    "\n",
    "(sec_provenance_requirements)=\n",
    "\n",
    "#### Provenance requirements\n",
    "\n",
    "The `timestamp` column of a provenance table should be in\n",
    "[ISO-8601](https://en.wikipedia.org/wiki/ISO_8601) format.\n",
    "\n",
    "The `record` should be valid JSON with structure defined in the Provenance\n",
    "Schema section (TODO).\n",
    "\n",
    "\n",
    "(sec_table_indexes)=\n",
    "\n",
    "### Table indexes\n",
    "\n",
    "To efficiently iterate over the trees in a tree sequence, `tskit` uses\n",
    "indexes built on the edges. To create a tree sequence from a table collection\n",
    "the tables must be indexed; the {meth}`TableCollection.build_index` method\n",
    "can be used to create an index on a table collection if necessary.\n",
    "\n",
    ":::{todo}\n",
    "Add more details on what the indexes actually are.\n",
    ":::\n",
    "\n",
    "(sec_data_model_data_encoding)=\n",
    "\n",
    "## Data encoding\n",
    "\n",
    "In this section we describe the high-level details of how data is encoded in\n",
    "tables. Tables store data in a **columnar** manner. In memory, each\n",
    "table is organised as a number of blocks of contiguous storage, one for\n",
    "each column. There are many advantages to this approach, but the key\n",
    "property for us is that allows for very efficient transfer of data\n",
    "in and out of tables. Rather than inserting data into tables row-by-row\n",
    "(which can be done in Python\n",
    "{ref}`using the add_row methods<sec_tables_api_accessing_table_data>`), it is much\n",
    "more efficient to add many rows at the same time by providing pointers to blocks of\n",
    "contiguous memory. By taking this approach, we can work with tables containing\n",
    "gigabytes of data very efficiently.\n",
    "\n",
    "For instance, in the {ref}`sec_python_api` we can use the\n",
    "[numpy Array API](https://docs.scipy.org/doc/numpy-1.13.0/reference/arrays.html)\n",
    "to allow us to define and work with numeric arrays of the required types.\n",
    "Node IDs, for example, are defined using 32 bit integers. Thus, the\n",
    "`parent` column of an {ref}`sec_edge_table_definition`'s with `n` rows\n",
    "is a block `4n` bytes.\n",
    "\n",
    "This approach is very straightforward for columns in which each row contains\n",
    "a fixed number of values. However, dealing with columns containing a\n",
    "**variable** number of values is more problematic.\n",
    "\n",
    "\n",
    "(sec_encoding_ragged_columns)=\n",
    "\n",
    "### Encoding ragged columns\n",
    "\n",
    "A **ragged** column is a column in which the rows are not of a fixed length.\n",
    "For example, {ref}`sec_metadata_definition` columns contain binary of data of arbitrary\n",
    "length. To encode such columns in the tables API, we store **two** columns:\n",
    "one contains the flattened array of data and another stores the **offsets**\n",
    "of each row into this flattened array. Consider an example:"
   ]
  },
  {
   "cell_type": "code",
   "execution_count": 1,
   "id": "37ec44a4",
   "metadata": {},
   "outputs": [
    {
     "data": {
      "text/html": [
       "\n",
       "            <div>\n",
       "                <style scoped=\"\">\n",
       "                    .tskit-table tbody tr th:only-of-type {vertical-align: middle;}\n",
       "                    .tskit-table tbody tr th {vertical-align: top;}\n",
       "                    .tskit-table tbody td {text-align: right;padding: 0.5em 0.5em;}\n",
       "                    .tskit-table tbody th {padding: 0.5em 0.5em;}\n",
       "                </style>\n",
       "                <table border=\"1\" class=\"tskit-table\">\n",
       "                    <thead>\n",
       "                        <tr>\n",
       "                            <th>id</th><th>position</th><th>ancestral_state</th><th>metadata</th>\n",
       "                        </tr>\n",
       "                    </thead>\n",
       "                    <tbody>\n",
       "                        <tr><td>0</td><td>0</td><td>A</td><td></td></tr>\n",
       "<tr><td>1</td><td>0</td><td></td><td></td></tr>\n",
       "<tr><td>2</td><td>0</td><td>TTT</td><td></td></tr>\n",
       "<tr><td>3</td><td>0</td><td>G</td><td></td></tr>\n",
       "\n",
       "                    </tbody>\n",
       "                </table>\n",
       "            </div>\n"
      ],
      "text/plain": [
       "<tskit.tables.SiteTable at 0x7fefa0e19100>"
      ]
     },
     "execution_count": 1,
     "metadata": {},
     "output_type": "execute_result"
    }
   ],
   "source": [
    "import tskit\n",
    "\n",
    "s = tskit.SiteTable()\n",
    "s.add_row(0, \"A\")\n",
    "s.add_row(0, \"\")\n",
    "s.add_row(0, \"TTT\")\n",
    "s.add_row(0, \"G\")\n",
    "s"
   ]
  },
  {
   "cell_type": "markdown",
   "id": "8470f673",
   "metadata": {},
   "source": [
    "In this example we create a {ref}`sec_site_table_definition` with four rows,\n",
    "and then display this table. We can see that the second row has the\n",
    "empty string as its `ancestral_state`, and the third row's\n",
    "`ancestral_state` is `TTT`. Now let's print out the columns:"
   ]
  },
  {
   "cell_type": "code",
   "execution_count": 2,
   "id": "6ebc99ef",
   "metadata": {},
   "outputs": [
    {
     "name": "stdout",
     "output_type": "stream",
     "text": [
      "Ancestral state (numerical):  [65 84 84 84 71]\n",
      "Ancestral state (as bytes):  b'ATTTG'\n",
      "Ancestral state offsets:  [0 1 1 4 5]\n"
     ]
    }
   ],
   "source": [
    "print(\"Ancestral state (numerical): \", s.ancestral_state)\n",
    "print(\"Ancestral state (as bytes): \", s.ancestral_state.tobytes())\n",
    "print(\"Ancestral state offsets: \", s.ancestral_state_offset)"
   ]
  },
  {
   "cell_type": "markdown",
   "id": "08d1a631",
   "metadata": {},
   "source": [
    "When we print out the tables `ancestral_state`\n",
    "column, we see that its a numpy array of length 5: this is the\n",
    "flattened array of [ASCII encoded](https://en.wikipedia.org/wiki/ASCII)\n",
    "values for these rows. When we decode these bytes using the\n",
    "numpy {meth}`tobytes<numpy:numpy.ndarray.tobytes>` method, we get the string 'ATTTG'.\n",
    "This flattened array can now be transferred efficiently in memory like any other column\n",
    "We then use the `ancestral_state_offset` column to allow us find the individual rows.\n",
    "For a row `j`:\n",
    "\n",
    "    ancestral_state[ancestral_state_offset[j]: ancestral_state_offset[j + 1]]\n",
    "\n",
    "gives us the array of bytes for the ancestral state in that row. For example, here is\n",
    "row 2:"
   ]
  },
  {
   "cell_type": "code",
   "execution_count": 3,
   "id": "b4777eaf",
   "metadata": {},
   "outputs": [
    {
     "data": {
      "text/plain": [
       "b'TTT'"
      ]
     },
     "execution_count": 3,
     "metadata": {},
     "output_type": "execute_result"
    }
   ],
   "source": [
    "s.ancestral_state[s.ancestral_state_offset[2]: s.ancestral_state_offset[3]].tobytes()"
   ]
  },
  {
   "cell_type": "markdown",
   "id": "70108048",
   "metadata": {},
   "source": [
    "For a table with `n` rows, any offset column must have `n + 1`\n",
    "values, the first of which is always `0`. The values in this column must be\n",
    "nondecreasing, and cannot exceed the length of the ragged column in question.\n",
    "\n",
    "\n",
    "(sec_data_model_reference_sequence)=\n",
    "\n",
    "## Reference sequence\n",
    "\n",
    "Along with the topology and site information stored in the tskit tree\n",
    "sequence, we can also optionally store an associated reference sequence.\n",
    "Reference sequences are flexible, and can consist simply of some\n",
    "metadata recording which assembly build a tree sequence uses, or\n",
    "storing the entire sequence itself.\n",
    "\n",
    ":::{warning}\n",
    "Reference sequence support in tskit is preliminary. Reference sequence\n",
    "data can be stored and accessed via the C API. Support in the Python\n",
    "API is limited to usage in {meth}`.TreeSequence.alignments` and\n",
    "related methods, where it provides the default values for nucleotide\n",
    "positions between {ref}`sites<sec_data_model_definitions_site>`.\n",
    ":::\n",
    "\n",
    "(sec_data_model_tree_structure)=\n",
    "\n",
    "## Tree structure\n",
    "\n",
    "(sec_data_model_quintuply_linked_trees)=\n",
    "\n",
    "### Quintuply linked trees\n",
    "\n",
    "Tree structure in `tskit` is encoded internally as a \"quintuply\n",
    "linked tree\", a generalisation of the triply linked tree encoding\n",
    "used by Knuth and others. Nodes are represented by their integer\n",
    "IDs, and their relationships to other nodes are recorded in the\n",
    "`parent`, `left_child`, `right_child`, `left_sib` and\n",
    "`right_sib` arrays. For example, consider the following tree\n",
    "and its associated arrays:"
   ]
  },
  {
   "cell_type": "code",
   "execution_count": 4,
   "id": "47444ad6",
   "metadata": {
    "tags": [
     "hide-input"
    ]
   },
   "outputs": [
    {
     "data": {
      "image/svg+xml": [
       "<svg xmlns=\"http://www.w3.org/2000/svg\" xmlns:ev=\"http://www.w3.org/2001/xml-events\" xmlns:xlink=\"http://www.w3.org/1999/xlink\" baseProfile=\"full\" height=\"200\" version=\"1.1\" width=\"200\"><defs><style type=\"text/css\"><![CDATA[.background path {fill: #808080; fill-opacity: 0}.background path:nth-child(odd) {fill-opacity: .1}.axes {font-size: 14px}.x-axis .tick .lab {font-weight: bold; dominant-baseline: hanging}.axes, .tree {font-size: 14px; text-anchor: middle}.axes line, .edge {stroke: black; fill: none}.y-axis .grid {stroke: #FAFAFA}.node > .sym {fill: black; stroke: none}.site > .sym {stroke: black}.mut text {fill: red; font-style: italic}.mut.extra text {fill: hotpink}.mut line {fill: none; stroke: none}.mut .sym {fill: none; stroke: red}.mut.extra .sym {stroke: hotpink}.node .mut .sym {stroke-width: 1.5px}.tree text, .tree-sequence text {dominant-baseline: central}.plotbox .lab.lft {text-anchor: end}.plotbox .lab.rgt {text-anchor: start}]]></style></defs><g class=\"tree t0\"><g class=\"plotbox\"><g class=\"c2 node n7 root\" transform=\"translate(108 26.8)\"><g class=\"a7 c2 node n5\" transform=\"translate(40 94.2667)\"><g class=\"a5 leaf node n3 sample\" transform=\"translate(-16 47.1333)\"><path class=\"edge\" d=\"M 0 0 V -47.1333 H 16\"/><rect class=\"sym\" height=\"6\" width=\"6\" x=\"-3\" y=\"-3\"/><text class=\"lab\" transform=\"translate(0 11)\">3</text></g><g class=\"a5 leaf node n4 sample\" transform=\"translate(16 47.1333)\"><path class=\"edge\" d=\"M 0 0 V -47.1333 H -16\"/><rect class=\"sym\" height=\"6\" width=\"6\" x=\"-3\" y=\"-3\"/><text class=\"lab\" transform=\"translate(0 11)\">4</text></g><path class=\"edge\" d=\"M 0 0 V -94.2667 H -40\"/><circle class=\"sym\" cx=\"0\" cy=\"0\" r=\"3\"/><text class=\"lab rgt\" transform=\"translate(3 -7.0)\">5</text></g><g class=\"a7 c3 node n6\" transform=\"translate(-40 47.1333)\"><g class=\"a6 leaf node n0 sample\" transform=\"translate(-32 94.2667)\"><path class=\"edge\" d=\"M 0 0 V -94.2667 H 32\"/><rect class=\"sym\" height=\"6\" width=\"6\" x=\"-3\" y=\"-3\"/><text class=\"lab\" transform=\"translate(0 11)\">0</text></g><g class=\"a6 leaf node n1 sample\" transform=\"translate(0.0 94.2667)\"><path class=\"edge\" d=\"M 0 0 V -94.2667 H 0.0\"/><rect class=\"sym\" height=\"6\" width=\"6\" x=\"-3\" y=\"-3\"/><text class=\"lab\" transform=\"translate(0 11)\">1</text></g><g class=\"a6 leaf node n2 sample\" transform=\"translate(32 94.2667)\"><path class=\"edge\" d=\"M 0 0 V -94.2667 H -32\"/><rect class=\"sym\" height=\"6\" width=\"6\" x=\"-3\" y=\"-3\"/><text class=\"lab\" transform=\"translate(0 11)\">2</text></g><path class=\"edge\" d=\"M 0 0 V -47.1333 H 40\"/><circle class=\"sym\" cx=\"0\" cy=\"0\" r=\"3\"/><text class=\"lab lft\" transform=\"translate(-3 -7.0)\">6</text></g><circle class=\"sym\" cx=\"0\" cy=\"0\" r=\"3\"/><text class=\"lab\" transform=\"translate(0 -11)\">7</text></g></g></g></svg>"
      ],
      "text/plain": [
       "<IPython.core.display.SVG object>"
      ]
     },
     "execution_count": 4,
     "metadata": {
      "filenames": {
       "image/svg+xml": "/home/runner/work/tskit-site/tskit-site/docs/_build/jupyter_execute/data-model_7_0.svg"
      }
     },
     "output_type": "execute_result"
    }
   ],
   "source": [
    "import io\n",
    "\n",
    "import tskit\n",
    "from IPython.display import SVG\n",
    "\n",
    "nodes = \"\"\"\\\n",
    "id      is_sample   time\n",
    "0       1           0\n",
    "1       1           0\n",
    "2       1           0\n",
    "3       1           0\n",
    "4       1           0\n",
    "5       0           1\n",
    "6       0           2\n",
    "7       0           3\n",
    "\"\"\"\n",
    "edges = \"\"\"\\\n",
    "left    right   parent  child\n",
    "0       60      5       4,3\n",
    "0       40      6       2\n",
    "0       60      6       1,0\n",
    "20      40      6       5\n",
    "0       20      7       5\n",
    "40      60      7       5\n",
    "0       60      7       6\n",
    "40      60      7       2\n",
    "\"\"\"\n",
    "ts = tskit.load_text(\n",
    "    nodes=io.StringIO(nodes), edges=io.StringIO(edges), strict=False\n",
    ")\n",
    "\n",
    "SVG(ts.first().draw_svg(time_scale=\"rank\"))"
   ]
  },
  {
   "cell_type": "code",
   "execution_count": 5,
   "id": "3d3e675d",
   "metadata": {
    "tags": [
     "hide-input"
    ]
   },
   "outputs": [
    {
     "data": {
      "text/html": [
       "<table><tr><th>node</th><th>parent</th><th>left_child</th><th>right_child</th><th>left_sib</th><th>right_sib</th></tr><tr><td>0</td><td>6</td><td>-1</td><td>-1</td><td>-1</td><td>1</td></tr><tr><td>1</td><td>6</td><td>-1</td><td>-1</td><td>0</td><td>2</td></tr><tr><td>2</td><td>6</td><td>-1</td><td>-1</td><td>1</td><td>-1</td></tr><tr><td>3</td><td>5</td><td>-1</td><td>-1</td><td>-1</td><td>4</td></tr><tr><td>4</td><td>5</td><td>-1</td><td>-1</td><td>3</td><td>-1</td></tr><tr><td>5</td><td>7</td><td>3</td><td>4</td><td>-1</td><td>6</td></tr><tr><td>6</td><td>7</td><td>0</td><td>2</td><td>5</td><td>-1</td></tr><tr><td>7</td><td>-1</td><td>5</td><td>6</td><td>-1</td><td>-1</td></tr></table>"
      ],
      "text/plain": [
       "<IPython.core.display.HTML object>"
      ]
     },
     "execution_count": 5,
     "metadata": {},
     "output_type": "execute_result"
    }
   ],
   "source": [
    "from IPython.display import HTML\n",
    "\n",
    "def html_quintuple_table(ts, show_virtual_root=False, show_convenience_arrays=False):\n",
    "    tree = ts.first()\n",
    "    columns = [\"node\", \"parent\", \"left_child\", \"right_child\", \"left_sib\", \"right_sib\"]\n",
    "    convenience_arrays = [\"num_children\", \"edge\"]\n",
    "    if show_convenience_arrays:\n",
    "        columns += convenience_arrays\n",
    "    data = {k:[] for k in columns}\n",
    "    for u in sorted(tree.nodes(tree.virtual_root if show_virtual_root else None)):\n",
    "        for colname in columns:\n",
    "            data[colname].append(u if colname == \"node\" else getattr(tree, colname)(u))\n",
    "    html = \"<tr>\"\n",
    "    for colname in columns:\n",
    "        html += f\"<th>{colname}</th>\"\n",
    "    html += \"</tr>\"\n",
    "    for u in range(len(data[\"node\"])):\n",
    "        html += \"<tr>\" if u < ts.num_nodes else \"<tr style='font-style: italic; color:red'>\"\n",
    "        for colname in columns:\n",
    "            html += f\"<td>{data[colname][u]}</td>\"\n",
    "        html += \"</tr>\"\n",
    "    return \"<table>\" + html + \"</table>\"\n",
    "\n",
    "HTML(html_quintuple_table(ts))"
   ]
  },
  {
   "cell_type": "markdown",
   "id": "7e3e04ae",
   "metadata": {},
   "source": [
    "Each node in the tree corresponds to a row in this table, and\n",
    "the columns are the individual arrays recording the quintuply linked\n",
    "structure. Thus, we can see that the parent of nodes `0`, `1`, and `2`\n",
    "is `6`. Similarly, the left child of `6` is `0` and the\n",
    "right child of `6` is `2`. The `left_sib` and `right_sib` arrays\n",
    "then record each nodes sibling on its left or right, respectively;\n",
    "hence the right sib of `0` is `1`, and the right sib of `1` is `2`.\n",
    "Thus, sibling information allows us to efficiently support trees\n",
    "with arbitrary numbers of children. In each of the five pointer arrays,\n",
    "the null node (-1) is used to indicate the end of a path; thus,\n",
    "for example, the parent of `7` and left sib of `0` are null.\n",
    "\n",
    "Please see this {ref}`example <sec_c_api_examples_tree_traversals>` for\n",
    "details of how to use the quintuply linked structure in the C API.\n",
    "\n",
    ":::{note}\n",
    "For many applications we do not need the quintuply linked trees,\n",
    "and (for example) the `left_sib` and `right_child` arrays can be\n",
    "ignored. The reason for using a quintuply instead of triply linked\n",
    "encoding is that it is not possible to efficiently update the trees\n",
    "as we move along the sequence without the quintuply linked structure.\n",
    ":::\n",
    "\n",
    ":::{warning}\n",
    "The left-to-right ordering of nodes is determined by the order\n",
    "in which edges are inserted into the tree during iteration along the sequence.\n",
    "Thus, if we arrive at the same tree by iterating from different directions,\n",
    "the left-to-right ordering of nodes may be different! The specific\n",
    "ordering of the children of a node should therefore not be depended on.\n",
    ":::\n",
    "\n",
    "### Convenience arrays\n",
    " \n",
    "Similar to the five arrays representing the {ref}`quintuply linked tree<sec_data_model_quintuply_linked_trees>`,\n",
    "convenience arrays track information on each node in the tree. These arrays are not essential to \n",
    "represent the trees within a tree sequence. However, they can be useful for\n",
    "specific algorithms (e.g. when computing tree (im)balance metrics). Two \n",
    "convenience arrays have been implemented so far: \n",
    "{attr}`Tree.num_children_array` and {attr}`Tree.edge_array`.\n",
    "\n",
    "Here is the table above with the convenience arrays also shown:"
   ]
  },
  {
   "cell_type": "code",
   "execution_count": 6,
   "id": "1be357b7",
   "metadata": {
    "tags": [
     "hide-input"
    ]
   },
   "outputs": [
    {
     "data": {
      "text/html": [
       "<table><tr><th>node</th><th>parent</th><th>left_child</th><th>right_child</th><th>left_sib</th><th>right_sib</th><th>num_children</th><th>edge</th></tr><tr><td>0</td><td>6</td><td>-1</td><td>-1</td><td>-1</td><td>1</td><td>0</td><td>2</td></tr><tr><td>1</td><td>6</td><td>-1</td><td>-1</td><td>0</td><td>2</td><td>0</td><td>3</td></tr><tr><td>2</td><td>6</td><td>-1</td><td>-1</td><td>1</td><td>-1</td><td>0</td><td>4</td></tr><tr><td>3</td><td>5</td><td>-1</td><td>-1</td><td>-1</td><td>4</td><td>0</td><td>0</td></tr><tr><td>4</td><td>5</td><td>-1</td><td>-1</td><td>3</td><td>-1</td><td>0</td><td>1</td></tr><tr><td>5</td><td>7</td><td>3</td><td>4</td><td>-1</td><td>6</td><td>2</td><td>7</td></tr><tr><td>6</td><td>7</td><td>0</td><td>2</td><td>5</td><td>-1</td><td>3</td><td>9</td></tr><tr><td>7</td><td>-1</td><td>5</td><td>6</td><td>-1</td><td>-1</td><td>2</td><td>-1</td></tr></table>"
      ],
      "text/plain": [
       "<IPython.core.display.HTML object>"
      ]
     },
     "execution_count": 6,
     "metadata": {},
     "output_type": "execute_result"
    }
   ],
   "source": [
    "HTML(html_quintuple_table(ts, show_convenience_arrays=True))"
   ]
  },
  {
   "cell_type": "markdown",
   "id": "cffcb22d",
   "metadata": {},
   "source": [
    "(sec_data_model_tree_roots)=\n",
    "\n",
    "### Roots\n",
    "\n",
    "The roots of a tree are defined as the unique endpoints of upward paths\n",
    "starting from sample nodes ({ref}`isolated<sec_data_model_tree_isolated_nodes>`\n",
    "sample nodes also count as roots). Thus, trees can have multiple roots in `tskit`.\n",
    "For example, if we delete the edge joining `6` and `7` in the previous\n",
    "example, we get a tree with two roots:"
   ]
  },
  {
   "cell_type": "code",
   "execution_count": 7,
   "id": "abf7476b",
   "metadata": {
    "tags": [
     "hide-input"
    ]
   },
   "outputs": [
    {
     "data": {
      "image/svg+xml": [
       "<svg xmlns=\"http://www.w3.org/2000/svg\" xmlns:ev=\"http://www.w3.org/2001/xml-events\" xmlns:xlink=\"http://www.w3.org/1999/xlink\" baseProfile=\"full\" height=\"200\" version=\"1.1\" width=\"200\"><defs><style type=\"text/css\"><![CDATA[.background path {fill: #808080; fill-opacity: 0}.background path:nth-child(odd) {fill-opacity: .1}.axes {font-size: 14px}.x-axis .tick .lab {font-weight: bold; dominant-baseline: hanging}.axes, .tree {font-size: 14px; text-anchor: middle}.axes line, .edge {stroke: black; fill: none}.y-axis .grid {stroke: #FAFAFA}.node > .sym {fill: black; stroke: none}.site > .sym {stroke: black}.mut text {fill: red; font-style: italic}.mut.extra text {fill: hotpink}.mut line {fill: none; stroke: none}.mut .sym {fill: none; stroke: red}.mut.extra .sym {stroke: hotpink}.node .mut .sym {stroke-width: 1.5px}.tree text, .tree-sequence text {dominant-baseline: central}.plotbox .lab.lft {text-anchor: end}.plotbox .lab.rgt {text-anchor: start}]]></style></defs><g class=\"tree t0\"><g class=\"plotbox\"><g class=\"c3 node n6 root\" transform=\"translate(68 73.9333)\"><g class=\"a6 leaf node n0 sample\" transform=\"translate(-32 94.2667)\"><path class=\"edge\" d=\"M 0 0 V -94.2667 H 32\"/><rect class=\"sym\" height=\"6\" width=\"6\" x=\"-3\" y=\"-3\"/><text class=\"lab\" transform=\"translate(0 11)\">0</text></g><g class=\"a6 leaf node n1 sample\" transform=\"translate(0.0 94.2667)\"><path class=\"edge\" d=\"M 0 0 V -94.2667 H 0.0\"/><rect class=\"sym\" height=\"6\" width=\"6\" x=\"-3\" y=\"-3\"/><text class=\"lab\" transform=\"translate(0 11)\">1</text></g><g class=\"a6 leaf node n2 sample\" transform=\"translate(32 94.2667)\"><path class=\"edge\" d=\"M 0 0 V -94.2667 H -32\"/><rect class=\"sym\" height=\"6\" width=\"6\" x=\"-3\" y=\"-3\"/><text class=\"lab\" transform=\"translate(0 11)\">2</text></g><circle class=\"sym\" cx=\"0\" cy=\"0\" r=\"3\"/><text class=\"lab\" transform=\"translate(0 -11)\">6</text></g><g class=\"c1 node n7 root\" transform=\"translate(148 26.8)\"><g class=\"a7 c2 node n5\" transform=\"translate(0.0 94.2667)\"><g class=\"a5 leaf node n3 sample\" transform=\"translate(-16 47.1333)\"><path class=\"edge\" d=\"M 0 0 V -47.1333 H 16\"/><rect class=\"sym\" height=\"6\" width=\"6\" x=\"-3\" y=\"-3\"/><text class=\"lab\" transform=\"translate(0 11)\">3</text></g><g class=\"a5 leaf node n4 sample\" transform=\"translate(16 47.1333)\"><path class=\"edge\" d=\"M 0 0 V -47.1333 H -16\"/><rect class=\"sym\" height=\"6\" width=\"6\" x=\"-3\" y=\"-3\"/><text class=\"lab\" transform=\"translate(0 11)\">4</text></g><path class=\"edge\" d=\"M 0 0 V -94.2667 H 0.0\"/><circle class=\"sym\" cx=\"0\" cy=\"0\" r=\"3\"/><text class=\"lab lft\" transform=\"translate(-3 -7.0)\">5</text></g><circle class=\"sym\" cx=\"0\" cy=\"0\" r=\"3\"/><text class=\"lab\" transform=\"translate(0 -11)\">7</text></g></g></g></svg>"
      ],
      "text/plain": [
       "<IPython.core.display.SVG object>"
      ]
     },
     "execution_count": 7,
     "metadata": {
      "filenames": {
       "image/svg+xml": "/home/runner/work/tskit-site/tskit-site/docs/_build/jupyter_execute/data-model_12_0.svg"
      }
     },
     "output_type": "execute_result"
    }
   ],
   "source": [
    "tables = ts.dump_tables()\n",
    "tables.edges.truncate(ts.num_edges - 1)\n",
    "ts_multiroot = tables.tree_sequence()\n",
    "SVG(ts_multiroot.first().draw_svg(time_scale=\"rank\"))"
   ]
  },
  {
   "cell_type": "markdown",
   "id": "f1a02a11",
   "metadata": {},
   "source": [
    "Note that in tree sequence terminology, this should *not* be thought\n",
    "of as two separate trees, but as a single multi-root \"tree\", comprising\n",
    "two unlinked topologies. This fits with the definition of a tree\n",
    "in a tree sequence: a tree describes the ancestry of the same\n",
    "fixed set of sample nodes at a single position in the genome. In the\n",
    "picture above, *both* the left and right hand topologies are required\n",
    "to describe the genealogy of samples 0..4 at this position.\n",
    "\n",
    "Here's what it looks like for an entire tree sequence:"
   ]
  },
  {
   "cell_type": "code",
   "execution_count": 8,
   "id": "a434eefd",
   "metadata": {
    "tags": [
     "hide-input"
    ]
   },
   "outputs": [
    {
     "data": {
      "image/svg+xml": [
       "<svg xmlns=\"http://www.w3.org/2000/svg\" xmlns:ev=\"http://www.w3.org/2001/xml-events\" xmlns:xlink=\"http://www.w3.org/1999/xlink\" baseProfile=\"full\" height=\"200\" version=\"1.1\" width=\"600\"><defs><style type=\"text/css\"><![CDATA[.background path {fill: #808080; fill-opacity: 0}.background path:nth-child(odd) {fill-opacity: .1}.axes {font-size: 14px}.x-axis .tick .lab {font-weight: bold; dominant-baseline: hanging}.axes, .tree {font-size: 14px; text-anchor: middle}.axes line, .edge {stroke: black; fill: none}.y-axis .grid {stroke: #FAFAFA}.node > .sym {fill: black; stroke: none}.site > .sym {stroke: black}.mut text {fill: red; font-style: italic}.mut.extra text {fill: hotpink}.mut line {fill: none; stroke: none}.mut .sym {fill: none; stroke: red}.mut.extra .sym {stroke: hotpink}.node .mut .sym {stroke-width: 1.5px}.tree text, .tree-sequence text {dominant-baseline: central}.plotbox .lab.lft {text-anchor: end}.plotbox .lab.rgt {text-anchor: start}]]></style></defs><g class=\"tree-sequence\"><g class=\"background\"><path d=\"M20,0 l186.667,0 l0,138.2 l0,25 l0,5 l-186.667,0 l0,-5 l0,-25 l0,-138.2z\"/><path d=\"M206.667,0 l186.667,0 l0,138.2 l0,25 l0,5 l-186.667,0 l0,-5 l0,-25 l0,-138.2z\"/><path d=\"M393.333,0 l186.667,0 l0,138.2 l0,25 l0,5 l-186.667,0 l0,-5 l0,-25 l0,-138.2z\"/></g><g class=\"axes\"><g class=\"x-axis\"><g transform=\"translate(300 200)\"><text class=\"lab\" text-anchor=\"middle\" transform=\"translate(0 -11)\">Genome position</text></g><line x1=\"20\" x2=\"580\" y1=\"163.2\" y2=\"163.2\"/><g class=\"ticks\"><g class=\"tick\" transform=\"translate(20 163.2)\"><line x1=\"0\" x2=\"0\" y1=\"0\" y2=\"5\"/><g transform=\"translate(0 6)\"><text class=\"lab\">0</text></g></g><g class=\"tick\" transform=\"translate(206.667 163.2)\"><line x1=\"0\" x2=\"0\" y1=\"0\" y2=\"5\"/><g transform=\"translate(0 6)\"><text class=\"lab\">20</text></g></g><g class=\"tick\" transform=\"translate(393.333 163.2)\"><line x1=\"0\" x2=\"0\" y1=\"0\" y2=\"5\"/><g transform=\"translate(0 6)\"><text class=\"lab\">40</text></g></g><g class=\"tick\" transform=\"translate(580 163.2)\"><line x1=\"0\" x2=\"0\" y1=\"0\" y2=\"5\"/><g transform=\"translate(0 6)\"><text class=\"lab\">60</text></g></g></g></g></g><g class=\"plotbox trees\"><g class=\"tree t0\" transform=\"translate(20 0)\"><g class=\"plotbox\"><g class=\"c3 node n6 root\" transform=\"translate(64 58.3333)\"><g class=\"a6 leaf node n0 sample\" transform=\"translate(-29.3333 63.0667)\"><path class=\"edge\" d=\"M 0 0 V -63.0667 H 29.3333\"/><rect class=\"sym\" height=\"6\" width=\"6\" x=\"-3\" y=\"-3\"/><text class=\"lab\" transform=\"translate(0 11)\">0</text></g><g class=\"a6 leaf node n1 sample\" transform=\"translate(0.0 63.0667)\"><path class=\"edge\" d=\"M 0 0 V -63.0667 H 0.0\"/><rect class=\"sym\" height=\"6\" width=\"6\" x=\"-3\" y=\"-3\"/><text class=\"lab\" transform=\"translate(0 11)\">1</text></g><g class=\"a6 leaf node n2 sample\" transform=\"translate(29.3333 63.0667)\"><path class=\"edge\" d=\"M 0 0 V -63.0667 H -29.3333\"/><rect class=\"sym\" height=\"6\" width=\"6\" x=\"-3\" y=\"-3\"/><text class=\"lab\" transform=\"translate(0 11)\">2</text></g><circle class=\"sym\" cx=\"0\" cy=\"0\" r=\"3\"/><text class=\"lab\" transform=\"translate(0 -11)\">6</text></g><g class=\"c1 node n7 root\" transform=\"translate(137.333 26.8)\"><g class=\"a7 c2 node n5\" transform=\"translate(0.0 63.0667)\"><g class=\"a5 leaf node n3 sample\" transform=\"translate(-14.6667 31.5333)\"><path class=\"edge\" d=\"M 0 0 V -31.5333 H 14.6667\"/><rect class=\"sym\" height=\"6\" width=\"6\" x=\"-3\" y=\"-3\"/><text class=\"lab\" transform=\"translate(0 11)\">3</text></g><g class=\"a5 leaf node n4 sample\" transform=\"translate(14.6667 31.5333)\"><path class=\"edge\" d=\"M 0 0 V -31.5333 H -14.6667\"/><rect class=\"sym\" height=\"6\" width=\"6\" x=\"-3\" y=\"-3\"/><text class=\"lab\" transform=\"translate(0 11)\">4</text></g><path class=\"edge\" d=\"M 0 0 V -63.0667 H 0.0\"/><circle class=\"sym\" cx=\"0\" cy=\"0\" r=\"3\"/><text class=\"lab lft\" transform=\"translate(-3 -7.0)\">5</text></g><circle class=\"sym\" cx=\"0\" cy=\"0\" r=\"3\"/><text class=\"lab\" transform=\"translate(0 -11)\">7</text></g></g></g><g class=\"tree t1\" transform=\"translate(206.667 0)\"><g class=\"plotbox\"><g class=\"c4 node n6 root\" transform=\"translate(86 58.3333)\"><g class=\"a6 leaf node n0 sample\" transform=\"translate(-51.3333 63.0667)\"><path class=\"edge\" d=\"M 0 0 V -63.0667 H 51.3333\"/><rect class=\"sym\" height=\"6\" width=\"6\" x=\"-3\" y=\"-3\"/><text class=\"lab\" transform=\"translate(0 11)\">0</text></g><g class=\"a6 leaf node n1 sample\" transform=\"translate(-22 63.0667)\"><path class=\"edge\" d=\"M 0 0 V -63.0667 H 22\"/><rect class=\"sym\" height=\"6\" width=\"6\" x=\"-3\" y=\"-3\"/><text class=\"lab\" transform=\"translate(0 11)\">1</text></g><g class=\"a6 leaf node n2 sample\" transform=\"translate(7.33333 63.0667)\"><path class=\"edge\" d=\"M 0 0 V -63.0667 H -7.33333\"/><rect class=\"sym\" height=\"6\" width=\"6\" x=\"-3\" y=\"-3\"/><text class=\"lab\" transform=\"translate(0 11)\">2</text></g><g class=\"a6 c2 node n5\" transform=\"translate(51.3333 31.5333)\"><g class=\"a5 leaf node n3 sample\" transform=\"translate(-14.6667 31.5333)\"><path class=\"edge\" d=\"M 0 0 V -31.5333 H 14.6667\"/><rect class=\"sym\" height=\"6\" width=\"6\" x=\"-3\" y=\"-3\"/><text class=\"lab\" transform=\"translate(0 11)\">3</text></g><g class=\"a5 leaf node n4 sample\" transform=\"translate(14.6667 31.5333)\"><path class=\"edge\" d=\"M 0 0 V -31.5333 H -14.6667\"/><rect class=\"sym\" height=\"6\" width=\"6\" x=\"-3\" y=\"-3\"/><text class=\"lab\" transform=\"translate(0 11)\">4</text></g><path class=\"edge\" d=\"M 0 0 V -31.5333 H -51.3333\"/><circle class=\"sym\" cx=\"0\" cy=\"0\" r=\"3\"/><text class=\"lab rgt\" transform=\"translate(3 -7.0)\">5</text></g><circle class=\"sym\" cx=\"0\" cy=\"0\" r=\"3\"/><text class=\"lab\" transform=\"translate(0 -11)\">6</text></g></g></g><g class=\"tree t2\" transform=\"translate(393.333 0)\"><g class=\"plotbox\"><g class=\"c2 node n6 root\" transform=\"translate(49.3333 58.3333)\"><g class=\"a6 leaf node n0 sample\" transform=\"translate(-14.6667 63.0667)\"><path class=\"edge\" d=\"M 0 0 V -63.0667 H 14.6667\"/><rect class=\"sym\" height=\"6\" width=\"6\" x=\"-3\" y=\"-3\"/><text class=\"lab\" transform=\"translate(0 11)\">0</text></g><g class=\"a6 leaf node n1 sample\" transform=\"translate(14.6667 63.0667)\"><path class=\"edge\" d=\"M 0 0 V -63.0667 H -14.6667\"/><rect class=\"sym\" height=\"6\" width=\"6\" x=\"-3\" y=\"-3\"/><text class=\"lab\" transform=\"translate(0 11)\">1</text></g><circle class=\"sym\" cx=\"0\" cy=\"0\" r=\"3\"/><text class=\"lab\" transform=\"translate(0 -11)\">6</text></g><g class=\"c2 node n7 root\" transform=\"translate(115.333 26.8)\"><g class=\"a7 leaf node n2 sample\" transform=\"translate(-22 94.6)\"><path class=\"edge\" d=\"M 0 0 V -94.6 H 22\"/><rect class=\"sym\" height=\"6\" width=\"6\" x=\"-3\" y=\"-3\"/><text class=\"lab\" transform=\"translate(0 11)\">2</text></g><g class=\"a7 c2 node n5\" transform=\"translate(22 63.0667)\"><g class=\"a5 leaf node n3 sample\" transform=\"translate(-14.6667 31.5333)\"><path class=\"edge\" d=\"M 0 0 V -31.5333 H 14.6667\"/><rect class=\"sym\" height=\"6\" width=\"6\" x=\"-3\" y=\"-3\"/><text class=\"lab\" transform=\"translate(0 11)\">3</text></g><g class=\"a5 leaf node n4 sample\" transform=\"translate(14.6667 31.5333)\"><path class=\"edge\" d=\"M 0 0 V -31.5333 H -14.6667\"/><rect class=\"sym\" height=\"6\" width=\"6\" x=\"-3\" y=\"-3\"/><text class=\"lab\" transform=\"translate(0 11)\">4</text></g><path class=\"edge\" d=\"M 0 0 V -63.0667 H -22\"/><circle class=\"sym\" cx=\"0\" cy=\"0\" r=\"3\"/><text class=\"lab rgt\" transform=\"translate(3 -7.0)\">5</text></g><circle class=\"sym\" cx=\"0\" cy=\"0\" r=\"3\"/><text class=\"lab\" transform=\"translate(0 -11)\">7</text></g></g></g></g></g></svg>"
      ],
      "text/plain": [
       "<IPython.core.display.SVG object>"
      ]
     },
     "execution_count": 8,
     "metadata": {
      "filenames": {
       "image/svg+xml": "/home/runner/work/tskit-site/tskit-site/docs/_build/jupyter_execute/data-model_14_0.svg"
      }
     },
     "output_type": "execute_result"
    }
   ],
   "source": [
    "SVG(ts_multiroot.draw_svg(time_scale=\"rank\"))"
   ]
  },
  {
   "cell_type": "markdown",
   "id": "619a706e",
   "metadata": {},
   "source": [
    "This tree sequence consists of three trees. The first tree, which applies from\n",
    "position 0 to 20, is the one used in our example. As we saw, removing the edge\n",
    "connecting node 6 to node 7 has created a tree with 2 roots (and thus 2\n",
    "unconnected topologies in a single tree). In contrast, the second tree, from\n",
    "position 20 to 40, has a single root. Finally the third tree, from position\n",
    "40 to 60, again has two roots.\n",
    "\n",
    "(sec_data_model_tree_virtual_root)=\n",
    "\n",
    "#### The virtual root\n",
    "\n",
    "To access all the {attr}`~Tree.roots` in a tree, tskit uses a special additional node\n",
    "called the **virtual root**. This is primarily a bookkeeping device, and\n",
    "can normally be ignored: it is not plotted in any visualizations and\n",
    "does not exist as an independent node in the node table.\n",
    "However, the virtual root can be useful in certain algorithms because its\n",
    "children are defined as all the \"real\" roots in a tree. Hence by\n",
    "descending downwards from the virtual root, it is possible\n",
    "to access the entire genealogy at a given site, even in a multi-root\n",
    "tree. In the quintuply linked tree encoding, the virtual root appears as an\n",
    "extra element at the end of each of the tree arrays. Here's the same table\n",
    "as before but with the virtual root also shown, using red italics to\n",
    "emphasise that it is not a \"real\" node:"
   ]
  },
  {
   "cell_type": "code",
   "execution_count": 9,
   "id": "d47d3578",
   "metadata": {
    "tags": [
     "hide-input"
    ]
   },
   "outputs": [
    {
     "data": {
      "text/html": [
       "<table><tr><th>node</th><th>parent</th><th>left_child</th><th>right_child</th><th>left_sib</th><th>right_sib</th></tr><tr><td>0</td><td>6</td><td>-1</td><td>-1</td><td>-1</td><td>1</td></tr><tr><td>1</td><td>6</td><td>-1</td><td>-1</td><td>0</td><td>2</td></tr><tr><td>2</td><td>6</td><td>-1</td><td>-1</td><td>1</td><td>-1</td></tr><tr><td>3</td><td>5</td><td>-1</td><td>-1</td><td>-1</td><td>4</td></tr><tr><td>4</td><td>5</td><td>-1</td><td>-1</td><td>3</td><td>-1</td></tr><tr><td>5</td><td>7</td><td>3</td><td>4</td><td>-1</td><td>-1</td></tr><tr><td>6</td><td>-1</td><td>0</td><td>2</td><td>-1</td><td>7</td></tr><tr><td>7</td><td>-1</td><td>5</td><td>5</td><td>6</td><td>-1</td></tr><tr style='font-style: italic; color:red'><td>8</td><td>-1</td><td>6</td><td>7</td><td>-1</td><td>-1</td></tr></table>"
      ],
      "text/plain": [
       "<IPython.core.display.HTML object>"
      ]
     },
     "execution_count": 9,
     "metadata": {},
     "output_type": "execute_result"
    }
   ],
   "source": [
    "HTML(html_quintuple_table(ts_multiroot, show_virtual_root=True))"
   ]
  },
  {
   "cell_type": "markdown",
   "id": "d7810afc",
   "metadata": {},
   "source": [
    "You can see that the virtual root (node 8) has 6 as its left child and 7\n",
    "as its right child. Importantly, though, this is an asymmetric\n",
    "relationship: the parent of the \"real\" roots 6 and 7 is null\n",
    "(-1) and *not* the virtual root. Hence when we ascend up the tree from the\n",
    "sample nodes to their parents, we stop at the \"real\" roots, and never\n",
    "encounter the virtual root.\n",
    "\n",
    "Because the virtual root can be useful in some algorithms, it can\n",
    "optionally be returned in traversal orders (see {meth}`.Tree.nodes`).\n",
    "The following properties apply:\n",
    "\n",
    "- All trees in a tree sequence share the same virtual root.\n",
    "- The virtual root's ID is always equal to the number of nodes in the tree sequence\n",
    "  (i.e. the length of the node table). However, there is **no corresponding row**\n",
    "  in the node table, and any attempts to access information about the\n",
    "  virtual root via either the tree sequence or tables APIs will fail with\n",
    "  an out-of-bounds error.\n",
    "- The parent and siblings of the virtual root are null.\n",
    "- The time of the virtual root is defined as positive infinity (if\n",
    "  accessed via {meth}`.Tree.time`). This is useful in defining the\n",
    "  time-based node traversal orderings.\n",
    "- The virtual root is the parent of no other node---roots do **not**\n",
    "  have parent pointers to the virtual root.\n",
    "\n",
    "\n",
    "(sec_data_model_tree_isolated_nodes)=\n",
    "\n",
    "### Isolated nodes\n",
    "\n",
    "In a tree, it is possible for a node to have no children and no parent. Such a node is\n",
    "said to be *isolated*, meaning that we don't know anything about its relationships\n",
    "over a specific genomic interval. This is commonly true for ancestral genomes, which\n",
    "often have large regions that have\n",
    "not been inherited by any of the {ref}`sample nodes<sec_data_model_definitions_sample>`\n",
    "in the tree sequence, and therefore regions about which we know nothing. This is true,\n",
    "for example, of node 7 in the middle tree of our previous example, which is why it is\n",
    "not plotted on that tree:"
   ]
  },
  {
   "cell_type": "code",
   "execution_count": 10,
   "id": "a956dec8",
   "metadata": {},
   "outputs": [
    {
     "data": {
      "image/svg+xml": [
       "<svg xmlns=\"http://www.w3.org/2000/svg\" xmlns:ev=\"http://www.w3.org/2001/xml-events\" xmlns:xlink=\"http://www.w3.org/1999/xlink\" baseProfile=\"full\" height=\"200\" version=\"1.1\" width=\"600\"><defs><style type=\"text/css\"><![CDATA[.background path {fill: #808080; fill-opacity: 0}.background path:nth-child(odd) {fill-opacity: .1}.axes {font-size: 14px}.x-axis .tick .lab {font-weight: bold; dominant-baseline: hanging}.axes, .tree {font-size: 14px; text-anchor: middle}.axes line, .edge {stroke: black; fill: none}.y-axis .grid {stroke: #FAFAFA}.node > .sym {fill: black; stroke: none}.site > .sym {stroke: black}.mut text {fill: red; font-style: italic}.mut.extra text {fill: hotpink}.mut line {fill: none; stroke: none}.mut .sym {fill: none; stroke: red}.mut.extra .sym {stroke: hotpink}.node .mut .sym {stroke-width: 1.5px}.tree text, .tree-sequence text {dominant-baseline: central}.plotbox .lab.lft {text-anchor: end}.plotbox .lab.rgt {text-anchor: start}]]></style></defs><g class=\"tree-sequence\"><g class=\"background\"><path d=\"M20,0 l186.667,0 l0,138.2 l0,25 l0,5 l-186.667,0 l0,-5 l0,-25 l0,-138.2z\"/><path d=\"M206.667,0 l186.667,0 l0,138.2 l0,25 l0,5 l-186.667,0 l0,-5 l0,-25 l0,-138.2z\"/><path d=\"M393.333,0 l186.667,0 l0,138.2 l0,25 l0,5 l-186.667,0 l0,-5 l0,-25 l0,-138.2z\"/></g><g class=\"axes\"><g class=\"x-axis\"><g transform=\"translate(300 200)\"><text class=\"lab\" text-anchor=\"middle\" transform=\"translate(0 -11)\">Genome position</text></g><line x1=\"20\" x2=\"580\" y1=\"163.2\" y2=\"163.2\"/><g class=\"ticks\"><g class=\"tick\" transform=\"translate(20 163.2)\"><line x1=\"0\" x2=\"0\" y1=\"0\" y2=\"5\"/><g transform=\"translate(0 6)\"><text class=\"lab\">0</text></g></g><g class=\"tick\" transform=\"translate(206.667 163.2)\"><line x1=\"0\" x2=\"0\" y1=\"0\" y2=\"5\"/><g transform=\"translate(0 6)\"><text class=\"lab\">20</text></g></g><g class=\"tick\" transform=\"translate(393.333 163.2)\"><line x1=\"0\" x2=\"0\" y1=\"0\" y2=\"5\"/><g transform=\"translate(0 6)\"><text class=\"lab\">40</text></g></g><g class=\"tick\" transform=\"translate(580 163.2)\"><line x1=\"0\" x2=\"0\" y1=\"0\" y2=\"5\"/><g transform=\"translate(0 6)\"><text class=\"lab\">60</text></g></g></g></g></g><g class=\"plotbox trees\"><g class=\"tree t0\" transform=\"translate(20 0)\"><g class=\"plotbox\"><g class=\"c3 node n6 root\" transform=\"translate(64 58.3333)\"><g class=\"a6 leaf node n0 sample\" transform=\"translate(-29.3333 63.0667)\"><path class=\"edge\" d=\"M 0 0 V -63.0667 H 29.3333\"/><rect class=\"sym\" height=\"6\" width=\"6\" x=\"-3\" y=\"-3\"/><text class=\"lab\" transform=\"translate(0 11)\">0</text></g><g class=\"a6 leaf node n1 sample\" transform=\"translate(0.0 63.0667)\"><path class=\"edge\" d=\"M 0 0 V -63.0667 H 0.0\"/><rect class=\"sym\" height=\"6\" width=\"6\" x=\"-3\" y=\"-3\"/><text class=\"lab\" transform=\"translate(0 11)\">1</text></g><g class=\"a6 leaf node n2 sample\" transform=\"translate(29.3333 63.0667)\"><path class=\"edge\" d=\"M 0 0 V -63.0667 H -29.3333\"/><rect class=\"sym\" height=\"6\" width=\"6\" x=\"-3\" y=\"-3\"/><text class=\"lab\" transform=\"translate(0 11)\">2</text></g><circle class=\"sym\" cx=\"0\" cy=\"0\" r=\"3\"/><text class=\"lab\" transform=\"translate(0 -11)\">6</text></g><g class=\"c1 node n7 root\" transform=\"translate(137.333 26.8)\"><g class=\"a7 c2 node n5\" transform=\"translate(0.0 63.0667)\"><g class=\"a5 leaf node n3 sample\" transform=\"translate(-14.6667 31.5333)\"><path class=\"edge\" d=\"M 0 0 V -31.5333 H 14.6667\"/><rect class=\"sym\" height=\"6\" width=\"6\" x=\"-3\" y=\"-3\"/><text class=\"lab\" transform=\"translate(0 11)\">3</text></g><g class=\"a5 leaf node n4 sample\" transform=\"translate(14.6667 31.5333)\"><path class=\"edge\" d=\"M 0 0 V -31.5333 H -14.6667\"/><rect class=\"sym\" height=\"6\" width=\"6\" x=\"-3\" y=\"-3\"/><text class=\"lab\" transform=\"translate(0 11)\">4</text></g><path class=\"edge\" d=\"M 0 0 V -63.0667 H 0.0\"/><circle class=\"sym\" cx=\"0\" cy=\"0\" r=\"3\"/><text class=\"lab lft\" transform=\"translate(-3 -7.0)\">5</text></g><circle class=\"sym\" cx=\"0\" cy=\"0\" r=\"3\"/><text class=\"lab\" transform=\"translate(0 -11)\">7</text></g></g></g><g class=\"tree t1\" transform=\"translate(206.667 0)\"><g class=\"plotbox\"><g class=\"c4 node n6 root\" transform=\"translate(86 58.3333)\"><g class=\"a6 leaf node n0 sample\" transform=\"translate(-51.3333 63.0667)\"><path class=\"edge\" d=\"M 0 0 V -63.0667 H 51.3333\"/><rect class=\"sym\" height=\"6\" width=\"6\" x=\"-3\" y=\"-3\"/><text class=\"lab\" transform=\"translate(0 11)\">0</text></g><g class=\"a6 leaf node n1 sample\" transform=\"translate(-22 63.0667)\"><path class=\"edge\" d=\"M 0 0 V -63.0667 H 22\"/><rect class=\"sym\" height=\"6\" width=\"6\" x=\"-3\" y=\"-3\"/><text class=\"lab\" transform=\"translate(0 11)\">1</text></g><g class=\"a6 leaf node n2 sample\" transform=\"translate(7.33333 63.0667)\"><path class=\"edge\" d=\"M 0 0 V -63.0667 H -7.33333\"/><rect class=\"sym\" height=\"6\" width=\"6\" x=\"-3\" y=\"-3\"/><text class=\"lab\" transform=\"translate(0 11)\">2</text></g><g class=\"a6 c2 node n5\" transform=\"translate(51.3333 31.5333)\"><g class=\"a5 leaf node n3 sample\" transform=\"translate(-14.6667 31.5333)\"><path class=\"edge\" d=\"M 0 0 V -31.5333 H 14.6667\"/><rect class=\"sym\" height=\"6\" width=\"6\" x=\"-3\" y=\"-3\"/><text class=\"lab\" transform=\"translate(0 11)\">3</text></g><g class=\"a5 leaf node n4 sample\" transform=\"translate(14.6667 31.5333)\"><path class=\"edge\" d=\"M 0 0 V -31.5333 H -14.6667\"/><rect class=\"sym\" height=\"6\" width=\"6\" x=\"-3\" y=\"-3\"/><text class=\"lab\" transform=\"translate(0 11)\">4</text></g><path class=\"edge\" d=\"M 0 0 V -31.5333 H -51.3333\"/><circle class=\"sym\" cx=\"0\" cy=\"0\" r=\"3\"/><text class=\"lab rgt\" transform=\"translate(3 -7.0)\">5</text></g><circle class=\"sym\" cx=\"0\" cy=\"0\" r=\"3\"/><text class=\"lab\" transform=\"translate(0 -11)\">6</text></g></g></g><g class=\"tree t2\" transform=\"translate(393.333 0)\"><g class=\"plotbox\"><g class=\"c2 node n6 root\" transform=\"translate(49.3333 58.3333)\"><g class=\"a6 leaf node n0 sample\" transform=\"translate(-14.6667 63.0667)\"><path class=\"edge\" d=\"M 0 0 V -63.0667 H 14.6667\"/><rect class=\"sym\" height=\"6\" width=\"6\" x=\"-3\" y=\"-3\"/><text class=\"lab\" transform=\"translate(0 11)\">0</text></g><g class=\"a6 leaf node n1 sample\" transform=\"translate(14.6667 63.0667)\"><path class=\"edge\" d=\"M 0 0 V -63.0667 H -14.6667\"/><rect class=\"sym\" height=\"6\" width=\"6\" x=\"-3\" y=\"-3\"/><text class=\"lab\" transform=\"translate(0 11)\">1</text></g><circle class=\"sym\" cx=\"0\" cy=\"0\" r=\"3\"/><text class=\"lab\" transform=\"translate(0 -11)\">6</text></g><g class=\"c2 node n7 root\" transform=\"translate(115.333 26.8)\"><g class=\"a7 leaf node n2 sample\" transform=\"translate(-22 94.6)\"><path class=\"edge\" d=\"M 0 0 V -94.6 H 22\"/><rect class=\"sym\" height=\"6\" width=\"6\" x=\"-3\" y=\"-3\"/><text class=\"lab\" transform=\"translate(0 11)\">2</text></g><g class=\"a7 c2 node n5\" transform=\"translate(22 63.0667)\"><g class=\"a5 leaf node n3 sample\" transform=\"translate(-14.6667 31.5333)\"><path class=\"edge\" d=\"M 0 0 V -31.5333 H 14.6667\"/><rect class=\"sym\" height=\"6\" width=\"6\" x=\"-3\" y=\"-3\"/><text class=\"lab\" transform=\"translate(0 11)\">3</text></g><g class=\"a5 leaf node n4 sample\" transform=\"translate(14.6667 31.5333)\"><path class=\"edge\" d=\"M 0 0 V -31.5333 H -14.6667\"/><rect class=\"sym\" height=\"6\" width=\"6\" x=\"-3\" y=\"-3\"/><text class=\"lab\" transform=\"translate(0 11)\">4</text></g><path class=\"edge\" d=\"M 0 0 V -63.0667 H -22\"/><circle class=\"sym\" cx=\"0\" cy=\"0\" r=\"3\"/><text class=\"lab rgt\" transform=\"translate(3 -7.0)\">5</text></g><circle class=\"sym\" cx=\"0\" cy=\"0\" r=\"3\"/><text class=\"lab\" transform=\"translate(0 -11)\">7</text></g></g></g></g></g></svg>"
      ],
      "text/plain": [
       "<IPython.core.display.SVG object>"
      ]
     },
     "metadata": {
      "filenames": {
       "image/svg+xml": "/home/runner/work/tskit-site/tskit-site/docs/_build/jupyter_execute/data-model_18_0.svg"
      }
     },
     "output_type": "display_data"
    },
    {
     "name": "stdout",
     "output_type": "stream",
     "text": [
      "Node 7 is not isolated from position 0.0 to 20.0\n",
      "Node 7 is isolated from position 20.0 to 40.0\n",
      "Node 7 is not isolated from position 40.0 to 60.0\n"
     ]
    }
   ],
   "source": [
    "display(SVG(ts_multiroot.draw_svg(time_scale=\"rank\")))\n",
    "for tree in ts_multiroot.trees():\n",
    "    print(\n",
    "        \"Node 7\",\n",
    "        \"is\" if tree.is_isolated(7) else \"is not\",\n",
    "        \"isolated from position\",\n",
    "        tree.interval.left,\n",
    "        \"to\",\n",
    "        tree.interval.right,\n",
    "    )"
   ]
  },
  {
   "cell_type": "markdown",
   "id": "f99b18ec",
   "metadata": {},
   "source": [
    "However, it is also possible for a {ref}`sample node<sec_data_model_definitions_sample>`\n",
    "to be isolated. Unlike other nodes, isolated *sample* nodes are still considered as\n",
    "being present on the tree (meaning they will still returned by the {meth}`Tree.nodes`\n",
    "and {meth}`Tree.samples` methods): they are therefore plotted, but unconnected to any\n",
    "other nodes. To illustrate, we can remove the edge from node 2 to node 7."
   ]
  },
  {
   "cell_type": "code",
   "execution_count": 11,
   "id": "297538fb",
   "metadata": {
    "tags": [
     "hide-input"
    ]
   },
   "outputs": [
    {
     "data": {
      "image/svg+xml": [
       "<svg xmlns=\"http://www.w3.org/2000/svg\" xmlns:ev=\"http://www.w3.org/2001/xml-events\" xmlns:xlink=\"http://www.w3.org/1999/xlink\" baseProfile=\"full\" height=\"200\" version=\"1.1\" width=\"600\"><defs><style type=\"text/css\"><![CDATA[.background path {fill: #808080; fill-opacity: 0}.background path:nth-child(odd) {fill-opacity: .1}.axes {font-size: 14px}.x-axis .tick .lab {font-weight: bold; dominant-baseline: hanging}.axes, .tree {font-size: 14px; text-anchor: middle}.axes line, .edge {stroke: black; fill: none}.y-axis .grid {stroke: #FAFAFA}.node > .sym {fill: black; stroke: none}.site > .sym {stroke: black}.mut text {fill: red; font-style: italic}.mut.extra text {fill: hotpink}.mut line {fill: none; stroke: none}.mut .sym {fill: none; stroke: red}.mut.extra .sym {stroke: hotpink}.node .mut .sym {stroke-width: 1.5px}.tree text, .tree-sequence text {dominant-baseline: central}.plotbox .lab.lft {text-anchor: end}.plotbox .lab.rgt {text-anchor: start}]]></style></defs><g class=\"tree-sequence\"><g class=\"background\"><path d=\"M20,0 l186.667,0 l0,138.2 l0,25 l0,5 l-186.667,0 l0,-5 l0,-25 l0,-138.2z\"/><path d=\"M206.667,0 l186.667,0 l0,138.2 l0,25 l0,5 l-186.667,0 l0,-5 l0,-25 l0,-138.2z\"/><path d=\"M393.333,0 l186.667,0 l0,138.2 l0,25 l0,5 l-186.667,0 l0,-5 l0,-25 l0,-138.2z\"/></g><g class=\"axes\"><g class=\"x-axis\"><g transform=\"translate(300 200)\"><text class=\"lab\" text-anchor=\"middle\" transform=\"translate(0 -11)\">Genome position</text></g><line x1=\"20\" x2=\"580\" y1=\"163.2\" y2=\"163.2\"/><g class=\"ticks\"><g class=\"tick\" transform=\"translate(20 163.2)\"><line x1=\"0\" x2=\"0\" y1=\"0\" y2=\"5\"/><g transform=\"translate(0 6)\"><text class=\"lab\">0</text></g></g><g class=\"tick\" transform=\"translate(206.667 163.2)\"><line x1=\"0\" x2=\"0\" y1=\"0\" y2=\"5\"/><g transform=\"translate(0 6)\"><text class=\"lab\">20</text></g></g><g class=\"tick\" transform=\"translate(393.333 163.2)\"><line x1=\"0\" x2=\"0\" y1=\"0\" y2=\"5\"/><g transform=\"translate(0 6)\"><text class=\"lab\">40</text></g></g><g class=\"tick\" transform=\"translate(580 163.2)\"><line x1=\"0\" x2=\"0\" y1=\"0\" y2=\"5\"/><g transform=\"translate(0 6)\"><text class=\"lab\">60</text></g></g></g></g></g><g class=\"plotbox trees\"><g class=\"tree t0\" transform=\"translate(20 0)\"><g class=\"plotbox\"><g class=\"c3 node n6 root\" transform=\"translate(64 58.3333)\"><g class=\"a6 leaf node n0 sample\" transform=\"translate(-29.3333 63.0667)\"><path class=\"edge\" d=\"M 0 0 V -63.0667 H 29.3333\"/><rect class=\"sym\" height=\"6\" width=\"6\" x=\"-3\" y=\"-3\"/><text class=\"lab\" transform=\"translate(0 11)\">0</text></g><g class=\"a6 leaf node n1 sample\" transform=\"translate(0.0 63.0667)\"><path class=\"edge\" d=\"M 0 0 V -63.0667 H 0.0\"/><rect class=\"sym\" height=\"6\" width=\"6\" x=\"-3\" y=\"-3\"/><text class=\"lab\" transform=\"translate(0 11)\">1</text></g><g class=\"a6 leaf node n2 sample\" transform=\"translate(29.3333 63.0667)\"><path class=\"edge\" d=\"M 0 0 V -63.0667 H -29.3333\"/><rect class=\"sym\" height=\"6\" width=\"6\" x=\"-3\" y=\"-3\"/><text class=\"lab\" transform=\"translate(0 11)\">2</text></g><circle class=\"sym\" cx=\"0\" cy=\"0\" r=\"3\"/><text class=\"lab\" transform=\"translate(0 -11)\">6</text></g><g class=\"c1 node n7 root\" transform=\"translate(137.333 26.8)\"><g class=\"a7 c2 node n5\" transform=\"translate(0.0 63.0667)\"><g class=\"a5 leaf node n3 sample\" transform=\"translate(-14.6667 31.5333)\"><path class=\"edge\" d=\"M 0 0 V -31.5333 H 14.6667\"/><rect class=\"sym\" height=\"6\" width=\"6\" x=\"-3\" y=\"-3\"/><text class=\"lab\" transform=\"translate(0 11)\">3</text></g><g class=\"a5 leaf node n4 sample\" transform=\"translate(14.6667 31.5333)\"><path class=\"edge\" d=\"M 0 0 V -31.5333 H -14.6667\"/><rect class=\"sym\" height=\"6\" width=\"6\" x=\"-3\" y=\"-3\"/><text class=\"lab\" transform=\"translate(0 11)\">4</text></g><path class=\"edge\" d=\"M 0 0 V -63.0667 H 0.0\"/><circle class=\"sym\" cx=\"0\" cy=\"0\" r=\"3\"/><text class=\"lab lft\" transform=\"translate(-3 -7.0)\">5</text></g><circle class=\"sym\" cx=\"0\" cy=\"0\" r=\"3\"/><text class=\"lab\" transform=\"translate(0 -11)\">7</text></g></g></g><g class=\"tree t1\" transform=\"translate(206.667 0)\"><g class=\"plotbox\"><g class=\"c4 node n6 root\" transform=\"translate(86 58.3333)\"><g class=\"a6 leaf node n0 sample\" transform=\"translate(-51.3333 63.0667)\"><path class=\"edge\" d=\"M 0 0 V -63.0667 H 51.3333\"/><rect class=\"sym\" height=\"6\" width=\"6\" x=\"-3\" y=\"-3\"/><text class=\"lab\" transform=\"translate(0 11)\">0</text></g><g class=\"a6 leaf node n1 sample\" transform=\"translate(-22 63.0667)\"><path class=\"edge\" d=\"M 0 0 V -63.0667 H 22\"/><rect class=\"sym\" height=\"6\" width=\"6\" x=\"-3\" y=\"-3\"/><text class=\"lab\" transform=\"translate(0 11)\">1</text></g><g class=\"a6 leaf node n2 sample\" transform=\"translate(7.33333 63.0667)\"><path class=\"edge\" d=\"M 0 0 V -63.0667 H -7.33333\"/><rect class=\"sym\" height=\"6\" width=\"6\" x=\"-3\" y=\"-3\"/><text class=\"lab\" transform=\"translate(0 11)\">2</text></g><g class=\"a6 c2 node n5\" transform=\"translate(51.3333 31.5333)\"><g class=\"a5 leaf node n3 sample\" transform=\"translate(-14.6667 31.5333)\"><path class=\"edge\" d=\"M 0 0 V -31.5333 H 14.6667\"/><rect class=\"sym\" height=\"6\" width=\"6\" x=\"-3\" y=\"-3\"/><text class=\"lab\" transform=\"translate(0 11)\">3</text></g><g class=\"a5 leaf node n4 sample\" transform=\"translate(14.6667 31.5333)\"><path class=\"edge\" d=\"M 0 0 V -31.5333 H -14.6667\"/><rect class=\"sym\" height=\"6\" width=\"6\" x=\"-3\" y=\"-3\"/><text class=\"lab\" transform=\"translate(0 11)\">4</text></g><path class=\"edge\" d=\"M 0 0 V -31.5333 H -51.3333\"/><circle class=\"sym\" cx=\"0\" cy=\"0\" r=\"3\"/><text class=\"lab rgt\" transform=\"translate(3 -7.0)\">5</text></g><circle class=\"sym\" cx=\"0\" cy=\"0\" r=\"3\"/><text class=\"lab\" transform=\"translate(0 -11)\">6</text></g></g></g><g class=\"tree t2\" transform=\"translate(393.333 0)\"><g class=\"plotbox\"><g class=\"c2 node n6 root\" transform=\"translate(49.3333 58.3333)\"><g class=\"a6 leaf node n0 sample\" transform=\"translate(-14.6667 63.0667)\"><path class=\"edge\" d=\"M 0 0 V -63.0667 H 14.6667\"/><rect class=\"sym\" height=\"6\" width=\"6\" x=\"-3\" y=\"-3\"/><text class=\"lab\" transform=\"translate(0 11)\">0</text></g><g class=\"a6 leaf node n1 sample\" transform=\"translate(14.6667 63.0667)\"><path class=\"edge\" d=\"M 0 0 V -63.0667 H -14.6667\"/><rect class=\"sym\" height=\"6\" width=\"6\" x=\"-3\" y=\"-3\"/><text class=\"lab\" transform=\"translate(0 11)\">1</text></g><circle class=\"sym\" cx=\"0\" cy=\"0\" r=\"3\"/><text class=\"lab\" transform=\"translate(0 -11)\">6</text></g><g class=\"leaf node n2 root sample\" transform=\"translate(93.3333 121.4)\"><rect class=\"sym\" height=\"6\" width=\"6\" x=\"-3\" y=\"-3\"/><text class=\"lab\" transform=\"translate(0 11)\">2</text></g><g class=\"c1 node n7 root\" transform=\"translate(137.333 26.8)\"><g class=\"a7 c2 node n5\" transform=\"translate(0.0 63.0667)\"><g class=\"a5 leaf node n3 sample\" transform=\"translate(-14.6667 31.5333)\"><path class=\"edge\" d=\"M 0 0 V -31.5333 H 14.6667\"/><rect class=\"sym\" height=\"6\" width=\"6\" x=\"-3\" y=\"-3\"/><text class=\"lab\" transform=\"translate(0 11)\">3</text></g><g class=\"a5 leaf node n4 sample\" transform=\"translate(14.6667 31.5333)\"><path class=\"edge\" d=\"M 0 0 V -31.5333 H -14.6667\"/><rect class=\"sym\" height=\"6\" width=\"6\" x=\"-3\" y=\"-3\"/><text class=\"lab\" transform=\"translate(0 11)\">4</text></g><path class=\"edge\" d=\"M 0 0 V -63.0667 H 0.0\"/><circle class=\"sym\" cx=\"0\" cy=\"0\" r=\"3\"/><text class=\"lab lft\" transform=\"translate(-3 -7.0)\">5</text></g><circle class=\"sym\" cx=\"0\" cy=\"0\" r=\"3\"/><text class=\"lab\" transform=\"translate(0 -11)\">7</text></g></g></g></g></g></svg>"
      ],
      "text/plain": [
       "<IPython.core.display.SVG object>"
      ]
     },
     "execution_count": 11,
     "metadata": {
      "filenames": {
       "image/svg+xml": "/home/runner/work/tskit-site/tskit-site/docs/_build/jupyter_execute/data-model_20_0.svg"
      }
     },
     "output_type": "execute_result"
    }
   ],
   "source": [
    "tables = ts_multiroot.dump_tables()\n",
    "tables.edges.set_columns(\n",
    "    **tables.edges[(tables.edges.parent != 7) | (tables.edges.child != 2)].asdict())\n",
    "ts_isolated = tables.tree_sequence()\n",
    "SVG(ts_isolated.draw_svg(time_scale=\"rank\"))"
   ]
  },
  {
   "cell_type": "markdown",
   "id": "a0920545",
   "metadata": {},
   "source": [
    "The rightmost tree now contains an isolated sample node (node 2). Isolated\n",
    "sample nodes count as one of the {ref}`sec_data_model_tree_roots` of the tree,\n",
    "so that tree has three roots, one of which is node 2:"
   ]
  },
  {
   "cell_type": "code",
   "execution_count": 12,
   "id": "4f1a765a",
   "metadata": {},
   "outputs": [
    {
     "name": "stdout",
     "output_type": "stream",
     "text": [
      "3 roots in the rightmost tree, with IDs [6, 2, 7]\n",
      "IDs of isolated samples in this tree: [2]\n"
     ]
    }
   ],
   "source": [
    "rightmost_tree = ts_isolated.at_index(-1)\n",
    "print(rightmost_tree.num_roots, \"roots in the rightmost tree, with IDs\", rightmost_tree.roots)\n",
    "print(\n",
    "    \"IDs of isolated samples in this tree:\",\n",
    "    [u for u in rightmost_tree.samples() if rightmost_tree.is_isolated(u)],\n",
    ")"
   ]
  },
  {
   "cell_type": "markdown",
   "id": "b331fe01",
   "metadata": {},
   "source": [
    "In `tskit`, isolated sample nodes are closely associated with the encoding of\n",
    "{ref}`sec_data_model_missing_data`.\n",
    "\n",
    "\n",
    "(sec_data_model_tree_dead_leaves_and_branches)=\n",
    "\n",
    "### Dead leaves and branches\n",
    "\n",
    "In a `tskit` tree, a *leaf node* is defined as a node without any children. The\n",
    "implications of this turn out to be slighly unintuitive, and so are worth briefly\n",
    "documenting here. Firstly, the same node can be a leaf in one tree, and not a leaf\n",
    "in the next tree along the tree sequence. Secondly all isolated nodes must be leaves\n",
    "(as by definition they have no children). Thirdly sample nodes need not be leaves\n",
    "(they could be \"internal samples\"); likewise leaf nodes need not be samples.\n",
    "\n",
    "Node 7 in the example above provides a good case study. Note that it is a root node with\n",
    "at least one child (i.e. not a leaf) in trees 0 and 2; in contrast in tree 1 it is\n",
    "isolated. Strictly, because it is isolated in tree 1, it is also a leaf node there,\n",
    "although it is not attached to a root, not a sample, and is therefore not plotted. In\n",
    "this case, in that tree we can think of node 7 as a \"dead leaf\" (and we don't normally\n",
    "plot dead leaves). In fact, in a large tree sequence of many trees, most ancestral nodes\n",
    "will be isolated in any given tree, and therefore most nodes in such a tree will be of\n",
    "this sort. However, these dead leaves are excluded from most calculations on trees,\n",
    "because algorithms usually traverse the tree by starting at a root and working down,\n",
    "or by starting at a sample and working up. Hence when we refer to the leaves of a tree,\n",
    "it is usually shorthand for the leaves **on** the tree (that is, attached via branches,\n",
    "to one of the the tree roots). Dead leaves are excluded from this definition.\n",
    "\n",
    "Note that it is also possible to have trees in which there are \"dead branches\": that is\n",
    "sections of topology which are not accessible from a root, and whose tips are all\n",
    "dead leaves. Although valid, this is a relatively unusual state of affairs, and such\n",
    "branches are not plotted by the standard {ref}`sec_tskit_viz` methods. The\n",
    "{meth}`Tree.nodes` method will not, by default, traverse through dead branches, although\n",
    "it can be made to do so by specifying the ID of a dead node as the root for traversal.\n",
    "\n",
    "\n",
    "(sec_data_model_genetic_data)=\n",
    "\n",
    "## Encoding genetic variation\n",
    "\n",
    "Genetic variation is incorporated into a tree sequence by placing\n",
    "{ref}`mutations<sec_mutation_table_definition>` at\n",
    "{ref}`sites<sec_mutation_table_definition>` along the genome.\n",
    "The genotypes of the different samples at each site\n",
    "can be found by using the tree to calculate which mutations are inherited by\n",
    "the different samples. This is the fundamental basis of how tree sequences\n",
    "efficiently encode DNA sequences, and is explained in depth elsewhere\n",
    "(e.g. {ref}`in the tutorials<sec_what_is_dna_data>`).\n",
    "\n",
    "Below, we discuss some implications of this encoding in more detail, in particular\n",
    "the way in which it can be used to model missing data.\n",
    "\n",
    "(sec_data_model_missing_data)=\n",
    "\n",
    "### Missing data\n",
    "\n",
    "If, at a particular genomic position, a node is\n",
    "{ref}`isolated<sec_data_model_tree_isolated_nodes>` *and* additionally has\n",
    "no mutations directly above it, its genotype at that position is considered to be\n",
    "unknown (however, if there is a mutation above an isolated node, it\n",
    "can be thought of as saying directly what the genotype is, and so renders the\n",
    "genotype at that position not missing).\n",
    "\n",
    "By way of illustration, we'll use the {meth}`~TableCollection.delete_intervals` method\n",
    "to remove all knowledge of the ancestry in the\n",
    "middle portion of the previous example (say from position 15 to 45) sprinkle\n",
    "on some mutations, and make sure there are sites at every position:"
   ]
  },
  {
   "cell_type": "code",
   "execution_count": 13,
   "id": "444e0e3a",
   "metadata": {
    "tags": [
     "hide-input"
    ]
   },
   "outputs": [
    {
     "data": {
      "image/svg+xml": [
       "<svg xmlns=\"http://www.w3.org/2000/svg\" xmlns:ev=\"http://www.w3.org/2001/xml-events\" xmlns:xlink=\"http://www.w3.org/1999/xlink\" baseProfile=\"full\" height=\"200\" version=\"1.1\" width=\"600\"><defs><style type=\"text/css\"><![CDATA[.background path {fill: #808080; fill-opacity: 0}.background path:nth-child(odd) {fill-opacity: .1}.axes {font-size: 14px}.x-axis .tick .lab {font-weight: bold; dominant-baseline: hanging}.axes, .tree {font-size: 14px; text-anchor: middle}.axes line, .edge {stroke: black; fill: none}.y-axis .grid {stroke: #FAFAFA}.node > .sym {fill: black; stroke: none}.site > .sym {stroke: black}.mut text {fill: red; font-style: italic}.mut.extra text {fill: hotpink}.mut line {fill: none; stroke: none}.mut .sym {fill: none; stroke: red}.mut.extra .sym {stroke: hotpink}.node .mut .sym {stroke-width: 1.5px}.tree text, .tree-sequence text {dominant-baseline: central}.plotbox .lab.lft {text-anchor: end}.plotbox .lab.rgt {text-anchor: start}]]></style></defs><g class=\"tree-sequence\"><g class=\"background\"><path d=\"M20,0 l186.667,0 l0,138.2 l-46.6667,25 l0,5 l-140,0 l0,-5 l0,-25 l0,-138.2z\"/><path d=\"M206.667,0 l186.667,0 l0,138.2 l46.6667,25 l0,5 l-280,0 l0,-5 l46.6667,-25 l0,-138.2z\"/><path d=\"M393.333,0 l186.667,0 l0,138.2 l0,25 l0,5 l-140,0 l0,-5 l-46.6667,-25 l0,-138.2z\"/></g><g class=\"axes\"><g class=\"x-axis\"><g transform=\"translate(300 200)\"><text class=\"lab\" text-anchor=\"middle\" transform=\"translate(0 -11)\">Genome position</text></g><line x1=\"20\" x2=\"580\" y1=\"163.2\" y2=\"163.2\"/><g class=\"ticks\"><g class=\"tick\" transform=\"translate(20 163.2)\"><line x1=\"0\" x2=\"0\" y1=\"0\" y2=\"5\"/><g transform=\"translate(0 6)\"><text class=\"lab\">0</text></g></g><g class=\"tick\" transform=\"translate(160 163.2)\"><line x1=\"0\" x2=\"0\" y1=\"0\" y2=\"5\"/><g transform=\"translate(0 6)\"><text class=\"lab\">15</text></g></g><g class=\"tick\" transform=\"translate(440 163.2)\"><line x1=\"0\" x2=\"0\" y1=\"0\" y2=\"5\"/><g transform=\"translate(0 6)\"><text class=\"lab\">45</text></g></g><g class=\"tick\" transform=\"translate(580 163.2)\"><line x1=\"0\" x2=\"0\" y1=\"0\" y2=\"5\"/><g transform=\"translate(0 6)\"><text class=\"lab\">60</text></g></g></g><g class=\"site s0\" transform=\"translate(20 163.2)\"><line class=\"sym\" x1=\"0\" x2=\"0\" y1=\"0\" y2=\"-10\"/></g><g class=\"site s1\" transform=\"translate(29.3333 163.2)\"><line class=\"sym\" x1=\"0\" x2=\"0\" y1=\"0\" y2=\"-10\"/><g class=\"mut m0\"><polyline class=\"sym\" points=\"2.5,-6.5 0,-1.5 -2.5,-6.5\"/></g></g><g class=\"site s2\" transform=\"translate(38.6667 163.2)\"><line class=\"sym\" x1=\"0\" x2=\"0\" y1=\"0\" y2=\"-10\"/></g><g class=\"site s3\" transform=\"translate(48 163.2)\"><line class=\"sym\" x1=\"0\" x2=\"0\" y1=\"0\" y2=\"-10\"/><g class=\"mut m1\"><polyline class=\"sym\" points=\"2.5,-6.5 0,-1.5 -2.5,-6.5\"/></g></g><g class=\"site s4\" transform=\"translate(57.3333 163.2)\"><line class=\"sym\" x1=\"0\" x2=\"0\" y1=\"0\" y2=\"-10\"/><g class=\"mut m2\"><polyline class=\"sym\" points=\"2.5,-6.5 0,-1.5 -2.5,-6.5\"/></g></g><g class=\"site s5\" transform=\"translate(66.6667 163.2)\"><line class=\"sym\" x1=\"0\" x2=\"0\" y1=\"0\" y2=\"-10\"/><g class=\"mut m3\"><polyline class=\"sym\" points=\"2.5,-6.5 0,-1.5 -2.5,-6.5\"/></g></g><g class=\"site s6\" transform=\"translate(76 163.2)\"><line class=\"sym\" x1=\"0\" x2=\"0\" y1=\"0\" y2=\"-10\"/><g class=\"mut m5\"><polyline class=\"sym\" points=\"2.5,-6.5 0,-1.5 -2.5,-6.5\"/></g><g class=\"mut m4\"><polyline class=\"sym\" points=\"2.5,-10.5 0,-5.5 -2.5,-10.5\"/></g></g><g class=\"site s7\" transform=\"translate(85.3333 163.2)\"><line class=\"sym\" x1=\"0\" x2=\"0\" y1=\"0\" y2=\"-10\"/></g><g class=\"site s8\" transform=\"translate(94.6667 163.2)\"><line class=\"sym\" x1=\"0\" x2=\"0\" y1=\"0\" y2=\"-10\"/><g class=\"mut m6\"><polyline class=\"sym\" points=\"2.5,-6.5 0,-1.5 -2.5,-6.5\"/></g></g><g class=\"site s9\" transform=\"translate(104 163.2)\"><line class=\"sym\" x1=\"0\" x2=\"0\" y1=\"0\" y2=\"-10\"/><g class=\"mut m7\"><polyline class=\"sym\" points=\"2.5,-6.5 0,-1.5 -2.5,-6.5\"/></g></g><g class=\"site s10\" transform=\"translate(113.333 163.2)\"><line class=\"sym\" x1=\"0\" x2=\"0\" y1=\"0\" y2=\"-10\"/><g class=\"mut m8\"><polyline class=\"sym\" points=\"2.5,-6.5 0,-1.5 -2.5,-6.5\"/></g></g><g class=\"site s11\" transform=\"translate(122.667 163.2)\"><line class=\"sym\" x1=\"0\" x2=\"0\" y1=\"0\" y2=\"-10\"/><g class=\"mut m9\"><polyline class=\"sym\" points=\"2.5,-6.5 0,-1.5 -2.5,-6.5\"/></g></g><g class=\"site s12\" transform=\"translate(132 163.2)\"><line class=\"sym\" x1=\"0\" x2=\"0\" y1=\"0\" y2=\"-10\"/></g><g class=\"site s13\" transform=\"translate(141.333 163.2)\"><line class=\"sym\" x1=\"0\" x2=\"0\" y1=\"0\" y2=\"-10\"/><g class=\"mut m10\"><polyline class=\"sym\" points=\"2.5,-6.5 0,-1.5 -2.5,-6.5\"/></g></g><g class=\"site s14\" transform=\"translate(150.667 163.2)\"><line class=\"sym\" x1=\"0\" x2=\"0\" y1=\"0\" y2=\"-10\"/></g><g class=\"site s15\" transform=\"translate(160 163.2)\"><line class=\"sym\" x1=\"0\" x2=\"0\" y1=\"0\" y2=\"-10\"/></g><g class=\"site s16\" transform=\"translate(169.333 163.2)\"><line class=\"sym\" x1=\"0\" x2=\"0\" y1=\"0\" y2=\"-10\"/></g><g class=\"site s17\" transform=\"translate(178.667 163.2)\"><line class=\"sym\" x1=\"0\" x2=\"0\" y1=\"0\" y2=\"-10\"/></g><g class=\"site s18\" transform=\"translate(188 163.2)\"><line class=\"sym\" x1=\"0\" x2=\"0\" y1=\"0\" y2=\"-10\"/></g><g class=\"site s19\" transform=\"translate(197.333 163.2)\"><line class=\"sym\" x1=\"0\" x2=\"0\" y1=\"0\" y2=\"-10\"/></g><g class=\"site s20\" transform=\"translate(206.667 163.2)\"><line class=\"sym\" x1=\"0\" x2=\"0\" y1=\"0\" y2=\"-10\"/></g><g class=\"site s21\" transform=\"translate(216 163.2)\"><line class=\"sym\" x1=\"0\" x2=\"0\" y1=\"0\" y2=\"-10\"/></g><g class=\"site s22\" transform=\"translate(225.333 163.2)\"><line class=\"sym\" x1=\"0\" x2=\"0\" y1=\"0\" y2=\"-10\"/></g><g class=\"site s23\" transform=\"translate(234.667 163.2)\"><line class=\"sym\" x1=\"0\" x2=\"0\" y1=\"0\" y2=\"-10\"/></g><g class=\"site s24\" transform=\"translate(244 163.2)\"><line class=\"sym\" x1=\"0\" x2=\"0\" y1=\"0\" y2=\"-10\"/></g><g class=\"site s25\" transform=\"translate(253.333 163.2)\"><line class=\"sym\" x1=\"0\" x2=\"0\" y1=\"0\" y2=\"-10\"/></g><g class=\"site s26\" transform=\"translate(262.667 163.2)\"><line class=\"sym\" x1=\"0\" x2=\"0\" y1=\"0\" y2=\"-10\"/></g><g class=\"site s27\" transform=\"translate(272 163.2)\"><line class=\"sym\" x1=\"0\" x2=\"0\" y1=\"0\" y2=\"-10\"/></g><g class=\"site s28\" transform=\"translate(281.333 163.2)\"><line class=\"sym\" x1=\"0\" x2=\"0\" y1=\"0\" y2=\"-10\"/></g><g class=\"site s29\" transform=\"translate(290.667 163.2)\"><line class=\"sym\" x1=\"0\" x2=\"0\" y1=\"0\" y2=\"-10\"/></g><g class=\"site s30\" transform=\"translate(300 163.2)\"><line class=\"sym\" x1=\"0\" x2=\"0\" y1=\"0\" y2=\"-10\"/></g><g class=\"site s31\" transform=\"translate(309.333 163.2)\"><line class=\"sym\" x1=\"0\" x2=\"0\" y1=\"0\" y2=\"-10\"/></g><g class=\"site s32\" transform=\"translate(318.667 163.2)\"><line class=\"sym\" x1=\"0\" x2=\"0\" y1=\"0\" y2=\"-10\"/></g><g class=\"site s33\" transform=\"translate(328 163.2)\"><line class=\"sym\" x1=\"0\" x2=\"0\" y1=\"0\" y2=\"-10\"/></g><g class=\"site s34\" transform=\"translate(337.333 163.2)\"><line class=\"sym\" x1=\"0\" x2=\"0\" y1=\"0\" y2=\"-10\"/></g><g class=\"site s35\" transform=\"translate(346.667 163.2)\"><line class=\"sym\" x1=\"0\" x2=\"0\" y1=\"0\" y2=\"-10\"/></g><g class=\"site s36\" transform=\"translate(356 163.2)\"><line class=\"sym\" x1=\"0\" x2=\"0\" y1=\"0\" y2=\"-10\"/></g><g class=\"site s37\" transform=\"translate(365.333 163.2)\"><line class=\"sym\" x1=\"0\" x2=\"0\" y1=\"0\" y2=\"-10\"/></g><g class=\"site s38\" transform=\"translate(374.667 163.2)\"><line class=\"sym\" x1=\"0\" x2=\"0\" y1=\"0\" y2=\"-10\"/></g><g class=\"site s39\" transform=\"translate(384 163.2)\"><line class=\"sym\" x1=\"0\" x2=\"0\" y1=\"0\" y2=\"-10\"/></g><g class=\"site s40\" transform=\"translate(393.333 163.2)\"><line class=\"sym\" x1=\"0\" x2=\"0\" y1=\"0\" y2=\"-10\"/></g><g class=\"site s41\" transform=\"translate(402.667 163.2)\"><line class=\"sym\" x1=\"0\" x2=\"0\" y1=\"0\" y2=\"-10\"/></g><g class=\"site s42\" transform=\"translate(412 163.2)\"><line class=\"sym\" x1=\"0\" x2=\"0\" y1=\"0\" y2=\"-10\"/></g><g class=\"site s43\" transform=\"translate(421.333 163.2)\"><line class=\"sym\" x1=\"0\" x2=\"0\" y1=\"0\" y2=\"-10\"/></g><g class=\"site s44\" transform=\"translate(430.667 163.2)\"><line class=\"sym\" x1=\"0\" x2=\"0\" y1=\"0\" y2=\"-10\"/></g><g class=\"site s45\" transform=\"translate(440 163.2)\"><line class=\"sym\" x1=\"0\" x2=\"0\" y1=\"0\" y2=\"-10\"/><g class=\"mut m11\"><polyline class=\"sym\" points=\"2.5,-6.5 0,-1.5 -2.5,-6.5\"/></g></g><g class=\"site s46\" transform=\"translate(449.333 163.2)\"><line class=\"sym\" x1=\"0\" x2=\"0\" y1=\"0\" y2=\"-10\"/><g class=\"mut m13\"><polyline class=\"sym\" points=\"2.5,-6.5 0,-1.5 -2.5,-6.5\"/></g><g class=\"mut m12\"><polyline class=\"sym\" points=\"2.5,-10.5 0,-5.5 -2.5,-10.5\"/></g></g><g class=\"site s47\" transform=\"translate(458.667 163.2)\"><line class=\"sym\" x1=\"0\" x2=\"0\" y1=\"0\" y2=\"-10\"/><g class=\"mut m15\"><polyline class=\"sym\" points=\"2.5,-6.5 0,-1.5 -2.5,-6.5\"/></g><g class=\"mut m14\"><polyline class=\"sym\" points=\"2.5,-10.5 0,-5.5 -2.5,-10.5\"/></g></g><g class=\"site s48\" transform=\"translate(468 163.2)\"><line class=\"sym\" x1=\"0\" x2=\"0\" y1=\"0\" y2=\"-10\"/></g><g class=\"site s49\" transform=\"translate(477.333 163.2)\"><line class=\"sym\" x1=\"0\" x2=\"0\" y1=\"0\" y2=\"-10\"/><g class=\"mut m16\"><polyline class=\"sym\" points=\"2.5,-6.5 0,-1.5 -2.5,-6.5\"/></g></g><g class=\"site s50\" transform=\"translate(486.667 163.2)\"><line class=\"sym\" x1=\"0\" x2=\"0\" y1=\"0\" y2=\"-10\"/><g class=\"mut m17\"><polyline class=\"sym\" points=\"2.5,-6.5 0,-1.5 -2.5,-6.5\"/></g></g><g class=\"site s51\" transform=\"translate(496 163.2)\"><line class=\"sym\" x1=\"0\" x2=\"0\" y1=\"0\" y2=\"-10\"/></g><g class=\"site s52\" transform=\"translate(505.333 163.2)\"><line class=\"sym\" x1=\"0\" x2=\"0\" y1=\"0\" y2=\"-10\"/><g class=\"mut m18\"><polyline class=\"sym\" points=\"2.5,-6.5 0,-1.5 -2.5,-6.5\"/></g></g><g class=\"site s53\" transform=\"translate(514.667 163.2)\"><line class=\"sym\" x1=\"0\" x2=\"0\" y1=\"0\" y2=\"-10\"/><g class=\"mut m19\"><polyline class=\"sym\" points=\"2.5,-6.5 0,-1.5 -2.5,-6.5\"/></g></g><g class=\"site s54\" transform=\"translate(524 163.2)\"><line class=\"sym\" x1=\"0\" x2=\"0\" y1=\"0\" y2=\"-10\"/><g class=\"mut m20\"><polyline class=\"sym\" points=\"2.5,-6.5 0,-1.5 -2.5,-6.5\"/></g></g><g class=\"site s55\" transform=\"translate(533.333 163.2)\"><line class=\"sym\" x1=\"0\" x2=\"0\" y1=\"0\" y2=\"-10\"/><g class=\"mut m21\"><polyline class=\"sym\" points=\"2.5,-6.5 0,-1.5 -2.5,-6.5\"/></g></g><g class=\"site s56\" transform=\"translate(542.667 163.2)\"><line class=\"sym\" x1=\"0\" x2=\"0\" y1=\"0\" y2=\"-10\"/></g><g class=\"site s57\" transform=\"translate(552 163.2)\"><line class=\"sym\" x1=\"0\" x2=\"0\" y1=\"0\" y2=\"-10\"/></g><g class=\"site s58\" transform=\"translate(561.333 163.2)\"><line class=\"sym\" x1=\"0\" x2=\"0\" y1=\"0\" y2=\"-10\"/><g class=\"mut m22\"><polyline class=\"sym\" points=\"2.5,-6.5 0,-1.5 -2.5,-6.5\"/></g></g><g class=\"site s59\" transform=\"translate(570.667 163.2)\"><line class=\"sym\" x1=\"0\" x2=\"0\" y1=\"0\" y2=\"-10\"/><g class=\"mut m23\"><polyline class=\"sym\" points=\"2.5,-6.5 0,-1.5 -2.5,-6.5\"/></g></g></g></g><g class=\"plotbox trees\"><g class=\"tree t0\" transform=\"translate(20 0)\"><g class=\"plotbox\"><g class=\"c3 node n6 root\" transform=\"translate(64 58.3333)\"><g class=\"a6 leaf m0 m2 m7 m8 node n0 s1 s10 s4 s9 sample\" transform=\"translate(-29.3333 63.0667)\"><path class=\"edge\" d=\"M 0 0 V -63.0667 H 29.3333\"/><g class=\"mut m8 s10\" transform=\"translate(0 -31.1351)\"><line x1=\"0\" x2=\"0\" y1=\"0\" y2=\"31.1351\"/><path class=\"sym\" d=\"M -3,-3 l 6,6 M -3,3 l 6,-6\"/><text class=\"lab lft\" transform=\"translate(-5 0)\">8</text></g><g class=\"mut m0 s1\" transform=\"translate(0 -27.1731)\"><line x1=\"0\" x2=\"0\" y1=\"0\" y2=\"27.1731\"/><path class=\"sym\" d=\"M -3,-3 l 6,6 M -3,3 l 6,-6\"/><text class=\"lab lft\" transform=\"translate(-5 0)\">0</text></g><g class=\"mut m7 s9\" transform=\"translate(0 -26.8557)\"><line x1=\"0\" x2=\"0\" y1=\"0\" y2=\"26.8557\"/><path class=\"sym\" d=\"M -3,-3 l 6,6 M -3,3 l 6,-6\"/><text class=\"lab lft\" transform=\"translate(-5 0)\">7</text></g><g class=\"mut m2 s4\" transform=\"translate(0 -19.6933)\"><line x1=\"0\" x2=\"0\" y1=\"0\" y2=\"19.6933\"/><path class=\"sym\" d=\"M -3,-3 l 6,6 M -3,3 l 6,-6\"/><text class=\"lab lft\" transform=\"translate(-5 0)\">2</text></g><rect class=\"sym\" height=\"6\" width=\"6\" x=\"-3\" y=\"-3\"/><text class=\"lab\" transform=\"translate(0 11)\">0</text></g><g class=\"a6 leaf node n1 sample\" transform=\"translate(0.0 63.0667)\"><path class=\"edge\" d=\"M 0 0 V -63.0667 H 0.0\"/><rect class=\"sym\" height=\"6\" width=\"6\" x=\"-3\" y=\"-3\"/><text class=\"lab\" transform=\"translate(0 11)\">1</text></g><g class=\"a6 leaf m5 m6 node n2 s6 s8 sample\" transform=\"translate(29.3333 63.0667)\"><path class=\"edge\" d=\"M 0 0 V -63.0667 H -29.3333\"/><g class=\"mut m5 s6\" transform=\"translate(0 -39.5585)\"><line x1=\"0\" x2=\"0\" y1=\"0\" y2=\"39.5585\"/><path class=\"sym\" d=\"M -3,-3 l 6,6 M -3,3 l 6,-6\"/><text class=\"lab rgt\" transform=\"translate(5 0)\">5</text></g><g class=\"mut m6 s8\" transform=\"translate(0 -6.03627)\"><line x1=\"0\" x2=\"0\" y1=\"0\" y2=\"6.03627\"/><path class=\"sym\" d=\"M -3,-3 l 6,6 M -3,3 l 6,-6\"/><text class=\"lab rgt\" transform=\"translate(5 0)\">6</text></g><rect class=\"sym\" height=\"6\" width=\"6\" x=\"-3\" y=\"-3\"/><text class=\"lab\" transform=\"translate(0 11)\">2</text></g><circle class=\"sym\" cx=\"0\" cy=\"0\" r=\"3\"/><text class=\"lab\" transform=\"translate(0 -11)\">6</text></g><g class=\"c1 node n7 root\" transform=\"translate(137.333 26.8)\"><g class=\"a7 c2 m10 m4 m9 node n5 s11 s13 s6\" transform=\"translate(0.0 63.0667)\"><g class=\"a5 leaf m1 node n3 s3 sample\" transform=\"translate(-14.6667 31.5333)\"><path class=\"edge\" d=\"M 0 0 V -31.5333 H 14.6667\"/><g class=\"mut m1 s3\" transform=\"translate(0 -21.9079)\"><line x1=\"0\" x2=\"0\" y1=\"0\" y2=\"21.9079\"/><path class=\"sym\" d=\"M -3,-3 l 6,6 M -3,3 l 6,-6\"/><text class=\"lab lft\" transform=\"translate(-5 0)\">1</text></g><rect class=\"sym\" height=\"6\" width=\"6\" x=\"-3\" y=\"-3\"/><text class=\"lab\" transform=\"translate(0 11)\">3</text></g><g class=\"a5 leaf m3 node n4 s5 sample\" transform=\"translate(14.6667 31.5333)\"><path class=\"edge\" d=\"M 0 0 V -31.5333 H -14.6667\"/><g class=\"mut m3 s5\" transform=\"translate(0 -16.7616)\"><line x1=\"0\" x2=\"0\" y1=\"0\" y2=\"16.7616\"/><path class=\"sym\" d=\"M -3,-3 l 6,6 M -3,3 l 6,-6\"/><text class=\"lab rgt\" transform=\"translate(5 0)\">3</text></g><rect class=\"sym\" height=\"6\" width=\"6\" x=\"-3\" y=\"-3\"/><text class=\"lab\" transform=\"translate(0 11)\">4</text></g><path class=\"edge\" d=\"M 0 0 V -63.0667 H 0.0\"/><g class=\"mut m10 s13\" transform=\"translate(0 -57.3761)\"><line x1=\"0\" x2=\"0\" y1=\"0\" y2=\"57.3761\"/><path class=\"sym\" d=\"M -3,-3 l 6,6 M -3,3 l 6,-6\"/><text class=\"lab lft\" transform=\"translate(-5 0)\">10</text></g><g class=\"mut m4 s6\" transform=\"translate(0 -32.2684)\"><line x1=\"0\" x2=\"0\" y1=\"0\" y2=\"32.2684\"/><path class=\"sym\" d=\"M -3,-3 l 6,6 M -3,3 l 6,-6\"/><text class=\"lab lft\" transform=\"translate(-5 0)\">4</text></g><g class=\"mut m9 s11\" transform=\"translate(0 -13.7722)\"><line x1=\"0\" x2=\"0\" y1=\"0\" y2=\"13.7722\"/><path class=\"sym\" d=\"M -3,-3 l 6,6 M -3,3 l 6,-6\"/><text class=\"lab lft\" transform=\"translate(-5 0)\">9</text></g><circle class=\"sym\" cx=\"0\" cy=\"0\" r=\"3\"/><text class=\"lab lft\" transform=\"translate(-3 -7.0)\">5</text></g><circle class=\"sym\" cx=\"0\" cy=\"0\" r=\"3\"/><text class=\"lab\" transform=\"translate(0 -11)\">7</text></g></g></g><g class=\"tree t1\" transform=\"translate(206.667 0)\"><g class=\"plotbox\"><g class=\"leaf node n2 root sample\" transform=\"translate(34.6667 121.4)\"><rect class=\"sym\" height=\"6\" width=\"6\" x=\"-3\" y=\"-3\"/><text class=\"lab\" transform=\"translate(0 11)\">2</text></g><g class=\"leaf node n1 root sample\" transform=\"translate(64 121.4)\"><rect class=\"sym\" height=\"6\" width=\"6\" x=\"-3\" y=\"-3\"/><text class=\"lab\" transform=\"translate(0 11)\">1</text></g><g class=\"leaf node n0 root sample\" transform=\"translate(93.3333 121.4)\"><rect class=\"sym\" height=\"6\" width=\"6\" x=\"-3\" y=\"-3\"/><text class=\"lab\" transform=\"translate(0 11)\">0</text></g><g class=\"leaf node n4 root sample\" transform=\"translate(122.667 121.4)\"><rect class=\"sym\" height=\"6\" width=\"6\" x=\"-3\" y=\"-3\"/><text class=\"lab\" transform=\"translate(0 11)\">4</text></g><g class=\"leaf node n3 root sample\" transform=\"translate(152 121.4)\"><rect class=\"sym\" height=\"6\" width=\"6\" x=\"-3\" y=\"-3\"/><text class=\"lab\" transform=\"translate(0 11)\">3</text></g></g></g><g class=\"tree t2\" transform=\"translate(393.333 0)\"><g class=\"plotbox\"><g class=\"leaf node n2 root sample\" transform=\"translate(34.6667 121.4)\"><rect class=\"sym\" height=\"6\" width=\"6\" x=\"-3\" y=\"-3\"/><text class=\"lab\" transform=\"translate(0 11)\">2</text></g><g class=\"c2 node n6 root\" transform=\"translate(78.6667 58.3333)\"><g class=\"a6 leaf m11 m13 m19 node n0 s45 s46 s53 sample\" transform=\"translate(-14.6667 63.0667)\"><path class=\"edge\" d=\"M 0 0 V -63.0667 H 14.6667\"/><g class=\"mut m11 s45\" transform=\"translate(0 -56.3431)\"><line x1=\"0\" x2=\"0\" y1=\"0\" y2=\"56.3431\"/><path class=\"sym\" d=\"M -3,-3 l 6,6 M -3,3 l 6,-6\"/><text class=\"lab lft\" transform=\"translate(-5 0)\">11</text></g><g class=\"mut m13 s46\" transform=\"translate(0 -27.3521)\"><line x1=\"0\" x2=\"0\" y1=\"0\" y2=\"27.3521\"/><path class=\"sym\" d=\"M -3,-3 l 6,6 M -3,3 l 6,-6\"/><text class=\"lab lft\" transform=\"translate(-5 0)\">13</text></g><g class=\"mut m19 s53\" transform=\"translate(0 -26.8886)\"><line x1=\"0\" x2=\"0\" y1=\"0\" y2=\"26.8886\"/><path class=\"sym\" d=\"M -3,-3 l 6,6 M -3,3 l 6,-6\"/><text class=\"lab lft\" transform=\"translate(-5 0)\">19</text></g><rect class=\"sym\" height=\"6\" width=\"6\" x=\"-3\" y=\"-3\"/><text class=\"lab\" transform=\"translate(0 11)\">0</text></g><g class=\"a6 leaf m16 m17 m18 node n1 s49 s50 s52 sample\" transform=\"translate(14.6667 63.0667)\"><path class=\"edge\" d=\"M 0 0 V -63.0667 H -14.6667\"/><g class=\"mut m16 s49\" transform=\"translate(0 -50.3101)\"><line x1=\"0\" x2=\"0\" y1=\"0\" y2=\"50.3101\"/><path class=\"sym\" d=\"M -3,-3 l 6,6 M -3,3 l 6,-6\"/><text class=\"lab rgt\" transform=\"translate(5 0)\">16</text></g><g class=\"mut m18 s52\" transform=\"translate(0 -16.8895)\"><line x1=\"0\" x2=\"0\" y1=\"0\" y2=\"16.8895\"/><path class=\"sym\" d=\"M -3,-3 l 6,6 M -3,3 l 6,-6\"/><text class=\"lab rgt\" transform=\"translate(5 0)\">18</text></g><g class=\"mut m17 s50\" transform=\"translate(0 -11.0602)\"><line x1=\"0\" x2=\"0\" y1=\"0\" y2=\"11.0602\"/><path class=\"sym\" d=\"M -3,-3 l 6,6 M -3,3 l 6,-6\"/><text class=\"lab rgt\" transform=\"translate(5 0)\">17</text></g><rect class=\"sym\" height=\"6\" width=\"6\" x=\"-3\" y=\"-3\"/><text class=\"lab\" transform=\"translate(0 11)\">1</text></g><circle class=\"sym\" cx=\"0\" cy=\"0\" r=\"3\"/><text class=\"lab\" transform=\"translate(0 -11)\">6</text></g><g class=\"c1 node n7 root\" transform=\"translate(137.333 26.8)\"><g class=\"a7 c2 m12 m14 m15 m20 m21 m23 node n5 s46 s47 s54 s55 s59\" transform=\"translate(0.0 63.0667)\"><g class=\"a5 leaf m22 node n3 s58 sample\" transform=\"translate(-14.6667 31.5333)\"><path class=\"edge\" d=\"M 0 0 V -31.5333 H 14.6667\"/><g class=\"mut m22 s58\" transform=\"translate(0 -12.9578)\"><line x1=\"0\" x2=\"0\" y1=\"0\" y2=\"12.9578\"/><path class=\"sym\" d=\"M -3,-3 l 6,6 M -3,3 l 6,-6\"/><text class=\"lab lft\" transform=\"translate(-5 0)\">22</text></g><rect class=\"sym\" height=\"6\" width=\"6\" x=\"-3\" y=\"-3\"/><text class=\"lab\" transform=\"translate(0 11)\">3</text></g><g class=\"a5 leaf node n4 sample\" transform=\"translate(14.6667 31.5333)\"><path class=\"edge\" d=\"M 0 0 V -31.5333 H -14.6667\"/><rect class=\"sym\" height=\"6\" width=\"6\" x=\"-3\" y=\"-3\"/><text class=\"lab\" transform=\"translate(0 11)\">4</text></g><path class=\"edge\" d=\"M 0 0 V -63.0667 H 0.0\"/><g class=\"mut m14 s47\" transform=\"translate(0 -40.238)\"><line x1=\"0\" x2=\"0\" y1=\"0\" y2=\"40.238\"/><path class=\"sym\" d=\"M -3,-3 l 6,6 M -3,3 l 6,-6\"/><text class=\"lab lft\" transform=\"translate(-5 0)\">14</text></g><g class=\"mut m20 s54\" transform=\"translate(0 -35.1104)\"><line x1=\"0\" x2=\"0\" y1=\"0\" y2=\"35.1104\"/><path class=\"sym\" d=\"M -3,-3 l 6,6 M -3,3 l 6,-6\"/><text class=\"lab lft\" transform=\"translate(-5 0)\">20</text></g><g class=\"mut m15 s47\" transform=\"translate(0 -34.6338)\"><line x1=\"0\" x2=\"0\" y1=\"0\" y2=\"34.6338\"/><path class=\"sym\" d=\"M -3,-3 l 6,6 M -3,3 l 6,-6\"/><text class=\"lab lft\" transform=\"translate(-5 0)\">15</text></g><g class=\"mut m12 s46\" transform=\"translate(0 -23.9764)\"><line x1=\"0\" x2=\"0\" y1=\"0\" y2=\"23.9764\"/><path class=\"sym\" d=\"M -3,-3 l 6,6 M -3,3 l 6,-6\"/><text class=\"lab lft\" transform=\"translate(-5 0)\">12</text></g><g class=\"mut m21 s55\" transform=\"translate(0 -3.63567)\"><line x1=\"0\" x2=\"0\" y1=\"0\" y2=\"3.63567\"/><path class=\"sym\" d=\"M -3,-3 l 6,6 M -3,3 l 6,-6\"/><text class=\"lab lft\" transform=\"translate(-5 0)\">21</text></g><g class=\"mut m23 s59\" transform=\"translate(0 -0.260758)\"><line x1=\"0\" x2=\"0\" y1=\"0\" y2=\"0.260758\"/><path class=\"sym\" d=\"M -3,-3 l 6,6 M -3,3 l 6,-6\"/><text class=\"lab lft\" transform=\"translate(-5 0)\">23</text></g><circle class=\"sym\" cx=\"0\" cy=\"0\" r=\"3\"/><text class=\"lab lft\" transform=\"translate(-3 -7.0)\">5</text></g><circle class=\"sym\" cx=\"0\" cy=\"0\" r=\"3\"/><text class=\"lab\" transform=\"translate(0 -11)\">7</text></g></g></g></g></g></svg>"
      ],
      "text/plain": [
       "<IPython.core.display.SVG object>"
      ]
     },
     "execution_count": 13,
     "metadata": {
      "filenames": {
       "image/svg+xml": "/home/runner/work/tskit-site/tskit-site/docs/_build/jupyter_execute/data-model_24_0.svg"
      }
     },
     "output_type": "execute_result"
    }
   ],
   "source": [
    "import numpy as np\n",
    "import msprime\n",
    "\n",
    "tables = msprime.sim_mutations(ts_isolated, rate=0.1, random_seed=123).dump_tables()\n",
    "tables.delete_intervals([[15, 45]], simplify=False)\n",
    "missing_sites = np.setdiff1d(np.arange(tables.sequence_length), tables.sites.position)\n",
    "for pos in missing_sites:\n",
    "    tables.sites.add_row(position=pos, ancestral_state=\"A\")  # Add sites at every pos\n",
    "tables.sort()\n",
    "missing_ts = tables.tree_sequence()\n",
    "SVG(missing_ts.draw_svg())"
   ]
  },
  {
   "cell_type": "markdown",
   "id": "a4244cc1",
   "metadata": {},
   "source": [
    "The middle section of the genome now has no ancestry at all, and therefore for any site\n",
    "that is in this region, the genotypic state that it is assigned is a special value\n",
    "`tskit.MISSING_DATA`, or `-1`. The {meth}`~TreeSequence.haplotypes()` method, which\n",
    "outputs the actual allelic state for each sample, defaults to outputting an `N` at\n",
    "these sites. Therefore where any sample node is isolated, the haplotype will show\n",
    "an `N`, indicating the DNA sequence is unknown. This will be so not only in the\n",
    "middle of all of the sample genomes, but also at the right hand end of the genome of\n",
    "sample 2, as it is an isolated sample node in the rightmost tree:"
   ]
  },
  {
   "cell_type": "code",
   "execution_count": 14,
   "id": "b653416b",
   "metadata": {},
   "outputs": [
    {
     "name": "stdout",
     "output_type": "stream",
     "text": [
      "Sample 0: AAAGCCAATGAAATANNNNNNNNNNNNNNNNNNNNNNNNNNNNNNGGAACGAATTGAACT\n",
      "Sample 1: AGAGACAATAGAATANNNNNNNNNNNNNNNNNNNNNNNNNNNNNNTAAATAACCTGAACT\n",
      "Sample 2: AGAGACGACAGAATANNNNNNNNNNNNNNNNNNNNNNNNNNNNNNNNNNNNNNNNNNNNN\n",
      "Sample 3: AGATACGATAGCAAANNNNNNNNNNNNNNNNNNNNNNNNNNNNNNTCTACGAACAAAAAC\n",
      "Sample 4: AGAGATGATAGCAAANNNNNNNNNNNNNNNNNNNNNNNNNNNNNNTCTACGAACAAAACC\n"
     ]
    }
   ],
   "source": [
    "for i, h in enumerate(missing_ts.haplotypes()):\n",
    "    print(f\"Sample {i}: {h}\")"
   ]
  },
  {
   "cell_type": "markdown",
   "id": "6e99a279",
   "metadata": {},
   "source": [
    "See the {meth}`TreeSequence.variants` method and {class}`Variant` class for\n",
    "more information on how missing data is represented in variant data."
   ]
  }
 ],
 "metadata": {
  "jupytext": {
   "text_representation": {
    "extension": ".md",
    "format_name": "myst",
    "format_version": 0.12,
    "jupytext_version": "1.9.1"
   }
  },
  "kernelspec": {
   "display_name": "Python 3",
   "language": "python",
   "name": "python3"
  },
  "language_info": {
   "codemirror_mode": {
    "name": "ipython",
    "version": 3
   },
   "file_extension": ".py",
   "mimetype": "text/x-python",
   "name": "python",
   "nbconvert_exporter": "python",
   "pygments_lexer": "ipython3",
   "version": "3.8.14"
  },
  "source_map": [
   12,
   638,
   647,
   654,
   658,
   674,
   676,
   717,
   753,
   779,
   823,
   827,
   840,
   846,
   858,
   861,
   887,
   890,
   930,
   941,
   949,
   956,
   962,
   969,
   1039,
   1053,
   1065,
   1068
  ]
 },
 "nbformat": 4,
 "nbformat_minor": 5
}