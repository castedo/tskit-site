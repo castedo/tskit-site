{
 "cells": [
  {
   "cell_type": "markdown",
   "id": "23723f8c",
   "metadata": {},
   "source": [
    "```{currentmodule} tskit\n",
    "```\n",
    "\n",
    "(sec_installation)=\n",
    "\n",
    "\n",
    "# Installation\n",
    "\n",
    "There are two basic options for installing `tskit`: either through\n",
    "pre-built binary packages using {ref}`sec_installation_conda` or\n",
    "by compiling locally using {ref}`sec_installation_pip`. We recommend using `conda`\n",
    "for most users, although `pip` can be more convenient in certain cases.\n",
    "Tskit is installed to provide succinct tree sequence functionality\n",
    "to other software (such as [msprime](https://github.com/tskit-dev/msprime)),\n",
    "so it may already be installed if you use such software.\n",
    "\n",
    "(sec_installation_requirements)=\n",
    "\n",
    "\n",
    "## Requirements\n",
    "\n",
    "Tskit requires Python 3.7+. There are no external C library dependencies. Python\n",
    "dependencies are installed automatically by `pip` or `conda`.\n",
    "\n",
    "(sec_installation_conda)=\n",
    "\n",
    "\n",
    "## Conda\n",
    "\n",
    "Pre-built binary packages for `tskit` are available through\n",
    "[conda](https://conda.io/docs/), and built using [conda-forge](https://conda-forge.org/).\n",
    "Packages for recent version of Python are available for Linux, OSX and Windows. Install\n",
    "using:\n",
    "\n",
    "```bash\n",
    "$ conda install -c conda-forge tskit\n",
    "```\n",
    "\n",
    "### Quick Start\n",
    "\n",
    "1. Install `conda` using [miniconda ](https://conda.io/miniconda.html).\n",
    "   Make sure you follow the instructions to fully activate your `conda`\n",
    "   installation!\n",
    "2. Set up the [conda-forge channel ](https://conda-forge.org/) using\n",
    "   `conda config --add channels conda-forge`.\n",
    "3. Install tskit: `conda install tskit`.\n",
    "4. Try it out: `tskit --version`.\n",
    "\n",
    "\n",
    "There are several different ways to obtain `conda`. Please see the\n",
    "[anaconda installation documentation](https://docs.anaconda.com/anaconda/install/)\n",
    "for full details.\n",
    "\n",
    "(sec_installation_pip)=\n",
    "\n",
    "\n",
    "## Pip\n",
    "\n",
    "Installing using `pip` is somewhat more flexible than `conda` and\n",
    "may result in code that is (slightly) faster on your specific hardware.\n",
    "`Pip` is the recommended method when using the system provided Python\n",
    "installations. Installation is straightforward:\n",
    "\n",
    "```bash\n",
    "$ python3 -m pip install tskit\n",
    "```\n",
    "\n",
    "(sec_installation_development_versions)=\n",
    "\n",
    "\n",
    "## Development versions\n",
    "\n",
    "For general use, we do not recommend installing development versions.\n",
    "Occasionally pre-release versions are made available, which can be\n",
    "installed using `python3 -m pip install --pre tskit`. If you really need to install a\n",
    "bleeding-edge version, see {ref}`sec_development_installing`."
   ]
  }
 ],
 "metadata": {
  "jupytext": {
   "text_representation": {
    "extension": ".md",
    "format_name": "myst",
    "format_version": 0.12,
    "jupytext_version": "1.9.1"
   }
  },
  "kernelspec": {
   "display_name": "Python 3",
   "language": "python",
   "name": "python3"
  },
  "language_info": {
   "codemirror_mode": {
    "name": "ipython",
    "version": 3
   },
   "file_extension": ".py",
   "mimetype": "text/x-python",
   "name": "python",
   "nbconvert_exporter": "python",
   "pygments_lexer": "ipython3",
   "version": "3.8.14"
  },
  "source_map": [
   12
  ]
 },
 "nbformat": 4,
 "nbformat_minor": 5
}