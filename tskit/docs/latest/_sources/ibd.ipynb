{
 "cells": [
  {
   "cell_type": "markdown",
   "id": "7394c319",
   "metadata": {},
   "source": [
    "```{currentmodule} tskit\n",
    "```\n",
    "\n",
    "\n",
    "(sec_identity)=\n",
    "\n",
    "# Identity by descent\n",
    "\n",
    "The {meth}`.TreeSequence.ibd_segments` method allows us to compute\n",
    "segments of identity by descent.\n",
    "\n",
    ":::{note}\n",
    "This documentation page is preliminary\n",
    ":::\n",
    "\n",
    ":::{todo}\n",
    "Relate the concept of identity by descent to the MRCA spans in the tree sequence.\n",
    ":::\n",
    "\n",
    "## Examples\n",
    "\n",
    "Let's take a simple tree sequence to illustrate the {meth}`.TreeSequence.ibd_segments`\n",
    "method and associated {ref}`sec_python_api_reference_identity`:"
   ]
  },
  {
   "cell_type": "code",
   "execution_count": 1,
   "id": "bd01b327",
   "metadata": {
    "tags": [
     "hide-input"
    ]
   },
   "outputs": [
    {
     "data": {
      "image/svg+xml": [
       "<svg xmlns=\"http://www.w3.org/2000/svg\" xmlns:ev=\"http://www.w3.org/2001/xml-events\" xmlns:xlink=\"http://www.w3.org/1999/xlink\" baseProfile=\"full\" height=\"200\" version=\"1.1\" width=\"400\"><defs><style type=\"text/css\"><![CDATA[.background path {fill: #808080; fill-opacity: 0}.background path:nth-child(odd) {fill-opacity: .1}.axes {font-size: 14px}.x-axis .tick .lab {font-weight: bold; dominant-baseline: hanging}.axes, .tree {font-size: 14px; text-anchor: middle}.axes line, .edge {stroke: black; fill: none}.y-axis .grid {stroke: #FAFAFA}.node > .sym {fill: black; stroke: none}.site > .sym {stroke: black}.mut text {fill: red; font-style: italic}.mut.extra text {fill: hotpink}.mut line {fill: none; stroke: none}.mut .sym {fill: none; stroke: red}.mut.extra .sym {stroke: hotpink}.node .mut .sym {stroke-width: 1.5px}.tree text, .tree-sequence text {dominant-baseline: central}.plotbox .lab.lft {text-anchor: end}.plotbox .lab.rgt {text-anchor: start}]]></style></defs><g class=\"tree-sequence\"><g class=\"background\"><path d=\"M20,0 l180,0 l0,138.2 l-108,25 l0,5 l-72,0 l0,-5 l0,-25 l0,-138.2z\"/><path d=\"M200,0 l180,0 l0,138.2 l0,25 l0,5 l-288,0 l0,-5 l108,-25 l0,-138.2z\"/></g><g class=\"axes\"><g class=\"x-axis\"><g transform=\"translate(200 200)\"><text class=\"lab\" text-anchor=\"middle\" transform=\"translate(0 -11)\">Genome position</text></g><line x1=\"20\" x2=\"380\" y1=\"163.2\" y2=\"163.2\"/><g class=\"ticks\"><g class=\"tick\" transform=\"translate(20 163.2)\"><line x1=\"0\" x2=\"0\" y1=\"0\" y2=\"5\"/><g transform=\"translate(0 6)\"><text class=\"lab\">0</text></g></g><g class=\"tick\" transform=\"translate(92 163.2)\"><line x1=\"0\" x2=\"0\" y1=\"0\" y2=\"5\"/><g transform=\"translate(0 6)\"><text class=\"lab\">2</text></g></g><g class=\"tick\" transform=\"translate(380 163.2)\"><line x1=\"0\" x2=\"0\" y1=\"0\" y2=\"5\"/><g transform=\"translate(0 6)\"><text class=\"lab\">10</text></g></g></g></g></g><g class=\"plotbox trees\"><g class=\"tree t0\" transform=\"translate(20 0)\"><g class=\"plotbox\"><g class=\"c2 node n5 root\" transform=\"translate(78.3333 26.8)\"><g class=\"a5 leaf node n0 sample\" transform=\"translate(-35 94.6)\"><path class=\"edge\" d=\"M 0 0 V -94.6 H 35\"/><rect class=\"sym\" height=\"6\" width=\"6\" x=\"-3\" y=\"-3\"/><text class=\"lab\" transform=\"translate(0 11)\">0</text></g><g class=\"a5 c2 node n4\" transform=\"translate(35 31.5333)\"><g class=\"a4 leaf node n1 sample\" transform=\"translate(-23.3333 63.0667)\"><path class=\"edge\" d=\"M 0 0 V -63.0667 H 23.3333\"/><rect class=\"sym\" height=\"6\" width=\"6\" x=\"-3\" y=\"-3\"/><text class=\"lab\" transform=\"translate(0 11)\">1</text></g><g class=\"a4 leaf node n2 sample\" transform=\"translate(23.3333 63.0667)\"><path class=\"edge\" d=\"M 0 0 V -63.0667 H -23.3333\"/><rect class=\"sym\" height=\"6\" width=\"6\" x=\"-3\" y=\"-3\"/><text class=\"lab\" transform=\"translate(0 11)\">2</text></g><path class=\"edge\" d=\"M 0 0 V -31.5333 H -35\"/><circle class=\"sym\" cx=\"0\" cy=\"0\" r=\"3\"/><text class=\"lab rgt\" transform=\"translate(3 -7.0)\">4</text></g><circle class=\"sym\" cx=\"0\" cy=\"0\" r=\"3\"/><text class=\"lab\" transform=\"translate(0 -11)\">5</text></g></g></g><g class=\"tree t1\" transform=\"translate(200 0)\"><g class=\"plotbox\"><g class=\"c2 node n4 root\" transform=\"translate(101.667 58.3333)\"><g class=\"a4 leaf node n1 sample\" transform=\"translate(35 63.0667)\"><path class=\"edge\" d=\"M 0 0 V -63.0667 H -35\"/><rect class=\"sym\" height=\"6\" width=\"6\" x=\"-3\" y=\"-3\"/><text class=\"lab\" transform=\"translate(0 11)\">1</text></g><g class=\"a4 c2 node n3\" transform=\"translate(-35 31.5333)\"><g class=\"a3 leaf node n0 sample\" transform=\"translate(-23.3333 31.5333)\"><path class=\"edge\" d=\"M 0 0 V -31.5333 H 23.3333\"/><rect class=\"sym\" height=\"6\" width=\"6\" x=\"-3\" y=\"-3\"/><text class=\"lab\" transform=\"translate(0 11)\">0</text></g><g class=\"a3 leaf node n2 sample\" transform=\"translate(23.3333 31.5333)\"><path class=\"edge\" d=\"M 0 0 V -31.5333 H -23.3333\"/><rect class=\"sym\" height=\"6\" width=\"6\" x=\"-3\" y=\"-3\"/><text class=\"lab\" transform=\"translate(0 11)\">2</text></g><path class=\"edge\" d=\"M 0 0 V -31.5333 H 35\"/><circle class=\"sym\" cx=\"0\" cy=\"0\" r=\"3\"/><text class=\"lab lft\" transform=\"translate(-3 -7.0)\">3</text></g><circle class=\"sym\" cx=\"0\" cy=\"0\" r=\"3\"/><text class=\"lab\" transform=\"translate(0 -11)\">4</text></g></g></g></g></g></svg>"
      ],
      "text/plain": [
       "<IPython.core.display.SVG object>"
      ]
     },
     "execution_count": 1,
     "metadata": {
      "filenames": {
       "image/svg+xml": "/home/runner/work/tskit-site/tskit-site/docs/_build/jupyter_execute/ibd_1_0.svg"
      }
     },
     "output_type": "execute_result"
    }
   ],
   "source": [
    "import tskit\n",
    "import io\n",
    "from IPython.display import SVG\n",
    "\n",
    "nodes = io.StringIO(\n",
    "    \"\"\"\\\n",
    "    id      is_sample   time\n",
    "    0       1           0\n",
    "    1       1           0\n",
    "    2       1           0\n",
    "    3       0           1\n",
    "    4       0           2\n",
    "    5       0           3\n",
    "    \"\"\"\n",
    ")\n",
    "edges = io.StringIO(\n",
    "    \"\"\"\\\n",
    "    left    right   parent  child\n",
    "    2     10     3       0\n",
    "    2     10     3       2\n",
    "    0     10     4       1\n",
    "    0     2      4       2\n",
    "    2     10     4       3\n",
    "    0     2      5       0\n",
    "    0     2      5       4\n",
    "    \"\"\"\n",
    ")\n",
    "ts = tskit.load_text(nodes=nodes, edges=edges, strict=False)\n",
    "\n",
    "SVG(ts.draw_svg())"
   ]
  },
  {
   "cell_type": "markdown",
   "id": "79ae9329",
   "metadata": {},
   "source": [
    "### Definition\n",
    "\n",
    "A pair of nodes ``(u, v)`` has an IBD segment with a left and right\n",
    "coordinate ``[left, right)`` and ancestral node ``a`` iff the most\n",
    "recent common ancestor of the segment ``[left, right)`` in nodes ``u``\n",
    "and ``v`` is ``a``, and the segment has been inherited along the same\n",
    "genealogical path (ie. it has not been broken by recombination). The\n",
    "segments returned are the longest possible ones.\n",
    "\n",
    "Consider the IBD segments that we get from our example tree sequence:"
   ]
  },
  {
   "cell_type": "code",
   "execution_count": 2,
   "id": "6a166961",
   "metadata": {},
   "outputs": [
    {
     "name": "stdout",
     "output_type": "stream",
     "text": [
      "(0, 1) [IdentitySegment(left=2.0, right=10.0, node=4), IdentitySegment(left=0.0, right=2.0, node=5)]\n",
      "(0, 2) [IdentitySegment(left=2.0, right=10.0, node=3), IdentitySegment(left=0.0, right=2.0, node=5)]\n",
      "(1, 2) [IdentitySegment(left=0.0, right=2.0, node=4), IdentitySegment(left=2.0, right=10.0, node=4)]\n"
     ]
    }
   ],
   "source": [
    "segments = ts.ibd_segments(store_segments=True)\n",
    "for pair, segment_list in segments.items():\n",
    "    print(pair, list(segment_list))"
   ]
  },
  {
   "cell_type": "markdown",
   "id": "7d001fc0",
   "metadata": {},
   "source": [
    "Each of the sample pairs (0, 1), (0, 2) and (1, 2) is associated with\n",
    "two IBD segments, representing the different paths from these sample\n",
    "pairs to their common ancestor. Note in particular that (1, 2) has\n",
    "**two** IBD segments rather than one: even though the MRCA is\n",
    "4 in both cases, the paths from the samples to the MRCA are different\n",
    "in the left and right trees.\n",
    "\n",
    "\n",
    "### Data structures\n",
    "\n",
    "The result of calling {meth}`.TreeSequence.ibd_segments` is an\n",
    "{class}`.IdentitySegments` class:"
   ]
  },
  {
   "cell_type": "code",
   "execution_count": 3,
   "id": "7905b2ef",
   "metadata": {},
   "outputs": [
    {
     "name": "stdout",
     "output_type": "stream",
     "text": [
      "╔════════════════════╗\n",
      "║IdentitySegments    ║\n",
      "╠══════════════╤═════╣\n",
      "║Parameters:   │     ║\n",
      "║max_time      │  inf║\n",
      "║min_span      │    0║\n",
      "║store_pairs   │False║\n",
      "║store_segments│False║\n",
      "║Results:      │     ║\n",
      "║num_segments  │    6║\n",
      "║total_span    │ 30.0║\n",
      "╚══════════════╧═════╝\n",
      "\n"
     ]
    }
   ],
   "source": [
    "segments = ts.ibd_segments()\n",
    "print(segments)"
   ]
  },
  {
   "cell_type": "markdown",
   "id": "768a9f78",
   "metadata": {},
   "source": [
    "By default this class only stores the high-level summaries of the\n",
    "IBD segments discovered. As we can see in this example, we have a\n",
    "total of six segments and\n",
    "the total span (i.e., the sum lengths of the genomic intervals spanned\n",
    "by IBD segments) is 30.\n",
    "\n",
    "If required, we can get more detailed information about particular\n",
    "segment pairs and the actual segments using the ``store_pairs``\n",
    "and ``store_segments`` arguments.\n",
    "\n",
    ":::{warning}\n",
    "Only use the ``store_pairs`` and ``store_segments`` arguments if you\n",
    "really need this information! The number of IBD segments can be\n",
    "very large and storing them all requires a lot of memory. It is\n",
    "also much faster to just compute the overall summaries, without\n",
    "needing to store the actual lists.\n",
    ":::"
   ]
  },
  {
   "cell_type": "code",
   "execution_count": 4,
   "id": "19d9f22e",
   "metadata": {},
   "outputs": [
    {
     "name": "stdout",
     "output_type": "stream",
     "text": [
      "(0, 1) :: IdentitySegmentList(num_segments=2, total_span=10.0)\n",
      "(0, 2) :: IdentitySegmentList(num_segments=2, total_span=10.0)\n",
      "(1, 2) :: IdentitySegmentList(num_segments=2, total_span=10.0)\n"
     ]
    }
   ],
   "source": [
    "segments = ts.ibd_segments(store_pairs=True)\n",
    "for pair, value in segments.items():\n",
    "    print(pair, \"::\", value)"
   ]
  },
  {
   "cell_type": "markdown",
   "id": "0262f2ca",
   "metadata": {},
   "source": [
    "Now we can see the more detailed breakdown of how the identity segments\n",
    "are distributed among the sample pairs. The {class}`.IdentitySegments`\n",
    "class behaves like a dictionary, such that ``segments[(a, b)]`` will return\n",
    "the {class}`.IdentitySegmentList` instance for that pair of samples:"
   ]
  },
  {
   "cell_type": "code",
   "execution_count": 5,
   "id": "1fe4e625",
   "metadata": {},
   "outputs": [
    {
     "name": "stdout",
     "output_type": "stream",
     "text": [
      "IdentitySegmentList(num_segments=2, total_span=10.0)\n"
     ]
    }
   ],
   "source": [
    "seglist = segments[(0, 1)]\n",
    "print(seglist)"
   ]
  },
  {
   "cell_type": "markdown",
   "id": "3217a7b3",
   "metadata": {},
   "source": [
    "If we want to access the detailed information about the actual\n",
    "identity segments, we must use the ``store_segments`` argument:"
   ]
  },
  {
   "cell_type": "code",
   "execution_count": 6,
   "id": "f0e7eb6c",
   "metadata": {},
   "outputs": [
    {
     "data": {
      "text/plain": [
       "IdentitySegmentList([IdentitySegment(left=2.0, right=10.0, node=4), IdentitySegment(left=0.0, right=2.0, node=5)])"
      ]
     },
     "execution_count": 6,
     "metadata": {},
     "output_type": "execute_result"
    }
   ],
   "source": [
    "segments = ts.ibd_segments(store_pairs=True, store_segments=True)\n",
    "segments[(0, 1)]"
   ]
  },
  {
   "cell_type": "markdown",
   "id": "ab450f13",
   "metadata": {},
   "source": [
    "The {class}`.IdentitySegmentList` behaves like a Python list,\n",
    "where each element is an instance of {class}`.IdentitySegment`.\n",
    "\n",
    ":::{warning}\n",
    "The order of segments in an {class}`.IdentitySegmentList`\n",
    "is arbitrary, and may change in future versions.\n",
    ":::\n",
    "\n",
    "\n",
    "```{eval-rst}\n",
    ".. todo:: More examples using the other bits of the IdentitySegments\n",
    "    API here\n",
    "```\n",
    "\n",
    "### Controlling the sample sets\n",
    "\n",
    "By default we get the IBD segments between all pairs of\n",
    "{ref}`sample<sec_data_model_definitions_sample>` nodes.\n",
    "\n",
    "#### IBD within a sample set\n",
    "We can reduce this to pairs within a specific set using the\n",
    "``within`` argument:\n",
    "\n",
    "\n",
    "```{eval-rst}\n",
    ".. todo:: More detail and better examples here.\n",
    "```"
   ]
  },
  {
   "cell_type": "code",
   "execution_count": 7,
   "id": "1bd51662",
   "metadata": {},
   "outputs": [
    {
     "name": "stdout",
     "output_type": "stream",
     "text": [
      "[(0, 2)]\n"
     ]
    }
   ],
   "source": [
    "segments = ts.ibd_segments(within=[0, 2], store_pairs=True)\n",
    "print(list(segments.keys()))"
   ]
  },
  {
   "cell_type": "markdown",
   "id": "4d746691",
   "metadata": {},
   "source": [
    "#### IBD between sample sets\n",
    "\n",
    "We can also compute IBD **between** sample sets:"
   ]
  },
  {
   "cell_type": "code",
   "execution_count": 8,
   "id": "2c31e68f",
   "metadata": {},
   "outputs": [
    {
     "name": "stdout",
     "output_type": "stream",
     "text": [
      "[(0, 2), (1, 2)]\n"
     ]
    }
   ],
   "source": [
    "segments = ts.ibd_segments(between=[[0,1], [2]], store_pairs=True)\n",
    "print(list(segments.keys()))"
   ]
  },
  {
   "cell_type": "markdown",
   "id": "1acf5232",
   "metadata": {},
   "source": [
    ":::{seealso}\n",
    "See the {meth}`.TreeSequence.ibd_segments` documentation for\n",
    "more details.\n",
    ":::\n",
    "\n",
    "### Constraints on the segments\n",
    "\n",
    "The ``max_time`` and ``min_span`` arguments allow us to constrain the\n",
    "segments that we consider.\n",
    "\n",
    "```{eval-rst}\n",
    ".. todo:: Add examples for these arguments.\n",
    "```"
   ]
  }
 ],
 "metadata": {
  "jupytext": {
   "text_representation": {
    "extension": ".md",
    "format_name": "myst",
    "format_version": 0.12,
    "jupytext_version": "1.9.1"
   }
  },
  "kernelspec": {
   "display_name": "Python 3",
   "language": "python",
   "name": "python3"
  },
  "language_info": {
   "codemirror_mode": {
    "name": "ipython",
    "version": 3
   },
   "file_extension": ".py",
   "mimetype": "text/x-python",
   "name": "python",
   "nbconvert_exporter": "python",
   "pygments_lexer": "ipython3",
   "version": "3.8.14"
  },
  "source_map": [
   12,
   38,
   71,
   84,
   88,
   103,
   106,
   127,
   131,
   138,
   141,
   146,
   149,
   179,
   182,
   188,
   191
  ]
 },
 "nbformat": 4,
 "nbformat_minor": 5
}