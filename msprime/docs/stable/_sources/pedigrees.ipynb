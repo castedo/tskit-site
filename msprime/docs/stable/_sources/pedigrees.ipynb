{
 "cells": [
  {
   "cell_type": "code",
   "execution_count": 1,
   "id": "7fc88eae",
   "metadata": {
    "tags": [
     "remove-cell"
    ]
   },
   "outputs": [
    {
     "name": "stderr",
     "output_type": "stream",
     "text": [
      "/tmp/ipykernel_2792/2125956858.py:9: DeprecationWarning: `set_matplotlib_formats` is deprecated since IPython 7.23, directly use `matplotlib_inline.backend_inline.set_matplotlib_formats()`\n",
      "  set_matplotlib_formats(\"svg\")\n"
     ]
    }
   ],
   "source": [
    "import io\n",
    "import msprime\n",
    "import tskit\n",
    "from IPython.display import SVG, set_matplotlib_formats\n",
    "from matplotlib import pyplot as plt\n",
    "import numpy as np\n",
    "import networkx as nx\n",
    "\n",
    "set_matplotlib_formats(\"svg\")"
   ]
  },
  {
   "cell_type": "markdown",
   "id": "11223ce8",
   "metadata": {},
   "source": [
    "(sec_pedigrees)=\n",
    "\n",
    "# Pedigrees\n",
    "\n",
    "Pedigrees describe parent-offspring relationships between individuals,\n",
    "and can be provided as input to constrain simulations of genetic ancestry\n",
    "(see the {ref}`sec_ancestry_models_fixed_pedigree` section for details).\n",
    "In this section we describe the data structures used to encode pedigrees\n",
    "in msprime, and the utilities used to create input pedigrees.\n",
    "\n",
    "(sec_pedigrees_encoding)=\n",
    "\n",
    "## Pedigree encoding\n",
    "\n",
    "Msprime uses the tskit\n",
    "{ref}`node<tskit:sec_node_table_definition>` and\n",
    "{ref}`individual<tskit:sec_individual_table_definition>` tables to encode pedigree\n",
    "information.\n",
    "Each {ref}`individual<sec_data_model_definitions_individual>`\n",
    "is defined by a row in the individual table, and\n",
    "this row index is the individual's **id**. Pedigree relationships\n",
    "are defined using the ``parents`` column, which contains the IDs\n",
    "of an individual's parents. Further information is stored in the\n",
    "{ref}`nodes<sec_data_model_definitions_node>` associated with the individual.\n",
    "\n",
    ":::{note}\n",
    "It is important to note that sample status, time, and population information\n",
    "is associated with an individual's nodes (see the {ref}`sec_ancestry_ploidy`\n",
    "section for details), which is an artefact of tskit's node-centric design.\n",
    ":::\n",
    "\n",
    "It is possible to specify a pedigree model directly using tskit APIs,\n",
    "but it is simpler to use the {class}`.PedigreeBuilder` utility\n",
    "class (or the {ref}`sec_pedigrees_file_format`).\n",
    "In the following example we build a simple trio:"
   ]
  },
  {
   "cell_type": "code",
   "execution_count": 2,
   "id": "650fab35",
   "metadata": {},
   "outputs": [
    {
     "name": "stdout",
     "output_type": "stream",
     "text": [
      "TableCollection\n",
      "\n",
      "Sequence Length: -1.0\n",
      "Time units: generations\n",
      "Metadata: b''\n",
      "\n",
      "Individuals\n",
      "╔══╤═════╤════════╤═══════╤════════╗\n",
      "║id│flags│location│parents│metadata║\n",
      "╠══╪═════╪════════╪═══════╪════════╣\n",
      "║0 │    0│        │ -1, -1│     b''║\n",
      "║1 │    0│        │ -1, -1│     b''║\n",
      "║2 │    0│        │   0, 1│     b''║\n",
      "╚══╧═════╧════════╧═══════╧════════╝\n",
      "\n",
      "Nodes\n",
      "╔══╤═════╤══════════╤══════════╤══════════╤════════╗\n",
      "║id│flags│population│individual│time      │metadata║\n",
      "╠══╪═════╪══════════╪══════════╪══════════╪════════╣\n",
      "║0 │    0│         0│         0│1.00000000│     b''║\n",
      "║1 │    0│         0│         0│1.00000000│     b''║\n",
      "║2 │    0│         0│         1│1.00000000│     b''║\n",
      "║3 │    0│         0│         1│1.00000000│     b''║\n",
      "║4 │    1│         0│         2│0.00000000│     b''║\n",
      "║5 │    1│         0│         2│0.00000000│     b''║\n",
      "╚══╧═════╧══════════╧══════════╧══════════╧════════╝\n",
      "\n",
      "Edges\n",
      "╔══╤════╤═════╤══════╤═════╤════════╗\n",
      "║id│left│right│parent│child│metadata║\n",
      "╠══╪════╪═════╪══════╪═════╪════════╣\n",
      "╚══╧════╧═════╧══════╧═════╧════════╝\n",
      "\n",
      "Sites\n",
      "╔══╤════════╤═══════════════╤════════╗\n",
      "║id│position│ancestral_state│metadata║\n",
      "╠══╪════════╪═══════════════╪════════╣\n",
      "╚══╧════════╧═══════════════╧════════╝\n",
      "\n",
      "Mutations\n",
      "╔══╤════╤════╤════╤═════════════╤══════╤════════╗\n",
      "║id│site│node│time│derived_state│parent│metadata║\n",
      "╠══╪════╪════╪════╪═════════════╪══════╪════════╣\n",
      "╚══╧════╧════╧════╧═════════════╧══════╧════════╝\n",
      "\n",
      "Migrations\n",
      "╔══╤════╤═════╤════╤══════╤════╤════╤════════╗\n",
      "║id│left│right│node│source│dest│time│metadata║\n",
      "╠══╪════╪═════╪════╪══════╪════╪════╪════════╣\n",
      "╚══╧════╧═════╧════╧══════╧════╧════╧════════╝\n",
      "\n",
      "Populations\n",
      "╔══╤════════════════════════════════════╗\n",
      "║id│metadata                            ║\n",
      "╠══╪════════════════════════════════════╣\n",
      "║0 │{'description': '', 'name': 'pop_0'}║\n",
      "╚══╧════════════════════════════════════╝\n",
      "\n",
      "Provenances\n",
      "╔══╤═════════╤══════╗\n",
      "║id│timestamp│record║\n",
      "╠══╪═════════╪══════╣\n",
      "╚══╧═════════╧══════╝\n",
      "\n"
     ]
    }
   ],
   "source": [
    "pb = msprime.PedigreeBuilder()\n",
    "mom_id = pb.add_individual(time=1)\n",
    "dad_id = pb.add_individual(time=1)\n",
    "pb.add_individual(time=0, parents=[mom_id, dad_id], is_sample=True)\n",
    "pedigree = pb.finalise()\n",
    "# TODO replace with display(pedigree) when its implemented in tskit\n",
    "# https://github.com/tskit-dev/tskit/issues/2093\n",
    "print(pedigree)"
   ]
  },
  {
   "cell_type": "markdown",
   "id": "f629dca5",
   "metadata": {},
   "source": [
    "The pedigree returned by the {meth}`~.PedigreeBuilder.finalise` method\n",
    "contains the pedigree information defined by the calls to\n",
    "{meth}`~.PedigreeBuilder.add_individual`. For this trio, we began by adding\n",
    "the parents, and because they are founders, we don't provide any information\n",
    "about their parents. Each call to {meth}`~.PedigreeBuilder.add_individual`\n",
    "returns the integer ID of newly added individual.\n",
    "### Requirements\n",
    "\n",
    "This section lists the detailed requirements of the low-level encoding\n",
    "for the tskit node and individual tables.\n",
    "\n",
    ":::{warning}\n",
    "Most of this information is only\n",
    "of interest if you are constructing these tables by hand. For most\n",
    "purposes it's best to use either the {class}`.PedigreeBuilder`\n",
    "API or the {ref}`sec_pedigrees_file_format`.\n",
    ":::\n",
    "\n",
    "- Each individual must have exactly two parents. Unknown parents are\n",
    "  indicated using ``-1`` (thus, a founder individual will have\n",
    "  ``parents=[-1, -1]``.\n",
    "- Each individual must be associated with exactly two nodes.\n",
    "- All nodes associated with an individual must have the same ``time``\n",
    "  and ``population`` values. (These are referred to as the individual's\n",
    "  time and population, as a shorthand.)\n",
    "- An individual's time must be less than all its parent's times.\n",
    "\n",
    "\n",
    "(sec_pedigrees_metadata)=\n",
    "\n",
    "## Metadata\n",
    "\n",
    "It is often useful to associate metadata with individuals when building\n",
    "a pedigree. This allows us to either directly store information about the\n",
    "individuals for later analysis, or to store an identifier to facilitate\n",
    "matching with existing records.\n",
    "\n",
    "In this example we update our simple trio by associating a string\n",
    "identifier with each individual. We use the\n",
    "{meth}`tskit.MetadataSchema.permissive_json` function here to create\n",
    "a schema, as this is an easy and quick way to get a functional\n",
    "metadata schema. Much more sophisticated approaches are possible, however: please\n",
    "see the {ref}`tskit metadata documentation<tskit:sec_metadata>` for\n",
    "more information."
   ]
  },
  {
   "cell_type": "code",
   "execution_count": 3,
   "id": "5c4a28e0",
   "metadata": {},
   "outputs": [
    {
     "data": {
      "text/html": [
       "\n",
       "            <div>\n",
       "                <style scoped=\"\">\n",
       "                    .tskit-table tbody tr th:only-of-type {vertical-align: middle;}\n",
       "                    .tskit-table tbody tr th {vertical-align: top;}\n",
       "                    .tskit-table tbody td {text-align: right;padding: 0.5em 0.5em;}\n",
       "                    .tskit-table tbody th {padding: 0.5em 0.5em;}\n",
       "                </style>\n",
       "                <table border=\"1\" class=\"tskit-table\">\n",
       "                    <thead>\n",
       "                        <tr>\n",
       "                            <th>id</th><th>flags</th><th>location</th><th>parents</th><th>metadata</th>\n",
       "                        </tr>\n",
       "                    </thead>\n",
       "                    <tbody>\n",
       "                        <tr><td>0</td><td>0</td><td></td><td>-1, -1</td><td>{'name': 'mom'}</td></tr>\n",
       "<tr><td>1</td><td>0</td><td></td><td>-1, -1</td><td>{'name': 'dad'}</td></tr>\n",
       "<tr><td>2</td><td>0</td><td></td><td>0, 1</td><td>{'name': 'child'}</td></tr>\n",
       "\n",
       "                    </tbody>\n",
       "                </table>\n",
       "            </div>\n"
      ],
      "text/plain": [
       "<tskit.tables.IndividualTable at 0x7fc9f4415c10>"
      ]
     },
     "metadata": {},
     "output_type": "display_data"
    }
   ],
   "source": [
    "pb = msprime.PedigreeBuilder(\n",
    "    individuals_metadata_schema=tskit.MetadataSchema.permissive_json())\n",
    "mom_id = pb.add_individual(time=1, metadata={\"name\": \"mom\"})\n",
    "dad_id = pb.add_individual(time=1, metadata={\"name\": \"dad\"})\n",
    "pb.add_individual(\n",
    "    time=0, parents=[mom_id, dad_id], is_sample=True, metadata={\"name\": \"child\"})\n",
    "pedigree = pb.finalise()\n",
    "display(pedigree.individuals)"
   ]
  },
  {
   "cell_type": "markdown",
   "id": "270748b8",
   "metadata": {},
   "source": [
    "(sec_pedigrees_file_format)=\n",
    "\n",
    "## Simplified file format\n",
    "\n",
    "The methods described in {ref}`sec_pedigrees_encoding` are general and\n",
    "allow for arbitrary metadata to be associated with individuals. It\n",
    "is often convenient to work with a text based representation of\n",
    "the pedigree, which is supported by the {func}`.parse_pedigree` function.\n",
    "The {ref}`sec_pedigrees_file_format_definition` section defines the columns and\n",
    "requirements for this file format.\n",
    "\n",
    ":::{seealso}\n",
    "See the\n",
    " {ref}`sec_pedigrees_file_format_basic_example` and subsequent sections\n",
    "for examples.\n",
    ":::\n",
    "\n",
    "\n",
    "(sec_pedigrees_file_format_definition)=\n",
    "\n",
    "### Format definition\n",
    "\n",
    "This section describes the detailed rules for the pedigree text file format.\n",
    "\n",
    "The first line of the file must be a header starting with a ``#`` character,\n",
    "listing the included columns separated by white space.\n",
    "\n",
    "Columns can be listed in any order. Columns from the required columns list\n",
    "below must be included, and only recognised columns can be included in the\n",
    "file.\n",
    "\n",
    "All other lines in the file are rows defining a particular individual.\n",
    "Each row must contain data for all columns defined in the header,\n",
    "separated by whitespace.\n",
    "\n",
    "#### Required columns\n",
    "\n",
    "id\n",
    ": A unique string identifier for this individual.\n",
    "\n",
    "parent0\n",
    ": The parent that will be assigned to ``parents[0]`` in the\n",
    "  {ref}`tskit encoding<sec_pedigrees_encoding>`. This must\n",
    "  be either a identifier defined in the ``id`` column, or\n",
    "  the value ``.`` (representing missing data).\n",
    "\n",
    "parent1\n",
    ": The parent that will be assigned to ``parents[1]`` in the\n",
    "  {ref}`tskit encoding<sec_pedigrees_encoding>`. The value\n",
    "  requirements are identical to the ``parent0`` column.\n",
    "\n",
    "time\n",
    ": The time value to associate with the individual.\n",
    "\n",
    ":::{note}\n",
    "   The ``time`` column may become optional in later releases.\n",
    ":::\n",
    "\n",
    "#### Optional columns\n",
    "\n",
    "is_sample\n",
    ": The sample status of the individual. If equal to ``1``, the\n",
    "  nodes associated with this individual will be marked as samples.\n",
    "  If ``0`` they will not. No other values are supported.\n",
    "\n",
    "population\n",
    ": The population to associate with the individual. Values must\n",
    "  correspond to\n",
    "  {ref}`population identifiers<sec_demography_populations_identifiers>`\n",
    "  in a supplied {class}`.Demography` object\n",
    "\n",
    "\n",
    "(sec_pedigrees_file_format_basic_example)=\n",
    "\n",
    "### Basic example\n",
    "\n",
    "In this example we encode a trio, ``child``, ``mom`` and ``dad``:"
   ]
  },
  {
   "cell_type": "code",
   "execution_count": 4,
   "id": "a7620170",
   "metadata": {},
   "outputs": [
    {
     "data": {
      "text/html": [
       "\n",
       "            <div>\n",
       "                <style scoped=\"\">\n",
       "                    .tskit-table tbody tr th:only-of-type {vertical-align: middle;}\n",
       "                    .tskit-table tbody tr th {vertical-align: top;}\n",
       "                    .tskit-table tbody td {text-align: right;padding: 0.5em 0.5em;}\n",
       "                    .tskit-table tbody th {padding: 0.5em 0.5em;}\n",
       "                </style>\n",
       "                <table border=\"1\" class=\"tskit-table\">\n",
       "                    <thead>\n",
       "                        <tr>\n",
       "                            <th>id</th><th>flags</th><th>location</th><th>parents</th><th>metadata</th>\n",
       "                        </tr>\n",
       "                    </thead>\n",
       "                    <tbody>\n",
       "                        <tr><td>0</td><td>0</td><td></td><td>1, 2</td><td>{'file_id': 'child'}</td></tr>\n",
       "<tr><td>1</td><td>0</td><td></td><td>-1, -1</td><td>{'file_id': 'mom'}</td></tr>\n",
       "<tr><td>2</td><td>0</td><td></td><td>-1, -1</td><td>{'file_id': 'dad'}</td></tr>\n",
       "\n",
       "                    </tbody>\n",
       "                </table>\n",
       "            </div>\n"
      ],
      "text/plain": [
       "<tskit.tables.IndividualTable at 0x7fc9f3deaee0>"
      ]
     },
     "metadata": {},
     "output_type": "display_data"
    },
    {
     "data": {
      "text/html": [
       "\n",
       "            <div>\n",
       "                <style scoped=\"\">\n",
       "                    .tskit-table tbody tr th:only-of-type {vertical-align: middle;}\n",
       "                    .tskit-table tbody tr th {vertical-align: top;}\n",
       "                    .tskit-table tbody td {text-align: right;padding: 0.5em 0.5em;}\n",
       "                    .tskit-table tbody th {padding: 0.5em 0.5em;}\n",
       "                </style>\n",
       "                <table border=\"1\" class=\"tskit-table\">\n",
       "                    <thead>\n",
       "                        <tr>\n",
       "                            <th>id</th><th>flags</th><th>population</th><th>individual</th><th>time</th><th>metadata</th>\n",
       "                        </tr>\n",
       "                    </thead>\n",
       "                    <tbody>\n",
       "                        <tr><td>0</td><td>1</td><td>0</td><td>0</td><td>0.00000000</td><td>b''</td></tr>\n",
       "<tr><td>1</td><td>1</td><td>0</td><td>0</td><td>0.00000000</td><td>b''</td></tr>\n",
       "<tr><td>2</td><td>0</td><td>0</td><td>1</td><td>1.00000000</td><td>b''</td></tr>\n",
       "<tr><td>3</td><td>0</td><td>0</td><td>1</td><td>1.00000000</td><td>b''</td></tr>\n",
       "<tr><td>4</td><td>0</td><td>0</td><td>2</td><td>1.00000000</td><td>b''</td></tr>\n",
       "<tr><td>5</td><td>0</td><td>0</td><td>2</td><td>1.00000000</td><td>b''</td></tr>\n",
       "\n",
       "                    </tbody>\n",
       "                </table>\n",
       "            </div>\n"
      ],
      "text/plain": [
       "<tskit.tables.NodeTable at 0x7fc9f3dead90>"
      ]
     },
     "metadata": {},
     "output_type": "display_data"
    }
   ],
   "source": [
    "txt = \"\"\"\\\n",
    "# id parent0 parent1 time\n",
    "child mom dad 0\n",
    "mom    .   .  1\n",
    "dad    .   .  1\n",
    "\"\"\"\n",
    "pedigree = msprime.parse_pedigree(io.StringIO(txt))\n",
    "display(pedigree.individuals)\n",
    "display(pedigree.nodes)"
   ]
  },
  {
   "cell_type": "markdown",
   "id": "ae512775",
   "metadata": {},
   "source": [
    "We have three individuals in our input pedigree, and there is therefore\n",
    "three rows in the individual table. In the tskit encoding, individuals\n",
    "are referred to by their integer ID (the corresponding row in the\n",
    "individual table). Individuals are added to the table in the same order\n",
    "they appear in the file, and therefore ``child`` corresponds to ID 0,\n",
    "``mom`` ID 1 and ``dad`` ID 2. These ID values are then used in the\n",
    "``parents`` column to describe the pedigree relationships.\n",
    "\n",
    "Time information about individuals is stored in the node table,\n",
    "where the time of an individual is associated with its two nodes.\n",
    "For example, nodes 0 and 1 correspond to the two genomes of\n",
    "individual 0 (``child``), and these are both at time 0.\n",
    "\n",
    "The individual table also includes the original string ``file_id`` as\n",
    "metadata to faciliate joining with existing data sources. We can\n",
    "access these IDs as follows:"
   ]
  },
  {
   "cell_type": "code",
   "execution_count": 5,
   "id": "f435c0c6",
   "metadata": {},
   "outputs": [
    {
     "name": "stdout",
     "output_type": "stream",
     "text": [
      "0 -> child\n",
      "1 -> mom\n",
      "2 -> dad\n"
     ]
    }
   ],
   "source": [
    "for id, ind in enumerate(pedigree.individuals):\n",
    "    print(id, \"->\", ind.metadata[\"file_id\"])"
   ]
  },
  {
   "cell_type": "markdown",
   "id": "fb1668e2",
   "metadata": {},
   "source": [
    "```{seealso}\n",
    "See the tskit {ref}`metadata documentation<tskit:sec_metadata>` for more information\n",
    "on how to use metadata.\n",
    "```\n",
    "\n",
    "### Specifying samples\n",
    "\n",
    "In the previous example we did not specify which of our individuals were\n",
    "the samples (\"probands\"). In this case, {func}`.parse_pedigree` assumes\n",
    "that any individual at time 0 is a sample. This is show in the example\n",
    "above in the node table, where we can see that the flags value for\n",
    "both of ``child``'s nodes is 1 (corresponding to {data}`tskit.NODE_IS_SAMPLE`)\n",
    "\n",
    "We can override this behaviour by providing an ``is_sample`` column:"
   ]
  },
  {
   "cell_type": "code",
   "execution_count": 6,
   "id": "f6affdeb",
   "metadata": {},
   "outputs": [
    {
     "data": {
      "text/html": [
       "\n",
       "            <div>\n",
       "                <style scoped=\"\">\n",
       "                    .tskit-table tbody tr th:only-of-type {vertical-align: middle;}\n",
       "                    .tskit-table tbody tr th {vertical-align: top;}\n",
       "                    .tskit-table tbody td {text-align: right;padding: 0.5em 0.5em;}\n",
       "                    .tskit-table tbody th {padding: 0.5em 0.5em;}\n",
       "                </style>\n",
       "                <table border=\"1\" class=\"tskit-table\">\n",
       "                    <thead>\n",
       "                        <tr>\n",
       "                            <th>id</th><th>flags</th><th>location</th><th>parents</th><th>metadata</th>\n",
       "                        </tr>\n",
       "                    </thead>\n",
       "                    <tbody>\n",
       "                        <tr><td>0</td><td>0</td><td></td><td>1, 2</td><td>{'file_id': 'child1'}</td></tr>\n",
       "<tr><td>1</td><td>0</td><td></td><td>-1, -1</td><td>{'file_id': 'mom1'}</td></tr>\n",
       "<tr><td>2</td><td>0</td><td></td><td>-1, -1</td><td>{'file_id': 'dad1'}</td></tr>\n",
       "<tr><td>3</td><td>0</td><td></td><td>4, 5</td><td>{'file_id': 'child2'}</td></tr>\n",
       "<tr><td>4</td><td>0</td><td></td><td>-1, -1</td><td>{'file_id': 'mom2'}</td></tr>\n",
       "<tr><td>5</td><td>0</td><td></td><td>-1, -1</td><td>{'file_id': 'dad2'}</td></tr>\n",
       "\n",
       "                    </tbody>\n",
       "                </table>\n",
       "            </div>\n"
      ],
      "text/plain": [
       "<tskit.tables.IndividualTable at 0x7fca24398f40>"
      ]
     },
     "metadata": {},
     "output_type": "display_data"
    },
    {
     "data": {
      "text/html": [
       "\n",
       "            <div>\n",
       "                <style scoped=\"\">\n",
       "                    .tskit-table tbody tr th:only-of-type {vertical-align: middle;}\n",
       "                    .tskit-table tbody tr th {vertical-align: top;}\n",
       "                    .tskit-table tbody td {text-align: right;padding: 0.5em 0.5em;}\n",
       "                    .tskit-table tbody th {padding: 0.5em 0.5em;}\n",
       "                </style>\n",
       "                <table border=\"1\" class=\"tskit-table\">\n",
       "                    <thead>\n",
       "                        <tr>\n",
       "                            <th>id</th><th>flags</th><th>population</th><th>individual</th><th>time</th><th>metadata</th>\n",
       "                        </tr>\n",
       "                    </thead>\n",
       "                    <tbody>\n",
       "                        <tr><td>0</td><td>1</td><td>0</td><td>0</td><td>0.00000000</td><td>b''</td></tr>\n",
       "<tr><td>1</td><td>1</td><td>0</td><td>0</td><td>0.00000000</td><td>b''</td></tr>\n",
       "<tr><td>2</td><td>0</td><td>0</td><td>1</td><td>1.00000000</td><td>b''</td></tr>\n",
       "<tr><td>3</td><td>0</td><td>0</td><td>1</td><td>1.00000000</td><td>b''</td></tr>\n",
       "<tr><td>4</td><td>0</td><td>0</td><td>2</td><td>1.00000000</td><td>b''</td></tr>\n",
       "<tr><td>5</td><td>0</td><td>0</td><td>2</td><td>1.00000000</td><td>b''</td></tr>\n",
       "<tr><td>6</td><td>1</td><td>0</td><td>3</td><td>1.00000000</td><td>b''</td></tr>\n",
       "<tr><td>7</td><td>1</td><td>0</td><td>3</td><td>1.00000000</td><td>b''</td></tr>\n",
       "<tr><td>8</td><td>0</td><td>0</td><td>4</td><td>2.00000000</td><td>b''</td></tr>\n",
       "<tr><td>9</td><td>0</td><td>0</td><td>4</td><td>2.00000000</td><td>b''</td></tr>\n",
       "<tr><td>10</td><td>0</td><td>0</td><td>5</td><td>2.00000000</td><td>b''</td></tr>\n",
       "<tr><td>11</td><td>0</td><td>0</td><td>5</td><td>2.00000000</td><td>b''</td></tr>\n",
       "\n",
       "                    </tbody>\n",
       "                </table>\n",
       "            </div>\n"
      ],
      "text/plain": [
       "<tskit.tables.NodeTable at 0x7fca24398a00>"
      ]
     },
     "metadata": {},
     "output_type": "display_data"
    }
   ],
   "source": [
    "import io\n",
    "txt = \"\"\"\\\n",
    "# id parent0 parent1 time is_sample\n",
    "child1 mom1 dad1 0 1\n",
    "mom1     .   .   1 0\n",
    "dad1     .   .   1 0\n",
    "child2 mom2 dad2 1 1\n",
    "mom2     .   .   2 0\n",
    "dad2     .   .   2 0\n",
    "\"\"\"\n",
    "pedigree = msprime.parse_pedigree(io.StringIO(txt))\n",
    "display(pedigree.individuals)\n",
    "display(pedigree.nodes)"
   ]
  },
  {
   "cell_type": "markdown",
   "id": "66a2e111",
   "metadata": {},
   "source": [
    "Here we have two trios, where the child in the second trio is from the\n",
    "same generation as the parents in the second. We use the ``is_sample``\n",
    "column to specify that ``child2`` is a sample as well as ``child1``.\n",
    "\n",
    "\n",
    "### Demography information\n",
    "\n",
    "If the founder individuals of the pedigree belong to different populations\n",
    "and we wish to simulate ancestry\n",
    "{ref}`beyond the pedigree<sec_ancestry_models_fixed_pedigree_completing>`,\n",
    "we must define a {ref}`demographic model<sec_demography>` and define\n",
    "the populations that the individuals belong to.\n",
    "\n",
    ":::{seealso}\n",
    "See the {ref}`sec_ancestry_models_fixed_pedigree_demography` section for\n",
    "a full discussion of how demography interacts with fixed pedigree simulations\n",
    "and important caveats.\n",
    ":::\n",
    "\n",
    "To do this we must pass the {class}`.Demography` instance defining the\n",
    "demographic model to {func}`.parse_pedigree`, and include\n",
    "a ``population`` column in the file."
   ]
  },
  {
   "cell_type": "code",
   "execution_count": 7,
   "id": "6b17c179",
   "metadata": {},
   "outputs": [
    {
     "data": {
      "text/html": [
       "\n",
       "            <div>\n",
       "                <style scoped=\"\">\n",
       "                    .tskit-table tbody tr th:only-of-type {vertical-align: middle;}\n",
       "                    .tskit-table tbody tr th {vertical-align: top;}\n",
       "                    .tskit-table tbody td {text-align: right;padding: 0.5em 0.5em;}\n",
       "                    .tskit-table tbody th {padding: 0.5em 0.5em;}\n",
       "                </style>\n",
       "                <table border=\"1\" class=\"tskit-table\">\n",
       "                    <thead>\n",
       "                        <tr>\n",
       "                            <th>id</th><th>metadata</th>\n",
       "                        </tr>\n",
       "                    </thead>\n",
       "                    <tbody>\n",
       "                        <tr><td>0</td><td>{'description': '', 'name': 'A'}</td></tr>\n",
       "<tr><td>1</td><td>{'description': '', 'name': 'B'}</td></tr>\n",
       "<tr><td>2</td><td>{'description': '', 'name': 'C'}</td></tr>\n",
       "\n",
       "                    </tbody>\n",
       "                </table>\n",
       "            </div>\n"
      ],
      "text/plain": [
       "<tskit.tables.PopulationTable at 0x7fc9f3df75b0>"
      ]
     },
     "metadata": {},
     "output_type": "display_data"
    },
    {
     "data": {
      "text/html": [
       "\n",
       "            <div>\n",
       "                <style scoped=\"\">\n",
       "                    .tskit-table tbody tr th:only-of-type {vertical-align: middle;}\n",
       "                    .tskit-table tbody tr th {vertical-align: top;}\n",
       "                    .tskit-table tbody td {text-align: right;padding: 0.5em 0.5em;}\n",
       "                    .tskit-table tbody th {padding: 0.5em 0.5em;}\n",
       "                </style>\n",
       "                <table border=\"1\" class=\"tskit-table\">\n",
       "                    <thead>\n",
       "                        <tr>\n",
       "                            <th>id</th><th>flags</th><th>location</th><th>parents</th><th>metadata</th>\n",
       "                        </tr>\n",
       "                    </thead>\n",
       "                    <tbody>\n",
       "                        <tr><td>0</td><td>0</td><td></td><td>1, 2</td><td>{'file_id': 'child1'}</td></tr>\n",
       "<tr><td>1</td><td>0</td><td></td><td>-1, -1</td><td>{'file_id': 'mom1'}</td></tr>\n",
       "<tr><td>2</td><td>0</td><td></td><td>-1, -1</td><td>{'file_id': 'dad1'}</td></tr>\n",
       "<tr><td>3</td><td>0</td><td></td><td>4, 5</td><td>{'file_id': 'child2'}</td></tr>\n",
       "<tr><td>4</td><td>0</td><td></td><td>-1, -1</td><td>{'file_id': 'mom2'}</td></tr>\n",
       "<tr><td>5</td><td>0</td><td></td><td>-1, -1</td><td>{'file_id': 'dad2'}</td></tr>\n",
       "\n",
       "                    </tbody>\n",
       "                </table>\n",
       "            </div>\n"
      ],
      "text/plain": [
       "<tskit.tables.IndividualTable at 0x7fc9f3e47550>"
      ]
     },
     "metadata": {},
     "output_type": "display_data"
    },
    {
     "data": {
      "text/html": [
       "\n",
       "            <div>\n",
       "                <style scoped=\"\">\n",
       "                    .tskit-table tbody tr th:only-of-type {vertical-align: middle;}\n",
       "                    .tskit-table tbody tr th {vertical-align: top;}\n",
       "                    .tskit-table tbody td {text-align: right;padding: 0.5em 0.5em;}\n",
       "                    .tskit-table tbody th {padding: 0.5em 0.5em;}\n",
       "                </style>\n",
       "                <table border=\"1\" class=\"tskit-table\">\n",
       "                    <thead>\n",
       "                        <tr>\n",
       "                            <th>id</th><th>flags</th><th>population</th><th>individual</th><th>time</th><th>metadata</th>\n",
       "                        </tr>\n",
       "                    </thead>\n",
       "                    <tbody>\n",
       "                        <tr><td>0</td><td>1</td><td>0</td><td>0</td><td>0.00000000</td><td>b''</td></tr>\n",
       "<tr><td>1</td><td>1</td><td>0</td><td>0</td><td>0.00000000</td><td>b''</td></tr>\n",
       "<tr><td>2</td><td>0</td><td>0</td><td>1</td><td>1.00000000</td><td>b''</td></tr>\n",
       "<tr><td>3</td><td>0</td><td>0</td><td>1</td><td>1.00000000</td><td>b''</td></tr>\n",
       "<tr><td>4</td><td>0</td><td>0</td><td>2</td><td>1.00000000</td><td>b''</td></tr>\n",
       "<tr><td>5</td><td>0</td><td>0</td><td>2</td><td>1.00000000</td><td>b''</td></tr>\n",
       "<tr><td>6</td><td>1</td><td>1</td><td>3</td><td>1.00000000</td><td>b''</td></tr>\n",
       "<tr><td>7</td><td>1</td><td>1</td><td>3</td><td>1.00000000</td><td>b''</td></tr>\n",
       "<tr><td>8</td><td>0</td><td>1</td><td>4</td><td>2.00000000</td><td>b''</td></tr>\n",
       "<tr><td>9</td><td>0</td><td>1</td><td>4</td><td>2.00000000</td><td>b''</td></tr>\n",
       "<tr><td>10</td><td>0</td><td>1</td><td>5</td><td>2.00000000</td><td>b''</td></tr>\n",
       "<tr><td>11</td><td>0</td><td>1</td><td>5</td><td>2.00000000</td><td>b''</td></tr>\n",
       "\n",
       "                    </tbody>\n",
       "                </table>\n",
       "            </div>\n"
      ],
      "text/plain": [
       "<tskit.tables.NodeTable at 0x7fc9f3e16130>"
      ]
     },
     "metadata": {},
     "output_type": "display_data"
    }
   ],
   "source": [
    "import io\n",
    "txt = \"\"\"\\\n",
    "# id parent0 parent1 time is_sample population\n",
    "child1 mom1 dad1 0 1 A\n",
    "mom1     .   .   1 0 A\n",
    "dad1     .   .   1 0 A\n",
    "child2 mom2 dad2 1 1 B\n",
    "mom2     .   .   2 0 B\n",
    "dad2     .   .   2 0 B\n",
    "\"\"\"\n",
    "\n",
    "demography = msprime.Demography()\n",
    "demography.add_population(name=\"A\", initial_size=10)\n",
    "demography.add_population(name=\"B\", initial_size=20)\n",
    "demography.add_population(name=\"C\", initial_size=100)\n",
    "demography.add_population_split(time=10, derived=[\"A\", \"B\"], ancestral=\"C\");\n",
    "\n",
    "pedigree = msprime.parse_pedigree(io.StringIO(txt), demography=demography)\n",
    "display(pedigree.populations)\n",
    "display(pedigree.individuals)\n",
    "display(pedigree.nodes)"
   ]
  },
  {
   "cell_type": "markdown",
   "id": "c0044a40",
   "metadata": {},
   "source": [
    "(sec_pedigrees_visualisation)=\n",
    "\n",
    "## Visualising pedigrees\n",
    "\n",
    "It is often useful to visualise a (small) pedigree. The following function\n",
    "is used in this documentation, which may be a useful recipe for others:"
   ]
  },
  {
   "cell_type": "code",
   "execution_count": 8,
   "id": "214b7c21",
   "metadata": {},
   "outputs": [],
   "source": [
    "def draw_pedigree(ped_ts):\n",
    "\n",
    "    G = nx.DiGraph()\n",
    "    for ind in ped_ts.individuals():\n",
    "        time = ped_ts.node(ind.nodes[0]).time\n",
    "        pop = ped_ts.node(ind.nodes[0]).population\n",
    "        G.add_node(ind.id, time=time, population=pop)\n",
    "        for p in ind.parents:\n",
    "            if p != tskit.NULL:\n",
    "                G.add_edge(ind.id, p)\n",
    "    pos = nx.multipartite_layout(G, subset_key=\"time\", align=\"horizontal\")\n",
    "    colours = plt.rcParams['axes.prop_cycle'].by_key()['color']\n",
    "    node_colours = [colours[node_attr[\"population\"]] for node_attr in G.nodes.values()]\n",
    "    nx.draw_networkx(G, pos, with_labels=True, node_color=node_colours)\n",
    "    plt.show()"
   ]
  },
  {
   "cell_type": "markdown",
   "id": "c7994c47",
   "metadata": {},
   "source": [
    "See the {ref}`sec_ancestry_models_fixed_pedigree_demography` section\n",
    "for an example of this function drawing pedigrees in a multi-population\n",
    "model."
   ]
  }
 ],
 "metadata": {
  "jupytext": {
   "text_representation": {
    "extension": ".md",
    "format_name": "myst",
    "format_version": 0.12,
    "jupytext_version": "1.9.1"
   }
  },
  "kernelspec": {
   "display_name": "Python 3",
   "language": "python",
   "name": "python3"
  },
  "language_info": {
   "codemirror_mode": {
    "name": "ipython",
    "version": 3
   },
   "file_extension": ".py",
   "mimetype": "text/x-python",
   "name": "python",
   "nbconvert_exporter": "python",
   "pygments_lexer": "ipython3",
   "version": "3.8.14"
  },
  "source_map": [
   15,
   27,
   65,
   74,
   121,
   130,
   210,
   220,
   239,
   242,
   259,
   273,
   298,
   320,
   329,
   345
  ]
 },
 "nbformat": 4,
 "nbformat_minor": 5
}