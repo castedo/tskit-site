{
 "cells": [
  {
   "cell_type": "markdown",
   "id": "b9e5c824",
   "metadata": {},
   "source": [
    "(sec_installation)=\n",
    "\n",
    "# Installation\n",
    "\n",
    "Pyslim can be installed using the standard [pip](https://pypi.org/project/pyslim/) distribution method:\n",
    "\n",
    "```bash\n",
    "python3 -m pip install pyslim\n",
    "```\n",
    "\n",
    "To install a [different version](https://pypi.org/project/pyslim/#history), e.g., \n",
    "the 1.0 beta release whose version string is \"1.0b1\", just append this, like:\n",
    "\n",
    "```bash\n",
    "python3 -m pip install pyslim==1.0b1\n",
    "```\n",
    "\n",
    "Alternatively, you can install from source as described in [](sec_development).\n",
    "\n",
    "\n",
    "## Troubleshooting\n",
    "\n",
    "If you find a bug in ``pyslim`` or want to suggest an improvement, please\n",
    "[open an issue](https://github.com/tskit-dev/pyslim/issues) on our github page.\n",
    "If you have a question about using tree sequences,\n",
    "please ask it at [the tskit discussion page](https://github.com/tskit-dev/tskit/discussions).\n",
    "Finally, questions about SLiM should be directed to\n",
    "[the SLiM mailing list](https://groups.google.com/forum/#!forum/slim-discuss)."
   ]
  }
 ],
 "metadata": {
  "jupytext": {
   "text_representation": {
    "extension": ".md",
    "format_name": "myst",
    "format_version": 0.12,
    "jupytext_version": "1.9.1"
   }
  },
  "kernelspec": {
   "display_name": "Python 3",
   "language": "python",
   "name": "python3"
  },
  "language_info": {
   "codemirror_mode": {
    "name": "ipython",
    "version": 3
   },
   "file_extension": ".py",
   "mimetype": "text/x-python",
   "name": "python",
   "nbconvert_exporter": "python",
   "pygments_lexer": "ipython3",
   "version": "3.8.13"
  },
  "source_map": [
   12
  ]
 },
 "nbformat": 4,
 "nbformat_minor": 5
}