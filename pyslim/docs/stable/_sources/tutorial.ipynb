{
 "cells": [
  {
   "cell_type": "code",
   "execution_count": 1,
   "id": "8ddfd446",
   "metadata": {
    "tags": [
     "remove-cell"
    ]
   },
   "outputs": [],
   "source": [
    "import warnings\n",
    "import pyslim, tskit, msprime\n",
    "from IPython.display import SVG\n",
    "import numpy as np\n",
    "import util\n",
    "\n",
    "np.random.seed(1234)\n",
    "warnings.simplefilter('ignore', msprime.TimeUnitsMismatchWarning)"
   ]
  },
  {
   "cell_type": "markdown",
   "id": "f3bc8f16",
   "metadata": {},
   "source": [
    "```{eval-rst}\n",
    ".. currentmodule:: pyslim\n",
    "```\n",
    "\n",
    "\n",
    "\n",
    "# Tutorial\n",
    "\n",
    "This tutorial covers the most common uses of tree sequences in SLiM/pyslim.\n",
    "\n",
    "## Recapitation, simplification, and mutation\n",
    "\n",
    "Perhaps the most common pyslim operations involve [](sec_tutorial_recapitation),\n",
    "[](sec_tutorial_simplification),  and/or [](sec_tutorial_adding_neutral_mutations).\n",
    "Below we illustrate all three in the context of running a \"hybrid\" simulation, combining\n",
    "both forwards and backwards (coalescent) methods. This hybrid approach is a popular\n",
    "application of pyslim because coalescent algorithms, although more limited in the degree\n",
    "of biological realism they can attain, can be much faster than the forwards algorithms\n",
    "implemented in SLiM.\n",
    "\n",
    "A typical use-case is to take an existing SLiM simulation and endow\n",
    "it with a history derived from a coalescent simulation: this is known as *recapitation*.\n",
    "For instance, suppose we have a SLiM simulation of a population of 100,000 individuals\n",
    "that we have run for 10,000 generations without neutral mutations. Now, we wish to\n",
    "extract whole-genome genotype data for only 1,000 individuals. Here's one way to do it:\n",
    "\n",
    "\n",
    "1. {func}`.recapitate` :\n",
    "   The simulation has likely not reached demographic equilibrium - it has not\n",
    "   *coalesced* entirely; recapitation uses coalescent simulation to provide\n",
    "   a \"prior history\" for the initial generation of the simulation.\n",
    "\n",
    "2. {meth}`simplify() <tskit.TreeSequence.simplify>` : For efficiency, subset the tree\n",
    "   sequence to only the information relevant for those 1,000 individuals\n",
    "   we wish to sample.\n",
    "\n",
    "3. {func}`msprime.sim_mutations` : Add neutral mutations to the tree sequence.\n",
    "\n",
    "\n",
    "These steps are described below. First, to get something to work with,\n",
    "you can run this simple SLiM script of a single population of sexual organisms,\n",
    "fluctuating around 1000 individuals, for 1000 generations:\n",
    "\n",
    "```{literalinclude} example_sim.slim\n",
    "```\n",
    "\n",
    "You can run this in the shell,\n",
    "setting the random seed so you get exactly the same results\n",
    "as in the code below:"
   ]
  },
  {
   "cell_type": "code",
   "execution_count": 2,
   "id": "40187cbc",
   "metadata": {},
   "outputs": [
    {
     "name": "stdout",
     "output_type": "stream",
     "text": [
      "// Initial random seed:\n"
     ]
    },
    {
     "name": "stdout",
     "output_type": "stream",
     "text": [
      "23\n"
     ]
    },
    {
     "name": "stdout",
     "output_type": "stream",
     "text": [
      "\n"
     ]
    },
    {
     "name": "stdout",
     "output_type": "stream",
     "text": [
      "// RunInitializeCallbacks():\n"
     ]
    },
    {
     "name": "stdout",
     "output_type": "stream",
     "text": [
      "initializeSLiMModelType(modelType = 'nonWF');\n"
     ]
    },
    {
     "name": "stdout",
     "output_type": "stream",
     "text": [
      "initializeSex(\"A\");\n"
     ]
    },
    {
     "name": "stdout",
     "output_type": "stream",
     "text": [
      "initializeTreeSeq();\n"
     ]
    },
    {
     "name": "stdout",
     "output_type": "stream",
     "text": [
      "initializeMutationRate(0);\n"
     ]
    },
    {
     "name": "stdout",
     "output_type": "stream",
     "text": [
      "initializeMutationType(1, 0.5, \"f\", 0);\n"
     ]
    },
    {
     "name": "stdout",
     "output_type": "stream",
     "text": [
      "initializeGenomicElementType(1, m1, 1);\n"
     ]
    },
    {
     "name": "stdout",
     "output_type": "stream",
     "text": [
      "initializeGenomicElement(g1, 0, 99999999);\n"
     ]
    },
    {
     "name": "stdout",
     "output_type": "stream",
     "text": [
      "initializeRecombinationRate(1e-08);\n"
     ]
    },
    {
     "name": "stdout",
     "output_type": "stream",
     "text": [
      "\n"
     ]
    },
    {
     "name": "stdout",
     "output_type": "stream",
     "text": [
      "// Starting run at tick <start>:\n"
     ]
    },
    {
     "name": "stdout",
     "output_type": "stream",
     "text": [
      "1 \n"
     ]
    },
    {
     "name": "stdout",
     "output_type": "stream",
     "text": [
      "\n"
     ]
    }
   ],
   "source": [
    "%%bash\n",
    "slim -s 23 example_sim.slim"
   ]
  },
  {
   "cell_type": "markdown",
   "id": "9ee739e7",
   "metadata": {},
   "source": [
    "(sec_tutorial_recapitation)=\n",
    "\n",
    "### Recapitation\n",
    "\n",
    "\n",
    "```{figure} _static/pedigree_recapitate.png\n",
    "---\n",
    "scale: 42%\n",
    "align: right\n",
    "name: pedigree_recapitate\n",
    "---\n",
    "Recapitation adds the green nodes by coalescent simulation.\n",
    "(See [the introduction](sec_left_in_tree_sequence)\n",
    "for a diagram of the previous state.)\n",
    "```\n",
    "\n",
    "Although we can initialize a SLiM simulation with the results of a coalescent simulation,\n",
    "if during the simulation we don't actually use the genotypes for anything, it\n",
    "can be much more efficient to do this afterwards, hence only doing a coalescent\n",
    "simulation for the portions of the first-generation ancestors that have\n",
    "not yet coalesced. (See the SLiM manual for more explanation.)\n",
    "This is depicted in {numref}`figure {number} <pedigree_recapitate>`:\n",
    "imagine that at some sites, some of the samples\n",
    "don't share a common ancestor within the SLiMulated portion of history (shown in blue).\n",
    "Recapitation starts at the *top* of the genealogies,\n",
    "and runs a coalescent simulation back through time\n",
    "to fill out the rest of genealogical history relevant to the samples.\n",
    "The green chromosomes are new ancestral nodes that have been added to the tree sequence.\n",
    "This is important - if we did not do this,\n",
    "then effectively we are assuming the initial population would be genetically homogeneous,\n",
    "and so our simulation would have less genetic variation than it should have\n",
    "(since the component of variation from the initial population would be omitted).\n",
    "\n",
    "Doing this is as simple as:"
   ]
  },
  {
   "cell_type": "code",
   "execution_count": 3,
   "id": "98e78e7c",
   "metadata": {},
   "outputs": [],
   "source": [
    "orig_ts = tskit.load(\"example_sim.trees\")\n",
    "rts = pyslim.recapitate(orig_ts,\n",
    "            recombination_rate=1e-8,\n",
    "            ancestral_Ne=200, random_seed=5)"
   ]
  },
  {
   "cell_type": "markdown",
   "id": "e008a317",
   "metadata": {},
   "source": [
    "The warning is harmless; it is reminding us to think about generation time\n",
    "when recapitating a nonWF simulation (a topic we'll deal with later).\n",
    "\n",
    "We can check that this worked as expected, by verifying that after recapitation\n",
    "all trees have only one root:"
   ]
  },
  {
   "cell_type": "code",
   "execution_count": 4,
   "id": "930490e8",
   "metadata": {},
   "outputs": [
    {
     "name": "stdout",
     "output_type": "stream",
     "text": [
      "Maximum number of roots before recapitation: 13\n",
      "After recapitation: 1\n"
     ]
    }
   ],
   "source": [
    "orig_max_roots = max(t.num_roots for t in orig_ts.trees())\n",
    "recap_max_roots = max(t.num_roots for t in rts.trees())\n",
    "print(f\"Maximum number of roots before recapitation: {orig_max_roots}\\n\"\n",
    "      f\"After recapitation: {recap_max_roots}\")"
   ]
  },
  {
   "cell_type": "markdown",
   "id": "51d5a53e",
   "metadata": {},
   "source": [
    "The {func}`.recapitate` method\n",
    "is just a thin wrapper around {func}`msprime.sim_ancestry`,\n",
    "and you need to set up demography explicitly - for instance, in the example above\n",
    "we've simulated from an ancestral population of ``Ne=200`` diploids.\n",
    "If you have more than one population,\n",
    "you must set migration rates or else coalescence will never happen\n",
    "(see [](sec_recapitate_with_migration) for an example,\n",
    "and {func}`.recapitate` for more).\n",
    "\n",
    "\n",
    "#### Recapitation with a nonuniform recombination map\n",
    "\n",
    "Above, we recapitated using a uniform genetic map.\n",
    "But, msprime - like SLiM - can simulate with recombination drawn from an arbitrary genetic map.\n",
    "Let's say we've already got a recombination map as specified by SLiM,\n",
    "as a vector of \"positions\" and a vector of \"rates\".\n",
    "msprime also needs vectors of positions and rates, but the format is slightly different.\n",
    "To use the SLiM values for msprime, we need to do three things:\n",
    "\n",
    "1. Add a 0 at the beginning of the positions,\n",
    "2. add 1 to the last position.\n",
    "\n",
    "The reason why msprime \"positions\" must start with 0 (step 1) is that in SLiM,\n",
    "a position or \"end\" indicates the end of a recombination block such that its associated\n",
    "\"rate\" applies to everything to the left of that end (see ``initializeRecombinationRate``).\n",
    "In msprime, we will pass in a {class}`msprime.RateMap`,\n",
    "which requires two things:\n",
    "\n",
    "- ``position``: A list of n+1 positions, starting at 0, and ending in the sequence length over which the RateMap will apply.\n",
    "- ``rate``: A list of n positive rates that apply between each position.\n",
    "\n",
    "So, msprime needs a vector of positions that is 1 longer than what you give SLiM,\n",
    "but one fewer rate values than positions.\n",
    "\n",
    "The reason for step 2 is that intervals for tskit (which msprime uses)\n",
    "are \"closed on the left and open on the right\",\n",
    "which means that the genomic interval from 0.0 to 100.0 includes 0.0 but does not include 100.0.\n",
    "If SLiM has a final genomic position of 99, then it could have mutations occurring at position 99.\n",
    "Such mutations would *not* be legal, on the other hand, if we set the tskit sequence length to 99,\n",
    "since the position 99 would be outside of the interval from 0 to 99.\n",
    "Said another way, if SLiM's final position is 99, the total sequence length is 100,\n",
    "and so we need to set the end of the genome to 100.\n",
    "The upshot is that we need to use SLiM's last position plus one - i.e.,\n",
    "the length of the genome - as the rightmost coordinate.\n",
    "\n",
    "For instance, suppose that we have a recombination map file in the following (tab-separated) format:\n",
    "\n",
    "```{literalinclude} _static/recomb_rates.tsv\n",
    "```\n",
    "\n",
    "This describes recombination rates across a 100Mb genome with higher rates on the ends\n",
    "(for instance, 3.2 and 2.8 cM/Mb in the first and last 15Mb respectively)\n",
    "and lower rates in the middle (0.25 cM/Mb between 50Mb and 85Mb).\n",
    "The first column gives the starting position, in bp,\n",
    "for the window whose recombination rate is given in the second column.\n",
    "(*Note:* this is *not* a standard format for recombination maps -\n",
    "it is more usual for the *starting* position to be listed!)\n",
    "\n",
    "Here is SLiM code to read this file and set the recombination rates:\n",
    "\n",
    "```\n",
    "lines = readFile(\"recomb_rates.tsv\");\n",
    "header = strsplit(lines[0], \"\\t\");\n",
    "if (header[0] != \"end_position\"\n",
    "    | header[1] != \"rate(cM/Mb)\") {\n",
    "   stop(\"Unexpected format!\");\n",
    "}\n",
    "rates = NULL;\n",
    "ends = NULL;\n",
    "nwindows = length(lines) - 1;\n",
    "for (line in lines[1:nwindows]) {\n",
    "  components = strsplit(line, \"\\t\");\n",
    "  ends = c(ends, asInteger(components[0]));\n",
    "  rates = c(rates, asFloat(components[1]));\n",
    "}\n",
    "initializeRecombinationRate(rates * 1e-8, ends);\n",
    "```\n",
    "\n",
    "Now, here's code to take the same recombination map used in SLiM,\n",
    "and use it for recapitation in msprime:"
   ]
  },
  {
   "cell_type": "code",
   "execution_count": 5,
   "id": "5c3d5834",
   "metadata": {},
   "outputs": [],
   "source": [
    "positions = []\n",
    "rates = []\n",
    "with open('_static/recomb_rates.tsv', 'r') as file:\n",
    "  header = file.readline().strip().split(\"\\t\")\n",
    "  assert(header[0] == \"end_position\" and header[1] == \"rate(cM/Mb)\")\n",
    "  for line in file:\n",
    "     components = line.split(\"\\t\")\n",
    "     positions.append(float(components[0]))\n",
    "     rates.append(1e-8 * float(components[1]))\n",
    "\n",
    "# step 1\n",
    "positions.insert(0, 0)\n",
    "# step 2\n",
    "positions[-1] += 1\n",
    "assert positions[-1] == orig_ts.sequence_length\n",
    "\n",
    "recomb_map = msprime.RateMap(position=positions, rate=rates)\n",
    "rts = pyslim.recapitate(orig_ts,\n",
    "                recombination_rate=recomb_map,\n",
    "                ancestral_Ne=200, random_seed=7)\n",
    "assert(max([t.num_roots for t in rts.trees()]) == 1)"
   ]
  },
  {
   "cell_type": "markdown",
   "id": "30595595",
   "metadata": {},
   "source": [
    "(As before, you should *not* usually explicitly set\n",
    "the random seed in your scripts; we set it here so\n",
    "the content of this document does not change.)\n",
    "\n",
    ":::{note}\n",
    "Starting from msprime 1.0, the default model of recombination\n",
    "in msprime is *discrete* - recombinations only occur at integer\n",
    "locations - which matches SLiM's model of recombination.\n",
    ":::\n",
    "\n",
    "\n",
    "(sec_tutorial_simplification)=\n",
    "\n",
    "### Simplification\n",
    "\n",
    "```{figure} _static/pedigree_simplify.png\n",
    "---\n",
    "scale: 42%\n",
    "align: right\n",
    "name: pedigree_simplify\n",
    "---\n",
    "The result of simplifying the tree sequence\n",
    "in figure {numref}`figure {number} <pedigree_recapitate>`.\n",
    "```\n",
    "\n",
    "Probably, your simulations have produced many more fictitious genomes\n",
    "than you will be lucky enough to have in real life,\n",
    "so at some point you may want to reduce your dataset to a realistic sample size.\n",
    "We can get rid of unneeded samples and any extra information from them by using\n",
    "an operation called *simplification* (this is the same basic approach that SLiM\n",
    "implements under the hood when outputting a tree sequence, as described in\n",
    "[the introduction](sec_left_in_tree_sequence)).\n",
    "\n",
    "Depicted in the figure at the right is the result of applying an explicit call to\n",
    "{meth}`tskit.TreeSequence.simplify` to our example tree sequence.\n",
    "In the call we asked to keep only 4\n",
    "genomes (contained in 2 of the individuals in the current generation). This has\n",
    "substantially simplified the tree sequence, because only information relevant to the\n",
    "genealogies of the 4 sample nodes has been kept. (Precisely, simplification retains only\n",
    "nodes of the tree sequence that are branching points of some marginal genealogy -- see\n",
    "[Kelleher et al 2018](https://doi.org/10.1371/journal.pcbi.1006581) for details.)\n",
    "While simplification sounds very appealing - it makes things simpler after all -\n",
    "it is often not necessary in practice, because tree sequences are very compact,\n",
    "and many operations with them are quite fast.\n",
    "(It will, however, speed up many operations, so if you plan to do a large number of simulations,\n",
    "your workflow could benefit from early simplification.)\n",
    "So, you should probably not make simplification a standard step in your workflow,\n",
    "only using it if necessary.\n",
    "\n",
    "It is important that simplification - if it happens at all -\n",
    "either (a) comes after recapitation, or (b) is done with the\n",
    "``keep_input_roots=True`` option (see {meth}`tskit.TreeSequence.simplify`).\n",
    "This is because simplification removes some of the\n",
    "ancestral genomes in the first generation,\n",
    "which are necessary for recapitation,\n",
    "unless it is asked to \"keep the input roots\".\n",
    "If we simplify without this option before recapitating,\n",
    "some of the first-generation blue chromosomes in the figure on the right\n",
    "would not be present, so the coalescent simulation would start from a more recent point in time\n",
    "than it really should.\n",
    "As an extreme example, suppose our SLiM simulation has a single diploid who has reproduced\n",
    "by clonal reproduction for 1,000 generations,\n",
    "so that the final tree sequence is just two vertical lines of descent going back\n",
    "to the two chromosomes in the initial individual alive 1,000 generations ago.\n",
    "Recapitation would produce a shared history for these two chromosomes,\n",
    "that would coalesce some time longer ago than 1,000 generations.\n",
    "However, if we simplified first, then those two branches going back 1,000 generations would be removed,\n",
    "since they don't convey any information about the shape of the tree;\n",
    "and so recapitation might produce a common ancestor more recently than 1,000 generations,\n",
    "which would be inconsistent with the SLiM simulation.\n",
    "\n",
    "After recapitation,\n",
    "simplification to the history of 100 individuals alive today\n",
    "can be done with the {meth}`tskit.TreeSequence.simplify` method:"
   ]
  },
  {
   "cell_type": "code",
   "execution_count": 6,
   "id": "beaf4358",
   "metadata": {},
   "outputs": [
    {
     "name": "stdout",
     "output_type": "stream",
     "text": [
      "Before, there were 1960 sample nodes (and 980 individuals)\n",
      "in the tree sequence, and now there are 200 sample nodes\n",
      "(and 118 individuals).\n"
     ]
    }
   ],
   "source": [
    "import numpy as np\n",
    "rng = np.random.default_rng(seed=3)\n",
    "alive_inds = pyslim.individuals_alive_at(rts, 0)\n",
    "keep_indivs = rng.choice(alive_inds, 100, replace=False)\n",
    "keep_nodes = []\n",
    "for i in keep_indivs:\n",
    "  keep_nodes.extend(rts.individual(i).nodes)\n",
    "\n",
    "sts = rts.simplify(keep_nodes, keep_input_roots=True)\n",
    "\n",
    "print(f\"Before, there were {rts.num_samples} sample nodes (and {rts.num_individuals} individuals)\\n\"\n",
    "      f\"in the tree sequence, and now there are {sts.num_samples} sample nodes\\n\"\n",
    "      f\"(and {sts.num_individuals} individuals).\")"
   ]
  },
  {
   "cell_type": "markdown",
   "id": "6fb26660",
   "metadata": {},
   "source": [
    "**Note** that you must pass simplify a list of *node IDs*, not individual IDs.\n",
    "Here, we used the {func}`.individuals_alive_at` method to obtain the list\n",
    "of individuals alive today.\n",
    "Also note that there are *still* more than 100 individuals remaining - 15 non-sample individuals\n",
    "have not been simplified away,\n",
    "because they have nodes that are required to describe the genealogies of the samples.\n",
    "(Since this is a non-Wright-Fisher simulation,\n",
    "parents and children can be both alive at the same time in the final generation.)\n",
    "\n",
    "\n",
    "\n",
    "(sec_tutorial_adding_neutral_mutations)=\n",
    "\n",
    "### Adding neutral mutations to a SLiM simulation\n",
    "\n",
    "```{figure} _static/pedigree_mutate.png\n",
    "---\n",
    "scale: 42%\n",
    "align: right\n",
    "name: pedigree_mutate\n",
    "---\n",
    "The tree sequence, with mutations added.\n",
    "```\n",
    "\n",
    "If you have recorded a tree sequence in SLiM, likely you have not included any neutral mutations,\n",
    "since it is much more efficient to simply add these on afterwards.\n",
    "To add these (in a completely equivalent way to having included them during the simulation),\n",
    "you can use the {func}`msprime.sim_mutations` function, which returns a new tree sequence with additional mutations.\n",
    "Continuing with the cartoons from above, these are added to each branch of the tree sequence\n",
    "at the rate per unit time that you request.\n",
    "We'll add these using the {class}`msprime.SLiMMutationModel`, so that the file can be read back into SLiM,\n",
    "but any of the other mutation models in msprime could be used.\n",
    "This works as follows:"
   ]
  },
  {
   "cell_type": "code",
   "execution_count": 7,
   "id": "0b7b908e",
   "metadata": {},
   "outputs": [
    {
     "name": "stdout",
     "output_type": "stream",
     "text": [
      "The tree sequence now has 25922 mutations,\n",
      "and mean pairwise nucleotide diversity is 1.904e-05.\n"
     ]
    }
   ],
   "source": [
    "next_id = pyslim.next_slim_mutation_id(sts)\n",
    "ts = msprime.sim_mutations(\n",
    "           sts,\n",
    "           rate=1e-8,\n",
    "           model=msprime.SLiMMutationModel(type=0, next_id=next_id),\n",
    "           keep=True,\n",
    ")\n",
    "\n",
    "print(f\"The tree sequence now has {ts.num_mutations} mutations,\\n\"\n",
    "      f\"and mean pairwise nucleotide diversity is {ts.diversity():0.3e}.\")"
   ]
  },
  {
   "cell_type": "markdown",
   "id": "4ed0c385",
   "metadata": {},
   "source": [
    "What's going on here? Let's step through the code.\n",
    "\n",
    "1. The mutation ``rate = 1e-8``, which adds mutations at a rate of {math}`10^{-8}` per bp.\n",
    "    Unlike previous versions of msprime, this adds mutations using a discrete-sites model,\n",
    "    i.e., only at integer locations (like SLiM).\n",
    "\n",
    "2. We're passing ``type=0`` to the mutation model.\n",
    "    This is because SLiM mutations need a \"mutation type\",\n",
    "    and it makes the most sense if we add a type that was unused in the simulation.\n",
    "    In this example we don't have any existing mutation types, so we can safely use ``type=0``.\n",
    "\n",
    "3. We also add ``keep = True``, to keep any existing mutations.\n",
    "    In this example there aren't any, so this isn't strictly necessary,\n",
    "    but this is a good default.\n",
    "\n",
    "4. If there are existing SLiM mutations on the tree sequence we need to\n",
    "    make sure any newly added mutations have distinct SLiM IDs,\n",
    "    so we use :meth:`.next_slim_mutation_id` to figure out\n",
    "    what the next available ID is, and pass it in.\n",
    "\n",
    "\n",
    "(sec_extracting_individuals)=\n",
    "\n",
    "## Extracting SLiM individuals\n",
    "\n",
    "Another important thing to be able to do is to extract\n",
    "individuals from a simulation,\n",
    "for analysis or for outputting their genotypes, for instance.\n",
    "This section demonstrates some basic manipulations of individuals.\n",
    "\n",
    "### Extracting a sample of individuals\n",
    "\n",
    "The first, most common method to extract individuals is simply to get all\n",
    "those that were alive at a particular time,\n",
    "using {func}`.individuals_alive_at`. For instance, to get\n",
    "the list of individual IDs of all those alive at the end of the\n",
    "simulation (i.e., zero time units ago), we could do:"
   ]
  },
  {
   "cell_type": "code",
   "execution_count": 8,
   "id": "6ac5354e",
   "metadata": {},
   "outputs": [
    {
     "name": "stdout",
     "output_type": "stream",
     "text": [
      "There are 980 individuals alive in the final generation.\n"
     ]
    }
   ],
   "source": [
    "orig_ts = tskit.load(\"example_sim.trees\")\n",
    "alive = pyslim.individuals_alive_at(orig_ts, 0)\n",
    "\n",
    "print(f\"There are {len(alive)} individuals alive in the final generation.\")"
   ]
  },
  {
   "cell_type": "markdown",
   "id": "5f79cd41",
   "metadata": {},
   "source": [
    "Here, ``alive`` is a vector of *individual* IDs,\n",
    "so one way to take a sample of living individuals\n",
    "and write their SNPs to a VCF is:"
   ]
  },
  {
   "cell_type": "code",
   "execution_count": 9,
   "id": "ac5890af",
   "metadata": {},
   "outputs": [],
   "source": [
    "rng = np.random.default_rng(seed=1)\n",
    "keep_indivs = rng.choice(alive, 100, replace=False)\n",
    "ts = msprime.sim_mutations(orig_ts, rate=1e-8, random_seed=1)\n",
    "with open(\"example_snps.vcf\", \"w\") as vcffile:\n",
    "    ts.write_vcf(vcffile, individuals=keep_indivs)"
   ]
  },
  {
   "cell_type": "markdown",
   "id": "d000e7d7",
   "metadata": {},
   "source": [
    "If you've done nothing else to the output from SLiM,\n",
    "then this code will work,\n",
    "but it does requires all alive individuals to be *samples*.\n",
    "A situation in which this isn't the case is shown in the next section.\n",
    "\n",
    "\n",
    "### Extracting individuals after simplification\n",
    "\n",
    "If the tree sequence has been simplified to retain only information\n",
    "about a set of focal individuals,\n",
    "then knowing an individual is alive at the end of the simulation\n",
    "isn't enough to guarantee we have their entire genome sequence:\n",
    "there are often individuals retained after simplification with\n",
    "one or more non-sample nodes.\n",
    "So, to output genotypes after simplification, we need to also check\n",
    "that the individuals' nodes are also *samples*.\n",
    "As mentioned earlier, {meth}`tskit.TreeSequence.simplify` takes a list\n",
    "of nodes as input:"
   ]
  },
  {
   "cell_type": "code",
   "execution_count": 10,
   "id": "fc5bfaf8",
   "metadata": {},
   "outputs": [],
   "source": [
    "keep_nodes = []\n",
    "for i in keep_indivs:\n",
    "    keep_nodes.extend(orig_ts.individual(i).nodes)\n",
    "sts = rts.simplify(keep_nodes)\n",
    "ts = msprime.sim_mutations(sts, rate=1e-8, random_seed=1)"
   ]
  },
  {
   "cell_type": "markdown",
   "id": "b93e692d",
   "metadata": {},
   "source": [
    "Individuals are retained by simplify if any of their nodes are,\n",
    "so we would get an alive individual without sample nodes if, for instance,\n",
    "a parent and two offspring are all alive, and we happen to keep the offspring\n",
    "but not the parent.\n",
    "For this reason, if at this point we try to extract genotypes for all of the\n",
    "alive individuals, we encounter a (somewhat confusing) error:"
   ]
  },
  {
   "cell_type": "code",
   "execution_count": 11,
   "id": "74a11fcd",
   "metadata": {},
   "outputs": [
    {
     "name": "stdout",
     "output_type": "stream",
     "text": [
      "Error:\n",
      "Cannot generate genotypes for non-samples when isolated nodes are considered as missing. (TSK_ERR_MUST_IMPUTE_NON_SAMPLES)\n"
     ]
    }
   ],
   "source": [
    "try:\n",
    "    alive = pyslim.individuals_alive_at(ts, 0)\n",
    "    with open(\"example_snps.vcf\", \"w\") as vcffile:\n",
    "        ts.write_vcf(vcffile, individuals=alive)\n",
    "except Exception as e:\n",
    "    print (\"Error:\")\n",
    "    print (e)"
   ]
  },
  {
   "cell_type": "markdown",
   "id": "af354e8e",
   "metadata": {},
   "source": [
    "This is just telling us that some of the individuals we're trying\n",
    "to write to the VCF have nodes that are not samples.\n",
    "The reference to \"missing\" is a red herring:\n",
    "see [the tskit documentation](tskit:sec_data_model_missing_data)\n",
    "for what it's talking about.\n",
    "So, instead of writing out genotypes of everyone alive,\n",
    "we need to get the list of alive individuals *whose nodes are samples*,\n",
    "using {meth}`is_sample() <tskit.Node.is_sample>`:"
   ]
  },
  {
   "cell_type": "code",
   "execution_count": 12,
   "id": "42b44052",
   "metadata": {},
   "outputs": [],
   "source": [
    "indivlist = []\n",
    "for i in pyslim.individuals_alive_at(ts, 0):\n",
    "    ind = ts.individual(i)\n",
    "    if ts.node(ind.nodes[0]).is_sample():\n",
    "       indivlist.append(i)\n",
    "       # if one node is a sample, the other should be also:\n",
    "       assert ts.node(ind.nodes[1]).is_sample()\n",
    "with open(\"example_snps.vcf\", \"w\") as vcffile:\n",
    "    ts.write_vcf(vcffile, individuals=indivlist)"
   ]
  },
  {
   "cell_type": "markdown",
   "id": "2eda6aed",
   "metadata": {},
   "source": [
    "### Extracting particular individuals\n",
    "\n",
    "Now let's see how to examine other attributes of individuals,\n",
    "e.g., which subpopulation they're in.\n",
    "To get another example with discrete subpopulations,\n",
    "let's run another SLiM simulation, similar to the above\n",
    "but with two populations exchanging migrants:\n",
    "\n",
    "```{literalinclude} migrants.slim\n",
    "```\n",
    "\n",
    "Let's run it:"
   ]
  },
  {
   "cell_type": "code",
   "execution_count": 13,
   "id": "271fdee5",
   "metadata": {},
   "outputs": [
    {
     "name": "stdout",
     "output_type": "stream",
     "text": [
      "// Initial random seed:\n"
     ]
    },
    {
     "name": "stdout",
     "output_type": "stream",
     "text": [
      "32\n"
     ]
    },
    {
     "name": "stdout",
     "output_type": "stream",
     "text": [
      "\n"
     ]
    },
    {
     "name": "stdout",
     "output_type": "stream",
     "text": [
      "// RunInitializeCallbacks():\n"
     ]
    },
    {
     "name": "stdout",
     "output_type": "stream",
     "text": [
      "initializeSLiMModelType(modelType = 'nonWF');\n"
     ]
    },
    {
     "name": "stdout",
     "output_type": "stream",
     "text": [
      "initializeSex(\"A\");\n"
     ]
    },
    {
     "name": "stdout",
     "output_type": "stream",
     "text": [
      "initializeTreeSeq();\n"
     ]
    },
    {
     "name": "stdout",
     "output_type": "stream",
     "text": [
      "initializeMutationRate(0);\n"
     ]
    },
    {
     "name": "stdout",
     "output_type": "stream",
     "text": [
      "initializeMutationType(1, 0.5, \"f\", 0);\n"
     ]
    },
    {
     "name": "stdout",
     "output_type": "stream",
     "text": [
      "initializeGenomicElementType(1, m1, 1);\n"
     ]
    },
    {
     "name": "stdout",
     "output_type": "stream",
     "text": [
      "initializeGenomicElement(g1, 0, 99999999);\n"
     ]
    },
    {
     "name": "stdout",
     "output_type": "stream",
     "text": [
      "initializeRecombinationRate(1e-08);\n"
     ]
    },
    {
     "name": "stdout",
     "output_type": "stream",
     "text": [
      "\n"
     ]
    },
    {
     "name": "stdout",
     "output_type": "stream",
     "text": [
      "// Starting run at tick <start>:\n"
     ]
    },
    {
     "name": "stdout",
     "output_type": "stream",
     "text": [
      "1 \n"
     ]
    },
    {
     "name": "stdout",
     "output_type": "stream",
     "text": [
      "\n"
     ]
    }
   ],
   "source": [
    "%%bash\n",
    "slim -s 32 migrants.slim"
   ]
  },
  {
   "cell_type": "markdown",
   "id": "cf55b1e5",
   "metadata": {},
   "source": [
    "To count up how many individuals are in each population,\n",
    "we could do:"
   ]
  },
  {
   "cell_type": "code",
   "execution_count": 14,
   "id": "552c35d9",
   "metadata": {},
   "outputs": [
    {
     "name": "stdout",
     "output_type": "stream",
     "text": [
      "Number of individuals in population 0: 0\n",
      "Number of individuals in population 1: 1008\n",
      "Number of individuals in population 2: 1015\n"
     ]
    }
   ],
   "source": [
    "orig_ts = tskit.load(\"migrants.trees\")\n",
    "alive = pyslim.individuals_alive_at(orig_ts, 0)\n",
    "num_alive = [0 for _ in range(orig_ts.num_populations)]\n",
    "for i in alive:\n",
    "  ind = orig_ts.individual(i)\n",
    "  ind_population = orig_ts.node(ind.nodes[0]).population\n",
    "  num_alive[ind_population] += 1\n",
    "\n",
    "for pop, num in enumerate(num_alive):\n",
    "  print(f\"Number of individuals in population {pop}: {num}\")"
   ]
  },
  {
   "cell_type": "markdown",
   "id": "c6fed309",
   "metadata": {},
   "source": [
    ":::{note}\n",
    "Our SLiM script started numbering populations at 1, while tskit starts counting at 0,\n",
    "so there is an empty \"population 0\" in a SLiM-produced tree sequence.\n",
    ":::\n",
    "\n",
    "\n",
    "(sec_recapitate_with_migration)=\n",
    "\n",
    "## Recapitation with migration between more than one population\n",
    "\n",
    "Following on the last example,\n",
    "let's recapitate and mutate the tree sequence.\n",
    "Recall that this recipe had two populations, ``p1`` and ``p2``,\n",
    "each of size 1000.\n",
    "Recapitation takes a bit more thought, because if the two populations stay separate,\n",
    "it will run forever, unable to coalesce.\n",
    "By default, :func:`.recapitate` *merges* the two populations into a single\n",
    "one of size ``ancestral_Ne``.\n",
    "But, if we'd like them to stay separate, we need to inclue migration between them.\n",
    "Here's how we set up the demography using msprime's tools:"
   ]
  },
  {
   "cell_type": "code",
   "execution_count": 15,
   "id": "2131a817",
   "metadata": {},
   "outputs": [],
   "source": [
    "demography = msprime.Demography.from_tree_sequence(orig_ts)\n",
    "for pop in demography.populations:\n",
    "    # must set their effective population sizes\n",
    "    pop.initial_size = 1000\n",
    "\n",
    "demography.add_migration_rate_change(\n",
    "    time=orig_ts.metadata['SLiM']['tick'],\n",
    "    rate=0.1, source=\"p1\", dest=\"p2\",\n",
    ")\n",
    "demography.add_migration_rate_change(\n",
    "    time=orig_ts.metadata['SLiM']['tick'],\n",
    "    rate=0.1, source=\"p2\", dest=\"p1\",\n",
    ")\n",
    "rts = pyslim.recapitate(\n",
    "        orig_ts, demography=demography,\n",
    "        recombination_rate=1e-8,\n",
    "        random_seed=4\n",
    ")\n",
    "ts = msprime.sim_mutations(\n",
    "                    rts, rate=1e-8,\n",
    "                    model=msprime.SLiMMutationModel(type=0),\n",
    "                    random_seed=7\n",
    ")"
   ]
  },
  {
   "cell_type": "markdown",
   "id": "5ef3e483",
   "metadata": {},
   "source": [
    "Again, there are *three* populations because SLiM starts counting at 1;\n",
    "the first population is unused (no migrants can go to it).\n",
    "Let's compute genetic diversity within and between each of the two populations\n",
    "(we compute the mean density of pairwise nucleotide differences,\n",
    "often denoted {math}`\\pi` and {math}`d_{xy}`).\n",
    "To do this, we need to extract the node IDs from the individuals of the two populations\n",
    "that are alive at the end of the simulation."
   ]
  },
  {
   "cell_type": "code",
   "execution_count": 16,
   "id": "b23cee45",
   "metadata": {},
   "outputs": [
    {
     "name": "stdout",
     "output_type": "stream",
     "text": [
      "There are 115030 mutations across 51441 distinct\n",
      "genealogical trees describing relationships among 4046\n",
      "sampled genomes, with a mean genetic diversity of 8.919e-05\n",
      "and 8.915e-05 within the two populations,\n",
      "and a mean divergence of 8.984e-05 between them.\n"
     ]
    }
   ],
   "source": [
    "pop_nodes = [ts.samples(population=p, time=0) for p in range(ts.num_populations)]\n",
    "diversity = ts.diversity(pop_nodes[1:])\n",
    "divergence = ts.divergence(pop_nodes[1:])\n",
    "\n",
    "print(f\"There are {ts.num_mutations} mutations across {ts.num_trees} distinct\\n\"\n",
    "      f\"genealogical trees describing relationships among {ts.num_samples}\\n\"\n",
    "      f\"sampled genomes, with a mean genetic diversity of {diversity[0]:0.3e}\\n\"\n",
    "      f\"and {diversity[1]:0.3e} within the two populations,\\n\"\n",
    "      f\"and a mean divergence of {divergence:0.3e} between them.\")"
   ]
  },
  {
   "cell_type": "markdown",
   "id": "8a1e237a",
   "metadata": {},
   "source": [
    "## Individual metadata\n",
    "\n",
    "Each ``Mutation``, ``Population``, ``Node``, and ``Individual``, as well as the tree\n",
    "sequence as a whole, carries additional information stored by SLiM in its ``metadata``\n",
    "property. A fuller description of metadata in general is given in [](sec_metadata),\n",
    "but as a quick introduction, here is the information available\n",
    "about an individual in the previous example:"
   ]
  },
  {
   "cell_type": "code",
   "execution_count": 17,
   "id": "8819c05d",
   "metadata": {
    "tags": [
     "remove-output"
    ]
   },
   "outputs": [],
   "source": [
    "ind = ts.individual(0)"
   ]
  },
  {
   "cell_type": "code",
   "execution_count": 18,
   "id": "e9ed73f9",
   "metadata": {
    "tags": [
     "remove-input"
    ]
   },
   "outputs": [
    {
     "name": "stdout",
     "output_type": "stream",
     "text": [
      "Individual(id=0, flags=65536, location=array([0., 0., 0.]), parents=array([-1, -1], dtype=int32), nodes=array([0, 1], dtype=int32), metadata={\n",
      "    'pedigree_id': 980494,\n",
      "    'pedigree_p1': 974787,\n",
      "    'pedigree_p2': 966513,\n",
      "    'age': 21,\n",
      "    'subpopulation': 1,\n",
      "    'sex': 0,\n",
      "    'flags': 0\n",
      "   })\n"
     ]
    }
   ],
   "source": [
    "util.pp(ind)"
   ]
  },
  {
   "cell_type": "markdown",
   "id": "5bb4702b",
   "metadata": {},
   "source": [
    "Some information is generic to individuals in tree sequences of any format:\n",
    "``id`` (the ID internal to the tree sequence),\n",
    "``flags`` (described [below](sec_individual_flags)),\n",
    "``location`` (the [x,y,z] coordinates of the individual),\n",
    "``nodes`` (an array of the node IDs that represent the genomes of this individual),\n",
    "and ``time`` (the time, in units of \"time ago\" that the individual was born).\n",
    "\n",
    "Other information, contained in the ``metadata`` field, is specific to tree sequences\n",
    "produced by SLiM. This is described in more detail in the SLiM manual, but briefly:\n",
    "\n",
    "- the  ``pedigree_id`` is SLiM's internal ID for the individual,\n",
    "- ``age`` and ``subpopulation`` are their age and population at the time they\n",
    "  were recorded, or at the time\n",
    "  the simulation stopped if they were still alive  (NB: SLiM uses the word\n",
    "  \"subpopulation\" for what is simply called a \"population\" in tree-sequence parlance)\n",
    "- ``sex`` is their sex (as an integer, one of {data}`.INDIVIDUAL_TYPE_FEMALE`,\n",
    "  {data}`.INDIVIDUAL_TYPE_MALE`, or {data}`.INDIVIDUAL_TYPE_HERMAPHRODITE`).\n",
    "- ``flags`` holds additional information about the individual recorded by SLiM\n",
    "  (currently, only whether the individual has migrated or not:\n",
    "  see [](sec_constants_and_flags)).\n",
    "\n",
    "\n",
    "We can use this metadata in many ways, for example, to create an age distribution by sex:"
   ]
  },
  {
   "cell_type": "code",
   "execution_count": 19,
   "id": "635a314b",
   "metadata": {},
   "outputs": [
    {
     "name": "stdout",
     "output_type": "stream",
     "text": [
      "number\tfemales\tmales\n",
      "0\t325.0\t356.0\n",
      "1\t232.0\t206.0\n",
      "2\t123.0\t156.0\n",
      "3\t106.0\t106.0\n",
      "4\t79.0\t78.0\n",
      "5\t40.0\t39.0\n",
      "6\t35.0\t26.0\n",
      "7\t13.0\t22.0\n",
      "8\t12.0\t12.0\n",
      "9\t8.0\t16.0\n",
      "10\t7.0\t2.0\n",
      "11\t7.0\t3.0\n",
      "12\t3.0\t3.0\n",
      "13\t0.0\t1.0\n",
      "14\t3.0\t1.0\n",
      "15\t1.0\t1.0\n",
      "16\t0.0\t0.0\n",
      "17\t0.0\t0.0\n",
      "18\t0.0\t0.0\n",
      "19\t0.0\t0.0\n",
      "20\t0.0\t0.0\n",
      "21\t1.0\t0.0\n"
     ]
    }
   ],
   "source": [
    "import numpy as np\n",
    "max_age = max([ind.metadata[\"age\"] for ind in ts.individuals()])\n",
    "age_table = np.zeros((max_age + 1, 2))\n",
    "age_labels = { pyslim.INDIVIDUAL_TYPE_FEMALE: 'females',\n",
    "               pyslim.INDIVIDUAL_TYPE_MALE: 'males' }\n",
    "for i in pyslim.individuals_alive_at(ts, 0):\n",
    "    ind = ts.individual(i)\n",
    "    age_table[ind.metadata[\"age\"], ind.metadata[\"sex\"]] += 1\n",
    "\n",
    "print(f\"number\\t{age_labels[0]}\\t{age_labels[1]}\")\n",
    "for age, x in enumerate(age_table):\n",
    "    print(f\"{age}\\t{x[0]}\\t{x[1]}\")"
   ]
  },
  {
   "cell_type": "markdown",
   "id": "f948baef",
   "metadata": {},
   "source": [
    "We have looked up how to interpret the ``sex`` attribute\n",
    "by using the values of {data}`.INDIVIDUAL_TYPE_FEMALE` (which is 0)\n",
    "and {data}`.INDIVIDUAL_TYPE_MALE` (which is 1).\n",
    "In a simulation without separate sexes,\n",
    "all individuals would have sex equal to {data}`.INDIVIDUAL_TYPE_HERMAPHRODITE`\n",
    "(which is -1).\n",
    "\n",
    "Several fields associated with individuals are also available as numpy arrays,\n",
    "across all individuals at once:\n",
    "{attr}`tskit.TreeSequence.individuals_location`,\n",
    "{attr}`tskit.TreeSequence.individuals_population`,\n",
    "{attr}`tskit.TreeSequence.individuals_time` (also see\n",
    "{func}`.individual_ages` and {func}`.individual_ages_at`).\n",
    "Using these can sometimes be easier than\n",
    "iterating over individuals as above. For example,\n",
    "suppose that we want to randomly sample 10 individuals alive and older than 2 time steps\n",
    "from each of the populations at the end of the simulation,\n",
    "and simplify the tree sequence to retain only those individuals.\n",
    "This can be done using the numpy arrays returned by {func}`.individual_ages`\n",
    "and `.individuals_population` as follows:"
   ]
  },
  {
   "cell_type": "code",
   "execution_count": 20,
   "id": "2b1aa5bc",
   "metadata": {},
   "outputs": [],
   "source": [
    "alive = pyslim.individuals_alive_at(ts, 0)\n",
    "adults = alive[pyslim.individual_ages(ts)[alive] > 2]\n",
    "pops = [\n",
    "   [i for i in adults if ts.individual(i).metadata['subpopulation'] == k]\n",
    "   for k in [1, 2]\n",
    "]\n",
    "sample_inds = [np.random.choice(pop, 10, replace=False) for pop in pops]\n",
    "sample_nodes = []\n",
    "for samp in sample_inds:\n",
    "  for i in samp:\n",
    "     sample_nodes.extend(ts.individual(i).nodes)\n",
    "sub_ts = ts.simplify(sample_nodes)"
   ]
  },
  {
   "cell_type": "markdown",
   "id": "676c5bbe",
   "metadata": {},
   "source": [
    "Note that here we have used the *subpopulation* attribute that SLiM places in metadata\n",
    "to find out where each individual lives at the end of the simulation.\n",
    "We might alternatively have used the *population* attribute of Nodes -\n",
    "but, this would give each individual's *birth* location.\n",
    "\n",
    "The resulting tree sequence does indeed have fewer individuals and fewer trees:"
   ]
  },
  {
   "cell_type": "code",
   "execution_count": 21,
   "id": "d0379f56",
   "metadata": {},
   "outputs": [
    {
     "name": "stdout",
     "output_type": "stream",
     "text": [
      "There are 44726 mutations across 25846 distinct\n",
      "genealogical trees describing relationships among 40 sampled genomes,\n",
      "with a mean overall genetic diversity of 8.960978205129913e-05.\n"
     ]
    }
   ],
   "source": [
    "print(f\"There are {sub_ts.num_mutations} mutations across {sub_ts.num_trees} distinct\\n\"\n",
    "      f\"genealogical trees describing relationships among {sub_ts.num_samples} sampled genomes,\\n\"\n",
    "      f\"with a mean overall genetic diversity of {sub_ts.diversity()}.\")"
   ]
  },
  {
   "cell_type": "markdown",
   "id": "a1e51d86",
   "metadata": {},
   "source": [
    "## Historical individuals\n",
    "\n",
    "As we've seen, a basic tree sequence output by SLiM only contains the currently alive\n",
    "individuals and the ancestral nodes (genomes) required to reconstruct their genetic\n",
    "relationships. But you might want more than that. For example, there may be individuals\n",
    "who are not alive any more, but whose complete ancestry you would like to know. Or\n",
    "perhaps you'd like to know how the final generation relates to particular individuals in\n",
    "the past. Or it may be that you want to access the spatial location of historical genomes\n",
    "(which, for technical reasons is linked to individuals, not to genomes). The solution is\n",
    "to *remember* an individual during the simulation, using the SLiM function\n",
    "``treeSeqRememberIndividuals()``. Individuals can be Remembered in two ways, as\n",
    "described below.\n",
    "\n",
    "\n",
    "\n",
    "```{figure} _static/pedigree_remember.png\n",
    "---\n",
    "scale: 40%\n",
    "align: right\n",
    "name: pedigree_remember\n",
    "---\n",
    "CAPTION TODO\n",
    "```\n",
    "\n",
    "\n",
    "\n",
    "(sec_remembering_individuals)=\n",
    "\n",
    "### Permanently remembering individuals\n",
    "\n",
    "By default, a call to ``treeSeqRememberIndividuals()`` will permanently remember one or\n",
    "more individuals, by marking their nodes as actual samples: the simulated equivalent of\n",
    "ancient DNA dug out of permafrost, or stored\n",
    "in an old collecting tube. This means any tree sequence subsequently recorded will always\n",
    "contain this individual, its nodes (now marked as samples), and its full ancestry. As\n",
    "with any other sample nodes, any permanently remembered individuals can be removed from\n",
    "the tree sequence by [](sec_tutorial_simplification). The result of remembering an\n",
    "individual in the [introductory example](sec_left_in_tree_sequence) is pictured on the right.\n",
    "\n",
    "\n",
    "(sec_retaining_individuals)=\n",
    "\n",
    "### Retaining individuals\n",
    "\n",
    "Alternatively, you may want to avoid treating historical individuals and their genomes as\n",
    "actual samples, but temporarily *retain* them as long as they are still relevant to\n",
    "reconstructing the genetic ancestry of the sample nodes. This can save some computational\n",
    "burden, as not only will nodes and individuals be removed once they are no longer\n",
    "ancestral, but also the full ancestry of the retained individuals does not need to be\n",
    "kept. You can retain individuals in this way by using\n",
    "``treeSeqRememberIndividuals(..., permanent=F)``.\n",
    "\n",
    "Since a retained individual's nodes are not marked as samples, they are subject to the\n",
    "[normal removal process](sec_left_in_tree_sequence), and it is possible to end up\n",
    "with an individual containing only one genome, as shown in the diagram. However, as soon\n",
    "as *both* nodes of a retained individual have been lost, the individual itself is deleted\n",
    "too.\n",
    "\n",
    "Note that by default, nodes are only kept if they mark a coalescent point (MRCA or branch\n",
    "point) in one or more of the trees in a tree sequence. This can be changed by\n",
    "initialising tree sequence recording in SLiM using\n",
    "``treeSeqInitialize(retainCoalescentOnly=F)``. SLiM will then\n",
    "preserve all retained individuals while they remain in the genealogy, even if their nodes\n",
    "are not coalescent points in a tree (so-called \"unary nodes\"). Similarly, if you later\n",
    "decide to reduce the number of samples via [](sec_tutorial_simplification),\n",
    "retained individuals will be kept only if they are still MRCAs in the ancestry of the\n",
    "selected samples. To preserve them even if their nodes are not coalescent points, you\n",
    "can specify ``ts.simplify(selected_samples, keep_unary_in_individuals=True)``.\n",
    "\n",
    ":::{todo}\n",
    "Add SLiM code which includes retaining and remembering, and perhaps some python code\n",
    "to show them.\n",
    ":::\n",
    "\n",
    "(sec_remembering_everyone)=\n",
    "\n",
    "\n",
    "### Remembering everyone\n",
    "\n",
    "Although not needed to reconstruct full genomic history, it is perfectly possible to\n",
    "apply ``treeSeqRememberIndividuals()`` to every individual in every generation of a\n",
    "simulation (i.e. everyone who has ever lived). If you simply mark everyone for temporary\n",
    "retention, it should not increase the memory burden of your simulation much: most\n",
    "individuals will be removed as the simulation progresses, since they will not contain\n",
    "coalescent nodes. However, if you use ``treeSeqInitialize(retainCoalescentOnly=F)``,\n",
    "the number of individuals in the resulting tree sequence is likely to become very large,\n",
    "and the efficiencies provided by tree sequence recording will be substantially reduced.\n",
    "Indeed in this case, retaining will be much the same as permanently remembering everyone\n",
    "who has ever lived. Nevertheless, if you are willing to sacrifice enough computer memory,\n",
    "either of these is (perhaps surprisingly) possible, even for medium-sized simulations.\n",
    "\n",
    "\n",
    "\n",
    "(sec_individual_flags)=\n",
    "\n",
    "### Individual flags\n",
    "\n",
    "We have seen that an individual can appear in the tree sequence because it was\n",
    "Remembered, Retained, or alive at the end of the simulation (note these\n",
    "are not mutually exclusive). The ``Individual.flags`` value stores this information.\n",
    "For example, to count up the different individual types, we could do this:\n",
    "\n",
    ":::{todo}\n",
    "Update this code with the simulation above so that we have some remembered and\n",
    "retained individuals present\n",
    ":::"
   ]
  },
  {
   "cell_type": "code",
   "execution_count": 22,
   "id": "124c7b31",
   "metadata": {},
   "outputs": [
    {
     "name": "stdout",
     "output_type": "stream",
     "text": [
      "Number of individuals that are remembered: 0\n",
      "Number of individuals that are retained: 0\n",
      "Number of individuals that are alive: 2023\n"
     ]
    }
   ],
   "source": [
    "indiv_types = {\"remembered\" : 0,\n",
    "              \"retained\" : 0,\n",
    "              \"alive\" : 0}\n",
    "for ind in ts.individuals():\n",
    "  if ind.flags & pyslim.INDIVIDUAL_REMEMBERED:\n",
    "     indiv_types['remembered'] += 1\n",
    "  if ind.flags & pyslim.INDIVIDUAL_RETAINED:\n",
    "     indiv_types['retained'] += 1\n",
    "  if ind.flags & pyslim.INDIVIDUAL_ALIVE:\n",
    "     indiv_types['alive'] += 1\n",
    "\n",
    "for k in indiv_types:\n",
    "  print(f\"Number of individuals that are {k}: {indiv_types[k]}\")"
   ]
  },
  {
   "cell_type": "markdown",
   "id": "0a0b1915",
   "metadata": {},
   "source": [
    ":::{note}\n",
    "In previous versions of SLiM/pyslim, the first generation of individuals were\n",
    "kept in the tree sequence, to allow [](sec_tutorial_recapitation). With the\n",
    "addition of the ``keep_input_roots=True`` option to the\n",
    "[](sec_tutorial_simplification) process, this is no longer necessary,\n",
    "so these are no longer present, unless you specifically Remember them.\n",
    ":::\n",
    "\n",
    "\n",
    "## Generating intial diversity with msprime\n",
    "\n",
    "Suppose now that we'd like to *start* a SLiM simulation\n",
    "with the result of a coalescent simulation.\n",
    "For instance, we might want to do this instead of recapitating\n",
    "if we wanted to use msprime to generate genetic diversity that\n",
    "would then be selected on during the SLiM simulation.\n",
    "To do this, we'll:\n",
    "1. simulate a tree sequence with msprime,\n",
    "2. add SLiM information to the nodes and individuals,\n",
    "3. add SLiM mutations, and\n",
    "4. write it out to a ``.trees`` file.\n",
    "\n",
    "First, we'll (1) run a simulation of 1 Mb of genome sampled in 200 diploids\n",
    "in a population of 1000 diploids,\n",
    "and (2) use the {func}`.annotate` function to add default SLiM metadata to the result:"
   ]
  },
  {
   "cell_type": "code",
   "execution_count": 23,
   "id": "76b85a73",
   "metadata": {},
   "outputs": [],
   "source": [
    "demog = msprime.Demography()\n",
    "demog.add_population(initial_size=1000)\n",
    "ts = msprime.sim_ancestry(\n",
    "            samples=200,\n",
    "            demography=demog,\n",
    "            recombination_rate=1e-8,\n",
    "            sequence_length=1e6,\n",
    "            random_seed=5)\n",
    "ts = pyslim.annotate(ts, model_type=\"nonWF\", tick=1)\n",
    "assert ts.num_individuals == 200\n",
    "assert ts.num_samples == 400"
   ]
  },
  {
   "cell_type": "markdown",
   "id": "3dcc68d7",
   "metadata": {},
   "source": [
    "We have set ``tick`` to 1;\n",
    "this means that as soon as we load the tree sequence into SLiM,\n",
    "SLiM will set the current time counter to 1.\n",
    "(If we set ``tick`` to 100, then any script blocks scheduled to happen before 100\n",
    "would not execute after loading the tree sequence.)\n",
    "\n",
    "We now have 200 diploids (so, 400 sampled nodes).\n",
    "Here's individual 199, which hsa SLiM metadata:"
   ]
  },
  {
   "cell_type": "code",
   "execution_count": 24,
   "id": "3394219b",
   "metadata": {
    "tags": [
     "remove-output"
    ]
   },
   "outputs": [
    {
     "name": "stdout",
     "output_type": "stream",
     "text": [
      "Individual(id=199, flags=65536, location=array([0., 0., 0.]), parents=array([], dtype=int32), nodes=array([398, 399], dtype=int32), metadata={'pedigree_id': 199, 'pedigree_p1': -1, 'pedigree_p2': -1, 'age': 0, 'subpopulation': 0, 'sex': -1, 'flags': 0})\n"
     ]
    }
   ],
   "source": [
    "ind = ts.individual(199)\n",
    "print(ind)"
   ]
  },
  {
   "cell_type": "code",
   "execution_count": 25,
   "id": "50f4b487",
   "metadata": {
    "tags": [
     "remove-input"
    ]
   },
   "outputs": [
    {
     "name": "stdout",
     "output_type": "stream",
     "text": [
      "Individual(id=199, flags=65536, location=array([0., 0., 0.]), parents=array([], dtype=int32), nodes=array([398, 399], dtype=int32), metadata={\n",
      "    'pedigree_id': 199,\n",
      "    'pedigree_p1': -1,\n",
      "    'pedigree_p2': -1,\n",
      "    'age': 0,\n",
      "    'subpopulation': 0,\n",
      "    'sex': -1,\n",
      "    'flags': 0\n",
      "   })\n"
     ]
    }
   ],
   "source": [
    "util.pp(ind)"
   ]
  },
  {
   "cell_type": "markdown",
   "id": "c41cf666",
   "metadata": {},
   "source": [
    "Looking at the ``metadata`` above, we see the default values are ``age=0``\n",
    "hermaphrodites (``sex=-1``), for instance.\n",
    "\n",
    "Now let's add SLiM mutations.\n",
    "These will be neutral, as {func}`msprime.sim_mutations`\n",
    "doesn't have the ability to dynamically modify the selection coefficients\n",
    "stored in the mutation metadata.\n",
    "To modify the mutations to be under selection,\n",
    "see [](sec_vignette_coalescent_diversity)."
   ]
  },
  {
   "cell_type": "code",
   "execution_count": 26,
   "id": "3aa81679",
   "metadata": {},
   "outputs": [],
   "source": [
    "ts = msprime.sim_mutations(\n",
    "                ts, rate=1e-8,\n",
    "                model=msprime.SLiMMutationModel(type=0),\n",
    "                random_seed=9\n",
    ")"
   ]
  },
  {
   "cell_type": "markdown",
   "id": "194787ec",
   "metadata": {},
   "source": [
    "Now the mutations have SLiM metadata.\n",
    "For instance, here's the first mutation:"
   ]
  },
  {
   "cell_type": "code",
   "execution_count": 27,
   "id": "30b8a649",
   "metadata": {
    "tags": [
     "remove-output"
    ]
   },
   "outputs": [
    {
     "data": {
      "text/plain": [
       "Mutation(id=0, site=0, node=88, derived_state='0', parent=-1, metadata={'mutation_list': [{'mutation_type': 0, 'selection_coeff': 0.0, 'subpopulation': -1, 'slim_time': -42, 'nucleotide': -1}]}, time=43.9737541056882, edge=876)"
      ]
     },
     "execution_count": 27,
     "metadata": {},
     "output_type": "execute_result"
    }
   ],
   "source": [
    "ts.mutation(0)"
   ]
  },
  {
   "cell_type": "code",
   "execution_count": 28,
   "id": "77713a20",
   "metadata": {
    "tags": [
     "remove-input"
    ]
   },
   "outputs": [
    {
     "name": "stdout",
     "output_type": "stream",
     "text": [
      "Mutation(id=0, site=0, node=88, derived_state='0', parent=-1, metadata={\n",
      "    'mutation_list': [{\n",
      "        'mutation_type': 0,\n",
      "        'selection_coeff': 0.0,\n",
      "        'subpopulation': -1,\n",
      "        'slim_time': -42,\n",
      "        'nucleotide': -1\n",
      "       }]\n",
      "   },\n",
      "time=43.9737541056882, edge=876)\n"
     ]
    }
   ],
   "source": [
    "util.pp(ts.mutation(0))"
   ]
  },
  {
   "cell_type": "markdown",
   "id": "7623644d",
   "metadata": {},
   "source": [
    "Finally, we write this out to a file that can be loaded in to SLiM:"
   ]
  },
  {
   "cell_type": "code",
   "execution_count": 29,
   "id": "cfcb2a4c",
   "metadata": {},
   "outputs": [],
   "source": [
    "ts.dump(\"initialize_nonWF.trees\")"
   ]
  },
  {
   "cell_type": "markdown",
   "id": "89af2b7f",
   "metadata": {},
   "source": [
    "Here's a minimal SLiM script that reads in the tree sequence file\n",
    "and runs it for a bit longer.\n",
    "\n",
    "```{literalinclude} neutral_restart.slim\n",
    "```"
   ]
  },
  {
   "cell_type": "code",
   "execution_count": 30,
   "id": "8839f58b",
   "metadata": {},
   "outputs": [
    {
     "name": "stdout",
     "output_type": "stream",
     "text": [
      "// Initial random seed:\n"
     ]
    },
    {
     "name": "stdout",
     "output_type": "stream",
     "text": [
      "123\n"
     ]
    },
    {
     "name": "stdout",
     "output_type": "stream",
     "text": [
      "\n"
     ]
    },
    {
     "name": "stdout",
     "output_type": "stream",
     "text": [
      "// RunInitializeCallbacks():\n"
     ]
    },
    {
     "name": "stdout",
     "output_type": "stream",
     "text": [
      "initializeSLiMModelType(modelType = 'nonWF');\n"
     ]
    },
    {
     "name": "stdout",
     "output_type": "stream",
     "text": [
      "initializeTreeSeq();\n"
     ]
    },
    {
     "name": "stdout",
     "output_type": "stream",
     "text": [
      "initializeMutationRate(1e-08);\n"
     ]
    },
    {
     "name": "stdout",
     "output_type": "stream",
     "text": [
      "initializeMutationType(0, 0.5, \"f\", 0);\n"
     ]
    },
    {
     "name": "stdout",
     "output_type": "stream",
     "text": [
      "initializeGenomicElementType(1, m0, 1);\n"
     ]
    },
    {
     "name": "stdout",
     "output_type": "stream",
     "text": [
      "initializeGenomicElement(g1, 0, 999999);\n"
     ]
    },
    {
     "name": "stdout",
     "output_type": "stream",
     "text": [
      "initializeRecombinationRate(1e-08);\n"
     ]
    },
    {
     "name": "stderr",
     "output_type": "stream",
     "text": [
      "#WARNING (Species::RunInitializeCallbacks): with tree-sequence recording enabled and a non-zero mutation rate, a neutral mutation type was defined and used; this is legal, but usually undesirable, since neutral mutations can be overlaid later using the tree-sequence information.\n"
     ]
    },
    {
     "name": "stdout",
     "output_type": "stream",
     "text": [
      "\n"
     ]
    },
    {
     "name": "stdout",
     "output_type": "stream",
     "text": [
      "// Starting run at tick <start>:\n"
     ]
    },
    {
     "name": "stdout",
     "output_type": "stream",
     "text": [
      "1 \n"
     ]
    },
    {
     "name": "stdout",
     "output_type": "stream",
     "text": [
      "\n"
     ]
    },
    {
     "name": "stdout",
     "output_type": "stream",
     "text": [
      "Loaded 1 populations from a file; now in generation 1\n"
     ]
    },
    {
     "name": "stdout",
     "output_type": "stream",
     "text": [
      "Population sizes: 200\n"
     ]
    },
    {
     "name": "stdout",
     "output_type": "stream",
     "text": [
      "Done.\n"
     ]
    }
   ],
   "source": [
    "%%bash\n",
    "slim -s 123 neutral_restart.slim"
   ]
  },
  {
   "cell_type": "markdown",
   "id": "1f119791",
   "metadata": {},
   "source": [
    "A more in-depth example is provided at [](sec_vignette_coalescent_diversity).\n",
    "See the SLiM manual for more about this operation.\n",
    "\n",
    "\n",
    "## Extracting information about selected mutations\n",
    "\n",
    "Here is a simple SLiM simulation with two types of mutation:\n",
    "`m1` are deleterious, and `m2` are beneficial.\n",
    "Let's see how to extract information about these mutations.\n",
    "\n",
    "```{literalinclude} selection.slim\n",
    "```"
   ]
  },
  {
   "cell_type": "code",
   "execution_count": 31,
   "id": "56f1a575",
   "metadata": {},
   "outputs": [
    {
     "name": "stdout",
     "output_type": "stream",
     "text": [
      "// Initial random seed:\n"
     ]
    },
    {
     "name": "stdout",
     "output_type": "stream",
     "text": [
      "23\n"
     ]
    },
    {
     "name": "stdout",
     "output_type": "stream",
     "text": [
      "\n"
     ]
    },
    {
     "name": "stdout",
     "output_type": "stream",
     "text": [
      "// RunInitializeCallbacks():\n"
     ]
    },
    {
     "name": "stdout",
     "output_type": "stream",
     "text": [
      "initializeSLiMModelType(modelType = 'WF');\n"
     ]
    },
    {
     "name": "stdout",
     "output_type": "stream",
     "text": [
      "initializeTreeSeq();\n"
     ]
    },
    {
     "name": "stdout",
     "output_type": "stream",
     "text": [
      "initializeMutationRate(1e-06);\n"
     ]
    },
    {
     "name": "stdout",
     "output_type": "stream",
     "text": [
      "initializeMutationType(1, 0.5, \"e\", -0.1);\n"
     ]
    },
    {
     "name": "stdout",
     "output_type": "stream",
     "text": [
      "initializeMutationType(2, 0.5, \"e\", 0.5);\n"
     ]
    },
    {
     "name": "stdout",
     "output_type": "stream",
     "text": [
      "initializeGenomicElementType(1, c(m1, m2), c(0.9, 0.1));\n"
     ]
    },
    {
     "name": "stdout",
     "output_type": "stream",
     "text": [
      "initializeGenomicElement(g1, 0, 999999);\n"
     ]
    },
    {
     "name": "stdout",
     "output_type": "stream",
     "text": [
      "initializeRecombinationRate(1e-08);\n"
     ]
    },
    {
     "name": "stdout",
     "output_type": "stream",
     "text": [
      "\n"
     ]
    },
    {
     "name": "stdout",
     "output_type": "stream",
     "text": [
      "// Starting run at tick <start>:\n"
     ]
    },
    {
     "name": "stdout",
     "output_type": "stream",
     "text": [
      "1 \n"
     ]
    },
    {
     "name": "stdout",
     "output_type": "stream",
     "text": [
      "\n"
     ]
    }
   ],
   "source": [
    "%%bash\n",
    "slim -s 23 selection.slim"
   ]
  },
  {
   "cell_type": "markdown",
   "id": "e321ecb6",
   "metadata": {},
   "source": [
    "First, let's see how many mutations there are:"
   ]
  },
  {
   "cell_type": "code",
   "execution_count": 32,
   "id": "943c38d7",
   "metadata": {},
   "outputs": [
    {
     "name": "stdout",
     "output_type": "stream",
     "text": [
      "Number of sites: 6020\n",
      "Number of mutations: 6044\n"
     ]
    }
   ],
   "source": [
    "ts = tskit.load(\"selection.trees\")\n",
    "print(f\"Number of sites: {ts.num_sites}\\n\"\n",
    "      f\"Number of mutations: {ts.num_mutations}\")"
   ]
  },
  {
   "cell_type": "markdown",
   "id": "5242c130",
   "metadata": {},
   "source": [
    "Note that there are more mutations than sites;\n",
    "that's because some sites (looks like 24 of them) have multiple mutations.\n",
    "The information about the mutation is put in the mutation's metadata.\n",
    "Here's the first mutation:"
   ]
  },
  {
   "cell_type": "code",
   "execution_count": 33,
   "id": "79fad411",
   "metadata": {
    "tags": [
     "remove-output"
    ]
   },
   "outputs": [
    {
     "name": "stdout",
     "output_type": "stream",
     "text": [
      "Mutation(id=0, site=0, node=3010, derived_state='1653896', parent=-1, metadata={'mutation_list': [{'mutation_type': 2, 'selection_coeff': 1.5596729516983032, 'subpopulation': 1, 'slim_time': 827, 'nucleotide': -1}]}, time=172.0, edge=3100)\n"
     ]
    }
   ],
   "source": [
    "m = ts.mutation(0)\n",
    "print(m)"
   ]
  },
  {
   "cell_type": "code",
   "execution_count": 34,
   "id": "0c84f0be",
   "metadata": {
    "tags": [
     "remove-input"
    ]
   },
   "outputs": [
    {
     "name": "stdout",
     "output_type": "stream",
     "text": [
      "Mutation(id=0, site=0, node=3010, derived_state='1653896', parent=-1, metadata={\n",
      "    'mutation_list': [{\n",
      "        'mutation_type': 2,\n",
      "        'selection_coeff': 1.5596729516983032,\n",
      "        'subpopulation': 1,\n",
      "        'slim_time': 827,\n",
      "        'nucleotide': -1\n",
      "       }]\n",
      "   },\n",
      "time=172.0, edge=3100)\n"
     ]
    }
   ],
   "source": [
    "util.pp(m)"
   ]
  },
  {
   "cell_type": "markdown",
   "id": "7a051f46",
   "metadata": {},
   "source": [
    "Here, `m.site` tells us the ID of the *site* on the genome that the mutation occurred at,\n",
    "and we can pull up information about that with the `ts.site( )` method:"
   ]
  },
  {
   "cell_type": "code",
   "execution_count": 35,
   "id": "dd0ef15f",
   "metadata": {
    "tags": [
     "remove-output"
    ]
   },
   "outputs": [
    {
     "data": {
      "text/plain": [
       "Site(id=0, position=54.0, ancestral_state='', mutations=[Mutation(id=0, site=0, node=3010, derived_state='1653896', parent=-1, metadata={'mutation_list': [{'mutation_type': 2, 'selection_coeff': 1.5596729516983032, 'subpopulation': 1, 'slim_time': 827, 'nucleotide': -1}]}, time=172.0, edge=3100)], metadata=b'')"
      ]
     },
     "execution_count": 35,
     "metadata": {},
     "output_type": "execute_result"
    }
   ],
   "source": [
    "ts.site(m.site)"
   ]
  },
  {
   "cell_type": "code",
   "execution_count": 36,
   "id": "0b97f8db",
   "metadata": {
    "tags": [
     "remove-input"
    ]
   },
   "outputs": [
    {
     "name": "stdout",
     "output_type": "stream",
     "text": [
      "Site(id=0, position=54.0, ancestral_state='', mutations=[Mutation(id=0, site=0, node=3010, derived_state='1653896', parent=-1, metadata={\n",
      "    'mutation_list': [{\n",
      "        'mutation_type': 2,\n",
      "        'selection_coeff': 1.5596729516983032,\n",
      "        'subpopulation': 1,\n",
      "        'slim_time': 827,\n",
      "        'nucleotide': -1\n",
      "       }]\n",
      "   },\n",
      "time=172.0, edge=3100)], metadata=b'')\n"
     ]
    }
   ],
   "source": [
    "util.pp(ts.site(m.site))"
   ]
  },
  {
   "cell_type": "markdown",
   "id": "f50cca40",
   "metadata": {},
   "source": [
    "This mutation occurred at position 54 along the genome (from `site.position`)\n",
    "which previously had no mutations (since `site.ancestral_state` is the empty string, `''`)\n",
    "and was given SLiM mutation ID 1653896 (`m.derived_state`).\n",
    "The metadata (`m.metadata`, a dict) tells us that\n",
    "the mutation has selection coefficient 1.5597 and occurred in population 1 in generation 827,\n",
    "which was 172 generations ago.\n",
    "This is not a nucleotide model, so the nucleotide entry is `-1`.\n",
    "Note that `m.time` and `m.metadata['mutation_list'][0]['slim_time']` are in this case redundant:\n",
    "they contain the same information, but the first is in tskit time\n",
    "(i.e., number of steps before the tree sequence was written out)\n",
    "and the second is using SLiM's internal \"tick\" counter.\n",
    "\n",
    "Also note that the mutation's metadata is a *list* of metadata entries.\n",
    "That's because of SLiM's mutation stacking feature.\n",
    "We know that some sites have more than one mutation,\n",
    "so to get an example let's pull out one such mutation.\n",
    "In this case,\n",
    "`m.metadata['mutation_list']` is a list of length one,\n",
    "so the mutation was not stacked on top of previous ones.\n",
    "\n",
    "Let's pull out a mutation that was stacked on top of another one:"
   ]
  },
  {
   "cell_type": "code",
   "execution_count": 37,
   "id": "e36800dd",
   "metadata": {
    "tags": [
     "remove-output"
    ]
   },
   "outputs": [
    {
     "name": "stdout",
     "output_type": "stream",
     "text": [
      "Mutation(id=1020, site=1017, node=573, derived_state='1998096,547531', parent=1019, metadata={'mutation_list': [{'mutation_type': 1, 'selection_coeff': -0.0032227179035544395, 'subpopulation': 1, 'slim_time': 999, 'nucleotide': -1}, {'mutation_type': 2, 'selection_coeff': 0.3085740804672241, 'subpopulation': 1, 'slim_time': 274, 'nucleotide': -1}]}, time=0.0, edge=1213)\n",
      "Mutation(id=1019, site=1017, node=3010, derived_state='547531', parent=-1, metadata={'mutation_list': [{'mutation_type': 2, 'selection_coeff': 0.3085740804672241, 'subpopulation': 1, 'slim_time': 274, 'nucleotide': -1}]}, time=725.0, edge=3100)\n"
     ]
    }
   ],
   "source": [
    "for m in ts.mutations():\n",
    "  if m.parent != tskit.NULL:\n",
    "     break\n",
    "\n",
    "print(m)\n",
    "print(ts.mutation(m.parent))"
   ]
  },
  {
   "cell_type": "code",
   "execution_count": 38,
   "id": "5b8e2389",
   "metadata": {
    "tags": [
     "remove-input"
    ]
   },
   "outputs": [
    {
     "name": "stdout",
     "output_type": "stream",
     "text": [
      "Mutation(id=1020, site=1017, node=573, derived_state='1998096,547531', parent=1019, metadata={\n",
      "    'mutation_list': [{\n",
      "        'mutation_type': 1,\n",
      "        'selection_coeff': -0.0032227179035544395,\n",
      "        'subpopulation': 1,\n",
      "        'slim_time': 999,\n",
      "        'nucleotide': -1\n",
      "       },\n",
      "    {\n",
      "     'mutation_type': 2,\n",
      "     'selection_coeff': 0.3085740804672241,\n",
      "     'subpopulation': 1,\n",
      "     'slim_time': 274,\n",
      "     'nucleotide': -1\n",
      "    }]\n",
      "   },\n",
      "time=0.0, edge=1213)\n",
      "Mutation(id=1019, site=1017, node=3010, derived_state='547531', parent=-1, metadata={\n",
      "    'mutation_list': [{\n",
      "        'mutation_type': 2,\n",
      "        'selection_coeff': 0.3085740804672241,\n",
      "        'subpopulation': 1,\n",
      "        'slim_time': 274,\n",
      "        'nucleotide': -1\n",
      "       }]\n",
      "   },\n",
      "time=725.0, edge=3100)\n"
     ]
    }
   ],
   "source": [
    "util.pp(m)\n",
    "util.pp(ts.mutation(m.parent))"
   ]
  },
  {
   "cell_type": "markdown",
   "id": "a5be7833",
   "metadata": {},
   "source": [
    "This mutation (which is `ts.mutation(1020)` in the tree sequence)\n",
    "was the result of SLiM adding a new mutation of type `m1` and selection coefficient -0.0032\n",
    "on top of an existing mutation, also of type `m1` and with selection coefficient 0.3086.\n",
    "This happened at generation 999 (i.e., at tskit time 0.0 time units ago),\n",
    "and the older mutation occurred at generation 274 (at tskit time 725 time units ago).\n",
    "The older mutation has SLiM mutation ID 547531,\n",
    "and the newer mutation had SLiM mutation ID 1998096,\n",
    "so the resulting \"derived state\" is `'1998096,547531'`.\n",
    "\n",
    "Now that we understand how SLiM mutations are stored in a tree sequence,\n",
    "let's look at the allele frequencies.\n",
    "The allele frequency spectrum for *all* mutations can be obtained using the\n",
    "{meth}`tskit.TreeSequence.allele_frequency_spectrum` method,\n",
    "shown here for a sample of size 10 to make the output easy to see:"
   ]
  },
  {
   "cell_type": "code",
   "execution_count": 39,
   "id": "61b74311",
   "metadata": {},
   "outputs": [
    {
     "name": "stdout",
     "output_type": "stream",
     "text": [
      "[4173   91    6   19  438    1  493   20    0    0    2]\n"
     ]
    }
   ],
   "source": [
    "samps = np.random.choice(ts.samples(), 10, replace=False)\n",
    "afs = ts.allele_frequency_spectrum([samps], span_normalise=False, polarised=True)\n",
    "print(afs.astype('int'))"
   ]
  },
  {
   "cell_type": "markdown",
   "id": "79536c53",
   "metadata": {},
   "source": [
    "(The `span_normalise=False` argument gives us counts rather than a density per unit length.)\n",
    "This shows us that there are 4169 alleles that are found among the tree sequence's samples\n",
    "that are not present in any of our 10 samples, 96 that are present in just one, etcetera.\n",
    "The surprisingly large number that are near 50% frequency are perhaps positively selected\n",
    "and on their way to fixation: we can check if that's true next.\n",
    "You may have noticed that the sum of the allele frequency spectrum is 5243,\n",
    "which is not obviously related to the number of mutations (6044) *or* the number of sites (6020).\n",
    "That's because each derived allele that is inherited by some but not all of the samples\n",
    "in the tree sequence is counted in the polarised allele frequency spectrum:\n",
    "Fixed mutations, or mutations that were entirely \"overwritten\" by subsequent mutations,\n",
    "do not contribute.\n",
    "Here's how we can check this:"
   ]
  },
  {
   "cell_type": "code",
   "execution_count": 40,
   "id": "4fed17dc",
   "metadata": {},
   "outputs": [
    {
     "name": "stdout",
     "output_type": "stream",
     "text": [
      "5243\n"
     ]
    }
   ],
   "source": [
    "afs_total = 0\n",
    "for v in ts.variants():\n",
    "    if len(set(v.genotypes)) > 1:\n",
    "        afs_total += len(set(v.genotypes) - set([0]))\n",
    "print(afs_total)"
   ]
  },
  {
   "cell_type": "markdown",
   "id": "b7ca16b7",
   "metadata": {},
   "source": [
    "At time of writing, we don't have a built-in ``allele_frequency`` method,\n",
    "so we'll use the following snippet:"
   ]
  },
  {
   "cell_type": "code",
   "execution_count": 41,
   "id": "904d2248",
   "metadata": {},
   "outputs": [],
   "source": [
    "def allele_counts(ts, sample_sets=None):\n",
    "   if sample_sets is None:\n",
    "      sample_sets = [ts.samples()]\n",
    "   def f(x):\n",
    "      return x\n",
    "   return ts.sample_count_stat(sample_sets, f, len(sample_sets),\n",
    "              span_normalise=False, windows='sites',\n",
    "              polarised=True, mode='site', strict=False)"
   ]
  },
  {
   "cell_type": "markdown",
   "id": "00f5f8ab",
   "metadata": {},
   "source": [
    "This will return an array of counts, one for each site in the tree sequence,\n",
    "giving the number of *all* nonancestral alleles at that site found in the sample set\n",
    "(so, lumping together any of the various derived alleles we were looking at above).\n",
    "Then, we'll separate out the counts in this array to get the derived frequency spectra\n",
    "separately for sites with (a) only `m1` mutations, (b) only `m2` mutations,\n",
    "and (c) both (for completeness, if there are any).\n",
    "First, we need to know which site has which of these three mutation types (m1, m2, or both):"
   ]
  },
  {
   "cell_type": "code",
   "execution_count": 42,
   "id": "8f5ca843",
   "metadata": {},
   "outputs": [],
   "source": [
    "mut_type = np.zeros(ts.num_sites)\n",
    "for j, s in enumerate(ts.sites()):\n",
    "  mt = []\n",
    "  for m in s.mutations:\n",
    "     for md in m.metadata[\"mutation_list\"]:\n",
    "        mt.append(md[\"mutation_type\"])\n",
    "  if len(set(mt)) > 1:\n",
    "     mut_type[j] = 3\n",
    "  else:\n",
    "     mut_type[j] = mt[0]"
   ]
  },
  {
   "cell_type": "markdown",
   "id": "866bcabe",
   "metadata": {},
   "source": [
    "Now, we compute the frequency spectrum, and aggregate it\n",
    "to produce the allele frequency spectrum separately by mutation type.\n",
    "We'll use the function `np.bincount` to do this efficiently:"
   ]
  },
  {
   "cell_type": "code",
   "execution_count": 43,
   "id": "fc351da5",
   "metadata": {},
   "outputs": [
    {
     "name": "stdout",
     "output_type": "stream",
     "text": [
      "[[3663  484    4]\n",
      " [  72   19    0]\n",
      " [   4    2    0]\n",
      " [  12    7    0]\n",
      " [ 251  185    1]\n",
      " [   0    1    0]\n",
      " [ 285  207    0]\n",
      " [  11    9    0]\n",
      " [   0    0    0]\n",
      " [   0    0    0]\n",
      " [ 383  418    2]]\n"
     ]
    }
   ],
   "source": [
    "freqs = allele_counts(ts, [samps])\n",
    "# convert the n x 1 array of floats to a vector of integers\n",
    "freqs = freqs.flatten().astype(int)\n",
    "mut_afs = np.zeros((len(samps)+1, 3), dtype='int64')\n",
    "for k in range(3):\n",
    "  mut_afs[:, k] = np.bincount(freqs[mut_type == k+1], minlength=len(samps) + 1)\n",
    "\n",
    "print(mut_afs)"
   ]
  },
  {
   "cell_type": "markdown",
   "id": "efed68b8",
   "metadata": {},
   "source": [
    "The first column gives the AFS among these 10 samples for the deleterious alleles,\n",
    "the second for the beneficial mutations;\n",
    "the third column for the seven sites that had both types of mutation.\n",
    "Interestingly, there are similar numbers of both types of mutation at intermediate frequency:\n",
    "perhaps because beneficial mutations are sweeping linked deleterious alleles along with them.\n",
    "Many fewer benefical alleles are at low frequency:\n",
    "3,666 deleterious alleles are not found in our sample of 10 genomes,\n",
    "while only 486 beneficial alleles are.\n",
    "\n",
    "Finally, let's pull out information on the allele with the largest selection coefficient."
   ]
  },
  {
   "cell_type": "code",
   "execution_count": 44,
   "id": "c529e850",
   "metadata": {
    "tags": [
     "remove-output"
    ]
   },
   "outputs": [
    {
     "data": {
      "text/plain": [
       "Site(id=2514, position=450121.0, ancestral_state='', mutations=[Mutation(id=2522, site=2514, node=3009, derived_state='1616148', parent=-1, metadata={'mutation_list': [{'mutation_type': 2, 'selection_coeff': 4.935262680053711, 'subpopulation': 1, 'slim_time': 808, 'nucleotide': -1}]}, time=191.0, edge=3088)], metadata=b'')"
      ]
     },
     "execution_count": 44,
     "metadata": {},
     "output_type": "execute_result"
    }
   ],
   "source": [
    "sel_coeffs = np.array([\n",
    "        sum(md[\"selection_coeff\"] for md in m.metadata[\"mutation_list\"])\n",
    "        for m in ts.mutations()\n",
    "])\n",
    "which_max = np.argmax(sel_coeffs)\n",
    "m = ts.mutation(which_max)\n",
    "ts.site(m.site)"
   ]
  },
  {
   "cell_type": "code",
   "execution_count": 45,
   "id": "54003aa0",
   "metadata": {
    "tags": [
     "remove-input"
    ]
   },
   "outputs": [
    {
     "name": "stdout",
     "output_type": "stream",
     "text": [
      "Site(id=2514, position=450121.0, ancestral_state='', mutations=[Mutation(id=2522, site=2514, node=3009, derived_state='1616148', parent=-1, metadata={\n",
      "    'mutation_list': [{\n",
      "        'mutation_type': 2,\n",
      "        'selection_coeff': 4.935262680053711,\n",
      "        'subpopulation': 1,\n",
      "        'slim_time': 808,\n",
      "        'nucleotide': -1\n",
      "       }]\n",
      "   },\n",
      "time=191.0, edge=3088)], metadata=b'')\n"
     ]
    }
   ],
   "source": [
    "util.pp(ts.site(m.site))"
   ]
  },
  {
   "cell_type": "markdown",
   "id": "15da392b",
   "metadata": {},
   "source": [
    "This allele had a whopping selection coefficient of 4.94\n",
    "and appeared about halfway through the simulation.\n",
    "Let's find its frequency in the full population:"
   ]
  },
  {
   "cell_type": "code",
   "execution_count": 46,
   "id": "00b98352",
   "metadata": {},
   "outputs": [
    {
     "name": "stdout",
     "output_type": "stream",
     "text": [
      "The allele is found in 2000.0 copies\n",
      "out of 3024 genomes.\n"
     ]
    }
   ],
   "source": [
    "full_freqs = allele_counts(ts)\n",
    "print(f\"The allele is found in {full_freqs[m.site][0]} copies\\n\"\n",
    "      f\"out of {ts.num_nodes} genomes.\")"
   ]
  },
  {
   "cell_type": "markdown",
   "id": "19d220de",
   "metadata": {},
   "source": [
    "The allele is above 50% in the population, so it is probably on its way to fixation.\n",
    "Using its SLiM ID (which is shown in its derived state, ``1616148``),\n",
    "we could reload the tree sequence into SLiM,\n",
    "restart the simulation, and use its ID to track its subsequent progression.\n",
    "\n",
    "\n",
    "## Possibly important technical notes\n",
    "\n",
    "Also known as \"gotchas\".\n",
    "\n",
    "1. If you use msprime to simulate a tree sequence, and then use that to initialize a SLiM simulation,\n",
    "    you have to specify the same sequence length in both: as in the examples above,\n",
    "    the ``sequence_length`` argument to {func}`msprime.sim_ancestry` should be equal to the SLiM sequence length\n",
    "    *plus 1.0* (e.g., if the base positions in SLiM are 0 to 99, then there are 100 bases in all,\n",
    "    so the sequence length should be 100).\n",
    "\n",
    "2. Make sure to distinguish *individuals* and *nodes*!\n",
    "   ``tskit`` \"nodes\" correspond to SLiM \"genomes\".\n",
    "   Individuals in SLiM are diploid, so normally, each has two nodes (but retained\n",
    "   individuals may have nodes removed by simplification: see below).\n",
    "\n",
    "3. As described above, the Individual table contains entries for\n",
    "\n",
    "   1. the currently alive individuals,\n",
    "   2. any individuals that have been permanently remembered with\n",
    "      ``treeSeqRememberIndividuals()``, and\n",
    "   3. any individuals that have been temporarily retained with\n",
    "      ``treeSeqRememberIndividuals(permanent=F)``. Importantly, the nodes in these\n",
    "      individuals are *not* marked as sample nodes, so they can be lost during\n",
    "      simplification. This means that a retained individual may only have one node (but\n",
    "      if both nodes are lost due to simplification, the individual is removed too, and\n",
    "      will not appear in the Individual table)."
   ]
  }
 ],
 "metadata": {
  "jupytext": {
   "text_representation": {
    "extension": ".md",
    "format_name": "myst",
    "format_version": 0.12,
    "jupytext_version": "1.9.1"
   }
  },
  "kernelspec": {
   "display_name": "Python 3",
   "language": "python",
   "name": "python3"
  },
  "language_info": {
   "codemirror_mode": {
    "name": "ipython",
    "version": 3
   },
   "file_extension": ".py",
   "mimetype": "text/x-python",
   "name": "python",
   "nbconvert_exporter": "python",
   "pygments_lexer": "ipython3",
   "version": "3.8.13"
  },
  "source_map": [
   14,
   25,
   76,
   79,
   117,
   122,
   129,
   134,
   217,
   239,
   315,
   329,
   365,
   376,
   417,
   422,
   428,
   434,
   455,
   461,
   469,
   477,
   488,
   498,
   513,
   516,
   521,
   532,
   555,
   579,
   589,
   599,
   610,
   614,
   617,
   643,
   656,
   679,
   692,
   701,
   705,
   815,
   829,
   856,
   868,
   877,
   882,
   885,
   895,
   901,
   904,
   908,
   911,
   914,
   916,
   924,
   927,
   941,
   944,
   948,
   952,
   959,
   964,
   967,
   970,
   974,
   977,
   999,
   1008,
   1012,
   1029,
   1033,
   1048,
   1054,
   1059,
   1068,
   1078,
   1089,
   1095,
   1104,
   1117,
   1127,
   1130,
   1136,
   1140
  ]
 },
 "nbformat": 4,
 "nbformat_minor": 5
}