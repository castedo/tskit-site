{
 "cells": [
  {
   "cell_type": "code",
   "execution_count": 1,
   "id": "a091fdf7",
   "metadata": {
    "tags": [
     "remove-cell"
    ]
   },
   "outputs": [],
   "source": [
    "import pyslim, tskit, msprime\n",
    "from IPython.display import SVG\n",
    "import numpy as np\n",
    "import pandas as pd \n",
    "import os"
   ]
  },
  {
   "cell_type": "markdown",
   "id": "b08188ca",
   "metadata": {},
   "source": [
    "(sec_vignette_parallel)=\n",
    "\n",
    "\n",
    "# Vignette: Parallelizing SLiM simulations in a phylogenetic tree\n",
    "\n",
    "Imagine you want to simulate the evolutionary history of a group. If there is\n",
    "no migration between any of the branches in your tree, any branches stemming\n",
    "from the same node can be simulated in parallel (see {numref}`phylo`).\n",
    "\n",
    "```{figure} _static/phylo.png\n",
    ":height: 200px\n",
    ":name: phylo\n",
    "\n",
    "Example of phylogeny we might want to simulate. Note how branches with the same color can be simulated in parallel when there is no migration.\n",
    "```\n",
    "\n",
    "To do this, we'll need to do two things:\n",
    "(1) be able to *simulate* branches in parallel, and\n",
    "(2) glue the resulting simulations (one per tip) back together.\n",
    "\n",
    "\n",
    "## Simulating the branches\n",
    "\n",
    "First, we need to write a SLiM script that will be used for simulating the\n",
    "history of each branch in our phylogeny.\n",
    "We will perform a simple simulation, in which each branch can have a different\n",
    "(but fixed) population size and length (number of ticks).\n",
    "Also, we will allow deleterious mutations to happen across the entire chromosome\n",
    "at a fixed rate.\n",
    "\n",
    "Here is a SLiM script that would do this:\n",
    "\n",
    "```{literalinclude} phylo_bgs.slim\n",
    "```\n",
    "\n",
    "For each branch, the presence or absence of ``infile`` tells SLiM\n",
    "whether we want to start it from a previous branch or not.\n",
    "If so, SLiM will read the previous tree sequence and change the\n",
    "population size accordingly.\n",
    "Note that when you read a tree sequence into SLiM, the tick counter will\n",
    "be updated with the time encoded in the tree sequence, so we need to set the end\n",
    "of the simulation as the length of the branch (`num_gens`) plus the current\n",
    "\"time\" at the end of the loaded tree sequence.\n",
    "At the end of the simulation, we call `sim.treeSeqRememberIndividuals` right\n",
    "before saving the resulting tree sequence. This is necessary because we need to\n",
    "ensure the individuals in the final generation are never dropped from the tree\n",
    "sequence in future runs of SLiM which are started from the output of the\n",
    "simulation, as they will later be used to glue the tree sequences together.\n",
    "\n",
    "I encoded the phylogeny we will simulate in a simple table,\n",
    "which we'll use as ``df`` in the code below:"
   ]
  },
  {
   "cell_type": "code",
   "execution_count": 2,
   "id": "eb34c325",
   "metadata": {
    "tags": [
     "hide-input"
    ]
   },
   "outputs": [
    {
     "data": {
      "text/html": [
       "<div>\n",
       "<style scoped>\n",
       "    .dataframe tbody tr th:only-of-type {\n",
       "        vertical-align: middle;\n",
       "    }\n",
       "\n",
       "    .dataframe tbody tr th {\n",
       "        vertical-align: top;\n",
       "    }\n",
       "\n",
       "    .dataframe thead th {\n",
       "        text-align: right;\n",
       "    }\n",
       "</style>\n",
       "<table border=\"1\" class=\"dataframe\">\n",
       "  <thead>\n",
       "    <tr style=\"text-align: right;\">\n",
       "      <th></th>\n",
       "      <th>child</th>\n",
       "      <th>parent</th>\n",
       "      <th>popsize</th>\n",
       "      <th>edgelen</th>\n",
       "      <th>infile</th>\n",
       "      <th>outfile</th>\n",
       "      <th>is_leaf</th>\n",
       "    </tr>\n",
       "  </thead>\n",
       "  <tbody>\n",
       "    <tr>\n",
       "      <th>0</th>\n",
       "      <td>root</td>\n",
       "      <td></td>\n",
       "      <td>500</td>\n",
       "      <td>2000</td>\n",
       "      <td></td>\n",
       "      <td>root.trees</td>\n",
       "      <td>False</td>\n",
       "    </tr>\n",
       "    <tr>\n",
       "      <th>1</th>\n",
       "      <td>C</td>\n",
       "      <td>root</td>\n",
       "      <td>50</td>\n",
       "      <td>250</td>\n",
       "      <td>root.trees</td>\n",
       "      <td>C.trees</td>\n",
       "      <td>True</td>\n",
       "    </tr>\n",
       "    <tr>\n",
       "      <th>2</th>\n",
       "      <td>I</td>\n",
       "      <td>root</td>\n",
       "      <td>100</td>\n",
       "      <td>200</td>\n",
       "      <td>root.trees</td>\n",
       "      <td>I.trees</td>\n",
       "      <td>False</td>\n",
       "    </tr>\n",
       "    <tr>\n",
       "      <th>3</th>\n",
       "      <td>B</td>\n",
       "      <td>I</td>\n",
       "      <td>70</td>\n",
       "      <td>50</td>\n",
       "      <td>I.trees</td>\n",
       "      <td>B.trees</td>\n",
       "      <td>True</td>\n",
       "    </tr>\n",
       "    <tr>\n",
       "      <th>4</th>\n",
       "      <td>A</td>\n",
       "      <td>I</td>\n",
       "      <td>40</td>\n",
       "      <td>50</td>\n",
       "      <td>I.trees</td>\n",
       "      <td>A.trees</td>\n",
       "      <td>True</td>\n",
       "    </tr>\n",
       "  </tbody>\n",
       "</table>\n",
       "</div>"
      ],
      "text/plain": [
       "  child parent  popsize  edgelen      infile     outfile  is_leaf\n",
       "0  root             500     2000              root.trees    False\n",
       "1     C   root       50      250  root.trees     C.trees     True\n",
       "2     I   root      100      200  root.trees     I.trees    False\n",
       "3     B      I       70       50     I.trees     B.trees     True\n",
       "4     A      I       40       50     I.trees     A.trees     True"
      ]
     },
     "execution_count": 2,
     "metadata": {},
     "output_type": "execute_result"
    }
   ],
   "source": [
    "df = pd.read_csv(\"_static/phylo.tsv\", sep=\"\\t\")\n",
    "df = df.fillna('')\n",
    "df[\"infile\"] = df.parent + \".trees\"\n",
    "df[\"outfile\"] = df.child + \".trees\"\n",
    "df.loc[df[\"infile\"]==\".trees\", \"infile\"] = \"\"\n",
    "df[\"is_leaf\"] = ~df.child.isin(df.parent)\n",
    "df"
   ]
  },
  {
   "cell_type": "markdown",
   "id": "96be2acf",
   "metadata": {},
   "source": [
    "With our phylogeny and the simulation parameters, we are ready to run our\n",
    "simulations.\n",
    "One way to parallelize the simulation of sister branches is to use `make`.\n",
    "You do not need to know much about this tool (though it is totally worthwhile\n",
    "to check it out).\n",
    "The main idea here is that you can specify dependency between files and `make`\n",
    "works its magic to run the simulations in the right order.\n",
    "Here is python code that will write out a makefile from the information in ``df``:"
   ]
  },
  {
   "cell_type": "code",
   "execution_count": 3,
   "id": "2f78c27c",
   "metadata": {},
   "outputs": [],
   "source": [
    "f = open(\"sims.make\", \"w\")\n",
    "print(f\"all: {' '.join(df.outfile.to_list())}\\n\", file=f)\n",
    "for i, row in df.iterrows():\n",
    "    print(f\"{row.outfile}: {row.infile} phylo_bgs.slim\", file=f)\n",
    "    print(f\"\\tslim -d \\\"infile='{row.infile}'\\\" -d popsize={row.popsize} \"\n",
    "          f\"-d \\\"popname=\\'{row.child}\\'\\\" \"\n",
    "          f\"-d num_gens={row.edgelen} \" f\"-d \\\"outfile='{row.child}.trees'\\\" \"\n",
    "          \"phylo_bgs.slim\\n\",\n",
    "          file=f)\n",
    "f.close()"
   ]
  },
  {
   "cell_type": "markdown",
   "id": "9bddbfa0",
   "metadata": {},
   "source": [
    "Here's the result. Again, don't worry about the details,\n",
    "but you can see that the file encodes the phylogeny\n",
    "through a bunch of ``child : parent`` \"rules\":"
   ]
  },
  {
   "cell_type": "code",
   "execution_count": 4,
   "id": "8e60e07b",
   "metadata": {
    "tags": [
     "hide-input"
    ]
   },
   "outputs": [
    {
     "name": "stdout",
     "output_type": "stream",
     "text": [
      "all: root.trees C.trees I.trees B.trees A.trees\n"
     ]
    },
    {
     "name": "stdout",
     "output_type": "stream",
     "text": [
      "\n"
     ]
    },
    {
     "name": "stdout",
     "output_type": "stream",
     "text": [
      "root.trees:  phylo_bgs.slim\n"
     ]
    },
    {
     "name": "stdout",
     "output_type": "stream",
     "text": [
      "\tslim -d \"infile=''\" -d popsize=500 -d \"popname='root'\" -d num_gens=2000 -d \"outfile='root.trees'\" phylo_bgs.slim\n"
     ]
    },
    {
     "name": "stdout",
     "output_type": "stream",
     "text": [
      "\n"
     ]
    },
    {
     "name": "stdout",
     "output_type": "stream",
     "text": [
      "C.trees: root.trees phylo_bgs.slim\n"
     ]
    },
    {
     "name": "stdout",
     "output_type": "stream",
     "text": [
      "\tslim -d \"infile='root.trees'\" -d popsize=50 -d \"popname='C'\" -d num_gens=250 -d \"outfile='C.trees'\" phylo_bgs.slim\n"
     ]
    },
    {
     "name": "stdout",
     "output_type": "stream",
     "text": [
      "\n"
     ]
    },
    {
     "name": "stdout",
     "output_type": "stream",
     "text": [
      "I.trees: root.trees phylo_bgs.slim\n"
     ]
    },
    {
     "name": "stdout",
     "output_type": "stream",
     "text": [
      "\tslim -d \"infile='root.trees'\" -d popsize=100 -d \"popname='I'\" -d num_gens=200 -d \"outfile='I.trees'\" phylo_bgs.slim\n"
     ]
    },
    {
     "name": "stdout",
     "output_type": "stream",
     "text": [
      "\n"
     ]
    },
    {
     "name": "stdout",
     "output_type": "stream",
     "text": [
      "B.trees: I.trees phylo_bgs.slim\n"
     ]
    },
    {
     "name": "stdout",
     "output_type": "stream",
     "text": [
      "\tslim -d \"infile='I.trees'\" -d popsize=70 -d \"popname='B'\" -d num_gens=50 -d \"outfile='B.trees'\" phylo_bgs.slim\n"
     ]
    },
    {
     "name": "stdout",
     "output_type": "stream",
     "text": [
      "\n"
     ]
    },
    {
     "name": "stdout",
     "output_type": "stream",
     "text": [
      "A.trees: I.trees phylo_bgs.slim\n"
     ]
    },
    {
     "name": "stdout",
     "output_type": "stream",
     "text": [
      "\tslim -d \"infile='I.trees'\" -d popsize=40 -d \"popname='A'\" -d num_gens=50 -d \"outfile='A.trees'\" phylo_bgs.slim\n"
     ]
    },
    {
     "name": "stdout",
     "output_type": "stream",
     "text": [
      "\n"
     ]
    }
   ],
   "source": [
    "%%bash\n",
    "cat sims.make"
   ]
  },
  {
   "cell_type": "markdown",
   "id": "1497efb8",
   "metadata": {},
   "source": [
    "With the makefile in hand,\n",
    "we can now run make, specifying the maximum number of simulations\n",
    "to be run simultaneously the ``-j``.\n",
    "(Click on the \"+\" icon to see SLiM's output.)"
   ]
  },
  {
   "cell_type": "code",
   "execution_count": 5,
   "id": "fa77c850",
   "metadata": {
    "tags": [
     "hide-output"
    ]
   },
   "outputs": [
    {
     "name": "stdout",
     "output_type": "stream",
     "text": [
      "make[1]: Entering directory '/home/runner/work/tskit-site/tskit-site/docs'\n"
     ]
    },
    {
     "name": "stdout",
     "output_type": "stream",
     "text": [
      "make[1]: Nothing to be done for 'all'.\n"
     ]
    },
    {
     "name": "stdout",
     "output_type": "stream",
     "text": [
      "make[1]: Leaving directory '/home/runner/work/tskit-site/tskit-site/docs'\n"
     ]
    }
   ],
   "source": [
    "%%bash\n",
    "make -f sims.make -j 3"
   ]
  },
  {
   "cell_type": "markdown",
   "id": "fe92f4f2",
   "metadata": {},
   "source": [
    "```{dropdown} Click here for how to use python instead of make\n",
    "\n",
    "You would have to write a recursion over the branches in your tree (starting \n",
    "from the root) and then parallelize the runs of sister branches somehow.\n",
    "\n",
    "```python\n",
    "def phylo_recursion(parent, df):\n",
    "    print(parent)\n",
    "    childs = df[df.parent==parent]\n",
    "    print(childs)\n",
    "    if len(childs) == 0:\n",
    "        return\n",
    "    # you could parallelize this loop over childs with same parent\n",
    "    for i, row in childs.iterrows():\n",
    "        if not os.path.exists(row.outfile):\n",
    "            os.system(f\"slim -d \\\"infile='{row.infile}'\\\" -d popsize={row.popsize} -d num_gens={row.edgelen} -d \\\"outfile='{row.child}.trees'\\\" phylo_bgs.slim\")\n",
    "            phylo_recursion(row.child, df)\n",
    "\n",
    "phylo_recursion(\"\", df)\n",
    "```\n",
    "\n",
    "## Putting it all together: unioning the tree sequences\n",
    "\n",
    "With the tree sequences in hand, we now need to glue them together.\n",
    "This can be done using\n",
    "[**union**](https://tskit.dev/tskit/docs/stable/python-api.html#tskit.TreeSequence.union)\n",
    "from tskit.\n",
    "For two tree sequences which share some of its past history is shared, **union**\n",
    "works by copying the non-shared parts of one of the tree sequence onto the other.\n",
    "The trickiest part of this operation is defining the parts that are equivalent\n",
    "in the two tree sequences. For that, you will have to create an array that serves\n",
    "as a map of node IDs between the two tree sequences.\n",
    "\n",
    "Here is a function that will construct a map of the node IDs of two SLiM tree sequences \n",
    "that correspond to the same chromosomes in SLiM\n",
    "at any time older than the given time ago at which the two populations split.\n",
    "Given two tree sequences ``other`` and ``ts``,\n",
    "the goal here is to find,\n",
    "for each node born before ``split_time`` ago in ``other``,\n",
    "the matching node in ``ts``, where we can identify matching using the SLiM ID in metadata.\n",
    "The code could be made easier to read by iterating over nodes,\n",
    "but the following numpy-based version is much faster:"
   ]
  },
  {
   "cell_type": "code",
   "execution_count": 6,
   "id": "f72d13d3",
   "metadata": {},
   "outputs": [],
   "source": [
    "def match_nodes(other, ts, split_time):\n",
    "    \"\"\"\n",
    "    Given SLiM tree sequences `other` and `ts`, builds a numpy array with length\n",
    "    `other.num_nodes` in which the indexes represent the node id in `other` and the\n",
    "    entries represent the equivalent node id in `ts`. If a node in `other` has no\n",
    "    equivalent in `ts`, then the entry takes the value `tskit.NULL` (-1). The\n",
    "    matching is done by comparing the IDs assigned by SLiM which are kept in\n",
    "    node metadata. This matching of SLiM IDs is *only* done for nodes with time\n",
    "    older than the specified `split_time`.\n",
    "    \"\"\"\n",
    "    node_mapping = np.full(other.num_nodes, tskit.NULL)\n",
    "    sids0 = np.array([n.metadata[\"slim_id\"] for n in ts.nodes()])\n",
    "    sids1 = np.array([n.metadata[\"slim_id\"] for n in other.nodes()])\n",
    "    alive_before_split1 = (other.tables.nodes.time >= split_time)\n",
    "    is_1in0 = np.isin(sids1, sids0)\n",
    "    both = np.logical_and(alive_before_split1, is_1in0)\n",
    "    sorted_ids0 = np.argsort(sids0)\n",
    "    matches = np.searchsorted(\n",
    "        sids0,\n",
    "        sids1[both],\n",
    "        side='left',\n",
    "        sorter=sorted_ids0\n",
    "    )\n",
    "    node_mapping[both] = sorted_ids0[matches]\n",
    "    return node_mapping"
   ]
  },
  {
   "cell_type": "markdown",
   "id": "5b1fb3b3",
   "metadata": {},
   "source": [
    "Now we are finally ready to **union** our tree sequences. For that, I wrote a\n",
    "recursive function that goes through our data frame with the phylogeny and\n",
    "returns a dictionary with the merged tree sequences from the tip to the root."
   ]
  },
  {
   "cell_type": "code",
   "execution_count": 7,
   "id": "3d4b6b13",
   "metadata": {},
   "outputs": [
    {
     "name": "stdout",
     "output_type": "stream",
     "text": [
      "Going in: root\n",
      "Going in: I\n",
      "Unioning: ['B', 'A'], Split time: 50\n",
      "Unioning: ['C', 'I'], Split time: 250\n"
     ]
    }
   ],
   "source": [
    "merged = {\n",
    "    row.child : {\n",
    "        \"ts\": tskit.load(row.outfile),\n",
    "        \"depth\": row.edgelen,\n",
    "        \"children\": [row.child]\n",
    "    }\n",
    "    for i, row in df[df.is_leaf].iterrows()\n",
    "}\n",
    "\n",
    "def union_children(parent, df, merged):\n",
    "    print(f\"Going in: {parent}\")\n",
    "    child_rows = df[df.parent == parent]\n",
    "    assert (len(child_rows) == 2) or (len(childs) == 0)\n",
    "    if len(child_rows) == 2:\n",
    "        children = [row.child for _, row in child_rows.iterrows()]\n",
    "        for child in children:\n",
    "            if child not in merged:\n",
    "                union_children(child, df, merged)\n",
    "        split_time = merged[children[0]][\"depth\"]\n",
    "        assert split_time == merged[children[1]][\"depth\"] # ultrametric\n",
    "        print(f'Unioning: {children}, Split time: {split_time}')\n",
    "        ts0 = merged[children[0]][\"ts\"]\n",
    "        ts1 = merged[children[1]][\"ts\"]\n",
    "        node_map = match_nodes(ts1, ts0, split_time)\n",
    "        tsu = ts0.union(ts1, node_map, check_shared_equality=True)\n",
    "        # the time from tip to start of simulation is split_time plus the\n",
    "        # length of the edge\n",
    "        parent_edgelength = df[df.child==parent].edgelen.item()\n",
    "        merged[parent] = {\n",
    "            \"ts\": tsu,\n",
    "            \"depth\": split_time + parent_edgelength,\n",
    "            \"children\": merged[children[0]][\"children\"] + merged[children[1]][\"children\"]\n",
    "        }\n",
    "\n",
    "union_children(\"root\", df, merged)\n",
    "# union of all three species tree sequences is in the root.\n",
    "tsu = merged[\"root\"][\"ts\"]\n",
    "pops = merged[\"root\"][\"children\"]"
   ]
  },
  {
   "cell_type": "markdown",
   "id": "c4c13f33",
   "metadata": {},
   "source": [
    "A slightly tricky thing we had to do there was to make sure we kept track of\n",
    "which population in the union'ed tree sequence corresponds to\n",
    "which population in our phylogeny.\n",
    "Happily, we've stored each population's name in its metadata field,\n",
    "so it's easy to match populations in the tree sequence up to what they're supposed to be.\n",
    "\n",
    "Let's make sure we have the right number of present-day samples\n",
    "in each of the populations. To do this we need to make sure to get\n",
    "\"alive\" samples, because recall that we have saved the state of the\n",
    "population at each species split time."
   ]
  },
  {
   "cell_type": "code",
   "execution_count": 8,
   "id": "e8fe8098",
   "metadata": {},
   "outputs": [
    {
     "name": "stdout",
     "output_type": "stream",
     "text": [
      "Union-ed tree sequence has 50 samples in population C,\n",
      "\tand we specified 50 individuals in our simulations.\n",
      "Union-ed tree sequence has 70 samples in population B,\n",
      "\tand we specified 70 individuals in our simulations.\n",
      "Union-ed tree sequence has 40 samples in population A,\n",
      "\tand we specified 40 individuals in our simulations.\n"
     ]
    }
   ],
   "source": [
    "alive = np.where(np.isclose(tsu.tables.nodes.time, 0))[0]\n",
    "pop_ids = {}\n",
    "for pop in tsu.populations():\n",
    "    if pop.metadata is not None:\n",
    "        pop_ids[pop.metadata['name']] = pop.id\n",
    "\n",
    "for name in pops:\n",
    "    pop_samples = tsu.samples(pop_ids[name])\n",
    "    n_samples = sum(np.isin(pop_samples, alive)) // 2\n",
    "    print(f\"Union-ed tree sequence has {n_samples} samples in population {name},\\n\"\n",
    "          f\"\\tand we specified {df[df.child==name].popsize.item()} individuals in our simulations.\")\n",
    "    assert n_samples == df[df.child==name].popsize.item()"
   ]
  },
  {
   "cell_type": "markdown",
   "id": "7254661e",
   "metadata": {},
   "source": [
    "Let's do an additional consistency check now, to see if we need to recapitate\n",
    "(i.e., if some trees haven't coalesced),\n",
    "and to make sure that all roots are in the root population,\n",
    "as they should be:"
   ]
  },
  {
   "cell_type": "code",
   "execution_count": 9,
   "id": "ffe858ac",
   "metadata": {},
   "outputs": [
    {
     "name": "stdout",
     "output_type": "stream",
     "text": [
      "Max number of roots: 1.\n"
     ]
    }
   ],
   "source": [
    "# TODO: fix up\n",
    "# for t in tsu.trees():\n",
    "#     for r in t.roots:\n",
    "#         assert tsu.node(r).population == pop_ids[\"root\"]\n",
    "\n",
    "print(f\"Max number of roots: {max([t.num_roots for t in tsu.trees()])}.\")"
   ]
  },
  {
   "cell_type": "markdown",
   "id": "7e2e72c8",
   "metadata": {},
   "source": [
    "Finally, we will recapitate the result with a small population size of 100,\n",
    "in case some trees on the root branch haven't coalesced,\n",
    "and write out the result:"
   ]
  },
  {
   "cell_type": "code",
   "execution_count": 10,
   "id": "88164c10",
   "metadata": {},
   "outputs": [
    {
     "name": "stderr",
     "output_type": "stream",
     "text": [
      "/opt/hostedtoolcache/Python/3.8.13/x64/lib/python3.8/site-packages/msprime/ancestry.py:831: TimeUnitsMismatchWarning: The initial_state has time_units=ticks but time is measured in generations in msprime. This may lead to significant discrepancies between the timescales. If you wish to suppress this warning, you can use, e.g., warnings.simplefilter('ignore', msprime.TimeUnitsMismatchWarning)\n",
      "  warnings.warn(message, TimeUnitsMismatchWarning)\n"
     ]
    }
   ],
   "source": [
    "tsu = pyslim.recapitate(tsu, recombination_rate=1e-8, ancestral_Ne=100)\n",
    "tsu.dump(\"final.trees\")"
   ]
  },
  {
   "cell_type": "markdown",
   "id": "4f82e970",
   "metadata": {},
   "source": [
    "Now we're done, and can analyse the final tree sequence!\n",
    "Just for fun, I'll look at the trees produced by the simulation.\n",
    "For instance, we might be curious how often there are\n",
    "disagreements between the species tree and the simulated gene trees\n",
    "(also called incomplete lineage sorting, or ILS).\n",
    "\n",
    "To make it possible to look at the trees,\n",
    "I will first simplify the union-ed tree sequence to keep only two diploid\n",
    "samples per population."
   ]
  },
  {
   "cell_type": "code",
   "execution_count": 11,
   "id": "4859673e",
   "metadata": {},
   "outputs": [
    {
     "data": {
      "image/svg+xml": [
       "<svg xmlns=\"http://www.w3.org/2000/svg\" xmlns:ev=\"http://www.w3.org/2001/xml-events\" xmlns:xlink=\"http://www.w3.org/1999/xlink\" baseProfile=\"full\" height=\"300\" version=\"1.1\" width=\"800\"><defs><style type=\"text/css\"><![CDATA[.background path {fill: #808080; fill-opacity: 0}.background path:nth-child(odd) {fill-opacity: .1}.axes {font-size: 14px}.x-axis .tick .lab {font-weight: bold; dominant-baseline: hanging}.axes, .tree {font-size: 14px; text-anchor: middle}.axes line, .edge {stroke: black; fill: none}.y-axis .grid {stroke: #FAFAFA}.node > .sym {fill: black; stroke: none}.site > .sym {stroke: black}.mut text {fill: red; font-style: italic}.mut.extra text {fill: hotpink}.mut line {fill: none; stroke: none}.mut .sym {fill: none; stroke: red}.mut.extra .sym {stroke: hotpink}.node .mut .sym {stroke-width: 1.5px}.tree text, .tree-sequence text {dominant-baseline: central}.plotbox .lab.lft {text-anchor: end}.plotbox .lab.rgt {text-anchor: start}]]></style></defs><g class=\"tree-sequence\"><g class=\"background\"><path d=\"M20,0 l760,0 l0,238.2 l0,25 l0,5 l-760,0 l0,-5 l0,-25 l0,-238.2z\"/></g><g class=\"axes\"><g class=\"x-axis\"><g transform=\"translate(400 300)\"><text class=\"lab\" text-anchor=\"middle\" transform=\"translate(0 -11)\">Genome position</text></g><line x1=\"20\" x2=\"780\" y1=\"263.2\" y2=\"263.2\"/><g class=\"ticks\"><g class=\"tick\" transform=\"translate(20 263.2)\"><line x1=\"0\" x2=\"0\" y1=\"0\" y2=\"5\"/><g transform=\"translate(0 6)\"><text class=\"lab\">0</text></g></g></g><g class=\"site s0\" transform=\"translate(243.855 263.2)\"><line class=\"sym\" x1=\"0\" x2=\"0\" y1=\"0\" y2=\"-10\"/><g class=\"mut m0\"><polyline class=\"sym\" points=\"2.5,-6.5 0,-1.5 -2.5,-6.5\"/></g></g></g></g><g class=\"plotbox trees\"><g class=\"tree t-1\" transform=\"translate(20 0)\"><g class=\"plotbox\"><g class=\"c2 node n22 p1 root\" transform=\"translate(354.688 26.8)\"><g class=\"a22 c2 node n20 p3\" transform=\"translate(214.688 176.522)\"><g class=\"a20 c2 node n17 p5\" transform=\"translate(110.625 11.9099)\"><g class=\"a17 i4 leaf node n10 p5 sample\" transform=\"translate(-30 6.16765)\"><path class=\"edge\" d=\"M 0 0 V -6.16765 H 30\"/><rect class=\"sym\" height=\"6\" width=\"6\" x=\"-3\" y=\"-3\"/><text class=\"lab\" transform=\"translate(0 11)\">A</text></g><g class=\"a17 i4 leaf node n11 p5 sample\" transform=\"translate(30 6.16765)\"><path class=\"edge\" d=\"M 0 0 V -6.16765 H -30\"/><rect class=\"sym\" height=\"6\" width=\"6\" x=\"-3\" y=\"-3\"/><text class=\"lab\" transform=\"translate(0 11)\">A</text></g><path class=\"edge\" d=\"M 0 0 V -11.9099 H -110.625\"/><circle class=\"sym\" cx=\"0\" cy=\"0\" r=\"3\"/><text class=\"lab rgt\" transform=\"translate(3 -7.0)\"/></g><g class=\"a20 c2 node n19 p3\" transform=\"translate(-110.625 4.67891)\"><g class=\"a19 c2 node n13 p5\" transform=\"translate(101.25 12.3353)\"><g class=\"a13 i5 leaf node n8 p5 sample\" transform=\"translate(-30 1.06339)\"><path class=\"edge\" d=\"M 0 0 V -1.06339 H 30\"/><rect class=\"sym\" height=\"6\" width=\"6\" x=\"-3\" y=\"-3\"/><text class=\"lab\" transform=\"translate(0 11)\">A</text></g><g class=\"a13 i5 leaf node n9 p5 sample\" transform=\"translate(30 1.06339)\"><path class=\"edge\" d=\"M 0 0 V -1.06339 H -30\"/><rect class=\"sym\" height=\"6\" width=\"6\" x=\"-3\" y=\"-3\"/><text class=\"lab\" transform=\"translate(0 11)\">A</text></g><path class=\"edge\" d=\"M 0 0 V -12.3353 H -101.25\"/><circle class=\"sym\" cx=\"0\" cy=\"0\" r=\"3\"/><text class=\"lab rgt\" transform=\"translate(3 -7.0)\"/></g><g class=\"a19 c2 node n18 p4\" transform=\"translate(-101.25 4.89158)\"><g class=\"a18 i3 leaf node n4 p4 sample\" transform=\"translate(-67.5 8.5071)\"><path class=\"edge\" d=\"M 0 0 V -8.5071 H 67.5\"/><rect class=\"sym\" height=\"6\" width=\"6\" x=\"-3\" y=\"-3\"/><text class=\"lab\" transform=\"translate(0 11)\">B</text></g><g class=\"a18 c2 m0 node n15 p4 s0\" transform=\"translate(67.5 2.97749)\"><g class=\"a15 i2 leaf node n7 p4 sample\" transform=\"translate(45 5.52962)\"><path class=\"edge\" d=\"M 0 0 V -5.52962 H -45\"/><rect class=\"sym\" height=\"6\" width=\"6\" x=\"-3\" y=\"-3\"/><text class=\"lab\" transform=\"translate(0 11)\">B</text></g><g class=\"a15 c2 node n14 p4\" transform=\"translate(-45 2.12678)\"><g class=\"a14 i3 leaf node n5 p4 sample\" transform=\"translate(-30 3.40284)\"><path class=\"edge\" d=\"M 0 0 V -3.40284 H 30\"/><rect class=\"sym\" height=\"6\" width=\"6\" x=\"-3\" y=\"-3\"/><text class=\"lab\" transform=\"translate(0 11)\">B</text></g><g class=\"a14 i2 leaf node n6 p4 sample\" transform=\"translate(30 3.40284)\"><path class=\"edge\" d=\"M 0 0 V -3.40284 H -30\"/><rect class=\"sym\" height=\"6\" width=\"6\" x=\"-3\" y=\"-3\"/><text class=\"lab\" transform=\"translate(0 11)\">B</text></g><path class=\"edge\" d=\"M 0 0 V -2.12678 H 45\"/><circle class=\"sym\" cx=\"0\" cy=\"0\" r=\"3\"/><text class=\"lab lft\" transform=\"translate(-3 -7.0)\"/></g><path class=\"edge\" d=\"M 0 0 V -2.97749 H -67.5\"/><g class=\"mut m0 s0\" transform=\"translate(0 0.0)\"><line x1=\"0\" x2=\"0\" y1=\"0\" y2=\"-0.0\"/><path class=\"sym\" d=\"M -3,-3 l 6,6 M -3,3 l 6,-6\"/><text class=\"lab rgt\" transform=\"translate(5 0)\">0</text></g><circle class=\"sym\" cx=\"0\" cy=\"0\" r=\"3\"/><text class=\"lab rgt\" transform=\"translate(3 -7.0)\"/></g><path class=\"edge\" d=\"M 0 0 V -4.89158 H 101.25\"/><circle class=\"sym\" cx=\"0\" cy=\"0\" r=\"3\"/><text class=\"lab lft\" transform=\"translate(-3 -7.0)\"/></g><path class=\"edge\" d=\"M 0 0 V -4.67891 H 110.625\"/><circle class=\"sym\" cx=\"0\" cy=\"0\" r=\"3\"/><text class=\"lab lft\" transform=\"translate(-3 -7.0)\"/></g><path class=\"edge\" d=\"M 0 0 V -176.522 H -214.688\"/><circle class=\"sym\" cx=\"0\" cy=\"0\" r=\"3\"/><text class=\"lab rgt\" transform=\"translate(3 -7.0)\"/></g><g class=\"a22 c2 node n21 p2\" transform=\"translate(-214.688 161.848)\"><g class=\"a21 c2 node n12 p2\" transform=\"translate(60 32.1143)\"><g class=\"a12 i1 leaf node n2 p2 sample\" transform=\"translate(-30 0.638033)\"><path class=\"edge\" d=\"M 0 0 V -0.638033 H 30\"/><rect class=\"sym\" height=\"6\" width=\"6\" x=\"-3\" y=\"-3\"/><text class=\"lab\" transform=\"translate(0 11)\">C</text></g><g class=\"a12 i1 leaf node n3 p2 sample\" transform=\"translate(30 0.638033)\"><path class=\"edge\" d=\"M 0 0 V -0.638033 H -30\"/><rect class=\"sym\" height=\"6\" width=\"6\" x=\"-3\" y=\"-3\"/><text class=\"lab\" transform=\"translate(0 11)\">C</text></g><path class=\"edge\" d=\"M 0 0 V -32.1143 H -60\"/><circle class=\"sym\" cx=\"0\" cy=\"0\" r=\"3\"/><text class=\"lab rgt\" transform=\"translate(3 -7.0)\"/></g><g class=\"a21 c2 node n16 p2\" transform=\"translate(-60 27.0101)\"><g class=\"a16 i0 leaf node n0 p2 sample\" transform=\"translate(-30 5.7423)\"><path class=\"edge\" d=\"M 0 0 V -5.7423 H 30\"/><rect class=\"sym\" height=\"6\" width=\"6\" x=\"-3\" y=\"-3\"/><text class=\"lab\" transform=\"translate(0 11)\">C</text></g><g class=\"a16 i0 leaf node n1 p2 sample\" transform=\"translate(30 5.7423)\"><path class=\"edge\" d=\"M 0 0 V -5.7423 H -30\"/><rect class=\"sym\" height=\"6\" width=\"6\" x=\"-3\" y=\"-3\"/><text class=\"lab\" transform=\"translate(0 11)\">C</text></g><path class=\"edge\" d=\"M 0 0 V -27.0101 H 60\"/><circle class=\"sym\" cx=\"0\" cy=\"0\" r=\"3\"/><text class=\"lab lft\" transform=\"translate(-3 -7.0)\"/></g><path class=\"edge\" d=\"M 0 0 V -161.848 H 214.688\"/><circle class=\"sym\" cx=\"0\" cy=\"0\" r=\"3\"/><text class=\"lab lft\" transform=\"translate(-3 -7.0)\"/></g><circle class=\"sym\" cx=\"0\" cy=\"0\" r=\"3\"/><text class=\"lab\" transform=\"translate(0 -11)\"/></g></g></g></g></g></svg>"
      ],
      "text/plain": [
       "<IPython.core.display.SVG object>"
      ]
     },
     "execution_count": 11,
     "metadata": {
      "filenames": {
       "image/svg+xml": "/home/runner/work/tskit-site/tskit-site/docs/_build/jupyter_execute/vignette_parallel_phylo_20_0.svg"
      }
     },
     "output_type": "execute_result"
    }
   ],
   "source": [
    "rng = np.random.default_rng(seed=123)\n",
    "ind_alive = pyslim.individuals_alive_at(tsu, 0)\n",
    "# TODO: this will work in the next tskit\n",
    "# ind_pops = tsu.individuals_population[ind_alive]\n",
    "ind_pops = np.array([tsu.node(tsu.individual(i).nodes[0]).population for i in ind_alive])\n",
    "subsample_indivs = [\n",
    "    rng.choice(ind_alive[ind_pops == pop_ids[name]], 2)\n",
    "    for name in pops\n",
    "]\n",
    "subsample_nodes = [\n",
    "    np.concatenate([tsu.individual(i).nodes for i in x])\n",
    "    for x in subsample_indivs\n",
    "]\n",
    "tsus = tsu.simplify(\n",
    "        np.concatenate(subsample_nodes),\n",
    "        filter_populations=False,\n",
    ")\n",
    "pop_labels = {v: k for k, v in pop_ids.items()}\n",
    "SVG(tsus.draw_svg(\n",
    "    node_labels={\n",
    "        node.id: pop_labels[node.population]\n",
    "        for node in tsus.nodes()\n",
    "        if not node.time > 0.0\n",
    "    },\n",
    "    x_lim=[0,2200],\n",
    "    size=(800, 300),\n",
    "))"
   ]
  },
  {
   "cell_type": "markdown",
   "id": "46baf24f",
   "metadata": {},
   "source": [
    ":::{note}\n",
    "A possible gotcha in the code above lies in getting the time units to work out.\n",
    "Note that in the SLiM script we both save and reload .trees files in the\n",
    "``late()`` stage of the SLiM life cycle. This is important: if we had reloaded the\n",
    "files in ``early()``, then each time we did so the \"tskit time\" and \"SLiM time\"\n",
    "would become one step out of sync. This leads to errors either in union (since\n",
    "if the time units in the two tree sequences do not match, union will raise an error)\n",
    "or in recapitate (since recapitate assumes that the \"top\" of the trees are at\n",
    "the number of generations ago recorded by SLiM in metadata).\n",
    ":::"
   ]
  }
 ],
 "metadata": {
  "jupytext": {
   "text_representation": {
    "extension": ".md",
    "format_name": "myst",
    "format_version": 0.12,
    "jupytext_version": "1.9.1"
   }
  },
  "kernelspec": {
   "display_name": "Python 3",
   "language": "python",
   "name": "python3"
  },
  "language_info": {
   "codemirror_mode": {
    "name": "ipython",
    "version": 3
   },
   "file_extension": ".py",
   "mimetype": "text/x-python",
   "name": "python",
   "nbconvert_exporter": "python",
   "pygments_lexer": "ipython3",
   "version": "3.8.13"
  },
  "source_map": [
   14,
   22,
   77,
   86,
   97,
   108,
   113,
   117,
   123,
   127,
   173,
   199,
   205,
   244,
   257,
   270,
   276,
   283,
   289,
   292,
   304,
   332
  ]
 },
 "nbformat": 4,
 "nbformat_minor": 5
}