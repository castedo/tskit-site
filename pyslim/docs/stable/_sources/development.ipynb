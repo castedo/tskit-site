{
 "cells": [
  {
   "cell_type": "markdown",
   "id": "3a32cfec",
   "metadata": {},
   "source": [
    "(sec_development)=\n",
    "\n",
    "# Development\n",
    "\n",
    "\n",
    "To install a particular version of ``pyslim`` from source, e.g., to obtain a recent update:\n",
    "\n",
    "```bash\n",
    "git clone https://github.com/tskit-dev/pyslim.git\n",
    "cd pyslim\n",
    "python setup.py install --user\n",
    "```\n",
    "\n",
    "\n",
    "Then, to run the tests to make sure everything is working, do:\n",
    "\n",
    "```bash\n",
    "python -m pytest tests\n",
    "```\n",
    "\n",
    "*Note:* if you use ``python3`` you may need to replace ``python`` with ``python3`` above.\n",
    "\n",
    "If you would like to add some features to ``pyslim``, please read the\n",
    "following. If you think there is anything missing,\n",
    "please open an [issue](http://github.com/tskit-dev/pyslim/issues>) or\n",
    "[pull request](http://github.com/tskit-dev/pyslim/pulls>) on GitHub!\n",
    "\n",
    "## Quickstart\n",
    "\n",
    "- Make your own fork of the pyslim repo on [GitHub](http://github.com/tskit-dev/pyslim>)\n",
    "- Clone your fork into a local directory:\n",
    "\n",
    "```bash\n",
    "git clone git@github.com:YOUR_GITHUB/pyslim.git\n",
    "```\n",
    "\n",
    "- Install the development requirements using\n",
    "  ``python3 -m pip install -r requirements/development.txt``.\n",
    "- Run the tests to ensure everything has worked: ``python3 -m pytest tests``. These should\n",
    "  all pass.\n",
    "- Make your changes in a local branch, and open a pull request on GitHub when you\n",
    "  are ready. Please make sure that (a) the tests pass before you open the pull request; and\n",
    "  (b) your code passes PEP8 checks before opening the pull request.\n",
    "\n",
    "For a more detailed walkthrough of development methods,\n",
    "see [the stdpopsim documentation](https://popsim-consortium.github.io/stdpopsim-docs/latest/development.html#github-workflow)\n",
    "and/or [the tskit documentation](https://tskit.dev/tskit/docs/latest/development.html#workflow)."
   ]
  }
 ],
 "metadata": {
  "jupytext": {
   "text_representation": {
    "extension": ".md",
    "format_name": "myst",
    "format_version": 0.12,
    "jupytext_version": "1.9.1"
   }
  },
  "kernelspec": {
   "display_name": "Python 3",
   "language": "python",
   "name": "python3"
  },
  "language_info": {
   "codemirror_mode": {
    "name": "ipython",
    "version": 3
   },
   "file_extension": ".py",
   "mimetype": "text/x-python",
   "name": "python",
   "nbconvert_exporter": "python",
   "pygments_lexer": "ipython3",
   "version": "3.8.13"
  },
  "source_map": [
   12
  ]
 },
 "nbformat": 4,
 "nbformat_minor": 5
}