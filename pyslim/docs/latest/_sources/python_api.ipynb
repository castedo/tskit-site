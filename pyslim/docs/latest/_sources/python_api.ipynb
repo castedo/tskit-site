{
 "cells": [
  {
   "cell_type": "code",
   "execution_count": 1,
   "id": "7b8fc8e4",
   "metadata": {
    "tags": [
     "remove-cell"
    ]
   },
   "outputs": [],
   "source": [
    "import pyslim, tskit, msprime\n",
    "from IPython.display import SVG\n",
    "import numpy as np\n",
    "\n",
    "ts = tskit.load(\"example_sim.trees\")\n",
    "tables = ts.tables"
   ]
  },
  {
   "cell_type": "markdown",
   "id": "3468f39d",
   "metadata": {},
   "source": [
    "```{eval-rst}\n",
    ".. currentmodule:: pyslim\n",
    "```\n",
    "\n",
    "\n",
    "(sec_python_api)=\n",
    "\n",
    "# Python API\n",
    "\n",
    "This page provides detailed documentation for the methods and classes\n",
    "available in pyslim.\n",
    "Here is a quick reference to some of the methods:\n",
    "\n",
    "```{eval-rst}\n",
    ".. autosummary::\n",
    "\n",
    "  recapitate\n",
    "  annotate\n",
    "  individuals_alive_at\n",
    "  individual_ages_at\n",
    "  slim_time\n",
    "  convert_alleles\n",
    "  generate_nucleotides\n",
    "  population_size\n",
    "  default_slim_metadata\n",
    "  update\n",
    "```\n",
    "\n",
    "\n",
    "## Editing or adding to tree sequences\n",
    "\n",
    "``pyslim`` provides tools for transforming tree sequences:\n",
    "\n",
    "\n",
    "```{eval-rst}\n",
    ".. autofunction:: recapitate\n",
    "```\n",
    "\n",
    "```{eval-rst}\n",
    ".. autofunction::  convert_alleles\n",
    "```\n",
    "\n",
    "```{eval-rst}\n",
    ".. autofunction::  generate_nucleotides\n",
    "```\n",
    "\n",
    "```{eval-rst}\n",
    ".. autofunction::  update\n",
    "```\n",
    "\n",
    "## Summarizing tree sequences\n",
    "\n",
    "Additionally, ``pyslim`` contains the following methods:\n",
    "\n",
    "```{eval-rst}\n",
    ".. autofunction::  individuals_alive_at\n",
    "```\n",
    "\n",
    "```{eval-rst}\n",
    ".. autofunction::  individual_ages_at\n",
    "```\n",
    "\n",
    "```{eval-rst}\n",
    ".. autofunction::  slim_time\n",
    "```\n",
    "\n",
    "```{eval-rst}\n",
    ".. autofunction::  population_size\n",
    "```\n",
    "\n",
    "\n",
    "## Metadata\n",
    "\n",
    "SLiM-specific metadata is made visible to the user by ``.metadata`` properties.\n",
    "For instance:"
   ]
  },
  {
   "cell_type": "code",
   "execution_count": 2,
   "id": "4323220e",
   "metadata": {},
   "outputs": [
    {
     "data": {
      "text/plain": [
       "{'slim_id': 991122, 'is_null': False, 'genome_type': 0}"
      ]
     },
     "execution_count": 2,
     "metadata": {},
     "output_type": "execute_result"
    }
   ],
   "source": [
    "ts.node(4).metadata"
   ]
  },
  {
   "cell_type": "markdown",
   "id": "1649a3f0",
   "metadata": {},
   "source": [
    "shows that the fifth node in the tree sequence was given pedigree ID ``982740`` by SLiM,\n",
    "is *not* a null genome, and has ``genome_type`` zero, which corresponds to an autosome \n",
    "(see below).\n",
    "\n",
    "\n",
    "### Annotation\n",
    "\n",
    "These two functions will add default SLiM metadata to a tree sequence (or the\n",
    "underlying tables), which can then be modified and loaded into SLiM.\n",
    "\n",
    ":::{eval-rst}\n",
    ".. autofunction:: pyslim.annotate\n",
    ":::\n",
    "\n",
    ":::{eval-rst}\n",
    ".. autofunction:: pyslim.annotate_tables\n",
    ":::\n",
    "\n",
    "\n",
    "\n",
    "(sec_constants_and_flags)=\n",
    "\n",
    "## Constants and flags\n",
    "\n",
    "\n",
    ":::{eval-rst}\n",
    ".. autodata:: NUCLEOTIDES\n",
    ":::\n",
    "\n",
    "These flags are the possible values for ``node.metadata[\"genome_type\"]``:\n",
    "\n",
    ":::{eval-rst}\n",
    ".. autodata:: GENOME_TYPE_AUTOSOME\n",
    "\n",
    ".. autodata:: GENOME_TYPE_X\n",
    "\n",
    ".. autodata:: GENOME_TYPE_Y\n",
    ":::\n",
    "\n",
    "\n",
    "These flags are the possible values for ``individual.metadata[\"sex\"]``:\n",
    "\n",
    ":::{eval-rst}\n",
    ".. autodata:: INDIVIDUAL_TYPE_HERMAPHRODITE\n",
    "\n",
    ".. autodata:: INDIVIDUAL_TYPE_FEMALE\n",
    "\n",
    ".. autodata:: INDIVIDUAL_TYPE_MALE\n",
    ":::\n",
    "\n",
    "This is a flag used in ``individual.metadata[\"flags\"]``:\n",
    ":::{eval-rst}\n",
    ".. data:: INDIVIDUAL_FLAG_MIGRATED == 0x01\n",
    ":::\n",
    "\n",
    "Finally, these are used in ``individual.flags``:\n",
    "\n",
    ":::{eval-rst}\n",
    ".. autodata:: INDIVIDUAL_ALIVE\n",
    "\n",
    ".. autodata:: INDIVIDUAL_REMEMBERED\n",
    "\n",
    ".. autodata:: INDIVIDUAL_RETAINED\n",
    ":::"
   ]
  }
 ],
 "metadata": {
  "jupytext": {
   "text_representation": {
    "extension": ".md",
    "format_name": "myst",
    "format_version": 0.12,
    "jupytext_version": "1.9.1"
   }
  },
  "kernelspec": {
   "display_name": "Python 3",
   "language": "python",
   "name": "python3"
  },
  "language_info": {
   "codemirror_mode": {
    "name": "ipython",
    "version": 3
   },
   "file_extension": ".py",
   "mimetype": "text/x-python",
   "name": "python",
   "nbconvert_exporter": "python",
   "pygments_lexer": "ipython3",
   "version": "3.8.13"
  },
  "source_map": [
   14,
   22,
   99,
   101
  ]
 },
 "nbformat": 4,
 "nbformat_minor": 5
}