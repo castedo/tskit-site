{
 "cells": [
  {
   "cell_type": "code",
   "execution_count": 1,
   "id": "09d23eba",
   "metadata": {
    "tags": [
     "remove-cell"
    ]
   },
   "outputs": [],
   "source": [
    "import pyslim, tskit, msprime\n",
    "from IPython.display import SVG\n",
    "import numpy as np\n",
    "import util\n",
    "\n",
    "np.random.seed(1234)"
   ]
  },
  {
   "cell_type": "markdown",
   "id": "41a7614c",
   "metadata": {},
   "source": [
    "(sec_vignette_continuing)=\n",
    "\n",
    "\n",
    "# Vignette: Following up with more coalescent simulation\n",
    "\n",
    "Previously, we saw how to use recapitation\n",
    "to simulate the period *before* a SLiM simulation\n",
    "with the coalescent simulator, msprime.\n",
    "We can do the same thing *after* a period of SLiM simulation.\n",
    "To demonstrate this,\n",
    "below we'll run a simulation in which\n",
    "\n",
    "1. A population evolves neutrally for a long time, but then\n",
    "2. it experiences strong positive selection on new mutations for 100 generations, and\n",
    "3. evolves neutrally for another 1000 generations.\n",
    "\n",
    "To do this, we'll simulate step (2) first, with SLiM,\n",
    "then recapitate to add step (1), and then \"continue\" the simulation using msprime to add in (3).\n",
    "\n",
    "\n",
    "## Positive selection\n",
    "\n",
    "Here's a SLiM script that has rapid, strong selection acting genome-wide for 20 generations.\n",
    "It is perhaps not very realistic, but it's dramatic.\n",
    "\n",
    "```{literalinclude} rapid_adaptation.slim\n",
    "```"
   ]
  },
  {
   "cell_type": "code",
   "execution_count": 2,
   "id": "eac79896",
   "metadata": {},
   "outputs": [
    {
     "name": "stdout",
     "output_type": "stream",
     "text": [
      "// Initial random seed:\n"
     ]
    },
    {
     "name": "stdout",
     "output_type": "stream",
     "text": [
      "5\n"
     ]
    },
    {
     "name": "stdout",
     "output_type": "stream",
     "text": [
      "\n"
     ]
    },
    {
     "name": "stdout",
     "output_type": "stream",
     "text": [
      "// RunInitializeCallbacks():\n"
     ]
    },
    {
     "name": "stdout",
     "output_type": "stream",
     "text": [
      "initializeTreeSeq();\n"
     ]
    },
    {
     "name": "stdout",
     "output_type": "stream",
     "text": [
      "initializeMutationRate(1e-08);\n"
     ]
    },
    {
     "name": "stdout",
     "output_type": "stream",
     "text": [
      "initializeMutationType(1, 0.5, \"e\", 0.1);\n"
     ]
    },
    {
     "name": "stdout",
     "output_type": "stream",
     "text": [
      "initializeGenomicElementType(1, m1, 1);\n"
     ]
    },
    {
     "name": "stdout",
     "output_type": "stream",
     "text": [
      "initializeGenomicElement(g1, 0, 99999999);\n"
     ]
    },
    {
     "name": "stdout",
     "output_type": "stream",
     "text": [
      "initializeRecombinationRate(1e-08);\n"
     ]
    },
    {
     "name": "stdout",
     "output_type": "stream",
     "text": [
      "\n"
     ]
    },
    {
     "name": "stdout",
     "output_type": "stream",
     "text": [
      "// Starting run at tick <start>:\n"
     ]
    },
    {
     "name": "stdout",
     "output_type": "stream",
     "text": [
      "1 \n"
     ]
    },
    {
     "name": "stdout",
     "output_type": "stream",
     "text": [
      "\n"
     ]
    }
   ],
   "source": [
    "%%bash\n",
    "slim -s 5 rapid_adaptation.slim"
   ]
  },
  {
   "cell_type": "markdown",
   "id": "fa709d2f",
   "metadata": {},
   "source": [
    "We can see what happened in the GUI,\n",
    "but let's pull some more statistics out of the tree sequence:"
   ]
  },
  {
   "cell_type": "code",
   "execution_count": 3,
   "id": "601267ef",
   "metadata": {},
   "outputs": [
    {
     "name": "stdout",
     "output_type": "stream",
     "text": [
      "There are 66664 segregating sites, of which 4\n",
      "are at frequency above 25%, and 98 are above 5%.\n"
     ]
    }
   ],
   "source": [
    "ts = tskit.load(\"rapid_adaptation.trees\")\n",
    "\n",
    "# allele frequencies\n",
    "p = ts.sample_count_stat(\n",
    "                [ts.samples()], lambda x: x/20000, 1, windows='sites',\n",
    "                span_normalise=False, polarised=True, strict=False)\n",
    "print(f\"There are {ts.num_sites} segregating sites, of which {np.sum(p > 0.25)}\")\n",
    "print(f\"are at frequency above 25%, and {np.sum(p > 0.05)} are above 5%.\")"
   ]
  },
  {
   "cell_type": "markdown",
   "id": "8cb23611",
   "metadata": {},
   "source": [
    "The selection was, indeed, strong.\n",
    "\n",
    "## Recapitation\n",
    "\n",
    "Ok, now let's do phase (1), recapitating and mutating the result.\n",
    "We'll add SLiM mutations with \"mutation type\" 0\n",
    "(so in SLiM these would be called type `m0`),\n",
    "so first we check that all the existing mutations are of a different type."
   ]
  },
  {
   "cell_type": "code",
   "execution_count": 4,
   "id": "f87bd544",
   "metadata": {},
   "outputs": [
    {
     "name": "stderr",
     "output_type": "stream",
     "text": [
      "/opt/hostedtoolcache/Python/3.8.13/x64/lib/python3.8/site-packages/msprime/ancestry.py:831: TimeUnitsMismatchWarning: The initial_state has time_units=ticks but time is measured in generations in msprime. This may lead to significant discrepancies between the timescales. If you wish to suppress this warning, you can use, e.g., warnings.simplefilter('ignore', msprime.TimeUnitsMismatchWarning)\n",
      "  warnings.warn(message, TimeUnitsMismatchWarning)\n"
     ]
    },
    {
     "name": "stdout",
     "output_type": "stream",
     "text": [
      "Keeping 66693 existing mutations of type(s) {1}.\n"
     ]
    },
    {
     "name": "stdout",
     "output_type": "stream",
     "text": [
      "After mutation, there are 153526 segregating sites, of which 5824\n",
      "are at frequency above 25%, and 11643 are above 5%.\n"
     ]
    }
   ],
   "source": [
    "rts = pyslim.recapitate(ts, ancestral_Ne=1000, recombination_rate=1e-8, random_seed=6)\n",
    "\n",
    "# check type m0 is not used:\n",
    "mut_types = set([md['mutation_type']\n",
    "                for mut in ts.mutations()\n",
    "                for md in mut.metadata['mutation_list']])\n",
    "print(f\"Keeping {rts.num_mutations} existing mutations of type(s) {mut_types}.\")\n",
    "assert 0 not in mut_types\n",
    "\n",
    "# add type m0 mutations\n",
    "next_id = pyslim.next_slim_mutation_id(rts)\n",
    "rts = msprime.sim_mutations(\n",
    "            rts, rate=1e-8, random_seed=7, keep=True,\n",
    "            model=msprime.SLiMMutationModel(type=0, next_id=next_id)\n",
    ")\n",
    "\n",
    "p = rts.sample_count_stat(\n",
    "                [rts.samples()], lambda x: x/20000, 1, windows='sites',\n",
    "                span_normalise=False, polarised=True, strict=False)\n",
    "print(f\"After mutation, there are {rts.num_sites} segregating sites, of which {np.sum(p > 0.25)}\")\n",
    "print(f\"are at frequency above 25%, and {np.sum(p > 0.05)} are above 5%.\")"
   ]
  },
  {
   "cell_type": "markdown",
   "id": "6fb945b8",
   "metadata": {},
   "source": [
    "Now, there are more segregating sites - neutral ones.\n",
    "\n",
    "\n",
    "## Continuing the simulation\n",
    "\n",
    "To \"continue\" the simulation neutrally, we'll \n",
    "\n",
    "1. simulate the desired period of time in msprime\n",
    "2. randomly match the initial ancestors in the msprime simulation\n",
    "   with the final individuals of the SLim simulation, and\n",
    "3. merge the two together, using the {meth}`tskit.TreeSequence.union` method.\n",
    "\n",
    "\n",
    "**(1)** Simulating for a given period of time in msprime requires the ``end_time`` argument\n",
    "(remembering that this is *time ago*);\n",
    "we'll do this to simulate an additional 1000 generations.\n",
    "\n",
    "This is almost what we need, but there is one more detail:\n",
    "if complete coalescence occurs on any region of the genome,\n",
    "msprime will stop simulating the history of that region.\n",
    "This is a problem, since we need all lineages to extend back to ``end_time``.\n",
    "To make sure all lineages trace back to ``end_time``,\n",
    "we'll add one \"fake\" sample from a separate population, that *can't* coalesce with the rest,\n",
    "then remove it before the next step, using the ``keep_input_roots=True`` argument to ``simplify()``."
   ]
  },
  {
   "cell_type": "code",
   "execution_count": 5,
   "id": "166a8034",
   "metadata": {},
   "outputs": [
    {
     "name": "stdout",
     "output_type": "stream",
     "text": [
      "Remaining number of populations: 1\n"
     ]
    }
   ],
   "source": [
    "new_time = 1000\n",
    "demog_model = msprime.Demography()\n",
    "demog_model.add_population(initial_size=10000, name='real')\n",
    "demog_model.add_population(initial_size=10000, name='fake')\n",
    "new_ts = msprime.sim_ancestry(\n",
    "              samples={'real' : 10000, 'fake' : 1},\n",
    "              demography=demog_model,\n",
    "              end_time=new_time,\n",
    "              sequence_length=rts.sequence_length,\n",
    "              recombination_rate=1e-8,\n",
    "              random_seed=9)\n",
    "new_ts = msprime.sim_mutations(\n",
    "                 new_ts, rate=1e-8, random_seed=10, keep=True,\n",
    "                 model=msprime.SLiMMutationModel(type=0)\n",
    "        )\n",
    "new_tables = new_ts.tables\n",
    "# check that the spurious samples are 20000 and 20001\n",
    "for n in (20000, 20001):\n",
    "   assert n in new_ts.samples()\n",
    "   assert new_ts.node(n).population == 1\n",
    "new_tables.simplify(samples=np.arange(20000), keep_input_roots=True)\n",
    "print(f\"Remaining number of populations: {new_tables.populations.num_rows}\")"
   ]
  },
  {
   "cell_type": "markdown",
   "id": "f967c7a5",
   "metadata": {},
   "source": [
    "**(2)** Now we'll pull out the IDs of the nodes from 1000 generations ago,\n",
    "shift the times in the SLiM tree sequence back 1000 generations,\n",
    "randomly assign each to a node at the end of the SLiM simulation,\n",
    "and merge them."
   ]
  },
  {
   "cell_type": "code",
   "execution_count": 6,
   "id": "fd587685",
   "metadata": {},
   "outputs": [
    {
     "name": "stdout",
     "output_type": "stream",
     "text": [
      "There are 4390 nodes from the start of the new simulation.\n"
     ]
    },
    {
     "name": "stdout",
     "output_type": "stream",
     "text": [
      "There are 402099 segregating sites, of which 5888\n",
      "are at frequency above 25%, and 13711 are above 5%.\n"
     ]
    }
   ],
   "source": [
    "new_nodes = np.where(new_tables.nodes.time == new_time)[0]\n",
    "print(f\"There are {len(new_nodes)} nodes from the start of the new simulation.\")\n",
    "# There are 4425 nodes from the start of the new simulation.\n",
    "\n",
    "slim_nodes = rts.samples(time=0)\n",
    "assert(len(slim_nodes) == 20000)\n",
    "\n",
    "# randomly give new_nodes IDs in rts\n",
    "node_map = np.repeat(tskit.NULL, new_tables.nodes.num_rows)\n",
    "node_map[new_nodes] = np.random.choice(slim_nodes, len(new_nodes), replace=False)\n",
    "\n",
    "# shift times: in nodes and mutations\n",
    "# since tree sequences are not mutable, we do this in the tables directly\n",
    "# also, unmark the nodes at the end of the SLiM simulation as samples\n",
    "tables = rts.tables\n",
    "tables.nodes.flags = tables.nodes.flags & ~np.uint32(tskit.NODE_IS_SAMPLE)\n",
    "tables.nodes.time = tables.nodes.time + new_time\n",
    "tables.mutations.time = tables.mutations.time + new_time\n",
    "\n",
    "# merge the two sets of tables\n",
    "tables.union(new_tables, node_map,\n",
    "            add_populations=False,\n",
    "            check_shared_equality=False)\n",
    "\n",
    "# get back the tree sequence\n",
    "full_ts = tables.tree_sequence()\n",
    "\n",
    "p = full_ts.sample_count_stat(\n",
    "                [full_ts.samples()], lambda x: x/20000, 1,\n",
    "                windows='sites', span_normalise=False,\n",
    "                polarised=True, strict=False)\n",
    "print(f\"There are {full_ts.num_sites} segregating sites, of which {np.sum(p > 0.25)}\")\n",
    "print(f\"are at frequency above 25%, and {np.sum(p > 0.05)} are above 5%.\")"
   ]
  },
  {
   "cell_type": "markdown",
   "id": "2ee22f26",
   "metadata": {},
   "source": [
    "Well, allele frequencies have drifted.\n",
    "Don't worry, we'll explain what happened there in a minute.\n",
    "\n",
    "Let's do a consistency check.\n",
    "First, here's the root of the first tree in the recapitated SLiM simulation:"
   ]
  },
  {
   "cell_type": "code",
   "execution_count": 7,
   "id": "73191ef2",
   "metadata": {
    "tags": [
     "remove-output"
    ]
   },
   "outputs": [
    {
     "name": "stdout",
     "output_type": "stream",
     "text": [
      "Node(id=66051, flags=0, time=2693.221890795138, population=2, individual=-1, metadata=None)\n"
     ]
    }
   ],
   "source": [
    "t = rts.first()\n",
    "assert(t.num_roots == 1)\n",
    "r = rts.node(t.root)\n",
    "print(r)"
   ]
  },
  {
   "cell_type": "code",
   "execution_count": 8,
   "id": "3564a331",
   "metadata": {
    "tags": [
     "remove-input"
    ]
   },
   "outputs": [
    {
     "name": "stdout",
     "output_type": "stream",
     "text": [
      "Node(id=66051, flags=0, time=2693.221890795138, population=2, individual=-1, metadata=None)\n"
     ]
    }
   ],
   "source": [
    "util.pp(r)"
   ]
  },
  {
   "cell_type": "markdown",
   "id": "3dc4180a",
   "metadata": {},
   "source": [
    "Now, here's the root of the first tree *after* continuing\n",
    "for 1000 generations, which should be the same:"
   ]
  },
  {
   "cell_type": "code",
   "execution_count": 9,
   "id": "2c40906b",
   "metadata": {
    "tags": [
     "remove-output"
    ]
   },
   "outputs": [
    {
     "name": "stdout",
     "output_type": "stream",
     "text": [
      "Node(id=66051, flags=0, time=3693.221890795138, population=2, individual=-1, metadata=None)\n"
     ]
    }
   ],
   "source": [
    "ft = full_ts.first()\n",
    "assert(ft.num_roots == 1)\n",
    "fr = full_ts.node(ft.root)\n",
    "print(fr)"
   ]
  },
  {
   "cell_type": "code",
   "execution_count": 10,
   "id": "5326f108",
   "metadata": {
    "tags": [
     "remove-input"
    ]
   },
   "outputs": [
    {
     "name": "stdout",
     "output_type": "stream",
     "text": [
      "Node(id=66051, flags=0, time=3693.221890795138, population=2, individual=-1, metadata=None)\n"
     ]
    }
   ],
   "source": [
    "util.pp(fr)"
   ]
  },
  {
   "cell_type": "markdown",
   "id": "8eddcfc9",
   "metadata": {},
   "source": [
    "That matches up - the time of what should be the same node in the \"continued\" tree sequence\n",
    "is 1000 generations earlier.\n",
    "\n",
    "So, what happened with ``union`` back there?\n",
    "Well, the basic usage is ``tables.union(other, node_map)``,\n",
    "where ``node_map`` is an array of length equal to the number of nodes in ``other``,\n",
    "whose entries are either ``tskit.NULL`` or the ID of a node in ``tables``.\n",
    "The entries that *aren't* NULL indicate that\n",
    "``union`` should glue together ``tables`` and ``other`` by saying that that pair of nodes are the same.\n",
    "(So, e.g., if ``node_map[3]`` is equal to ``25``, then it says that node 25 in ``tables``\n",
    "is actually the same, really, as node 3 in ``other``.)\n",
    "We then asked ``union`` to please not create new populations,\n",
    "since otherwise it would have assigned all the new nodes to a new population.\n",
    "We also asked it to not \"check for overlap equality\":\n",
    "sometimes, when unioning together two tree sequences,\n",
    "we really expect everything having to do with the set of nodes we're saying are identical\n",
    "to be identical in the two tree sequences, so ``union`` by default throws an error if it's not.\n",
    "We don't expect that in this case, because, for instance,\n",
    "there could be a mutation above one of the terminal nodes in the SLiM tree sequence;\n",
    "this would clearly not be present in the new tree sequence."
   ]
  }
 ],
 "metadata": {
  "jupytext": {
   "text_representation": {
    "extension": ".md",
    "format_name": "myst",
    "format_version": 0.12,
    "jupytext_version": "1.9.1"
   }
  },
  "kernelspec": {
   "display_name": "Python 3",
   "language": "python",
   "name": "python3"
  },
  "language_info": {
   "codemirror_mode": {
    "name": "ipython",
    "version": 3
   },
   "file_extension": ".py",
   "mimetype": "text/x-python",
   "name": "python",
   "nbconvert_exporter": "python",
   "pygments_lexer": "ipython3",
   "version": "3.8.13"
  },
  "source_map": [
   14,
   23,
   53,
   56,
   60,
   69,
   80,
   102,
   130,
   153,
   160,
   195,
   202,
   209,
   212,
   215,
   222,
   225
  ]
 },
 "nbformat": 4,
 "nbformat_minor": 5
}